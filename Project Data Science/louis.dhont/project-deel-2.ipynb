{
 "cells": [
  {
   "cell_type": "markdown",
   "metadata": {},
   "source": [
    "# Data science project in Python - Voorspellingen maken met features\n",
    "\n",
    "Doormiddel van numpy, pandas, matplotlib & SciKit-learn\n",
    "\n",
    "Door Louis D'Hont - Elektronica-ICT - 2021\n",
    "\n",
    "Dit project is het tweede deel van het data science project. Bekijk project-deel-1 om het data cleaning proces te zien."
   ]
  },
  {
   "cell_type": "code",
   "execution_count": 1,
   "metadata": {},
   "outputs": [],
   "source": [
    "# Importeren van gebruikte bibliotheken\n",
    "import datetime\n",
    "import seaborn\n",
    "import numpy as np\n",
    "import pandas as pd\n",
    "import matplotlib.pyplot as plt\n",
    "\n",
    "from sklearn.tree import plot_tree\n",
    "from sklearn.tree import DecisionTreeClassifier\n",
    "from sklearn.linear_model import LinearRegression\n",
    "from sklearn.linear_model import LogisticRegression\n",
    "\n",
    "from sklearn.model_selection import KFold\n",
    "from sklearn.model_selection import cross_val_score\n",
    "from sklearn.model_selection import cross_validate\n",
    "from sklearn.model_selection import train_test_split\n",
    "from sklearn.model_selection import GridSearchCV\n",
    "\n",
    "from sklearn.neighbors import KNeighborsClassifier\n",
    "from sklearn.ensemble import RandomForestClassifier\n",
    "from sklearn.preprocessing import StandardScaler\n",
    "from sklearn.ensemble import GradientBoostingClassifier\n",
    "\n",
    "from sklearn.metrics import classification_report\n",
    "from sklearn.metrics import mean_squared_error\n",
    "from sklearn.datasets import make_classification\n",
    "from sklearn.pipeline import make_pipeline\n",
    "from sklearn.pipeline import Pipeline"
   ]
  },
  {
   "cell_type": "markdown",
   "metadata": {},
   "source": [
    "### Inlezen features\n",
    "\n",
    "Onderstaande code leest het *featuresDataFrame* bestand in en zet deze om naar een dataframe. In deel 1 van het project is er nog een aanpassing gebeurd, de kolom *Geboortedatum* werd alsnog meegenomen als feature om hierna verdere berekeningen te kunnen doen."
   ]
  },
  {
   "cell_type": "code",
   "execution_count": 2,
   "metadata": {},
   "outputs": [],
   "source": [
    "features = pd.read_csv(\"featuresDataFrame.csv\", sep=',') \n",
    "features = features.drop(['Unnamed: 0'], axis=1)"
   ]
  },
  {
   "cell_type": "markdown",
   "metadata": {},
   "source": [
    "### Omzetten van datatypes\n",
    "\n",
    "De opgeslagen data is bij het inlezen opnieuw van het type int64, float64 en object. De data dat hiervoor een timedelta was ('Aantal dagen tot vertrek' en de 'Aantal dagen op reis' kolom) moet worden omgezet zodat er terug met kan worden gewerkt.\n",
    "\n",
    "Elk land werd omgezet in een cijfer. De onderstaande lijst toont de eerste 5 landen met hun corresponderende cijfer.\n",
    "\n",
    "- 1 België\n",
    "- 2 Nederland\n",
    "- 3 Frankrijk\n",
    "- 4 Duitsland\n",
    "- 5 Groot Brittannië\n",
    "\n",
    "Elk reistype werd ook eveneens omgezet in een cijfer. De onderstaande lijst toont de reis types met hun corresponderende cijfer.\n",
    "\n",
    "- 1 Ruitervakantie\n",
    "- 2 Ponykamp\n",
    "- 3 Ruitervakantie& Vliegreis\n",
    "- 4 Trektocht\n",
    "- 5 Ruitervakantie Eigen Vervoer\n",
    "- 6 Huifkar tocht\n",
    "- 7 Safari\n",
    "- 8 Jeugdkamp\n",
    "- 9 Weekendje weg"
   ]
  },
  {
   "cell_type": "code",
   "execution_count": 3,
   "metadata": {},
   "outputs": [
    {
     "name": "stderr",
     "output_type": "stream",
     "text": [
      "/Users/louisdhont/anaconda3/lib/python3.8/site-packages/pandas/core/indexing.py:670: SettingWithCopyWarning: \n",
      "A value is trying to be set on a copy of a slice from a DataFrame\n",
      "\n",
      "See the caveats in the documentation: https://pandas.pydata.org/pandas-docs/stable/user_guide/indexing.html#returning-a-view-versus-a-copy\n",
      "  iloc._setitem_with_indexer(indexer, value)\n"
     ]
    }
   ],
   "source": [
    "def convert_timedelta(df_col):\n",
    "    for index, row in enumerate(df_col): \n",
    "        days, timestamp = row.split(\" days \")\n",
    "        df_col.iloc[index] = days\n",
    "    return df_col\n",
    "\n",
    "def convert_land(df_land):\n",
    "    for index, row in enumerate(df_land):\n",
    "        if row == 'be':\n",
    "            df_land.iloc[index] = 1\n",
    "        elif row == 'nl':\n",
    "            df_land.iloc[index] = 2\n",
    "        elif row == 'fr':\n",
    "            df_land.iloc[index] = 3\n",
    "        elif row == 'de':\n",
    "            df_land.iloc[index] = 4\n",
    "        elif row == 'gb':\n",
    "            df_land.iloc[index] = 5  \n",
    "        elif row == 'lux':\n",
    "            df_land.iloc[index] = 6\n",
    "        elif row == 'sco':\n",
    "            df_land.iloc[index] = 7\n",
    "        elif row == 'pt':\n",
    "            df_land.iloc[index] = 8\n",
    "        elif row == 'sco':\n",
    "            df_land.iloc[index] = 9\n",
    "        elif row == 'sr':\n",
    "            df_land.iloc[index] = 10\n",
    "        elif row == 'cn':\n",
    "            df_land.iloc[index] = 11\n",
    "        elif row == 'aut':\n",
    "            df_land.iloc[index] = 12\n",
    "        elif row == 'ca':\n",
    "            df_land.iloc[index] = 13   \n",
    "        elif row == 'it':\n",
    "            df_land.iloc[index] = 14\n",
    "        elif row == 'es':\n",
    "            df_land.iloc[index] = 15\n",
    "        elif row == 'cl':\n",
    "            df_land.iloc[index] = 16\n",
    "\n",
    "def convert_reis_type(df_reistype):\n",
    "    for index, row in enumerate(df_reistype):\n",
    "        if row == 'Ruitervakantie':\n",
    "            df_reistype.iloc[index] = 1\n",
    "        elif row == 'Ponykamp':\n",
    "            df_reistype.iloc[index] = 2\n",
    "        elif row == 'Ruitervakantie& Vliegreis':\n",
    "            df_reistype.iloc[index] = 3\n",
    "        elif row == 'Trektocht':\n",
    "            df_reistype.iloc[index] = 4\n",
    "        elif row == 'Ruitervakantie Eigen Vervoer':\n",
    "            df_reistype.iloc[index] = 5  \n",
    "        elif row == 'Huifkar tocht':\n",
    "            df_reistype.iloc[index] = 6\n",
    "        elif row == 'Safari':\n",
    "            df_reistype.iloc[index] = 7\n",
    "        elif row == 'Jeugdkamp':\n",
    "            df_reistype.iloc[index] = 8\n",
    "        elif row == 'Weekendje weg':\n",
    "            df_reistype.iloc[index] = 9\n",
    "\n",
    "features['Datum creatie'] = pd.to_datetime(features['Datum creatie'], format='%Y.%m.%d', infer_datetime_format=True, errors='coerce')\n",
    "features['Datum vertrek'] = pd.to_datetime(features['Datum vertrek'], format='%Y.%m.%d', infer_datetime_format=True, errors='coerce')\n",
    "features['Datum terug'] = pd.to_datetime(features['Datum terug'], format='%Y.%m.%d', infer_datetime_format=True, errors='coerce')\n",
    "    \n",
    "features['Aantal dagen tot vertrek'] == convert_timedelta(features['Aantal dagen tot vertrek'])\n",
    "features['Aantal dagen tot vertrek'] = features['Aantal dagen tot vertrek'].astype(int)\n",
    "\n",
    "features['Aantal dagen op reis'] == convert_timedelta(features['Aantal dagen op reis'])\n",
    "features['Aantal dagen op reis'] = features['Aantal dagen op reis'].astype(int)\n",
    "            \n",
    "features['Land'] == convert_land(features['Land'])\n",
    "features['Land'] = features['Land'].astype(int)\n",
    "\n",
    "features['Reistype'] == convert_reis_type(features['Reistype'])\n",
    "features['Reistype'] = features['Reistype'].astype(int)                                     "
   ]
  },
  {
   "cell_type": "markdown",
   "metadata": {},
   "source": [
    "#### Berekenen leeftijd\n",
    "\n",
    "De onderstaande code zet de geboortedatum om naar de huidige leeftijd, de lege waarden worden opgevuld met een gemiddelde leeftijd van 40 jaar omdat er kan vanuit worden gegaan dat de gemiddelde persoon 42 jaar is."
   ]
  },
  {
   "cell_type": "code",
   "execution_count": 4,
   "metadata": {},
   "outputs": [],
   "source": [
    "features['Geboortedatum'] = pd.to_datetime(features['Geboortedatum'], errors = 'coerce')\n",
    "features['Leeftijd'] = datetime.datetime.now().year - pd.DatetimeIndex(features['Geboortedatum']).year\n",
    "features['Leeftijd'] = features['Leeftijd'].fillna(42)\n",
    "features['Leeftijd'] = features['Leeftijd'].astype(int);"
   ]
  },
  {
   "cell_type": "markdown",
   "metadata": {},
   "source": [
    "### Omzetten bestemmingen\n",
    "    \n",
    "De bestemmingen data is door het bedrijf manueel ingevoerd. Om de bestemmingen te kunnen koppelen aan een land heb  ik gekozen om elk land om te zetten naar een cijfer. Deze onderstaande lijst toont de eerste 10 landen met hun cijfer. Heel wat reizen bevatten geen directe aanwijzing naar het land maar hebben vaak een bekende stad of streek in de omschrijving, door deze te gaan groeperen konden alle bestemmingen worden omgezet naar hun corresponderende cijfer. Een 20 tal bestemmingen bevatte geen duidelijke aanwijzing naar een land of streek, hiervoor heb ik besloten om deze toe te wijzen aan het land waar de meeste reizen naartoe gaan, met name Frankrijk).\n",
    "\n",
    "- 1 België\n",
    "- 2 Nederland\n",
    "- 3 Frankrijk\n",
    "- 4 Duitsland\n",
    "- 5 Portugal\n",
    "- 6 Ijsland\n",
    "- 7 Italië\n",
    "- 8 Ierland\n",
    "- 9 De Verenigde Staten\n",
    "- 10 Jordanië"
   ]
  },
  {
   "cell_type": "code",
   "execution_count": 5,
   "metadata": {},
   "outputs": [],
   "source": [
    "nederland = ['friese', 'nederland', 'vlieland', 'brabant', 'twente', 'drenthe', 'limburg', 'brabantse', 'nederlands', 'duinen', 'salland', 'zeeland', 'ijslanders']\n",
    "belgie = ['ardennen', 'belgium', 'ardenne', 'belgië', 'belgie', 'arrdennen', 'eifel', 'ardennen', 'ardenen']\n",
    "frankrijk = ['frankrijk', 'mont saint michel', 'morvan', 'dartmoor', 'couleurs corse', 'vogezen', 'margeride', 'haute valee', 'jura', 'normandië', 'médoc', 'montmorillonnais', 'france', 'loire', 'wijnroute', 'wijngaarden', 'elzas', 'pyreneeën', 'dordogne', 'pyreneeen', 'corsica', 'aude', 'frans', 'armagnac', 'frankrijjk', 'frankijk']\n",
    "duitsland = ['germany', 'duitsland', 'thuringen', 'beieren', 'duitsand', 'duitse', 'thüringen']\n",
    "spanje = ['spain', 'spanje', 'sulayr', 'alpujarra', 'middellandse', 'demanda', 'monfrague', 'andalusisch', 'costa brava', 'sierra nevada', 'catalonië','catalonie', 'gredos', 'andalusië', 'ronda', 'andalusie', 'conquistadores']\n",
    "italie = ['italy', 'italie', 'sicilië', 'madonie', 'italië', 'sardinië', 'sardinie', 'toscane', 'molise', 'alta maremma', 'molise abruzzen']\n",
    "portugal = ['portugal', 'lusitano', 'faro', 'algarve', 'lissabon', 'portugese', 'azoren']\n",
    "usa = ['verenigde staten', 'montana', 'usa', 'united states', 'wyoming', 'ranch', 'colorado']\n",
    "kroatie = ['kroatie', 'croatia', 'kroatië', 'istrië', 'plitvice', 'rode-meer', 'dalmatie', 'istrie']\n",
    "allerlei = ['Klassieke dressuur van topkwaliteit en stedenschoon', 'Avontuurlijke trektocht door een sprookjesachtig gebied', 'Trektocht in het spoor van de tuimelaar-dolfijn ',\n",
    "       'Driedaagse trektocht in het land van d\\x19Oc en d\\x19Oil', 'Trektocht over de bergen naar de zee', 'Trektocht in het spoor van de tuimelaar-dolfijn','Paardrijden langs de route van de bandieten', 'De \\x18Great Trek\\x19: werkelijk avontuurlijke trektocht',\n",
    "       'Beach and Bush Rides', 'Dressuurweek','Een week paardrijden met jongvolwassenen','National Park: paardrijden voor pure ontspanning',\n",
    "       'Driedaagse tocht door de Vienne-vallei','Trektocht naar de gouden stranden', 'Oman','Trektocht tussen zee en woestijnbergen', 'Programma Full','Smokkelaarstocht', 'Trektocht over de bergen naar zee','Beach and Meadows trektocht','De \"legendes van de Wolf\"-trektocht','Standplaatsvakantie Stertochten', 'nan']\n",
    "\n",
    "def convert_bestemmingen():\n",
    "    for index, row in enumerate(features['Bestemming']):\n",
    "        if any(ext in (str(row).lower()) for ext in belgie):\n",
    "            features['Bestemming'].iloc[index] = 1\n",
    "        elif any(ext in (str(row).lower()) for ext in nederland):\n",
    "            features['Bestemming'].iloc[index] = 2\n",
    "        elif any(ext in (str(row).lower()) for ext in frankrijk):\n",
    "            features['Bestemming'].iloc[index] = 3\n",
    "        elif any(ext in (str(row).lower()) for ext in duitsland):\n",
    "            features['Bestemming'].iloc[index] = 4\n",
    "        elif any(ext in (str(row).lower()) for ext in portugal):\n",
    "            features['Bestemming'].iloc[index] = 5\n",
    "        elif any(ext in (str(row).lower()) for ext in ['ijsland', 'iceland', 'geysir', 'golden circle']):\n",
    "            features['Bestemming'].iloc[index] = 6\n",
    "        elif any(ext in (str(row).lower()) for ext in italie):\n",
    "            features['Bestemming'].iloc[index] = 7\n",
    "        elif any(ext in (str(row).lower()) for ext in ['ierland', 'ireland', 'galway', 'ierse', 'donegal']):\n",
    "            features['Bestemming'].iloc[index] = 8\n",
    "        elif any(ext in (str(row).lower()) for ext in usa):\n",
    "            features['Bestemming'].iloc[index] = 9\n",
    "        elif any(ext in (str(row).lower()) for ext in ['jordanie', 'jordan', 'wadi rum']):\n",
    "            features['Bestemming'].iloc[index] = 10\n",
    "        elif any(ext in (str(row).lower()) for ext in spanje):\n",
    "            features['Bestemming'].iloc[index] = 11\n",
    "        elif any(ext in (str(row).lower()) for ext in ['botswana']):\n",
    "            features['Bestemming'].iloc[index] = 12\n",
    "        elif any(ext in (str(row).lower()) for ext in ['canada', 'yukon', 'alberta', 'saskatchewan']):\n",
    "            features['Bestemming'].iloc[index] = 13\n",
    "        elif any(ext in (str(row).lower()) for ext in ['roemenie', 'roemenië', 'transsylvanie', 'transsylvanië']):\n",
    "            features['Bestemming'].iloc[index] = 14\n",
    "        elif any(ext in (str(row).lower()) for ext in ['chili', 'chile']):\n",
    "            features['Bestemming'].iloc[index] = 15\n",
    "        elif any(ext in (str(row).lower()) for ext in ['marokko', 'marokkaanse', 'berbers']):\n",
    "            features['Bestemming'].iloc[index] = 16\n",
    "        elif any(ext in (str(row).lower()) for ext in ['griekenland', 'petra', 'kreta', 'kefalonia']):\n",
    "            features['Bestemming'].iloc[index] = 17\n",
    "        elif any(ext in (str(row).lower()) for ext in ['zuid afrika', 'afrika']):\n",
    "            features['Bestemming'].iloc[index] = 18\n",
    "        elif any(ext in (str(row).lower()) for ext in ['bulgarije', 'bulgaria', 'balkan']):\n",
    "            features['Bestemming'].iloc[index] = 19\n",
    "        elif any(ext in (str(row).lower()) for ext in ['hongarije', 'poesta', 'homgarije']):\n",
    "            features['Bestemming'].iloc[index] = 20\n",
    "        elif any(ext in (str(row).lower()) for ext in ['tsjechie', 'tsjechië', 'zuid-bohemen', 'karpaten']):\n",
    "            features['Bestemming'].iloc[index] = 21   \n",
    "        elif any(ext in (str(row).lower()) for ext in ['cappadocië', 'turkije', 'turklije', 'thracians']):\n",
    "            features['Bestemming'].iloc[index] = 22\n",
    "        elif any(ext in (str(row).lower()) for ext in ['polen', 'poolse', 'poland']):\n",
    "            features['Bestemming'].iloc[index] = 23\n",
    "        elif any(ext in (str(row).lower()) for ext in ['namibie', 'namibië']):\n",
    "            features['Bestemming'].iloc[index] = 24\n",
    "        elif any(ext in (str(row).lower()) for ext in ['kirgizie', 'kirgizië']):\n",
    "            features['Bestemming'].iloc[index] = 25\n",
    "        elif any(ext in (str(row).lower()) for ext in ['montenegro']):\n",
    "            features['Bestemming'].iloc[index] = 26\n",
    "        elif any(ext in (str(row).lower()) for ext in ['zweden']):\n",
    "            features['Bestemming'].iloc[index] = 27\n",
    "        elif any(ext in (str(row).lower()) for ext in ['albanie', 'albanië', 'katharen']):\n",
    "            features['Bestemming'].iloc[index] = 28\n",
    "        elif any(ext in (str(row).lower()) for ext in ['mongolië', 'mongolie', 'mongoolse']):\n",
    "            features['Bestemming'].iloc[index] = 29\n",
    "        elif any(ext in (str(row).lower()) for ext in kroatie):\n",
    "            features['Bestemming'].iloc[index] = 30\n",
    "        elif any(ext in (str(row).lower()) for ext in ['costa rica']):\n",
    "            features['Bestemming'].iloc[index] = 31\n",
    "        elif any(ext in (str(row).lower()) for ext in ['slowakije']):\n",
    "            features['Bestemming'].iloc[index] = 32\n",
    "        elif any(ext in (str(row).lower()) for ext in ['brazilie', 'santa catarina gaucho']):\n",
    "            features['Bestemming'].iloc[index] = 33\n",
    "        elif any(ext in (str(row).lower()) for ext in ['denemarken', 'denmark', 'deense']):\n",
    "            features['Bestemming'].iloc[index] = 34\n",
    "        elif any(ext in (str(row).lower()) for ext in ['noorwegen', 'norway', 'ramsjo-special', 'northern', 'scandinavische']):\n",
    "            features['Bestemming'].iloc[index] = 35\n",
    "        elif any(ext in (str(row).lower()) for ext in ['azerbidjan']):\n",
    "            features['Bestemming'].iloc[index] = 36\n",
    "        elif any(ext in (str(row).lower()) for ext in ['georgie', 'georgië', 'georgia']):\n",
    "            features['Bestemming'].iloc[index] = 37\n",
    "        elif any(ext in (str(row).lower()) for ext in ['zwitserland']):\n",
    "            features['Bestemming'].iloc[index] = 38\n",
    "        elif any(ext in (str(row).lower()) for ext in ['groot-brittanie', 'wales', 'britain', 'engeland']):\n",
    "            features['Bestemming'].iloc[index] = 39\n",
    "        elif any(ext in (str(row).lower()) for ext in ['argentinie', 'argentinië', 'noord-argentinië']):\n",
    "            features['Bestemming'].iloc[index] = 40\n",
    "        elif any(ext in (str(row).lower()) for ext in ['cuba']):\n",
    "            features['Bestemming'].iloc[index] = 41\n",
    "        elif any(ext in (str(row).lower()) for ext in ['lapland', 'finland']):\n",
    "            features['Bestemming'].iloc[index] = 42\n",
    "        elif any(ext in (str(row).lower()) for ext in ['mexico']):\n",
    "            features['Bestemming'].iloc[index] = 43\n",
    "        elif any(ext in (str(row).lower()) for ext in ['china']):\n",
    "            features['Bestemming'].iloc[index] = 44\n",
    "        elif any(ext in (str(row).lower()) for ext in ['kenia']):\n",
    "            features['Bestemming'].iloc[index] = 45\n",
    "        elif any(ext in (str(row).lower()) for ext in ['iran']):\n",
    "            features['Bestemming'].iloc[index] = 46\n",
    "        elif any(ext in (str(row).lower()) for ext in ['servië', 'servie', 'sumadija']):\n",
    "            features['Bestemming'].iloc[index] = 47\n",
    "        elif any(ext in (str(row).lower()) for ext in ['schotland']):\n",
    "            features['Bestemming'].iloc[index] = 48\n",
    "        elif any(ext in (str(row).lower()) for ext in ['egypte', 'sahara']):\n",
    "            features['Bestemming'].iloc[index] = 49\n",
    "        elif any(ext in (str(row).lower()) for ext in ['andorra']):\n",
    "            features['Bestemming'].iloc[index] = 50\n",
    "        elif any(ext in (str(row).lower()) for ext in ['uruguay']):\n",
    "            features['Bestemming'].iloc[index] = 51\n",
    "        elif any(ext in (str(row).lower()) for ext in ['rusland']):\n",
    "            features['Bestemming'].iloc[index] = 52\n",
    "        elif any(ext in (str(row).lower()) for ext in ['columbia', 'colombiaans']):\n",
    "            features['Bestemming'].iloc[index] = 53\n",
    "        elif any(ext in (str(row).lower()) for ext in ['australie']):\n",
    "            features['Bestemming'].iloc[index] = 54\n",
    "        elif any(ext in str(row) for ext in allerlei):\n",
    "            features['Bestemming'].iloc[index] = 3\n",
    "    \n",
    "    return features['Bestemming']\n",
    "\n",
    "features['Bestemming'] == convert_bestemmingen()\n",
    "features['Bestemming'] = features['Bestemming'].astype(int)\n"
   ]
  },
  {
   "cell_type": "markdown",
   "metadata": {},
   "source": [
    "De onderstaande lijst toont voor elke kolom het datatype. Alle kolommen zijn omgezet naar int, float of datetime. De integer en float waarden kunnen worden gebruikt als feature."
   ]
  },
  {
   "cell_type": "code",
   "execution_count": 6,
   "metadata": {},
   "outputs": [
    {
     "data": {
      "text/plain": [
       "Status                               int64\n",
       "Dossier jaar                         int64\n",
       "Dossier nr.                          int64\n",
       "Klantnummer                         object\n",
       "Datum creatie               datetime64[ns]\n",
       "Datum vertrek               datetime64[ns]\n",
       "Datum terug                 datetime64[ns]\n",
       "Totaalprijs                        float64\n",
       "Betalingen dossier                 float64\n",
       "Openstaand dossier                 float64\n",
       "Land                                 int64\n",
       "Bestemming                           int64\n",
       "Reistype                             int64\n",
       "Aantal reizigers                     int64\n",
       "Aantal dagen tot vertrek             int64\n",
       "Aantal dagen op reis                 int64\n",
       "Geboortedatum               datetime64[ns]\n",
       "Leeftijd                             int64\n",
       "dtype: object"
      ]
     },
     "execution_count": 6,
     "metadata": {},
     "output_type": "execute_result"
    }
   ],
   "source": [
    "features.dtypes"
   ]
  },
  {
   "cell_type": "markdown",
   "metadata": {},
   "source": [
    "### Bekijken van features\n",
    "\n",
    "In het onderstaande dataframe staan alle gegevens die kunnen worden gebruikt als feature. Het spreekt voor zich dat er uiteraard ook enkele minder relevante zaken zoals klantnummer en datums zullen worden weggelaten uit het finale dataframe waarmee de modellen zullen worden opgebouwd."
   ]
  },
  {
   "cell_type": "code",
   "execution_count": 7,
   "metadata": {},
   "outputs": [
    {
     "data": {
      "text/html": [
       "<div>\n",
       "<style scoped>\n",
       "    .dataframe tbody tr th:only-of-type {\n",
       "        vertical-align: middle;\n",
       "    }\n",
       "\n",
       "    .dataframe tbody tr th {\n",
       "        vertical-align: top;\n",
       "    }\n",
       "\n",
       "    .dataframe thead th {\n",
       "        text-align: right;\n",
       "    }\n",
       "</style>\n",
       "<table border=\"1\" class=\"dataframe\">\n",
       "  <thead>\n",
       "    <tr style=\"text-align: right;\">\n",
       "      <th></th>\n",
       "      <th>Status</th>\n",
       "      <th>Dossier jaar</th>\n",
       "      <th>Dossier nr.</th>\n",
       "      <th>Klantnummer</th>\n",
       "      <th>Datum creatie</th>\n",
       "      <th>Datum vertrek</th>\n",
       "      <th>Datum terug</th>\n",
       "      <th>Totaalprijs</th>\n",
       "      <th>Betalingen dossier</th>\n",
       "      <th>Openstaand dossier</th>\n",
       "      <th>Land</th>\n",
       "      <th>Bestemming</th>\n",
       "      <th>Reistype</th>\n",
       "      <th>Aantal reizigers</th>\n",
       "      <th>Aantal dagen tot vertrek</th>\n",
       "      <th>Aantal dagen op reis</th>\n",
       "      <th>Geboortedatum</th>\n",
       "      <th>Leeftijd</th>\n",
       "    </tr>\n",
       "  </thead>\n",
       "  <tbody>\n",
       "    <tr>\n",
       "      <th>0</th>\n",
       "      <td>1</td>\n",
       "      <td>2011</td>\n",
       "      <td>189</td>\n",
       "      <td>030abd64a9a637e5</td>\n",
       "      <td>2011-10-21 12:48:33</td>\n",
       "      <td>2012-04-27</td>\n",
       "      <td>2012-04-29</td>\n",
       "      <td>1600.00</td>\n",
       "      <td>1600.00</td>\n",
       "      <td>0.0</td>\n",
       "      <td>2</td>\n",
       "      <td>2</td>\n",
       "      <td>1</td>\n",
       "      <td>6</td>\n",
       "      <td>188</td>\n",
       "      <td>2</td>\n",
       "      <td>NaT</td>\n",
       "      <td>42</td>\n",
       "    </tr>\n",
       "    <tr>\n",
       "      <th>1</th>\n",
       "      <td>1</td>\n",
       "      <td>2011</td>\n",
       "      <td>190</td>\n",
       "      <td>030abd64a9a637e5</td>\n",
       "      <td>2011-10-21 12:56:19</td>\n",
       "      <td>2012-04-27</td>\n",
       "      <td>2012-04-29</td>\n",
       "      <td>1600.00</td>\n",
       "      <td>1600.00</td>\n",
       "      <td>0.0</td>\n",
       "      <td>2</td>\n",
       "      <td>2</td>\n",
       "      <td>1</td>\n",
       "      <td>6</td>\n",
       "      <td>188</td>\n",
       "      <td>2</td>\n",
       "      <td>NaT</td>\n",
       "      <td>42</td>\n",
       "    </tr>\n",
       "    <tr>\n",
       "      <th>2</th>\n",
       "      <td>1</td>\n",
       "      <td>2011</td>\n",
       "      <td>191</td>\n",
       "      <td>0517092b51559410</td>\n",
       "      <td>2011-10-26 11:34:16</td>\n",
       "      <td>2012-04-30</td>\n",
       "      <td>2012-04-05</td>\n",
       "      <td>941.66</td>\n",
       "      <td>941.66</td>\n",
       "      <td>0.0</td>\n",
       "      <td>2</td>\n",
       "      <td>4</td>\n",
       "      <td>1</td>\n",
       "      <td>2</td>\n",
       "      <td>186</td>\n",
       "      <td>25</td>\n",
       "      <td>1966-02-19</td>\n",
       "      <td>55</td>\n",
       "    </tr>\n",
       "    <tr>\n",
       "      <th>3</th>\n",
       "      <td>1</td>\n",
       "      <td>2011</td>\n",
       "      <td>192</td>\n",
       "      <td>b931980e4256363a</td>\n",
       "      <td>2011-10-26 15:36:35</td>\n",
       "      <td>2012-06-29</td>\n",
       "      <td>2012-11-07</td>\n",
       "      <td>7201.50</td>\n",
       "      <td>7201.50</td>\n",
       "      <td>0.0</td>\n",
       "      <td>2</td>\n",
       "      <td>6</td>\n",
       "      <td>1</td>\n",
       "      <td>3</td>\n",
       "      <td>246</td>\n",
       "      <td>131</td>\n",
       "      <td>NaT</td>\n",
       "      <td>42</td>\n",
       "    </tr>\n",
       "    <tr>\n",
       "      <th>4</th>\n",
       "      <td>1</td>\n",
       "      <td>2011</td>\n",
       "      <td>200</td>\n",
       "      <td>7853bb1516f198d9</td>\n",
       "      <td>2011-08-11 16:15:15</td>\n",
       "      <td>2012-04-13</td>\n",
       "      <td>2012-04-22</td>\n",
       "      <td>4291.68</td>\n",
       "      <td>4291.68</td>\n",
       "      <td>0.0</td>\n",
       "      <td>1</td>\n",
       "      <td>10</td>\n",
       "      <td>1</td>\n",
       "      <td>3</td>\n",
       "      <td>245</td>\n",
       "      <td>9</td>\n",
       "      <td>1961-05-03</td>\n",
       "      <td>60</td>\n",
       "    </tr>\n",
       "  </tbody>\n",
       "</table>\n",
       "</div>"
      ],
      "text/plain": [
       "   Status  Dossier jaar  Dossier nr.       Klantnummer       Datum creatie  \\\n",
       "0       1          2011          189  030abd64a9a637e5 2011-10-21 12:48:33   \n",
       "1       1          2011          190  030abd64a9a637e5 2011-10-21 12:56:19   \n",
       "2       1          2011          191  0517092b51559410 2011-10-26 11:34:16   \n",
       "3       1          2011          192  b931980e4256363a 2011-10-26 15:36:35   \n",
       "4       1          2011          200  7853bb1516f198d9 2011-08-11 16:15:15   \n",
       "\n",
       "  Datum vertrek Datum terug  Totaalprijs  Betalingen dossier  \\\n",
       "0    2012-04-27  2012-04-29      1600.00             1600.00   \n",
       "1    2012-04-27  2012-04-29      1600.00             1600.00   \n",
       "2    2012-04-30  2012-04-05       941.66              941.66   \n",
       "3    2012-06-29  2012-11-07      7201.50             7201.50   \n",
       "4    2012-04-13  2012-04-22      4291.68             4291.68   \n",
       "\n",
       "   Openstaand dossier  Land  Bestemming  Reistype  Aantal reizigers  \\\n",
       "0                 0.0     2           2         1                 6   \n",
       "1                 0.0     2           2         1                 6   \n",
       "2                 0.0     2           4         1                 2   \n",
       "3                 0.0     2           6         1                 3   \n",
       "4                 0.0     1          10         1                 3   \n",
       "\n",
       "   Aantal dagen tot vertrek  Aantal dagen op reis Geboortedatum  Leeftijd  \n",
       "0                       188                     2           NaT        42  \n",
       "1                       188                     2           NaT        42  \n",
       "2                       186                    25    1966-02-19        55  \n",
       "3                       246                   131           NaT        42  \n",
       "4                       245                     9    1961-05-03        60  "
      ]
     },
     "execution_count": 7,
     "metadata": {},
     "output_type": "execute_result"
    }
   ],
   "source": [
    "features.head()"
   ]
  },
  {
   "cell_type": "markdown",
   "metadata": {},
   "source": [
    "# Evalueren en selecteren van features\n",
    "\n",
    "Enkele interessante features die in de dataset te vinden zijn:\n",
    "\n",
    " - **Status**: De status (1 of 0) heeft aan of de boeking bevestigd of geannuleerd is.\n",
    " - **Dossier jaar**: Het jaar waarin het dossier werdt aangemaakt.\n",
    " - **Dossier nr.**: Een nummer (id) dat iedere reis identificeert.\n",
    " - **Klantnummer**: Het nummer dat een klant identificeert.\n",
    " - **Datum creatie**: Deze feature heeft een datum met uur, minuten en seconden. Deze waardes kunnen interessant zijn om te kijken hoeveel tijd er tussen een boeking en de reis vertrek datum zit.\n",
    " - **Datum vertrek**: De datum waarop een reis start.\n",
    " - **Datum terug**: De datum waarop de reizigers terugkeren naar hun thuisland.\n",
    " - **Totaalprijs**: De prijs die ze in totaal betalen voor de reis.\n",
    " - **Betalingen dossier**: Het bedrag dat al betaald is.\n",
    " - **Openstaand dossier**: Het bedrag dat nog moet betaald worden om te kunnen voldoen en te mogen vertrekken op reis.\n",
    " - **Land**: Het thuisland van de reiziger.\n",
    " - **Bestemming**: Het land waar de reiziger naartoe geweest is.\n",
    " - **Reistype**: Het type reis dat de reiziger neemt.\n",
    " - **Aantal reizigers**: Het aantal personen die mee opreis gaan.\n",
    " - **Aantal dagen tot vertrek**: Het berekende aantal dagen tussen het aanmaken van een account en de vertrek datum.\n",
    " - **Aantal dagen op reis**: Het berekende aantal dagen dat de reis duurde.\n",
    " - **Leeftijd**: Leeftijd van de klant.\n"
   ]
  },
  {
   "cell_type": "markdown",
   "metadata": {},
   "source": [
    "## Correlatie tussen features\n",
    "\n",
    "Onderstaande matrix toont aan hoe de features met elkaar verbonden zijn op een schaal van 0 tot 1. Hoe hoger de score bij 1 ligt hoe dichter de features gecorreleerd zijn met elkaar. De correlatie tussen de eigen data is steeds 1 wat ook wordt weergegeven in de diagonale donkerrode lijn.\n",
    "\n",
    "In de matrix zien we dat er enkele features een goede correlatie hebben met elkaar (hoger dan 0.4).\n",
    "Zo zijn het aantal reizigers, de totaal prijs en het dossier nummer en jaar best interessante features. Omdat er enkele features (dossier nummer en jaar & Totaalprijs en Betalingen Dossier) een hoge correlatie hebben kan dit zorgen voor overfitting, hierdoor is het best om één van de twee waarden niet op te nemen als feature in het model. Bij het splitten van de train en test data zullen de kolommen 'Dossier nr.' en 'Betalingen Dossier' weggelaten worden."
   ]
  },
  {
   "cell_type": "code",
   "execution_count": 8,
   "metadata": {},
   "outputs": [
    {
     "data": {
      "image/png": "[encoded data removed]",
      "text/plain": [
       "<Figure size 720x720 with 2 Axes>"
      ]
     },
     "metadata": {
      "needs_background": "light"
     },
     "output_type": "display_data"
    }
   ],
   "source": [
    "plt.figure(figsize=(10, 10))\n",
    "plt.title('Correlatie tussen alle features in het dataframe')\n",
    "seaborn.heatmap((features).corr(), annot=True, cmap=\"RdBu_r\")\n",
    "plt.show();"
   ]
  },
  {
   "cell_type": "markdown",
   "metadata": {},
   "source": [
    "### Opsplitsen van train en test data\n",
    "\n",
    "Onderstaande code splitst de data op in train en test data. In dit geval wordt de data opgesplitst volgens de standaard 75% train data en 25% test data. De niet numerieke kolommen worden uit de dataset weggelaten en de target wordt ingesteld in de 'y' array. Om de data te schalen maak ik gebruik van de StandardScaler. Het idee hierachter is dat het de gegevens zodanig zal transformeren dat de distributie een gemiddelde waarde van 0 en een standaardafwijking van 1 heeft.\n",
    "\n",
    "Bij Multivariate data gebeurt dit feature-wise (dus onafhankelijk voor elke kolom van de data).\n",
    "Gezien de verdeling van de gegevens, wordt bij elke waarde in de gegevensset de gemiddelde waarde afgetrokken en vervolgens gedeeld door de standaarddeviatie van de hele gegevensset (of kenmerk in het multivariate geval).\n",
    "\n",
    "De volgende kolommen worden verwijderd uit het features dataframe:\n",
    " - **Klantnummer** Een klantnummer is geen numerieke waarde dus dit kan niet meegeven worden aan modellen.\n",
    " - **Geboortedatum** De kolom met geboortedatums is geen numerieke waarde en de leeftijd is hieruit berekend dat wel als feature kan dienen.\n",
    " - **Dossier nr.** De kolom met de dossier nummers had een hoge correlatie met het dossier jaar waardoor het interessant is om deze niet mee op te nemen in de features lijst, dit kan het model ten goede komen omdat er overfitting kan ontstaan met hoog gecorreleerde features onderling.\n",
    " - **Betalingen dossier** Het bedrag dat al reeds betaald was is ook hoog gecorreleerd met het totaal bedrag waardoor deze kolom ook kan worden weggelaten uit de features.\n",
    " - **Datums** De kolommen *Datum creatie*, *Datum vertrek* en *Datum terug* zijn datums die al gebruikt zijn om zaken te berekenen (Aantal dagen op reis en Aantal dagen tot vertrek)."
   ]
  },
  {
   "cell_type": "code",
   "execution_count": 9,
   "metadata": {},
   "outputs": [],
   "source": [
    "def scale_data(df):\n",
    "    X = df.drop(['Aantal dagen tot vertrek', 'Klantnummer', 'Openstaand dossier', 'Totaalprijs', 'Geboortedatum', 'Dossier nr.', 'Betalingen dossier',  'Datum creatie', 'Datum vertrek', 'Datum terug'], axis=1)\n",
    "    y = df['Aantal dagen tot vertrek']\n",
    "    scaler = StandardScaler()\n",
    "    scaler.fit(X)\n",
    "    return scaler.transform(X), y\n",
    "\n",
    "X, y = scale_data(features)\n",
    "# split voor KNN en al de rest + maak functie van bovenstaande code\n",
    "X_train, X_test, y_train, y_test = train_test_split(X, y, random_state=0)"
   ]
  },
  {
   "cell_type": "code",
   "execution_count": 10,
   "metadata": {},
   "outputs": [],
   "source": [
    "#mag weg\n",
    "#y = features['Aantal dagen tot vertrek'].to_numpy().astype(int)\n",
    "#X = features.drop(['Aantal dagen tot vertrek', 'Klantnummer', 'Openstaand dossier', 'Totaalprijs', 'Geboortedatum', 'Dossier nr.', 'Betalingen dossier',  'Datum creatie', 'Datum vertrek', 'Datum terug'], axis=1)\n",
    "#X_train, X_test, y_train, y_test = train_test_split(X, y)"
   ]
  },
  {
   "cell_type": "markdown",
   "metadata": {},
   "source": [
    "De geschaalde data in het dataframe *X*."
   ]
  },
  {
   "cell_type": "code",
   "execution_count": 11,
   "metadata": {},
   "outputs": [
    {
     "data": {
      "text/plain": [
       "array([[  0.06367683,  -2.09338933,   0.33372771, ...,   3.50094482,\n",
       "         -0.81901982,  -0.30435306],\n",
       "       [  0.06367683,  -2.09338933,   0.33372771, ...,   3.50094482,\n",
       "         -0.81901982,  -0.30435306],\n",
       "       [  0.06367683,  -2.09338933,   0.33372771, ...,   0.19740368,\n",
       "         -0.53761994,   1.02041738],\n",
       "       ...,\n",
       "       [  0.06367683,   1.98790608,   0.33372771, ...,   0.19740368,\n",
       "          0.64915343,   0.20517403],\n",
       "       [-15.70429877,   1.98790608,   0.33372771, ...,   0.19740368,\n",
       "          1.75028337,  -0.30435306],\n",
       "       [  0.06367683,   1.98790608,   0.33372771, ...,   0.19740368,\n",
       "         -0.80678504,  -2.7500831 ]])"
      ]
     },
     "execution_count": 11,
     "metadata": {},
     "output_type": "execute_result"
    }
   ],
   "source": [
    "X"
   ]
  },
  {
   "cell_type": "markdown",
   "metadata": {},
   "source": [
    "De vorm van de *X* en *y* array wordt hieronder afgeprint. De *X* dataset bevat 10 features (kolommen) en 3962 rijen, de *y* array bevat de target data met 1 kolom en 3962 rijen aan data. Het aantal rijen en features van de trainings- en testset worden ook weergegeven. De trainingsset bedraagt 2971 rijen aan data en de testset 991 rijen."
   ]
  },
  {
   "cell_type": "code",
   "execution_count": 12,
   "metadata": {},
   "outputs": [
    {
     "name": "stdout",
     "output_type": "stream",
     "text": [
      "Shape van de X data: (3962, 8)\n",
      "Shape van de y target data: (3962,)\n"
     ]
    }
   ],
   "source": [
    "print(\"Shape van de X data:\", X.shape)\n",
    "print(\"Shape van de y target data:\", y.shape)"
   ]
  },
  {
   "cell_type": "code",
   "execution_count": 13,
   "metadata": {},
   "outputs": [
    {
     "name": "stdout",
     "output_type": "stream",
     "text": [
      "X_train shape: (2971, 8)\n",
      "y_train shape: (2971,)\n",
      "X_test shape: (991, 8)\n",
      "y_test shape: (991,)\n",
      "Aantal features: 8\n"
     ]
    }
   ],
   "source": [
    "print(\"X_train shape:\", X_train.shape)\n",
    "print(\"y_train shape:\", y_train.shape)\n",
    "print(\"X_test shape:\", X_test.shape)\n",
    "print(\"y_test shape:\", y_test.shape)\n",
    "print(\"Aantal features:\", X.shape[1])"
   ]
  },
  {
   "cell_type": "markdown",
   "metadata": {},
   "source": [
    "## Modellen evalueren, vergelijken en testen\n",
    "\n",
    "In de volgende stappen worden enkele modellen getest om te zien hoe de modellen het doen op de train en test data.\n",
    "\n",
    "### KNN\n",
    "\n",
    "KNN is het eenvoudigste model dat we gaan uittesten. Het onthoudt de trainingsgegevens en plaatst de te voorspellen gegevens in dezelfde grafiek. Om elk doel te voorspellen, zoekt het KNN-model het dichtstbijzijnde punt in de trainingsdata en stelt de waarde van het te voorspellen gegeven in op dat van de dichtstbijzijnde buur. Er kan ingesteld worden hoeveel buren het model moet gebruiken om een waarde aan het doel te geven. Meer of minder buren kiezen kan een goede of slechte invloed hebben op het classificerings model.\n",
    "\n",
    "### Decision tree\n",
    "\n",
    "Een decision tree is een algoritme dat gebruikmaakt van een boomachtig model om beslissingen te maken en hun mogelijke gevolgen te gaan afwegen. Het is een algoritme dat alleen voorwaardelijke controle-instructies bevat en op basis daarvan tot een voorspelling komt.\n",
    "\n",
    "Decision trees hebben 2 hoofdzakelijke types:\n",
    "\n",
    "* Classification tree is wanneer de voorspelde uitkomst de klasse is waartoe de gegevens behoren.\n",
    "* Regression is wanneer de voorspelde uitkomst als een reëel getal kan worden beschouwd (bijvoorbeeld de prijs van een huis of de leeftijd van een persoon).\n",
    "\n",
    "### Logistic regression\n",
    "\n",
    "Logistic regression is een statistische methode voor het voorspellen van binaire klassen. De uitkomst- of doelvariabele is dichotoom van aard. Dichotoom betekent dat er maar twee mogelijke klassen zijn (binair). Het is een speciaal geval van lineaire regressie waarbij de doelvariabele categorisch van aard is. Logistische regressie voorspelt de waarschijnlijkheid van optreden van een binaire gebeurtenis met behulp van een logitfunctie.\n",
    "\n",
    "### Random Forest tree\n",
    "\n",
    "Random forest is een verzameling van decision trees. Het Random Forest algoritme werkt volgens de *bootstrap aggregating* (bagging) techniek, hierbij worden door middel van trekkingen een aantal sub-datasets uit de data genomen, op basis waarvan worden decision trees opgesteld. De predictie voor een nieuwe observatie wordt vervolgens bepaald door het gemiddelde van de predicties van de verschillende decision trees te nemen. Omdat de decision trees veel op elkaar kunnen lijken en één of een beperkt aantal verklarende variabelen dominant kunnen zijn, wordt er bij iedere splitsing een subset van de verklarende variabelen gebruikt op basis van enkele trekking.\n",
    "\n",
    "Het Random Forest algoritme heeft als voordeel dat het met grote hoeveelheden data te omgaan"
   ]
  },
  {
   "cell_type": "markdown",
   "metadata": {},
   "source": [
    "## Testen van verschillende modellen\n",
    "\n",
    "### KNN-model\n",
    "\n",
    "Onderstaande code print voor elke iteratie de train en test score uit met 4 grafieken. De twee linkse grafieken tonen het percentage per aantal neighbors op de hele trainingsset. De twee rechtse grafieken tonen het percentage per aantal neighbors op de testdata. Hieruit blijkt dat op de trainingsdata het slaagpercentage afzwakt naarmate er meer neighbors bijkomen. Wat opvalt is dat bij 1 en 2 neightbors bij de trainingsset tegenover de testset er duidelijk overfitting optreedt.\n",
    "\n",
    "Ik gebruik de Elbow methode om de beste waarde voor k (aantal neightbors) te vinden, deze waarde is dan af te lezen van de grafiek en wordt uitgeprint voor iedere iteratie met de bijhorende train en test scores. In mijn opstelling zal deze later ingesteld worden op 3, nadien doen we voor de evaluatie van het model nogmaals dezelfde stappen maar deze keer met een niet variabele k.\n",
    "\n",
    "Tijdens het uittesten van het KNN-model viel me op dat het schalen van de data met de StandardScaler een positief maar kleine verbetering gaf in de train- en testdata."
   ]
  },
  {
   "cell_type": "code",
   "execution_count": 14,
   "metadata": {},
   "outputs": [
    {
     "name": "stdout",
     "output_type": "stream",
     "text": [
      "Iteratie: 1\n",
      "Accuracy on training set: 0.848\n",
      "Accuracy on test set: 0.046\n",
      "*-------------------------------*\n",
      "Iteratie: 2\n",
      "Accuracy on training set: 0.490\n",
      "Accuracy on test set: 0.032\n",
      "*-------------------------------*\n",
      "Iteratie: 3\n",
      "Accuracy on training set: 0.353\n",
      "Accuracy on test set: 0.026\n",
      "*-------------------------------*\n",
      "Iteratie: 4\n",
      "Accuracy on training set: 0.278\n",
      "Accuracy on test set: 0.027\n",
      "*-------------------------------*\n",
      "Iteratie: 5\n",
      "Accuracy on training set: 0.232\n",
      "Accuracy on test set: 0.025\n",
      "*-------------------------------*\n",
      "Iteratie: 6\n",
      "Accuracy on training set: 0.204\n",
      "Accuracy on test set: 0.022\n",
      "*-------------------------------*\n",
      "Iteratie: 7\n",
      "Accuracy on training set: 0.179\n",
      "Accuracy on test set: 0.021\n",
      "*-------------------------------*\n",
      "Iteratie: 8\n",
      "Accuracy on training set: 0.167\n",
      "Accuracy on test set: 0.022\n",
      "*-------------------------------*\n",
      "Iteratie: 9\n",
      "Accuracy on training set: 0.158\n",
      "Accuracy on test set: 0.020\n",
      "*-------------------------------*\n",
      "Iteratie: 10\n",
      "Accuracy on training set: 0.146\n",
      "Accuracy on test set: 0.019\n",
      "*-------------------------------*\n"
     ]
    },
    {
     "data": {
      "image/png": "[encoded data removed]",
      "text/plain": [
       "<Figure size 1080x360 with 2 Axes>"
      ]
     },
     "metadata": {
      "needs_background": "light"
     },
     "output_type": "display_data"
    },
    {
     "data": {
      "image/png": "[encoded data removed]",
      "text/plain": [
       "<Figure size 1080x360 with 2 Axes>"
      ]
     },
     "metadata": {
      "needs_background": "light"
     },
     "output_type": "display_data"
    }
   ],
   "source": [
    "trainingScore = []\n",
    "testScore = []\n",
    "neighbors = 10\n",
    "\n",
    "for k in range(1, neighbors + 1):\n",
    "    knn = KNeighborsClassifier(n_neighbors=k).fit(X_train, y_train)\n",
    "    \n",
    "    trainingScore.append(round(knn.score(X_train, y_train) * 100, 2))\n",
    "    testScore.append(round(knn.score(X_test, y_test) * 100, 2))\n",
    "    \n",
    "    print(\"Iteratie: \" + str(k))\n",
    "    print(\"Accuracy on training set: {:.3f}\".format(knn.score(X_train, y_train)))\n",
    "    print(\"Accuracy on test set: {:.3f}\".format(knn.score(X_test, y_test)))\n",
    "    print(\"*-------------------------------*\")\n",
    "\n",
    "fig, (ax1, ax2) = plt.subplots(1, 2, figsize=(15, 5))\n",
    "objects = range(1, neighbors + 1)\n",
    "\n",
    "ax1.bar(objects, trainingScore, align='center', color = \"#34eb89\")\n",
    "ax1.set_title('training score op ' + str(len(X)) + ' rijen data')\n",
    "ax1.set_ylabel('percentage juist (%)')\n",
    "ax1.set_xlabel('Aantal neighbors')\n",
    "\n",
    "ax2.bar(objects, testScore, align='center', color = \"#eb8034\")\n",
    "ax2.set_ylim(0, 100)\n",
    "ax2.set_title('test score op ' + str(len(X)) + ' rijen data')\n",
    "ax2.set_ylabel('percentage juist (%)')\n",
    "ax2.set_xlabel('Aantal neighbors')\n",
    "\n",
    "fig, (ax1, ax2) = plt.subplots(1, 2, figsize=(15, 5))\n",
    "\n",
    "ax1.plot(objects, trainingScore, color = \"#34eb89\")\n",
    "ax1.set_title('vergrote schaal per diepte in training')\n",
    "ax1.set_ylabel('percentage juist (%)')\n",
    "ax1.set_xlabel('Aantal neighbors')\n",
    "\n",
    "ax2.plot(objects, testScore, color = \"#eb8034\")\n",
    "ax2.set_title('vergrote schaal per diepte in test')\n",
    "ax2.set_ylabel('percentage juist (%)')\n",
    "ax2.set_xlabel('Aantal neighbors')\n",
    "plt.show()"
   ]
  },
  {
   "cell_type": "markdown",
   "metadata": {},
   "source": [
    "### Finaal KNN-model met vaste waarde\n",
    "\n",
    "We zien hieronder een duidelijke overfitting optreden (een beter prestatie van het model op de trainingsset als op de testset). De k waarde is zo optimaal mogelijk gekozen maar omdat het een relatief kleine dataset is wordt het moeilijker om een goede voorspelling te doen en is de testscore zeer laag. Hoe hoger het aantal neightbors (k) hoe slechter de trainingsset zal scoren, de testset zakt eveneens mee omlaag. Bij 1 neightbor is de trainingsscore zeer hoog, door overfitting blijft de testscore ook zeer laag (+/- 5%)."
   ]
  },
  {
   "cell_type": "code",
   "execution_count": 15,
   "metadata": {
    "scrolled": false
   },
   "outputs": [
    {
     "name": "stdout",
     "output_type": "stream",
     "text": [
      "Training set score: 0.85\n",
      "Test set score: 0.05\n"
     ]
    }
   ],
   "source": [
    "knn = KNeighborsClassifier(n_neighbors = 1)\n",
    "knn.fit(X_train, y_train)\n",
    "pred = knn.predict(X_test)\n",
    "trainingScore = round(knn.score(X_train, y_train), 2)\n",
    "testScore = round(knn.score(X_test, y_test), 2)\n",
    "\n",
    "print(\"Training set score: \" + str(trainingScore))\n",
    "print(\"Test set score: \" + str(testScore))"
   ]
  },
  {
   "cell_type": "markdown",
   "metadata": {},
   "source": [
    "### Decision tree classifier model\n",
    "\n",
    "Onderstaande code print voor elke iteratie de train en test score uit met 4 grafieken. De twee linkse grafieken tonen het percentage voor elke diepte op de hele trainingsset. De twee rechtse grafieken tonen het percentage van de testdata voor elke diepte. Hieruit blijkt dat op de trainingsdata het slaagpercentage toeneemt bij een hogere diepte, dit blijft doorgaan tot een diepte van 40, hierna vlakt de score af tot 85% en wordt deze niet beter. Het is uiteraard ook niet goed om een te hoge diepte in te stellen omdat er dan te veel opsplitsingen gebeuren en zo het model te specifiek wordt getrained op de aangeleverde dataset. Het Decision tree algoritme is ook heel wat sneller dan het KNN classifier model.\n",
    "\n",
    "De 2 onderste grafieken geven een ingezoomde lijn grafiek weer om het verloop tussen beter zichtbaar te maken."
   ]
  },
  {
   "cell_type": "code",
   "execution_count": 16,
   "metadata": {
    "scrolled": false
   },
   "outputs": [
    {
     "name": "stdout",
     "output_type": "stream",
     "text": [
      "Iteratie: 1\n",
      "Accuracy on training set: 0.011\n",
      "Accuracy on test set: 0.005\n",
      "*-------------------------------*\n",
      "Iteratie: 2\n",
      "Accuracy on training set: 0.012\n",
      "Accuracy on test set: 0.006\n",
      "*-------------------------------*\n",
      "Iteratie: 3\n",
      "Accuracy on training set: 0.015\n",
      "Accuracy on test set: 0.005\n",
      "*-------------------------------*\n",
      "Iteratie: 4\n",
      "Accuracy on training set: 0.019\n",
      "Accuracy on test set: 0.007\n",
      "*-------------------------------*\n",
      "Iteratie: 5\n",
      "Accuracy on training set: 0.023\n",
      "Accuracy on test set: 0.007\n",
      "*-------------------------------*\n",
      "Iteratie: 6\n",
      "Accuracy on training set: 0.029\n",
      "Accuracy on test set: 0.008\n",
      "*-------------------------------*\n",
      "Iteratie: 7\n",
      "Accuracy on training set: 0.037\n",
      "Accuracy on test set: 0.009\n",
      "*-------------------------------*\n",
      "Iteratie: 8\n",
      "Accuracy on training set: 0.048\n",
      "Accuracy on test set: 0.012\n",
      "*-------------------------------*\n",
      "Iteratie: 9\n",
      "Accuracy on training set: 0.060\n",
      "Accuracy on test set: 0.014\n",
      "*-------------------------------*\n",
      "Iteratie: 10\n",
      "Accuracy on training set: 0.076\n",
      "Accuracy on test set: 0.017\n",
      "*-------------------------------*\n",
      "Iteratie: 11\n",
      "Accuracy on training set: 0.094\n",
      "Accuracy on test set: 0.019\n",
      "*-------------------------------*\n",
      "Iteratie: 12\n",
      "Accuracy on training set: 0.124\n",
      "Accuracy on test set: 0.020\n",
      "*-------------------------------*\n",
      "Iteratie: 13\n",
      "Accuracy on training set: 0.159\n",
      "Accuracy on test set: 0.030\n",
      "*-------------------------------*\n",
      "Iteratie: 14\n",
      "Accuracy on training set: 0.203\n",
      "Accuracy on test set: 0.031\n",
      "*-------------------------------*\n",
      "Iteratie: 15\n",
      "Accuracy on training set: 0.252\n",
      "Accuracy on test set: 0.030\n",
      "*-------------------------------*\n"
     ]
    },
    {
     "data": {
      "image/png": "[encoded data removed]",
      "text/plain": [
       "<Figure size 1080x360 with 2 Axes>"
      ]
     },
     "metadata": {
      "needs_background": "light"
     },
     "output_type": "display_data"
    },
    {
     "data": {
      "image/png": "[encoded data removed]",
      "text/plain": [
       "<Figure size 1080x360 with 2 Axes>"
      ]
     },
     "metadata": {
      "needs_background": "light"
     },
     "output_type": "display_data"
    }
   ],
   "source": [
    "trainingScore = []\n",
    "testScore = []\n",
    "depth = 15\n",
    "\n",
    "for n in range(1, depth + 1):\n",
    "    treeModel = DecisionTreeClassifier(max_depth=n, random_state=42).fit(X_train, y_train)\n",
    "    \n",
    "    trainingScore.append(round(treeModel.score(X_train, y_train) * 100, 2))\n",
    "    testScore.append(round(treeModel.score(X_test, y_test) * 100, 2))\n",
    "    print(\"Iteratie: \" + str(n))\n",
    "    print(\"Accuracy on training set: {:.3f}\".format(treeModel.score(X_train, y_train)))\n",
    "    print(\"Accuracy on test set: {:.3f}\".format(treeModel.score(X_test, y_test)))\n",
    "    print(\"*-------------------------------*\")\n",
    "    \n",
    "fig, (ax1, ax2) = plt.subplots(1, 2, figsize=(15, 5))\n",
    "objects = range(1, depth + 1)\n",
    "\n",
    "\n",
    "ax1.bar(objects, trainingScore, align='center', color = \"#34eb89\")\n",
    "ax1.set_title('training score op ' + str(len(X)) + ' rijen data')\n",
    "ax1.set_ylabel('percentage juist (%)')\n",
    "ax1.set_xlabel('diepte')\n",
    "\n",
    "ax2.bar(objects, testScore, align='center', color = \"#eb8034\")\n",
    "ax2.set_ylim(0, 100)\n",
    "ax2.set_title('testScore op ' + str(len(X)) + ' rijen data')\n",
    "ax2.set_ylabel('percentage juist (%)')\n",
    "ax2.set_xlabel('diepte')\n",
    "\n",
    "fig, (ax1, ax2) = plt.subplots(1, 2, figsize=(15, 5))\n",
    "ax1.plot(objects, trainingScore, color = \"#34eb89\")\n",
    "ax1.set_title('vergrote schaal per diepte in training')\n",
    "ax1.set_ylabel('percentage juist (%)')\n",
    "ax1.set_xlabel('diepte')\n",
    "\n",
    "ax2.plot(objects, testScore, color = \"#eb8034\")\n",
    "ax2.set_title('vergrote schaal per diepte in test')\n",
    "ax2.set_ylabel('percentage juist (%)')\n",
    "ax2.set_xlabel('diepte')\n",
    "plt.show()"
   ]
  },
  {
   "cell_type": "markdown",
   "metadata": {},
   "source": [
    "### Finaal Decision tree model\n",
    "\n",
    "We zien hieronder terug een duidelijke overfitting optreden (een beter prestatie van het model op de trainingsset als op de testset). De decision tree is bij een hoge diepte acurater maar het bljft slecht scoren op de testset. Overfitting blijft steeds optreden, in de grafieken hierboven zagen we ook dat de test scores zeer weinig stegen tegenover de trainings scores."
   ]
  },
  {
   "cell_type": "code",
   "execution_count": 17,
   "metadata": {},
   "outputs": [
    {
     "name": "stdout",
     "output_type": "stream",
     "text": [
      "Cross validation score: [0.04201681 0.02188552 0.02356902 0.02525253 0.05218855]\n",
      "Training set score: 0.25\n",
      "Test set score: 0.03\n"
     ]
    },
    {
     "name": "stderr",
     "output_type": "stream",
     "text": [
      "/Users/louisdhont/anaconda3/lib/python3.8/site-packages/sklearn/model_selection/_split.py:666: UserWarning: The least populated class in y has only 1 members, which is less than n_splits=5.\n",
      "  warnings.warn((\"The least populated class in y has only %d\"\n"
     ]
    }
   ],
   "source": [
    "trainingScore = []\n",
    "testScore = []\n",
    "\n",
    "treeModel = DecisionTreeClassifier(max_depth=15, random_state=42).fit(X_train, y_train)\n",
    "trainingScore = round(treeModel.score(X_train, y_train), 2)\n",
    "testScore = round(treeModel.score(X_test, y_test), 2)\n",
    "\n",
    "print(\"Cross validation score: \" + str(cross_val_score(treeModel, X_train, y_train, cv=5)))\n",
    "print(\"Training set score: \" + str(trainingScore))\n",
    "print(\"Test set score: \" + str(testScore))"
   ]
  },
  {
   "cell_type": "markdown",
   "metadata": {},
   "source": [
    "### Logistic regression\n",
    "\n",
    "Logistic regression is een lineair model voor classificatie. Het gebruikte algoritme heet *Solver*. De solver is ingesteld op *liblinear* aangezien dit een multiclass dataset kan verwerken en dit gebaseerd is op kansverhoudingen. De verhouding tussen de fracties bij twee mogelijke uitkomsten wordt hierin bepaald en zo geclassificeerd. Dit principe wordt uitgevoerd en vervolgens herhaald indien het in de rest thuishoort (een soort van binaire classificatie).\n",
    "\n",
    "De score is in beide gevallen zeer laag op de tranings- en testset omdat dit een binair clasificatie methode is. Hierdoor is het dus een algoritme dat niet kan worden gebruikt in dit project."
   ]
  },
  {
   "cell_type": "code",
   "execution_count": 18,
   "metadata": {},
   "outputs": [
    {
     "name": "stdout",
     "output_type": "stream",
     "text": [
      "Accuracy on training set: 0.035\n",
      "Accuracy on test set: 0.008\n"
     ]
    }
   ],
   "source": [
    "trainingScore = []\n",
    "testScore = []\n",
    "\n",
    "logRegr = LogisticRegression(solver='liblinear', max_iter=500, multi_class = 'auto').fit(X_train, y_train)\n",
    "trainingScore.append(round(logRegr.score(X_train, y_train) * 100, 2))\n",
    "testScore.append(round(logRegr.score(X_test, y_test) * 100, 2))\n",
    "\n",
    "print(\"Accuracy on training set: {:.3f}\".format(logRegr.score(X_train, y_train)))\n",
    "print(\"Accuracy on test set: {:.3f}\".format(logRegr.score(X_test, y_test)))"
   ]
  },
  {
   "cell_type": "markdown",
   "metadata": {},
   "source": [
    "### Random forest tree\n",
    "\n",
    "Ook hier zijn de beste parameters voor het model gekozen door middel van *GridSearchCV*. \n",
    "\n",
    "Ik zien hier een zware overfitting, dit ga ik oplossen door *feature importance*. Dit wil eigenlijk zeggen dat mijn model de waardes voor mijn test set te precies gaat volgen, er is een te hoge variantie (ruis wordt mee opgenomen) de bias daar tegen over zal eerder laag zijn voor dit model."
   ]
  },
  {
   "cell_type": "code",
   "execution_count": 19,
   "metadata": {},
   "outputs": [
    {
     "name": "stdout",
     "output_type": "stream",
     "text": [
      "Accuracy on training set: 0.851\n",
      "Accuracy on test set: 0.057\n"
     ]
    }
   ],
   "source": [
    "forest = RandomForestClassifier(n_estimators=100, random_state=42)\n",
    "forest.fit(X_train, np.ravel(y_train, order='C'))\n",
    "\n",
    "y_predForest = forest.predict(X_test)\n",
    "\n",
    "print(\"Accuracy on training set: {:.3f}\".format(forest.score(X_train, y_train), 2))\n",
    "print(\"Accuracy on test set: {:.3f}\".format(forest.score(X_test, y_test), 2))"
   ]
  },
  {
   "cell_type": "markdown",
   "metadata": {},
   "source": [
    "## cross-validation\n",
    "\n",
    "Cross validatie is een techniek om te beschermen tegen overfitting in een model. Bij cross validatie wordt er een vast aantal folds (of partities) van de gegevens genomen, daarna wordt de analyse uitgevoerd op elke fold en een gemiddelde van de totale foutschatting berekend.\n",
    "\n",
    "Deze techniek wordt hieronder uitgevoerd met KNN (k-nearest neighbors), Linaire regressie en Decision tree.\n",
    "\n",
    "### Cross validation met KNN"
   ]
  },
  {
   "cell_type": "code",
   "execution_count": 31,
   "metadata": {},
   "outputs": [
    {
     "name": "stdout",
     "output_type": "stream",
     "text": [
      "Cross-validation scores: [0.01060071 0.01261989]\n",
      "Average cross-validation score: 0.01\n"
     ]
    },
    {
     "name": "stderr",
     "output_type": "stream",
     "text": [
      "/Users/louisdhont/anaconda3/lib/python3.8/site-packages/sklearn/model_selection/_split.py:666: UserWarning: The least populated class in y has only 1 members, which is less than n_splits=2.\n",
      "  warnings.warn((\"The least populated class in y has only %d\"\n"
     ]
    },
    {
     "data": {
      "text/html": [
       "<div>\n",
       "<style scoped>\n",
       "    .dataframe tbody tr th:only-of-type {\n",
       "        vertical-align: middle;\n",
       "    }\n",
       "\n",
       "    .dataframe tbody tr th {\n",
       "        vertical-align: top;\n",
       "    }\n",
       "\n",
       "    .dataframe thead th {\n",
       "        text-align: right;\n",
       "    }\n",
       "</style>\n",
       "<table border=\"1\" class=\"dataframe\">\n",
       "  <thead>\n",
       "    <tr style=\"text-align: right;\">\n",
       "      <th></th>\n",
       "      <th>fit_time</th>\n",
       "      <th>score_time</th>\n",
       "      <th>test_score</th>\n",
       "      <th>train_score</th>\n",
       "    </tr>\n",
       "  </thead>\n",
       "  <tbody>\n",
       "    <tr>\n",
       "      <th>0</th>\n",
       "      <td>0.009714</td>\n",
       "      <td>0.024687</td>\n",
       "      <td>0.032746</td>\n",
       "      <td>0.230014</td>\n",
       "    </tr>\n",
       "    <tr>\n",
       "      <th>1</th>\n",
       "      <td>0.009427</td>\n",
       "      <td>0.026721</td>\n",
       "      <td>0.035264</td>\n",
       "      <td>0.237027</td>\n",
       "    </tr>\n",
       "    <tr>\n",
       "      <th>2</th>\n",
       "      <td>0.007417</td>\n",
       "      <td>0.018848</td>\n",
       "      <td>0.025253</td>\n",
       "      <td>0.234997</td>\n",
       "    </tr>\n",
       "    <tr>\n",
       "      <th>3</th>\n",
       "      <td>0.011564</td>\n",
       "      <td>0.028434</td>\n",
       "      <td>0.027778</td>\n",
       "      <td>0.236680</td>\n",
       "    </tr>\n",
       "    <tr>\n",
       "      <th>4</th>\n",
       "      <td>0.007041</td>\n",
       "      <td>0.018509</td>\n",
       "      <td>0.022727</td>\n",
       "      <td>0.233034</td>\n",
       "    </tr>\n",
       "    <tr>\n",
       "      <th>5</th>\n",
       "      <td>0.007339</td>\n",
       "      <td>0.018194</td>\n",
       "      <td>0.037879</td>\n",
       "      <td>0.228828</td>\n",
       "    </tr>\n",
       "    <tr>\n",
       "      <th>6</th>\n",
       "      <td>0.007209</td>\n",
       "      <td>0.018320</td>\n",
       "      <td>0.037879</td>\n",
       "      <td>0.226865</td>\n",
       "    </tr>\n",
       "    <tr>\n",
       "      <th>7</th>\n",
       "      <td>0.007111</td>\n",
       "      <td>0.018464</td>\n",
       "      <td>0.027778</td>\n",
       "      <td>0.231632</td>\n",
       "    </tr>\n",
       "    <tr>\n",
       "      <th>8</th>\n",
       "      <td>0.007085</td>\n",
       "      <td>0.018570</td>\n",
       "      <td>0.025253</td>\n",
       "      <td>0.227987</td>\n",
       "    </tr>\n",
       "    <tr>\n",
       "      <th>9</th>\n",
       "      <td>0.007298</td>\n",
       "      <td>0.018821</td>\n",
       "      <td>0.022727</td>\n",
       "      <td>0.236960</td>\n",
       "    </tr>\n",
       "  </tbody>\n",
       "</table>\n",
       "</div>"
      ],
      "text/plain": [
       "   fit_time  score_time  test_score  train_score\n",
       "0  0.009714    0.024687    0.032746     0.230014\n",
       "1  0.009427    0.026721    0.035264     0.237027\n",
       "2  0.007417    0.018848    0.025253     0.234997\n",
       "3  0.011564    0.028434    0.027778     0.236680\n",
       "4  0.007041    0.018509    0.022727     0.233034\n",
       "5  0.007339    0.018194    0.037879     0.228828\n",
       "6  0.007209    0.018320    0.037879     0.226865\n",
       "7  0.007111    0.018464    0.027778     0.231632\n",
       "8  0.007085    0.018570    0.025253     0.227987\n",
       "9  0.007298    0.018821    0.022727     0.236960"
      ]
     },
     "execution_count": 31,
     "metadata": {},
     "output_type": "execute_result"
    }
   ],
   "source": [
    "kFold = KFold(n_splits=10, shuffle=True, random_state=42)\n",
    "\n",
    "KNN = KNeighborsClassifier(n_neighbors = 5).fit(X_train, y_train)\n",
    "\n",
    "df_knn = pd.DataFrame(cross_validate(KNN, X, y, cv=kFold, return_train_score=True))\n",
    "scores = cross_val_score(KNN, X, y, cv = 2)\n",
    "\n",
    "print(\"Cross-validation scores: {}\".format(scores))\n",
    "print(\"Average cross-validation score: {:.2f}\".format(scores.mean()))\n",
    "df_knn"
   ]
  },
  {
   "cell_type": "markdown",
   "metadata": {},
   "source": [
    "### Cross validation met linear regression"
   ]
  },
  {
   "cell_type": "code",
   "execution_count": 28,
   "metadata": {},
   "outputs": [
    {
     "name": "stdout",
     "output_type": "stream",
     "text": [
      "Average cross-validation score: -0.01\n"
     ]
    },
    {
     "data": {
      "text/html": [
       "<div>\n",
       "<style scoped>\n",
       "    .dataframe tbody tr th:only-of-type {\n",
       "        vertical-align: middle;\n",
       "    }\n",
       "\n",
       "    .dataframe tbody tr th {\n",
       "        vertical-align: top;\n",
       "    }\n",
       "\n",
       "    .dataframe thead th {\n",
       "        text-align: right;\n",
       "    }\n",
       "</style>\n",
       "<table border=\"1\" class=\"dataframe\">\n",
       "  <thead>\n",
       "    <tr style=\"text-align: right;\">\n",
       "      <th></th>\n",
       "      <th>fit_time</th>\n",
       "      <th>score_time</th>\n",
       "      <th>test_score</th>\n",
       "      <th>train_score</th>\n",
       "    </tr>\n",
       "  </thead>\n",
       "  <tbody>\n",
       "    <tr>\n",
       "      <th>0</th>\n",
       "      <td>0.002715</td>\n",
       "      <td>0.000745</td>\n",
       "      <td>0.042553</td>\n",
       "      <td>0.025785</td>\n",
       "    </tr>\n",
       "    <tr>\n",
       "      <th>1</th>\n",
       "      <td>0.001634</td>\n",
       "      <td>0.000540</td>\n",
       "      <td>0.034060</td>\n",
       "      <td>0.026742</td>\n",
       "    </tr>\n",
       "    <tr>\n",
       "      <th>2</th>\n",
       "      <td>0.001603</td>\n",
       "      <td>0.000549</td>\n",
       "      <td>0.015984</td>\n",
       "      <td>0.028556</td>\n",
       "    </tr>\n",
       "    <tr>\n",
       "      <th>3</th>\n",
       "      <td>0.001497</td>\n",
       "      <td>0.000470</td>\n",
       "      <td>-0.002837</td>\n",
       "      <td>0.029392</td>\n",
       "    </tr>\n",
       "    <tr>\n",
       "      <th>4</th>\n",
       "      <td>0.001737</td>\n",
       "      <td>0.000586</td>\n",
       "      <td>0.026268</td>\n",
       "      <td>0.027630</td>\n",
       "    </tr>\n",
       "    <tr>\n",
       "      <th>5</th>\n",
       "      <td>0.001716</td>\n",
       "      <td>0.000590</td>\n",
       "      <td>0.020365</td>\n",
       "      <td>0.028023</td>\n",
       "    </tr>\n",
       "    <tr>\n",
       "      <th>6</th>\n",
       "      <td>0.001478</td>\n",
       "      <td>0.000682</td>\n",
       "      <td>0.022327</td>\n",
       "      <td>0.027851</td>\n",
       "    </tr>\n",
       "    <tr>\n",
       "      <th>7</th>\n",
       "      <td>0.001527</td>\n",
       "      <td>0.000486</td>\n",
       "      <td>0.029225</td>\n",
       "      <td>0.026999</td>\n",
       "    </tr>\n",
       "    <tr>\n",
       "      <th>8</th>\n",
       "      <td>0.001428</td>\n",
       "      <td>0.000475</td>\n",
       "      <td>0.028545</td>\n",
       "      <td>0.027258</td>\n",
       "    </tr>\n",
       "    <tr>\n",
       "      <th>9</th>\n",
       "      <td>0.001459</td>\n",
       "      <td>0.000490</td>\n",
       "      <td>-0.003177</td>\n",
       "      <td>0.030190</td>\n",
       "    </tr>\n",
       "  </tbody>\n",
       "</table>\n",
       "</div>"
      ],
      "text/plain": [
       "   fit_time  score_time  test_score  train_score\n",
       "0  0.002715    0.000745    0.042553     0.025785\n",
       "1  0.001634    0.000540    0.034060     0.026742\n",
       "2  0.001603    0.000549    0.015984     0.028556\n",
       "3  0.001497    0.000470   -0.002837     0.029392\n",
       "4  0.001737    0.000586    0.026268     0.027630\n",
       "5  0.001716    0.000590    0.020365     0.028023\n",
       "6  0.001478    0.000682    0.022327     0.027851\n",
       "7  0.001527    0.000486    0.029225     0.026999\n",
       "8  0.001428    0.000475    0.028545     0.027258\n",
       "9  0.001459    0.000490   -0.003177     0.030190"
      ]
     },
     "execution_count": 28,
     "metadata": {},
     "output_type": "execute_result"
    }
   ],
   "source": [
    "linair = LinearRegression().fit(X_train, y_train)\n",
    "\n",
    "df_lin = pd.DataFrame(cross_validate(linair, X, y, cv=kFold, return_train_score=True))\n",
    "scores = cross_val_score(linair, X, y)\n",
    "\n",
    "print(\"Average cross-validation score: {:.2f}\".format(scores.mean()))\n",
    "df_lin"
   ]
  },
  {
   "cell_type": "markdown",
   "metadata": {},
   "source": [
    "### Cross validation met decision tree"
   ]
  },
  {
   "cell_type": "code",
   "execution_count": 29,
   "metadata": {},
   "outputs": [
    {
     "name": "stdout",
     "output_type": "stream",
     "text": [
      "Average cross-validation score: 0.01\n"
     ]
    },
    {
     "name": "stderr",
     "output_type": "stream",
     "text": [
      "/Users/louisdhont/anaconda3/lib/python3.8/site-packages/sklearn/model_selection/_split.py:666: UserWarning: The least populated class in y has only 1 members, which is less than n_splits=5.\n",
      "  warnings.warn((\"The least populated class in y has only %d\"\n"
     ]
    },
    {
     "data": {
      "text/html": [
       "<div>\n",
       "<style scoped>\n",
       "    .dataframe tbody tr th:only-of-type {\n",
       "        vertical-align: middle;\n",
       "    }\n",
       "\n",
       "    .dataframe tbody tr th {\n",
       "        vertical-align: top;\n",
       "    }\n",
       "\n",
       "    .dataframe thead th {\n",
       "        text-align: right;\n",
       "    }\n",
       "</style>\n",
       "<table border=\"1\" class=\"dataframe\">\n",
       "  <thead>\n",
       "    <tr style=\"text-align: right;\">\n",
       "      <th></th>\n",
       "      <th>fit_time</th>\n",
       "      <th>score_time</th>\n",
       "      <th>test_score</th>\n",
       "      <th>train_score</th>\n",
       "    </tr>\n",
       "  </thead>\n",
       "  <tbody>\n",
       "    <tr>\n",
       "      <th>0</th>\n",
       "      <td>0.005970</td>\n",
       "      <td>0.001340</td>\n",
       "      <td>0.005038</td>\n",
       "      <td>0.024404</td>\n",
       "    </tr>\n",
       "    <tr>\n",
       "      <th>1</th>\n",
       "      <td>0.005504</td>\n",
       "      <td>0.001179</td>\n",
       "      <td>0.020151</td>\n",
       "      <td>0.020196</td>\n",
       "    </tr>\n",
       "    <tr>\n",
       "      <th>2</th>\n",
       "      <td>0.005510</td>\n",
       "      <td>0.000656</td>\n",
       "      <td>0.005051</td>\n",
       "      <td>0.020471</td>\n",
       "    </tr>\n",
       "    <tr>\n",
       "      <th>3</th>\n",
       "      <td>0.005568</td>\n",
       "      <td>0.000700</td>\n",
       "      <td>0.022727</td>\n",
       "      <td>0.019630</td>\n",
       "    </tr>\n",
       "    <tr>\n",
       "      <th>4</th>\n",
       "      <td>0.005717</td>\n",
       "      <td>0.000743</td>\n",
       "      <td>0.015152</td>\n",
       "      <td>0.020191</td>\n",
       "    </tr>\n",
       "    <tr>\n",
       "      <th>5</th>\n",
       "      <td>0.005504</td>\n",
       "      <td>0.000626</td>\n",
       "      <td>0.002525</td>\n",
       "      <td>0.021873</td>\n",
       "    </tr>\n",
       "    <tr>\n",
       "      <th>6</th>\n",
       "      <td>0.005407</td>\n",
       "      <td>0.000700</td>\n",
       "      <td>0.025253</td>\n",
       "      <td>0.020752</td>\n",
       "    </tr>\n",
       "    <tr>\n",
       "      <th>7</th>\n",
       "      <td>0.005579</td>\n",
       "      <td>0.000679</td>\n",
       "      <td>0.012626</td>\n",
       "      <td>0.020752</td>\n",
       "    </tr>\n",
       "    <tr>\n",
       "      <th>8</th>\n",
       "      <td>0.005437</td>\n",
       "      <td>0.000609</td>\n",
       "      <td>0.010101</td>\n",
       "      <td>0.021873</td>\n",
       "    </tr>\n",
       "    <tr>\n",
       "      <th>9</th>\n",
       "      <td>0.005160</td>\n",
       "      <td>0.000625</td>\n",
       "      <td>0.002525</td>\n",
       "      <td>0.021593</td>\n",
       "    </tr>\n",
       "  </tbody>\n",
       "</table>\n",
       "</div>"
      ],
      "text/plain": [
       "   fit_time  score_time  test_score  train_score\n",
       "0  0.005970    0.001340    0.005038     0.024404\n",
       "1  0.005504    0.001179    0.020151     0.020196\n",
       "2  0.005510    0.000656    0.005051     0.020471\n",
       "3  0.005568    0.000700    0.022727     0.019630\n",
       "4  0.005717    0.000743    0.015152     0.020191\n",
       "5  0.005504    0.000626    0.002525     0.021873\n",
       "6  0.005407    0.000700    0.025253     0.020752\n",
       "7  0.005579    0.000679    0.012626     0.020752\n",
       "8  0.005437    0.000609    0.010101     0.021873\n",
       "9  0.005160    0.000625    0.002525     0.021593"
      ]
     },
     "execution_count": 29,
     "metadata": {},
     "output_type": "execute_result"
    }
   ],
   "source": [
    "decTree = DecisionTreeClassifier(max_depth=5, random_state=42).fit(X_train, y_train)\n",
    "\n",
    "df_dec = pd.DataFrame(cross_validate(decTree, X, y, cv=kFold, return_train_score=True))\n",
    "scores = cross_val_score(decTree, X, y)\n",
    "\n",
    "print(\"Average cross-validation score: {:.2f}\".format(scores.mean()))\n",
    "df_dec"
   ]
  },
  {
   "cell_type": "markdown",
   "metadata": {},
   "source": [
    "### Grid Search"
   ]
  },
  {
   "cell_type": "markdown",
   "metadata": {},
   "source": [
    "GridSearch in Decision tree\n",
    "\n",
    "Hieronder: belangrijkheid van elke feature..."
   ]
  },
  {
   "cell_type": "code",
   "execution_count": 23,
   "metadata": {},
   "outputs": [
    {
     "ename": "NameError",
     "evalue": "name 'gridSearchTrees' is not defined",
     "output_type": "error",
     "traceback": [
      "\u001b[0;31m---------------------------------------------------------------------------\u001b[0m",
      "\u001b[0;31mNameError\u001b[0m                                 Traceback (most recent call last)",
      "\u001b[0;32m<ipython-input-23-0402fa5cbd00>\u001b[0m in \u001b[0;36m<module>\u001b[0;34m\u001b[0m\n\u001b[0;32m----> 1\u001b[0;31m \u001b[0mimportance\u001b[0m \u001b[0;34m=\u001b[0m \u001b[0mgridSearchTrees\u001b[0m\u001b[0;34m.\u001b[0m\u001b[0mbest_estimator_\u001b[0m\u001b[0;34m.\u001b[0m\u001b[0mfeature_importances_\u001b[0m\u001b[0;34m\u001b[0m\u001b[0;34m\u001b[0m\u001b[0m\n\u001b[0m\u001b[1;32m      2\u001b[0m \u001b[0;34m\u001b[0m\u001b[0m\n\u001b[1;32m      3\u001b[0m \u001b[0mdfFeatureImp\u001b[0m \u001b[0;34m=\u001b[0m \u001b[0mpd\u001b[0m\u001b[0;34m.\u001b[0m\u001b[0mDataFrame\u001b[0m\u001b[0;34m(\u001b[0m\u001b[0mimportance\u001b[0m\u001b[0;34m,\u001b[0m \u001b[0mindex\u001b[0m\u001b[0;34m=\u001b[0m\u001b[0mfeatureNames\u001b[0m\u001b[0;34m,\u001b[0m \u001b[0mcolumns\u001b[0m\u001b[0;34m=\u001b[0m\u001b[0;34m[\u001b[0m\u001b[0;34m'feature importance'\u001b[0m\u001b[0;34m]\u001b[0m\u001b[0;34m)\u001b[0m\u001b[0;34m.\u001b[0m\u001b[0msort_values\u001b[0m\u001b[0;34m(\u001b[0m\u001b[0;34m'feature importance'\u001b[0m\u001b[0;34m,\u001b[0m \u001b[0mascending\u001b[0m\u001b[0;34m=\u001b[0m\u001b[0;32mFalse\u001b[0m\u001b[0;34m)\u001b[0m\u001b[0;34m\u001b[0m\u001b[0;34m\u001b[0m\u001b[0m\n\u001b[1;32m      4\u001b[0m \u001b[0mbar\u001b[0m \u001b[0;34m=\u001b[0m \u001b[0mdfFeatureImp\u001b[0m\u001b[0;34m.\u001b[0m\u001b[0mplot\u001b[0m\u001b[0;34m(\u001b[0m\u001b[0mkind\u001b[0m\u001b[0;34m=\u001b[0m\u001b[0;34m'barh'\u001b[0m\u001b[0;34m,\u001b[0m \u001b[0mcolor\u001b[0m \u001b[0;34m=\u001b[0m \u001b[0;34m\"#ED4E3E\"\u001b[0m\u001b[0;34m,\u001b[0m \u001b[0mlegend\u001b[0m \u001b[0;34m=\u001b[0m \u001b[0;32mNone\u001b[0m\u001b[0;34m)\u001b[0m\u001b[0;34m\u001b[0m\u001b[0;34m\u001b[0m\u001b[0m\n\u001b[1;32m      5\u001b[0m \u001b[0;34m\u001b[0m\u001b[0m\n",
      "\u001b[0;31mNameError\u001b[0m: name 'gridSearchTrees' is not defined"
     ]
    }
   ],
   "source": [
    "importance = gridSearchTrees.best_estimator_.feature_importances_\n",
    "\n",
    "dfFeatureImp = pd.DataFrame(importance, index=featureNames, columns=['feature importance']).sort_values('feature importance', ascending=False)\n",
    "bar = dfFeatureImp.plot(kind='barh', color = \"#ED4E3E\", legend = None)\n",
    "\n",
    "plt.xlabel(\"Feature importance\")\n",
    "plt.ylabel(\"Feature\")\n",
    "plt.title(\"Belangrijkheid van de features\")\n",
    "bar.spines['top'].set_visible(False)\n",
    "bar.spines['right'].set_visible(False)\n",
    "bar.spines['left'].set_visible(False)\n",
    "plt.show();"
   ]
  },
  {
   "cell_type": "code",
   "execution_count": null,
   "metadata": {},
   "outputs": [],
   "source": [
    "best_score = 0\n",
    "\n",
    "for depth in range(1, 15):\n",
    "    for rs in [0, 5, 10, 20, 42]:\n",
    "        tree = DecisionTreeClassifier(max_depth=depth, random_state=rs)\n",
    "        tree.fit(X_train, y_train)\n",
    "        score = tree.score(X_valid, y_valid)\n",
    "        \n",
    "        if score > best_score:\n",
    "            best_score = score\n",
    "            best_parameters = {'max_depth': depth, 'random_state': rs}\n",
    "            if score > topScore:\n",
    "                topScore = score\n",
    "                bm = tree\n",
    "\n",
    "print(\"Best parameters: \", best_parameters)\n",
    "\n",
    "tree = DecisionTreeClassifier(**best_parameters)\n",
    "tree.fit(X_train_validation, y_train_validation)\n",
    "training_score = tree.score(X_train, y_train)\n",
    "test_score = tree.score(X_test, y_test)\n",
    "\n",
    "print(\"\\nTraining set score with best parameters : {:.2f}\".format(training_score))\n",
    "print(\"Best score on validation set: {:.2f}\".format(best_score))\n",
    "print(\"Test set score with best parameters: {:.2f}\".format(test_score))"
   ]
  },
  {
   "cell_type": "code",
   "execution_count": null,
   "metadata": {},
   "outputs": [],
   "source": []
  },
  {
   "cell_type": "code",
   "execution_count": null,
   "metadata": {},
   "outputs": [],
   "source": [
    "# split data into train+validation set and test set\n",
    "X_trainval, X_test, y_trainval, y_test = train_test_split(iris.data, iris.target, random_state=0)\n",
    "\n",
    "# split train+validation set into training and validation sets\n",
    "X_train, X_valid, y_train, y_valid = train_test_split(X_trainval, y_trainval, random_state=1)\n",
    "\n",
    "print(\"Size of training set: {}   size of validation set: {}   size of test set:\"\n",
    "      \" {}\\n\".format(X_train.shape[0], X_valid.shape[0], X_test.shape[0]))"
   ]
  },
  {
   "cell_type": "code",
   "execution_count": null,
   "metadata": {},
   "outputs": [],
   "source": [
    "# vind de beste parameters\n",
    "from sklearn.tree import DecisionTreeClassifier\n",
    "## beste parameters zoeken voor het decision tree model\n",
    "best_score = 0\n",
    "\n",
    "# make a grid for parameter tuning\n",
    "for depth in [1,2,3,4,5]:\n",
    "    for rs in [0,5,10,20,40]:\n",
    "    # for each combination of parameters train a decisiontree\n",
    "        tree = DecisionTreeClassifier(max_depth=depth, random_state=rs)\n",
    "        tree.fit(X_train, y_train)\n",
    "        # evaluate for the validation set\n",
    "        score = tree.score(X_valid, y_valid)\n",
    "        # store the best scores\n",
    "        if score > best_score:\n",
    "            best_score = score\n",
    "            best_parameters = {'max_depth': depth, 'random_state': rs}\n",
    "\n",
    "print(\"Best parameters: \", best_parameters)"
   ]
  },
  {
   "cell_type": "code",
   "execution_count": null,
   "metadata": {},
   "outputs": [],
   "source": [
    "# rebuild a model on the combined training and validation set,\n",
    "# and evaluate it on the test set\n",
    "tree = DecisionTreeClassifier(**best_parameters)\n",
    "tree.fit(X_trainval, y_trainval)\n",
    "training_score = tree.score(X_train, y_train)\n",
    "test_score = tree.score(X_test, y_test)\n",
    "\n",
    "print(\"Training set score with best parameters : {:.2f}\".format(training_score))\n",
    "print(\"Best score on validation set: {:.2f}\".format(best_score))\n",
    "print(\"Test set score with best parameters: {:.2f}\".format(test_score))"
   ]
  },
  {
   "cell_type": "markdown",
   "metadata": {},
   "source": [
    "# Grid search in combinatie met Cross-validatie\n",
    "\n",
    "## PAS AAN!\n",
    "\n",
    "De beste parameters voor het model kunnen bepaald worden met *GridSearch* in combinatie met *Cross validation*, ook wel *GridSearchCV* genoemd. Met deze combinatie kan het model algemener getest worden en een betere accuracy krijgen. We zien in dit model geen over- of underfitting\n",
    "\n",
    "De accuracy op de test is hetzelfde als op de training, al ligt deze wel aan de lage kant. Ook hier ga ik in een verder evaluatie nog met de features experimenteren om dit omhoog te krijgen. Dit doe ik ook via feature selection methoden, zoals Principal component en singular value decomposition."
   ]
  },
  {
   "cell_type": "code",
   "execution_count": null,
   "metadata": {},
   "outputs": [],
   "source": [
    "#fill parameter grid for this model\n",
    "param_grid = {'random_state': [0, 1, 2, 3, 4, 5]}\n",
    "\n",
    "#do a gridsearchCV, this will decide the best parameters for the model \n",
    "#and usses a validation set to minimalize overfitting of the training set\n",
    "gridSearchLogReg = GridSearchCV(LogisticRegression(solver=\"liblinear\", multi_class=\"auto\"), param_grid, cv=5, return_train_score=True)\n",
    "\n",
    "gridSearchLogReg.fit(X_train, y_train)\n",
    "pred = gridSearchLogReg.predict(X_test)\n",
    "trainingScoreLogReg = round(gridSearchLogReg.score(X_train, y_train), 2)\n",
    "testScoreLogReg = round(gridSearchLogReg.score(X_test, y_test), 2)\n",
    "\n",
    "print(\"Training set score: \" + str(trainingScoreLogReg))\n",
    "print(\"Test set score: \" + str(testScoreLogReg))\n",
    "\n",
    "print(\"Best parameters: {}\".format(gridSearchLogReg.best_params_))\n",
    "print(\"Best cross-validation score: {:.2f}\".format(gridSearchLogReg.best_score_))\n",
    "\n",
    "#print(\"\\nConfusion matrix:\")\n",
    "#print(confusion_matrix(y_test,pred))\n",
    "#print(\"\\nClassification report:\")\n",
    "#print(classification_report(y_test,pred))"
   ]
  },
  {
   "cell_type": "code",
   "execution_count": null,
   "metadata": {},
   "outputs": [],
   "source": []
  },
  {
   "cell_type": "code",
   "execution_count": null,
   "metadata": {},
   "outputs": [],
   "source": [
    "from sklearn.model_selection import GridSearchCV\n",
    "\n",
    "param_grid = {'max_depth': [1,2,3,4,5], 'random_state': [0,5,10,20,40]}\n",
    "print(\"Parameter grid:\\n{}\".format(param_grid))\n",
    "\n",
    "grid_search = GridSearchCV(DecisionTreeClassifier(), param_grid, cv=5,\n",
    "                          return_train_score=True)\n",
    "# do not overfit the parameters !\n",
    "X_train, X_test, y_train, y_test = train_test_split(iris.data, iris.target, random_state=0)\n",
    "grid_search.fit(X_train, y_train)\n",
    "print(\"Test set score: {:.2f}\".format(grid_search.score(X_test, y_test)))\n",
    "print(\"Best parameters: {}\".format(grid_search.best_params_))\n",
    "print(\"Best cross-validation score: {:.2f}\".format(grid_search.best_score_))\n",
    "print(\"Best estimator:\\n{}\".format(grid_search.best_estimator_))"
   ]
  },
  {
   "cell_type": "markdown",
   "metadata": {},
   "source": [
    "# TODO: Visualisatie van de GridSearchCV aan de hand van een heat map\n",
    "\n",
    "Samenvatting deel 1\n",
    "\n",
    "Doel : generalisatie vermogen van het model verbeteren op reële data.\n",
    "\n",
    "1 test set gebruiken om accuracy te berekenen is erg beperkt\n",
    "\n",
    "cross-validatie en varianten geven je betere accuracy voorspelling maar is uiteraard rekenintensief\n",
    "parametertuning en gridsearch technieken helpen om generalisatievermogen te verhogen, let wel dat je hierbij de testset niet gaat overfitten :\n",
    "\n",
    "  - maak gebruik van een validatieset\n",
    "  - doe de combinatie van gridsearch / cross-validatie (opnieuw : rekenintensief!)\n",
    "  \n",
    "  \n",
    "## Deel 2\n",
    "\n",
    "Metrieken om beter te evalueren\n",
    "\n",
    "metrieken gebruikt tot dusver :\n",
    "\n",
    "voor classificatie : accuracy : tel het aantal juist geclassificeerde data-elementen in de testset tov de grootte van de testset\n",
    "\n",
    "voor regressie : MSE : mean-squared-error : bereken het verschil tussen voorspelde en werkelijke waarde, kwadrateer deze fouten en neem hier een gemiddelde van"
   ]
  },
  {
   "cell_type": "code",
   "execution_count": null,
   "metadata": {},
   "outputs": [],
   "source": []
  }
 ],
 "metadata": {
  "kernelspec": {
   "display_name": "Python 3",
   "language": "python",
   "name": "python3"
  },
  "language_info": {
   "codemirror_mode": {
    "name": "ipython",
    "version": 3
   },
   "file_extension": ".py",
   "mimetype": "text/x-python",
   "name": "python",
   "nbconvert_exporter": "python",
   "pygments_lexer": "ipython3",
   "version": "3.8.5"
  }
 },
 "nbformat": 4,
 "nbformat_minor": 4
}
