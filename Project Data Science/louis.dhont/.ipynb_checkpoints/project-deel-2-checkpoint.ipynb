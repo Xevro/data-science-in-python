{
 "cells": [
  {
   "cell_type": "markdown",
   "metadata": {},
   "source": [
    "# Data science project in Python - Voorspellingen maken met features\n",
    "\n",
    "Doormiddel van numpy, pandas, matplotlib & SciKit-learn\n",
    "\n",
    "Door Louis D'Hont - Elektronica-ICT - 2021\n",
    "\n",
    "Dit project is het tweede deel van het data science project. Bekijk project-deel-1 om het data cleaning proces te zien."
   ]
  },
  {
   "cell_type": "code",
   "execution_count": 18,
   "metadata": {},
   "outputs": [],
   "source": [
    "# Importeren van gebruikte bibliotheken\n",
    "import datetime\n",
    "import seaborn\n",
    "import numpy as np\n",
    "import pandas as pd\n",
    "import matplotlib.pyplot as plt\n",
    "\n",
    "from sklearn.tree import plot_tree\n",
    "from sklearn.tree import DecisionTreeClassifier\n",
    "from sklearn.linear_model import LinearRegression\n",
    "from sklearn.linear_model import LogisticRegression\n",
    "\n",
    "from sklearn.model_selection import KFold\n",
    "from sklearn.model_selection import cross_val_score\n",
    "from sklearn.model_selection import cross_validate\n",
    "from sklearn.model_selection import train_test_split\n",
    "from sklearn.model_selection import GridSearchCV\n",
    "\n",
    "from sklearn.neighbors import KNeighborsClassifier\n",
    "from sklearn.ensemble import RandomForestClassifier\n",
    "from sklearn.preprocessing import StandardScaler\n",
    "from sklearn.ensemble import GradientBoostingClassifier\n",
    "\n",
    "from sklearn.metrics import classification_report\n",
    "from sklearn.metrics import mean_squared_error\n",
    "from sklearn.datasets import make_classification\n",
    "from sklearn.pipeline import make_pipeline\n",
    "from sklearn.pipeline import Pipeline"
   ]
  },
  {
   "cell_type": "markdown",
   "metadata": {},
   "source": [
    "### Inlezen features\n",
    "\n",
    "Onderstaande code leest het *featuresDataFrame* bestand in en zet deze om naar een dataframe. In deel 1 van het project is er nog een aanpassing gebeurd, de kolom *Geboortedatum* werd alsnog meegenomen als feature om hierna verdere berekeningen te kunnen doen."
   ]
  },
  {
   "cell_type": "code",
   "execution_count": 4,
   "metadata": {},
   "outputs": [],
   "source": [
    "features = pd.read_csv(\"featuresDataFrame.csv\", sep=',') \n",
    "features = features.drop(['Unnamed: 0'], axis=1)"
   ]
  },
  {
   "cell_type": "markdown",
   "metadata": {},
   "source": [
    "### Omzetten van datatypes\n",
    "\n",
    "De opgeslagen data is bij het inlezen opnieuw van het type int64, float64 en object. De data dat hiervoor een timedelta was ('Aantal dagen tot vertrek' en de 'Aantal dagen op reis' kolom) moet worden omgezet zodat er terug met kan worden gewerkt.\n",
    "\n",
    "Elk land werd omgezet in een cijfer. De onderstaande lijst toont de eerste 5 landen met hun corresponderende cijfer.\n",
    "\n",
    "- 1 België\n",
    "- 2 Nederland\n",
    "- 3 Frankrijk\n",
    "- 4 Duitsland\n",
    "- 5 Groot Brittannië\n",
    "\n",
    "Elk reistype werd ook eveneens omgezet in een cijfer. De onderstaande lijst toont de reis types met hun corresponderende cijfer.\n",
    "\n",
    "- 1 Ruitervakantie\n",
    "- 2 Ponykamp\n",
    "- 3 Ruitervakantie& Vliegreis\n",
    "- 4 Trektocht\n",
    "- 5 Ruitervakantie Eigen Vervoer\n",
    "- 6 Huifkar tocht\n",
    "- 7 Safari\n",
    "- 8 Jeugdkamp\n",
    "- 9 Weekendje weg"
   ]
  },
  {
   "cell_type": "code",
   "execution_count": 7,
   "metadata": {},
   "outputs": [],
   "source": [
    "def convert_timedelta(df_col):\n",
    "    for index, row in enumerate(df_col): \n",
    "        days, timestamp = row.split(\" days \")\n",
    "        df_col.iloc[index] = days\n",
    "    return df_col\n",
    "\n",
    "def convert_land(df_land):\n",
    "    for index, row in enumerate(df_land):\n",
    "        if row == 'be':\n",
    "            df_land.iloc[index] = 1\n",
    "        elif row == 'nl':\n",
    "            df_land.iloc[index] = 2\n",
    "        elif row == 'fr':\n",
    "            df_land.iloc[index] = 3\n",
    "        elif row == 'de':\n",
    "            df_land.iloc[index] = 4\n",
    "        elif row == 'gb':\n",
    "            df_land.iloc[index] = 5  \n",
    "        elif row == 'lux':\n",
    "            df_land.iloc[index] = 6\n",
    "        elif row == 'sco':\n",
    "            df_land.iloc[index] = 7\n",
    "        elif row == 'pt':\n",
    "            df_land.iloc[index] = 8\n",
    "        elif row == 'sco':\n",
    "            df_land.iloc[index] = 9\n",
    "        elif row == 'sr':\n",
    "            df_land.iloc[index] = 10\n",
    "        elif row == 'cn':\n",
    "            df_land.iloc[index] = 11\n",
    "        elif row == 'aut':\n",
    "            df_land.iloc[index] = 12\n",
    "        elif row == 'ca':\n",
    "            df_land.iloc[index] = 13   \n",
    "        elif row == 'it':\n",
    "            df_land.iloc[index] = 14\n",
    "        elif row == 'es':\n",
    "            df_land.iloc[index] = 15\n",
    "        elif row == 'cl':\n",
    "            df_land.iloc[index] = 16\n",
    "\n",
    "def convert_reis_type(df_reistype):\n",
    "    for index, row in enumerate(df_reistype):\n",
    "        if row == 'Ruitervakantie':\n",
    "            df_reistype.iloc[index] = 1\n",
    "        elif row == 'Ponykamp':\n",
    "            df_reistype.iloc[index] = 2\n",
    "        elif row == 'Ruitervakantie& Vliegreis':\n",
    "            df_reistype.iloc[index] = 3\n",
    "        elif row == 'Trektocht':\n",
    "            df_reistype.iloc[index] = 4\n",
    "        elif row == 'Ruitervakantie Eigen Vervoer':\n",
    "            df_reistype.iloc[index] = 5  \n",
    "        elif row == 'Huifkar tocht':\n",
    "            df_reistype.iloc[index] = 6\n",
    "        elif row == 'Safari':\n",
    "            df_reistype.iloc[index] = 7\n",
    "        elif row == 'Jeugdkamp':\n",
    "            df_reistype.iloc[index] = 8\n",
    "        elif row == 'Weekendje weg':\n",
    "            df_reistype.iloc[index] = 9\n",
    "\n",
    "features['Datum creatie'] = pd.to_datetime(features['Datum creatie'], format='%Y.%m.%d', infer_datetime_format=True, errors='coerce')\n",
    "features['Datum vertrek'] = pd.to_datetime(features['Datum vertrek'], format='%Y.%m.%d', infer_datetime_format=True, errors='coerce')\n",
    "features['Datum terug'] = pd.to_datetime(features['Datum terug'], format='%Y.%m.%d', infer_datetime_format=True, errors='coerce')\n",
    "    \n",
    "features['Aantal dagen tot vertrek'] == convert_timedelta(features['Aantal dagen tot vertrek'])\n",
    "features['Aantal dagen tot vertrek'] = features['Aantal dagen tot vertrek'].astype(int)\n",
    "\n",
    "features['Aantal dagen op reis'] == convert_timedelta(features['Aantal dagen op reis'])\n",
    "features['Aantal dagen op reis'] = features['Aantal dagen op reis'].astype(int)\n",
    "            \n",
    "features['Land'] == convert_land(features['Land'])\n",
    "features['Land'] = features['Land'].astype(int)\n",
    "\n",
    "features['Reistype'] == convert_reis_type(features['Reistype'])\n",
    "features['Reistype'] = features['Reistype'].astype(int)                                     "
   ]
  },
  {
   "cell_type": "markdown",
   "metadata": {},
   "source": [
    "#### Berekenen leeftijd\n",
    "\n",
    "De onderstaande code zet de geboortedatum om naar de huidige leeftijd, de lege waarden worden opgevuld met een gemiddelde leeftijd van 40 jaar omdat er kan vanuit worden gegaan dat de gemiddelde persoon 42 jaar is."
   ]
  },
  {
   "cell_type": "code",
   "execution_count": 29,
   "metadata": {},
   "outputs": [],
   "source": [
    "features['Geboortedatum'] = pd.to_datetime(features['Geboortedatum'], errors = 'coerce')\n",
    "features['Leeftijd'] = datetime.datetime.now().year - pd.DatetimeIndex(features['Geboortedatum']).year\n",
    "features['Leeftijd'] = features['Leeftijd'].fillna(42)\n",
    "features['Leeftijd'] = features['Leeftijd'].astype(int);"
   ]
  },
  {
   "cell_type": "markdown",
   "metadata": {},
   "source": [
    "### Omzetten bestemmingen\n",
    "    \n",
    "De bestemmingen data is door het bedrijf manueel ingevoerd. Om de bestemmingen te kunnen koppelen aan een land heb  ik gekozen om elk land om te zetten naar een cijfer. Deze onderstaande lijst toont de eerste 10 landen met hun cijfer. Heel wat reizen bevatten geen directe aanwijzing naar het land maar hebben vaak een bekende stad of streek in de omschrijving, door deze te gaan groeperen konden alle bestemmingen worden omgezet naar hun corresponderende cijfer. Een 20 tal bestemmingen bevatte geen duidelijke aanwijzing naar een land of streek, hiervoor heb ik besloten om deze toe te wijzen aan het land waar de meeste reizen naartoe gaan, met name Frankrijk).\n",
    "\n",
    "- 1 België\n",
    "- 2 Nederland\n",
    "- 3 Frankrijk\n",
    "- 4 Duitsland\n",
    "- 5 Portugal\n",
    "- 6 Ijsland\n",
    "- 7 Italië\n",
    "- 8 Ierland\n",
    "- 9 De Verenigde Staten\n",
    "- 10 Jordanië"
   ]
  },
  {
   "cell_type": "code",
   "execution_count": 27,
   "metadata": {},
   "outputs": [],
   "source": [
    "nederland = ['friese', 'nederland', 'vlieland', 'brabant', 'twente', 'drenthe', 'limburg', 'brabantse', 'nederlands', 'duinen', 'salland', 'zeeland', 'ijslanders']\n",
    "belgie = ['ardennen', 'belgium', 'ardenne', 'belgië', 'belgie', 'arrdennen', 'eifel', 'ardennen', 'ardenen']\n",
    "frankrijk = ['frankrijk', 'mont saint michel', 'morvan', 'dartmoor', 'couleurs corse', 'vogezen', 'margeride', 'haute valee', 'jura', 'normandië', 'médoc', 'montmorillonnais', 'france', 'loire', 'wijnroute', 'wijngaarden', 'elzas', 'pyreneeën', 'dordogne', 'pyreneeen', 'corsica', 'aude', 'frans', 'armagnac', 'frankrijjk', 'frankijk']\n",
    "duitsland = ['germany', 'duitsland', 'thuringen', 'beieren', 'duitsand', 'duitse', 'thüringen']\n",
    "spanje = ['spain', 'spanje', 'sulayr', 'alpujarra', 'middellandse', 'demanda', 'monfrague', 'andalusisch', 'costa brava', 'sierra nevada', 'catalonië','catalonie', 'gredos', 'andalusië', 'ronda', 'andalusie', 'conquistadores']\n",
    "italie = ['italy', 'italie', 'sicilië', 'madonie', 'italië', 'sardinië', 'sardinie', 'toscane', 'molise', 'alta maremma', 'molise abruzzen']\n",
    "portugal = ['portugal', 'lusitano', 'faro', 'algarve', 'lissabon', 'portugese', 'azoren']\n",
    "usa = ['verenigde staten', 'montana', 'usa', 'united states', 'wyoming', 'ranch', 'colorado']\n",
    "kroatie = ['kroatie', 'croatia', 'kroatië', 'istrië', 'plitvice', 'rode-meer', 'dalmatie', 'istrie']\n",
    "allerlei = ['Klassieke dressuur van topkwaliteit en stedenschoon', 'Avontuurlijke trektocht door een sprookjesachtig gebied', 'Trektocht in het spoor van de tuimelaar-dolfijn ',\n",
    "       'Driedaagse trektocht in het land van d\\x19Oc en d\\x19Oil', 'Trektocht over de bergen naar de zee', 'Trektocht in het spoor van de tuimelaar-dolfijn','Paardrijden langs de route van de bandieten', 'De \\x18Great Trek\\x19: werkelijk avontuurlijke trektocht',\n",
    "       'Beach and Bush Rides', 'Dressuurweek','Een week paardrijden met jongvolwassenen','National Park: paardrijden voor pure ontspanning',\n",
    "       'Driedaagse tocht door de Vienne-vallei','Trektocht naar de gouden stranden', 'Oman','Trektocht tussen zee en woestijnbergen', 'Programma Full','Smokkelaarstocht', 'Trektocht over de bergen naar zee','Beach and Meadows trektocht','De \"legendes van de Wolf\"-trektocht','Standplaatsvakantie Stertochten', 'nan']\n",
    "\n",
    "def convert_bestemmingen():\n",
    "    for index, row in enumerate(features['Bestemming']):\n",
    "        if any(ext in (str(row).lower()) for ext in belgie):\n",
    "            features['Bestemming'].iloc[index] = 1\n",
    "        elif any(ext in (str(row).lower()) for ext in nederland):\n",
    "            features['Bestemming'].iloc[index] = 2\n",
    "        elif any(ext in (str(row).lower()) for ext in frankrijk):\n",
    "            features['Bestemming'].iloc[index] = 3\n",
    "        elif any(ext in (str(row).lower()) for ext in duitsland):\n",
    "            features['Bestemming'].iloc[index] = 4\n",
    "        elif any(ext in (str(row).lower()) for ext in portugal):\n",
    "            features['Bestemming'].iloc[index] = 5\n",
    "        elif any(ext in (str(row).lower()) for ext in ['ijsland', 'iceland', 'geysir', 'golden circle']):\n",
    "            features['Bestemming'].iloc[index] = 6\n",
    "        elif any(ext in (str(row).lower()) for ext in italie):\n",
    "            features['Bestemming'].iloc[index] = 7\n",
    "        elif any(ext in (str(row).lower()) for ext in ['ierland', 'ireland', 'galway', 'ierse', 'donegal']):\n",
    "            features['Bestemming'].iloc[index] = 8\n",
    "        elif any(ext in (str(row).lower()) for ext in usa):\n",
    "            features['Bestemming'].iloc[index] = 9\n",
    "        elif any(ext in (str(row).lower()) for ext in ['jordanie', 'jordan', 'wadi rum']):\n",
    "            features['Bestemming'].iloc[index] = 10\n",
    "        elif any(ext in (str(row).lower()) for ext in spanje):\n",
    "            features['Bestemming'].iloc[index] = 11\n",
    "        elif any(ext in (str(row).lower()) for ext in ['botswana']):\n",
    "            features['Bestemming'].iloc[index] = 12\n",
    "        elif any(ext in (str(row).lower()) for ext in ['canada', 'yukon', 'alberta', 'saskatchewan']):\n",
    "            features['Bestemming'].iloc[index] = 13\n",
    "        elif any(ext in (str(row).lower()) for ext in ['roemenie', 'roemenië', 'transsylvanie', 'transsylvanië']):\n",
    "            features['Bestemming'].iloc[index] = 14\n",
    "        elif any(ext in (str(row).lower()) for ext in ['chili', 'chile']):\n",
    "            features['Bestemming'].iloc[index] = 15\n",
    "        elif any(ext in (str(row).lower()) for ext in ['marokko', 'marokkaanse', 'berbers']):\n",
    "            features['Bestemming'].iloc[index] = 16\n",
    "        elif any(ext in (str(row).lower()) for ext in ['griekenland', 'petra', 'kreta', 'kefalonia']):\n",
    "            features['Bestemming'].iloc[index] = 17\n",
    "        elif any(ext in (str(row).lower()) for ext in ['zuid afrika', 'afrika']):\n",
    "            features['Bestemming'].iloc[index] = 18\n",
    "        elif any(ext in (str(row).lower()) for ext in ['bulgarije', 'bulgaria', 'balkan']):\n",
    "            features['Bestemming'].iloc[index] = 19\n",
    "        elif any(ext in (str(row).lower()) for ext in ['hongarije', 'poesta', 'homgarije']):\n",
    "            features['Bestemming'].iloc[index] = 20\n",
    "        elif any(ext in (str(row).lower()) for ext in ['tsjechie', 'tsjechië', 'zuid-bohemen', 'karpaten']):\n",
    "            features['Bestemming'].iloc[index] = 21   \n",
    "        elif any(ext in (str(row).lower()) for ext in ['cappadocië', 'turkije', 'turklije', 'thracians']):\n",
    "            features['Bestemming'].iloc[index] = 22\n",
    "        elif any(ext in (str(row).lower()) for ext in ['polen', 'poolse', 'poland']):\n",
    "            features['Bestemming'].iloc[index] = 23\n",
    "        elif any(ext in (str(row).lower()) for ext in ['namibie', 'namibië']):\n",
    "            features['Bestemming'].iloc[index] = 24\n",
    "        elif any(ext in (str(row).lower()) for ext in ['kirgizie', 'kirgizië']):\n",
    "            features['Bestemming'].iloc[index] = 25\n",
    "        elif any(ext in (str(row).lower()) for ext in ['montenegro']):\n",
    "            features['Bestemming'].iloc[index] = 26\n",
    "        elif any(ext in (str(row).lower()) for ext in ['zweden']):\n",
    "            features['Bestemming'].iloc[index] = 27\n",
    "        elif any(ext in (str(row).lower()) for ext in ['albanie', 'albanië', 'katharen']):\n",
    "            features['Bestemming'].iloc[index] = 28\n",
    "        elif any(ext in (str(row).lower()) for ext in ['mongolië', 'mongolie', 'mongoolse']):\n",
    "            features['Bestemming'].iloc[index] = 29\n",
    "        elif any(ext in (str(row).lower()) for ext in kroatie):\n",
    "            features['Bestemming'].iloc[index] = 30\n",
    "        elif any(ext in (str(row).lower()) for ext in ['costa rica']):\n",
    "            features['Bestemming'].iloc[index] = 31\n",
    "        elif any(ext in (str(row).lower()) for ext in ['slowakije']):\n",
    "            features['Bestemming'].iloc[index] = 32\n",
    "        elif any(ext in (str(row).lower()) for ext in ['brazilie', 'santa catarina gaucho']):\n",
    "            features['Bestemming'].iloc[index] = 33\n",
    "        elif any(ext in (str(row).lower()) for ext in ['denemarken', 'denmark', 'deense']):\n",
    "            features['Bestemming'].iloc[index] = 34\n",
    "        elif any(ext in (str(row).lower()) for ext in ['noorwegen', 'norway', 'ramsjo-special', 'northern', 'scandinavische']):\n",
    "            features['Bestemming'].iloc[index] = 35\n",
    "        elif any(ext in (str(row).lower()) for ext in ['azerbidjan']):\n",
    "            features['Bestemming'].iloc[index] = 36\n",
    "        elif any(ext in (str(row).lower()) for ext in ['georgie', 'georgië', 'georgia']):\n",
    "            features['Bestemming'].iloc[index] = 37\n",
    "        elif any(ext in (str(row).lower()) for ext in ['zwitserland']):\n",
    "            features['Bestemming'].iloc[index] = 38\n",
    "        elif any(ext in (str(row).lower()) for ext in ['groot-brittanie', 'wales', 'britain', 'engeland']):\n",
    "            features['Bestemming'].iloc[index] = 39\n",
    "        elif any(ext in (str(row).lower()) for ext in ['argentinie', 'argentinië', 'noord-argentinië']):\n",
    "            features['Bestemming'].iloc[index] = 40\n",
    "        elif any(ext in (str(row).lower()) for ext in ['cuba']):\n",
    "            features['Bestemming'].iloc[index] = 41\n",
    "        elif any(ext in (str(row).lower()) for ext in ['lapland', 'finland']):\n",
    "            features['Bestemming'].iloc[index] = 42\n",
    "        elif any(ext in (str(row).lower()) for ext in ['mexico']):\n",
    "            features['Bestemming'].iloc[index] = 43\n",
    "        elif any(ext in (str(row).lower()) for ext in ['china']):\n",
    "            features['Bestemming'].iloc[index] = 44\n",
    "        elif any(ext in (str(row).lower()) for ext in ['kenia']):\n",
    "            features['Bestemming'].iloc[index] = 45\n",
    "        elif any(ext in (str(row).lower()) for ext in ['iran']):\n",
    "            features['Bestemming'].iloc[index] = 46\n",
    "        elif any(ext in (str(row).lower()) for ext in ['servië', 'servie', 'sumadija']):\n",
    "            features['Bestemming'].iloc[index] = 47\n",
    "        elif any(ext in (str(row).lower()) for ext in ['schotland']):\n",
    "            features['Bestemming'].iloc[index] = 48\n",
    "        elif any(ext in (str(row).lower()) for ext in ['egypte', 'sahara']):\n",
    "            features['Bestemming'].iloc[index] = 49\n",
    "        elif any(ext in (str(row).lower()) for ext in ['andorra']):\n",
    "            features['Bestemming'].iloc[index] = 50\n",
    "        elif any(ext in (str(row).lower()) for ext in ['uruguay']):\n",
    "            features['Bestemming'].iloc[index] = 51\n",
    "        elif any(ext in (str(row).lower()) for ext in ['rusland']):\n",
    "            features['Bestemming'].iloc[index] = 52\n",
    "        elif any(ext in (str(row).lower()) for ext in ['columbia', 'colombiaans']):\n",
    "            features['Bestemming'].iloc[index] = 53\n",
    "        elif any(ext in (str(row).lower()) for ext in ['australie']):\n",
    "            features['Bestemming'].iloc[index] = 54\n",
    "        elif any(ext in str(row) for ext in allerlei):\n",
    "            features['Bestemming'].iloc[index] = 3\n",
    "    \n",
    "    return features['Bestemming']\n",
    "\n",
    "features['Bestemming'] == convert_bestemmingen()\n",
    "features['Bestemming'] = features['Bestemming'].astype(int)\n"
   ]
  },
  {
   "cell_type": "markdown",
   "metadata": {},
   "source": [
    "De onderstaande lijst toont voor elke kolom het datatype. Alle kolommen zijn omgezet naar int, float of datetime. De integer en float waarden kunnen worden gebruikt als feature."
   ]
  },
  {
   "cell_type": "code",
   "execution_count": 30,
   "metadata": {},
   "outputs": [
    {
     "data": {
      "text/plain": [
       "Status                               int64\n",
       "Dossier jaar                         int64\n",
       "Dossier nr.                          int64\n",
       "Klantnummer                         object\n",
       "Datum creatie               datetime64[ns]\n",
       "Datum vertrek               datetime64[ns]\n",
       "Datum terug                 datetime64[ns]\n",
       "Totaalprijs                        float64\n",
       "Betalingen dossier                 float64\n",
       "Openstaand dossier                 float64\n",
       "Land                                 int64\n",
       "Bestemming                           int64\n",
       "Reistype                             int64\n",
       "Aantal reizigers                     int64\n",
       "Aantal dagen tot vertrek             int64\n",
       "Aantal dagen op reis                 int64\n",
       "Geboortedatum               datetime64[ns]\n",
       "Leeftijd                             int64\n",
       "dtype: object"
      ]
     },
     "execution_count": 30,
     "metadata": {},
     "output_type": "execute_result"
    }
   ],
   "source": [
    "features.dtypes"
   ]
  },
  {
   "cell_type": "markdown",
   "metadata": {},
   "source": [
    "### Bekijken van features\n",
    "\n",
    "In het onderstaande dataframe staan alle gegevens die kunnen worden gebruikt als feature. Het spreekt voor zich dat er uiteraard ook enkele minder relevante zaken zoals klantnummer en datums zullen worden weggelaten uit het finale dataframe waarmee de modellen zullen worden opgebouwd."
   ]
  },
  {
   "cell_type": "code",
   "execution_count": 31,
   "metadata": {},
   "outputs": [
    {
     "data": {
      "text/html": [
       "<div>\n",
       "<style scoped>\n",
       "    .dataframe tbody tr th:only-of-type {\n",
       "        vertical-align: middle;\n",
       "    }\n",
       "\n",
       "    .dataframe tbody tr th {\n",
       "        vertical-align: top;\n",
       "    }\n",
       "\n",
       "    .dataframe thead th {\n",
       "        text-align: right;\n",
       "    }\n",
       "</style>\n",
       "<table border=\"1\" class=\"dataframe\">\n",
       "  <thead>\n",
       "    <tr style=\"text-align: right;\">\n",
       "      <th></th>\n",
       "      <th>Status</th>\n",
       "      <th>Dossier jaar</th>\n",
       "      <th>Dossier nr.</th>\n",
       "      <th>Klantnummer</th>\n",
       "      <th>Datum creatie</th>\n",
       "      <th>Datum vertrek</th>\n",
       "      <th>Datum terug</th>\n",
       "      <th>Totaalprijs</th>\n",
       "      <th>Betalingen dossier</th>\n",
       "      <th>Openstaand dossier</th>\n",
       "      <th>Land</th>\n",
       "      <th>Bestemming</th>\n",
       "      <th>Reistype</th>\n",
       "      <th>Aantal reizigers</th>\n",
       "      <th>Aantal dagen tot vertrek</th>\n",
       "      <th>Aantal dagen op reis</th>\n",
       "      <th>Geboortedatum</th>\n",
       "      <th>Leeftijd</th>\n",
       "    </tr>\n",
       "  </thead>\n",
       "  <tbody>\n",
       "    <tr>\n",
       "      <th>0</th>\n",
       "      <td>1</td>\n",
       "      <td>2011</td>\n",
       "      <td>189</td>\n",
       "      <td>030abd64a9a637e5</td>\n",
       "      <td>2011-10-21 12:48:33</td>\n",
       "      <td>2012-04-27</td>\n",
       "      <td>2012-04-29</td>\n",
       "      <td>1600.00</td>\n",
       "      <td>1600.00</td>\n",
       "      <td>0.0</td>\n",
       "      <td>2</td>\n",
       "      <td>2</td>\n",
       "      <td>1</td>\n",
       "      <td>6</td>\n",
       "      <td>188</td>\n",
       "      <td>2</td>\n",
       "      <td>NaT</td>\n",
       "      <td>42</td>\n",
       "    </tr>\n",
       "    <tr>\n",
       "      <th>1</th>\n",
       "      <td>1</td>\n",
       "      <td>2011</td>\n",
       "      <td>190</td>\n",
       "      <td>030abd64a9a637e5</td>\n",
       "      <td>2011-10-21 12:56:19</td>\n",
       "      <td>2012-04-27</td>\n",
       "      <td>2012-04-29</td>\n",
       "      <td>1600.00</td>\n",
       "      <td>1600.00</td>\n",
       "      <td>0.0</td>\n",
       "      <td>2</td>\n",
       "      <td>2</td>\n",
       "      <td>1</td>\n",
       "      <td>6</td>\n",
       "      <td>188</td>\n",
       "      <td>2</td>\n",
       "      <td>NaT</td>\n",
       "      <td>42</td>\n",
       "    </tr>\n",
       "    <tr>\n",
       "      <th>2</th>\n",
       "      <td>1</td>\n",
       "      <td>2011</td>\n",
       "      <td>191</td>\n",
       "      <td>0517092b51559410</td>\n",
       "      <td>2011-10-26 11:34:16</td>\n",
       "      <td>2012-04-30</td>\n",
       "      <td>2012-04-05</td>\n",
       "      <td>941.66</td>\n",
       "      <td>941.66</td>\n",
       "      <td>0.0</td>\n",
       "      <td>2</td>\n",
       "      <td>4</td>\n",
       "      <td>1</td>\n",
       "      <td>2</td>\n",
       "      <td>186</td>\n",
       "      <td>25</td>\n",
       "      <td>1966-02-19</td>\n",
       "      <td>55</td>\n",
       "    </tr>\n",
       "    <tr>\n",
       "      <th>3</th>\n",
       "      <td>1</td>\n",
       "      <td>2011</td>\n",
       "      <td>192</td>\n",
       "      <td>b931980e4256363a</td>\n",
       "      <td>2011-10-26 15:36:35</td>\n",
       "      <td>2012-06-29</td>\n",
       "      <td>2012-11-07</td>\n",
       "      <td>7201.50</td>\n",
       "      <td>7201.50</td>\n",
       "      <td>0.0</td>\n",
       "      <td>2</td>\n",
       "      <td>6</td>\n",
       "      <td>1</td>\n",
       "      <td>3</td>\n",
       "      <td>246</td>\n",
       "      <td>131</td>\n",
       "      <td>NaT</td>\n",
       "      <td>42</td>\n",
       "    </tr>\n",
       "    <tr>\n",
       "      <th>4</th>\n",
       "      <td>1</td>\n",
       "      <td>2011</td>\n",
       "      <td>200</td>\n",
       "      <td>7853bb1516f198d9</td>\n",
       "      <td>2011-08-11 16:15:15</td>\n",
       "      <td>2012-04-13</td>\n",
       "      <td>2012-04-22</td>\n",
       "      <td>4291.68</td>\n",
       "      <td>4291.68</td>\n",
       "      <td>0.0</td>\n",
       "      <td>1</td>\n",
       "      <td>10</td>\n",
       "      <td>1</td>\n",
       "      <td>3</td>\n",
       "      <td>245</td>\n",
       "      <td>9</td>\n",
       "      <td>1961-05-03</td>\n",
       "      <td>60</td>\n",
       "    </tr>\n",
       "  </tbody>\n",
       "</table>\n",
       "</div>"
      ],
      "text/plain": [
       "   Status  Dossier jaar  Dossier nr.       Klantnummer       Datum creatie  \\\n",
       "0       1          2011          189  030abd64a9a637e5 2011-10-21 12:48:33   \n",
       "1       1          2011          190  030abd64a9a637e5 2011-10-21 12:56:19   \n",
       "2       1          2011          191  0517092b51559410 2011-10-26 11:34:16   \n",
       "3       1          2011          192  b931980e4256363a 2011-10-26 15:36:35   \n",
       "4       1          2011          200  7853bb1516f198d9 2011-08-11 16:15:15   \n",
       "\n",
       "  Datum vertrek Datum terug  Totaalprijs  Betalingen dossier  \\\n",
       "0    2012-04-27  2012-04-29      1600.00             1600.00   \n",
       "1    2012-04-27  2012-04-29      1600.00             1600.00   \n",
       "2    2012-04-30  2012-04-05       941.66              941.66   \n",
       "3    2012-06-29  2012-11-07      7201.50             7201.50   \n",
       "4    2012-04-13  2012-04-22      4291.68             4291.68   \n",
       "\n",
       "   Openstaand dossier  Land  Bestemming  Reistype  Aantal reizigers  \\\n",
       "0                 0.0     2           2         1                 6   \n",
       "1                 0.0     2           2         1                 6   \n",
       "2                 0.0     2           4         1                 2   \n",
       "3                 0.0     2           6         1                 3   \n",
       "4                 0.0     1          10         1                 3   \n",
       "\n",
       "   Aantal dagen tot vertrek  Aantal dagen op reis Geboortedatum  Leeftijd  \n",
       "0                       188                     2           NaT        42  \n",
       "1                       188                     2           NaT        42  \n",
       "2                       186                    25    1966-02-19        55  \n",
       "3                       246                   131           NaT        42  \n",
       "4                       245                     9    1961-05-03        60  "
      ]
     },
     "execution_count": 31,
     "metadata": {},
     "output_type": "execute_result"
    }
   ],
   "source": [
    "features.head()"
   ]
  },
  {
   "cell_type": "markdown",
   "metadata": {},
   "source": [
    "# Evalueren en selecteren van features\n",
    "\n",
    "Enkele interessante features die in de dataset te vinden zijn:\n",
    "\n",
    " - **Status**: De status (1 of 0) heeft aan of de boeking bevestigd of geannuleerd is.\n",
    " - **Dossier jaar**: Het jaar waarin het dossier werdt aangemaakt.\n",
    " - **Dossier nr.**: Een nummer (id) dat iedere reis identificeert.\n",
    " - **Klantnummer**: Het nummer dat een klant identificeert.\n",
    " - **Datum creatie**: Deze feature heeft een datum met uur, minuten en seconden. Deze waardes kunnen interessant zijn om te kijken hoeveel tijd er tussen een boeking en de reis vertrek datum zit.\n",
    " - **Datum vertrek**: De datum waarop een reis start.\n",
    " - **Datum terug**: De datum waarop de reizigers terugkeren naar hun thuisland.\n",
    " - **Totaalprijs**: De prijs die ze in totaal betalen voor de reis.\n",
    " - **Betalingen dossier**: Het bedrag dat al betaald is.\n",
    " - **Openstaand dossier**: Het bedrag dat nog moet betaald worden om te kunnen voldoen en te mogen vertrekken op reis.\n",
    " - **Land**: Het thuisland van de reiziger.\n",
    " - **Bestemming**: Het land waar de reiziger naartoe geweest is.\n",
    " - **Reistype**: Het type reis dat de reiziger neemt.\n",
    " - **Aantal reizigers**: Het aantal personen die mee opreis gaan.\n",
    " - **Aantal dagen tot vertrek**: Het berekende aantal dagen tussen het aanmaken van een account en de vertrek datum.\n",
    " - **Aantal dagen op reis**: Het berekende aantal dagen dat de reis duurde.\n",
    " - **Leeftijd**: Leeftijd van de klant.\n"
   ]
  },
  {
   "cell_type": "markdown",
   "metadata": {},
   "source": [
    "## Correlatie tussen features\n",
    "\n",
    "Onderstaande matrix toont aan hoe de features met elkaar verbonden zijn op een schaal van 0 tot 1. Hoe hoger de score bij 1 ligt hoe dichter de features gecorreleerd zijn met elkaar. De correlatie tussen de eigen data is steeds 1 wat ook wordt weergegeven in de diagonale donkerrode lijn.\n",
    "\n",
    "In de matrix zien we dat er enkele features een goede correlatie hebben met elkaar (hoger dan 0.4).\n",
    "Zo zijn het aantal reizigers, de totaal prijs en het dossier nummer en jaar best interessante features. Omdat er enkele features (dossier nummer en jaar & Totaalprijs en Betalingen Dossier) een hoge correlatie hebben kan dit zorgen voor overfitting, hierdoor is het best om één van de twee waarden niet op te nemen als feature in het model. Bij het splitten van de train en test data zullen de kolommen 'Dossier nr.' en 'Betalingen Dossier' weggelaten worden."
   ]
  },
  {
   "cell_type": "code",
   "execution_count": 10,
   "metadata": {},
   "outputs": [
    {
     "data": {
      "image/png": "[encoded data removed]",
      "text/plain": [
       "<Figure size 720x720 with 2 Axes>"
      ]
     },
     "metadata": {
      "needs_background": "light"
     },
     "output_type": "display_data"
    }
   ],
   "source": [
    "plt.figure(figsize=(10, 10))\n",
    "plt.title('Correlatie tussen alle features in het dataframe')\n",
    "seaborn.heatmap((features).corr(), annot=True, cmap=\"RdBu_r\")\n",
    "plt.show();"
   ]
  },
  {
   "cell_type": "markdown",
   "metadata": {},
   "source": [
    "## Testen van modellen\n",
    "\n",
    "In de volgende stappen worden enkele modellen getest om te zien hoe de modellen het doen op de train en test data.\n",
    "\n",
    "### KNN\n",
    "\n",
    "KNN is het eenvoudigste model dat we gaan uittesten. Het onthoudt de trainingsgegevens en plaatst de te voorspellen gegevens in dezelfde grafiek. Om elk doel te voorspellen, zoekt het KNN-model het dichtstbijzijnde punt in de trainingsdata en stelt de waarde van het te voorspellen gegeven in op dat van de dichtstbijzijnde buur. Er kan ingesteld worden hoeveel buren het model moet gebruiken om een waarde aan het doel te geven. Meer of minder buren kiezen kan een goede of slechte invloed hebben op het classificerings model.\n",
    "\n",
    "### Decision tree\n",
    "\n",
    "Een decision tree is een algoritme dat gebruikmaakt van een boomachtig model om beslissingen te maken en hun mogelijke gevolgen te gaan afwegen. Het is een algoritme dat alleen voorwaardelijke controle-instructies bevat en op basis daarvan tot een voorspelling komt.\n",
    "\n",
    "Decision trees hebben 2 hoofdzakelijke types:\n",
    "\n",
    "* Classification tree is wanneer de voorspelde uitkomst de klasse is waartoe de gegevens behoren.\n",
    "* Regression is wanneer de voorspelde uitkomst als een reëel getal kan worden beschouwd (bijvoorbeeld de prijs van een huis of de leeftijd van een persoon).\n",
    "\n",
    "### Logistic regression\n",
    "\n",
    "\n",
    "\n",
    "### Random forest tree"
   ]
  },
  {
   "cell_type": "markdown",
   "metadata": {},
   "source": [
    "### Opsplitsen van train en test data\n",
    "\n",
    "Onderstaande code splitst de data op in train en test data. In dit geval wordt de data opgesplitst volgens de standaard 75% train data en 25% test data. De niet numerieke kolommen worden uit de dataset weggelaten en de target wordt ingesteld in de 'y' array. Om de data te schalen maak ik gebruik van de StandardScaler. Het idee hierachter is dat het de gegevens zodanig zal transformeren dat de distributie een gemiddelde waarde van 0 en een standaardafwijking van 1 heeft.\n",
    "\n",
    "Bij Multivariate data gebeurt dit feature-wise (dus onafhankelijk voor elke kolom van de data).\n",
    "Gezien de verdeling van de gegevens, wordt bij elke waarde in de gegevensset de gemiddelde waarde afgetrokken en vervolgens gedeeld door de standaarddeviatie van de hele gegevensset (of kenmerk in het multivariate geval).\n",
    "\n",
    "De volgende kolommen worden verwijderd uit het features dataframe:\n",
    " - **Klantnummer** Een klantnummer is geen numerieke waarde dus dit kan niet meegeven worden aan modellen.\n",
    " - **Geboortedatum** De kolom met geboortedatums is geen numerieke waarde en de leeftijd is hieruit berekend dat wel als feature kan dienen.\n",
    " - **Dossier nr.** De kolom met de dossier nummers had een hoge correlatie met het dossier jaar waardoor het interessant is om deze niet mee op te nemen in de features lijst, dit kan het model ten goede komen omdat er overfitting kan ontstaan met hoog gecorreleerde features onderling.\n",
    " - **Betalingen dossier** Het bedrag dat al reeds betaald was is ook hoog gecorreleerd met het totaal bedrag waardoor deze kolom ook kan worden weggelaten uit de features.\n",
    " - **Datums** De kolommen *Datum creatie*, *Datum vertrek* en *Datum terug* zijn datums die al gebruikt zijn om zaken te berekenen (Aantal dagen op reis en Aantal dagen tot vertrek)."
   ]
  },
  {
   "cell_type": "code",
   "execution_count": 61,
   "metadata": {},
   "outputs": [],
   "source": [
    "def scale_data(df):\n",
    "    X = df.drop(['Aantal dagen tot vertrek', 'Klantnummer', 'Openstaand dossier', 'Totaalprijs', 'Geboortedatum', 'Dossier nr.', 'Betalingen dossier',  'Datum creatie', 'Datum vertrek', 'Datum terug'], axis=1)\n",
    "    y = df['Aantal dagen tot vertrek']\n",
    "    scaler = StandardScaler()\n",
    "    scaler.fit(X)\n",
    "    return scaler.transform(X), y\n",
    "\n",
    "X, y = scale_data(features)\n",
    "# split voor KNN en al de rest + maak functie van bovenstaande code\n",
    "X_train, X_test, y_train, y_test = train_test_split(X, y, random_state=0)"
   ]
  },
  {
   "cell_type": "code",
   "execution_count": 62,
   "metadata": {},
   "outputs": [],
   "source": [
    "#y = features['Aantal dagen tot vertrek'].to_numpy().astype(int)\n",
    "#X = features.drop(['Aantal dagen tot vertrek', 'Klantnummer', 'Openstaand dossier', 'Totaalprijs', 'Geboortedatum', 'Dossier nr.', 'Betalingen dossier',  'Datum creatie', 'Datum vertrek', 'Datum terug'], axis=1)\n",
    "#X_train, X_test, y_train, y_test = train_test_split(X, y)"
   ]
  },
  {
   "cell_type": "markdown",
   "metadata": {},
   "source": [
    "De geschaalde data in het dataframe *X*."
   ]
  },
  {
   "cell_type": "code",
   "execution_count": 63,
   "metadata": {},
   "outputs": [
    {
     "data": {
      "text/plain": [
       "array([[  0.06367683,  -2.09338933,   0.33372771, ...,   3.50094482,\n",
       "         -0.81901982,  -0.30435306],\n",
       "       [  0.06367683,  -2.09338933,   0.33372771, ...,   3.50094482,\n",
       "         -0.81901982,  -0.30435306],\n",
       "       [  0.06367683,  -2.09338933,   0.33372771, ...,   0.19740368,\n",
       "         -0.53761994,   1.02041738],\n",
       "       ...,\n",
       "       [  0.06367683,   1.98790608,   0.33372771, ...,   0.19740368,\n",
       "          0.64915343,   0.20517403],\n",
       "       [-15.70429877,   1.98790608,   0.33372771, ...,   0.19740368,\n",
       "          1.75028337,  -0.30435306],\n",
       "       [  0.06367683,   1.98790608,   0.33372771, ...,   0.19740368,\n",
       "         -0.80678504,  -2.7500831 ]])"
      ]
     },
     "execution_count": 63,
     "metadata": {},
     "output_type": "execute_result"
    }
   ],
   "source": [
    "X"
   ]
  },
  {
   "cell_type": "markdown",
   "metadata": {},
   "source": [
    "De vorm van de *X* en *y* array wordt hieronder afgeprint. De *X* dataset bevat 10 features (kolommen) en 3962 rijen, de *y* array bevat de target data met 1 kolom en 3962 rijen aan data."
   ]
  },
  {
   "cell_type": "code",
   "execution_count": 64,
   "metadata": {},
   "outputs": [
    {
     "name": "stdout",
     "output_type": "stream",
     "text": [
      "Shape van de X data: (3962, 8)\n",
      "Shape van de y target data: (3962,)\n"
     ]
    }
   ],
   "source": [
    "print(\"Shape van de X data:\", X.shape)\n",
    "print(\"Shape van de y target data:\", y.shape)"
   ]
  },
  {
   "cell_type": "markdown",
   "metadata": {},
   "source": [
    "## Modellen evalueren en vergelijken\n",
    "\n",
    "### Het KNN-model\n",
    "\n",
    "Onderstaande code print voor elke iteratie de train en test score uit met 4 grafieken. De twee linkse grafieken tonen het percentage per aantal neighbors op de hele trainingsset. De twee rechtse grafieken tonen het percentage per aantal neighbors op de testdata. Hieruit blijkt dat op de trainingsdata het slaagpercentage afzwakt naarmate er meer neighbors bijkomen. Wat opvalt is dat bij 1 en 2 neightbors bij de trainingsset tegenover de testset er duidelijk overfitting optreedt.\n",
    "\n",
    "Ik gebruik de Elbow methode om de beste waarde voor k (aantal neightbors) te vinden, deze waarde is dan af te lezen van de grafiek en wordt uitgeprint voor iedere iteratie met de bijhorende train en test scores. In mijn opstelling zal deze later ingesteld worden op 3, nadien doen we voor de evaluatie van het model nogmaals dezelfde stappen maar deze keer met een niet variabele k.\n",
    "\n",
    "Tijdens het uittesten van het KNN-model viel me op dat het schalen van de data met de StandardScaler een positief maar kleine verbetering gaf in de train- en testdata."
   ]
  },
  {
   "cell_type": "code",
   "execution_count": 128,
   "metadata": {},
   "outputs": [
    {
     "name": "stdout",
     "output_type": "stream",
     "text": [
      "Iteratie: 1\n",
      "Accuracy on training set: 0.848\n",
      "Accuracy on test set: 0.046\n",
      "*-------------------------------*\n",
      "Iteratie: 2\n",
      "Accuracy on training set: 0.490\n",
      "Accuracy on test set: 0.032\n",
      "*-------------------------------*\n",
      "Iteratie: 3\n",
      "Accuracy on training set: 0.353\n",
      "Accuracy on test set: 0.026\n",
      "*-------------------------------*\n",
      "Iteratie: 4\n",
      "Accuracy on training set: 0.278\n",
      "Accuracy on test set: 0.027\n",
      "*-------------------------------*\n",
      "Iteratie: 5\n",
      "Accuracy on training set: 0.232\n",
      "Accuracy on test set: 0.025\n",
      "*-------------------------------*\n",
      "Iteratie: 6\n",
      "Accuracy on training set: 0.204\n",
      "Accuracy on test set: 0.022\n",
      "*-------------------------------*\n",
      "Iteratie: 7\n",
      "Accuracy on training set: 0.179\n",
      "Accuracy on test set: 0.021\n",
      "*-------------------------------*\n",
      "Iteratie: 8\n",
      "Accuracy on training set: 0.167\n",
      "Accuracy on test set: 0.022\n",
      "*-------------------------------*\n",
      "Iteratie: 9\n",
      "Accuracy on training set: 0.158\n",
      "Accuracy on test set: 0.020\n",
      "*-------------------------------*\n",
      "Iteratie: 10\n",
      "Accuracy on training set: 0.146\n",
      "Accuracy on test set: 0.019\n",
      "*-------------------------------*\n"
     ]
    },
    {
     "data": {
      "image/png": "[encoded data removed]",
      "text/plain": [
       "<Figure size 1080x360 with 2 Axes>"
      ]
     },
     "metadata": {
      "needs_background": "light"
     },
     "output_type": "display_data"
    },
    {
     "data": {
      "image/png": "[encoded data removed]",
      "text/plain": [
       "<Figure size 1080x360 with 2 Axes>"
      ]
     },
     "metadata": {
      "needs_background": "light"
     },
     "output_type": "display_data"
    }
   ],
   "source": [
    "trainingScore = []\n",
    "testScore = []\n",
    "neighbors = 10\n",
    "\n",
    "for k in range(1, neighbors + 1):\n",
    "    knn = KNeighborsClassifier(n_neighbors=k).fit(X_train, y_train)\n",
    "    \n",
    "    trainingScore.append(round(knn.score(X_train, y_train) * 100, 2))\n",
    "    testScore.append(round(knn.score(X_test, y_test) * 100, 2))\n",
    "    \n",
    "    print(\"Iteratie: \" + str(k))\n",
    "    print(\"Accuracy on training set: {:.3f}\".format(knn.score(X_train, y_train)))\n",
    "    print(\"Accuracy on test set: {:.3f}\".format(knn.score(X_test, y_test)))\n",
    "    print(\"*-------------------------------*\")\n",
    "\n",
    "fig, (ax1, ax2) = plt.subplots(1, 2, figsize=(15, 5))\n",
    "objects = range(1, neighbors + 1)\n",
    "\n",
    "ax1.bar(objects, trainingScore, align='center')\n",
    "ax1.set_title('training score op ' + str(len(X)) + ' rijen data')\n",
    "ax1.set_ylabel('percentage juist (%)')\n",
    "ax1.set_xlabel('Aantal neighbors')\n",
    "\n",
    "ax2.bar(objects, testScore, align='center')\n",
    "ax2.set_ylim(0, 100)\n",
    "ax2.set_title('test score op ' + str(len(X)) + ' rijen data')\n",
    "ax2.set_ylabel('percentage juist (%)')\n",
    "ax2.set_xlabel('Aantal neighbors')\n",
    "\n",
    "fig, (ax1, ax2) = plt.subplots(1, 2, figsize=(15, 5))\n",
    "\n",
    "ax1.plot(objects, trainingScore)\n",
    "ax1.set_title('vergrote schaal per diepte in training')\n",
    "ax1.set_ylabel('percentage juist (%)')\n",
    "ax1.set_xlabel('Aantal neighbors')\n",
    "\n",
    "ax2.plot(objects, testScore)\n",
    "ax2.set_title('vergrote schaal per diepte in test')\n",
    "ax2.set_ylabel('percentage juist (%)')\n",
    "ax2.set_xlabel('Aantal neighbors')\n",
    "plt.show()"
   ]
  },
  {
   "cell_type": "markdown",
   "metadata": {},
   "source": [
    "### Finaal KNN-model met vaste waarde\n",
    "\n",
    "We zien hieronder een duidelijke overfitting optreden (een beter prestatie van het model op de trainingsset als op de testset). De k waarde is zo optimaal mogelijk gekozen maar omdat het een relatief kleine dataset is wordt het moeilijker om een goede voorspelling te doen en is de testscore zeer laag. Hoe hoger het aantal neightbors (k) hoe slechter de trainingsset zal scoren, de testset zakt eveneens mee omlaag. Bij 1 neightbor is de trainingsscore zeer hoog, door overfitting blijft de testscore ook zeer laag (+/- 5%)."
   ]
  },
  {
   "cell_type": "code",
   "execution_count": 133,
   "metadata": {
    "scrolled": false
   },
   "outputs": [
    {
     "name": "stdout",
     "output_type": "stream",
     "text": [
      "Training set score: 0.85\n",
      "Test set score: 0.05\n"
     ]
    }
   ],
   "source": [
    "knn = KNeighborsClassifier(n_neighbors = 1)\n",
    "knn.fit(X_train, y_train)\n",
    "pred = knn.predict(X_test)\n",
    "trainingScore = round(knn.score(X_train, y_train), 2)\n",
    "testScore = round(knn.score(X_test, y_test), 2)\n",
    "\n",
    "print(\"Training set score: \" + str(trainingScore))\n",
    "print(\"Test set score: \" + str(testScore))"
   ]
  },
  {
   "cell_type": "markdown",
   "metadata": {},
   "source": [
    "### Decision tree classifier model\n",
    "\n",
    "Onderstaande code print voor elke iteratie de train en test score uit met 4 grafieken. De twee linkse grafieken tonen het percentage voor elke diepte op de hele trainingsset. De twee rechtse grafieken tonen het percentage van de testdata voor elke diepte. Hieruit blijkt dat op de trainingsdata het slaagpercentage toeneemt bij een hogere diepte, dit blijft doorgaan tot een diepte van 30. Hierna blijft de trainings- en testscore gelijk. Het is uiteraard ook niet goed om een te hoge diepte in te stellen omdat er dan te veel  "
   ]
  },
  {
   "cell_type": "code",
   "execution_count": 169,
   "metadata": {
    "scrolled": false
   },
   "outputs": [
    {
     "name": "stdout",
     "output_type": "stream",
     "text": [
      "Iteratie: 1\n",
      "Accuracy on training set: 0.011\n",
      "Accuracy on test set: 0.005\n",
      "*-------------------------------*\n",
      "Iteratie: 2\n",
      "Accuracy on training set: 0.012\n",
      "Accuracy on test set: 0.006\n",
      "*-------------------------------*\n",
      "Iteratie: 3\n",
      "Accuracy on training set: 0.015\n",
      "Accuracy on test set: 0.005\n",
      "*-------------------------------*\n",
      "Iteratie: 4\n",
      "Accuracy on training set: 0.019\n",
      "Accuracy on test set: 0.007\n",
      "*-------------------------------*\n",
      "Iteratie: 5\n",
      "Accuracy on training set: 0.023\n",
      "Accuracy on test set: 0.007\n",
      "*-------------------------------*\n",
      "Iteratie: 6\n",
      "Accuracy on training set: 0.029\n",
      "Accuracy on test set: 0.008\n",
      "*-------------------------------*\n",
      "Iteratie: 7\n",
      "Accuracy on training set: 0.037\n",
      "Accuracy on test set: 0.008\n",
      "*-------------------------------*\n",
      "Iteratie: 8\n",
      "Accuracy on training set: 0.048\n",
      "Accuracy on test set: 0.011\n",
      "*-------------------------------*\n",
      "Iteratie: 9\n",
      "Accuracy on training set: 0.060\n",
      "Accuracy on test set: 0.013\n",
      "*-------------------------------*\n",
      "Iteratie: 10\n",
      "Accuracy on training set: 0.076\n",
      "Accuracy on test set: 0.016\n",
      "*-------------------------------*\n",
      "Iteratie: 11\n",
      "Accuracy on training set: 0.094\n",
      "Accuracy on test set: 0.019\n",
      "*-------------------------------*\n",
      "Iteratie: 12\n",
      "Accuracy on training set: 0.124\n",
      "Accuracy on test set: 0.019\n",
      "*-------------------------------*\n",
      "Iteratie: 13\n",
      "Accuracy on training set: 0.159\n",
      "Accuracy on test set: 0.028\n",
      "*-------------------------------*\n",
      "Iteratie: 14\n",
      "Accuracy on training set: 0.203\n",
      "Accuracy on test set: 0.028\n",
      "*-------------------------------*\n",
      "Iteratie: 15\n",
      "Accuracy on training set: 0.252\n",
      "Accuracy on test set: 0.028\n",
      "*-------------------------------*\n",
      "Iteratie: 16\n",
      "Accuracy on training set: 0.310\n",
      "Accuracy on test set: 0.026\n",
      "*-------------------------------*\n",
      "Iteratie: 17\n",
      "Accuracy on training set: 0.375\n",
      "Accuracy on test set: 0.021\n",
      "*-------------------------------*\n",
      "Iteratie: 18\n",
      "Accuracy on training set: 0.441\n",
      "Accuracy on test set: 0.028\n",
      "*-------------------------------*\n",
      "Iteratie: 19\n",
      "Accuracy on training set: 0.506\n",
      "Accuracy on test set: 0.031\n",
      "*-------------------------------*\n",
      "Iteratie: 20\n",
      "Accuracy on training set: 0.579\n",
      "Accuracy on test set: 0.033\n",
      "*-------------------------------*\n"
     ]
    },
    {
     "data": {
      "image/png": "[encoded data removed]",
      "text/plain": [
       "<Figure size 1080x360 with 2 Axes>"
      ]
     },
     "metadata": {
      "needs_background": "light"
     },
     "output_type": "display_data"
    },
    {
     "data": {
      "image/png": "[encoded data removed]",
      "text/plain": [
       "<Figure size 1080x360 with 2 Axes>"
      ]
     },
     "metadata": {
      "needs_background": "light"
     },
     "output_type": "display_data"
    }
   ],
   "source": [
    "trainingScore = []\n",
    "testScore = []\n",
    "depth = 20\n",
    "\n",
    "for n in range(1, depth + 1):\n",
    "    treeModel = DecisionTreeClassifier(max_depth=n, random_state=42).fit(X_train, y_train)\n",
    "    \n",
    "    trainingScore.append(round(treeModel.score(X_train, y_train) * 100, 2))\n",
    "    testScore.append(round(treeModel.score(X_test, y_test) * 100, 2))\n",
    "    print(\"Iteratie: \" + str(n))\n",
    "    print(\"Accuracy on training set: {:.3f}\".format(treeModel.score(X_train, y_train)))\n",
    "    print(\"Accuracy on test set: {:.3f}\".format(treeModel.score(X_test, y_test)))\n",
    "    print(\"*-------------------------------*\")\n",
    "    \n",
    "fig, (ax1, ax2) = plt.subplots(1, 2, figsize=(15, 5))\n",
    "objects = range(1, depth + 1)\n",
    "\n",
    "\n",
    "ax1.bar(objects, trainingScore, align='center')\n",
    "ax1.set_title('training score op ' + str(len(X)) + ' rijen data')\n",
    "ax1.set_ylabel('percentage juist (%)')\n",
    "ax1.set_xlabel('diepte')\n",
    "\n",
    "ax2.bar(objects, testScore, align='center')\n",
    "ax2.set_ylim(0, 100)\n",
    "ax2.set_title('testScore op ' + str(len(X)) + ' rijen data')\n",
    "ax2.set_ylabel('percentage juist (%)')\n",
    "ax2.set_xlabel('diepte')\n",
    "\n",
    "fig, (ax1, ax2) = plt.subplots(1, 2, figsize=(15, 5))\n",
    "ax1.plot(objects, trainingScore)\n",
    "ax1.set_title('vergrote schaal per diepte in training')\n",
    "ax1.set_ylabel('percentage juist (%)')\n",
    "ax1.set_xlabel('diepte')\n",
    "\n",
    "ax2.plot(objects, testScore)\n",
    "ax2.set_title('vergrote schaal per diepte in test')\n",
    "ax2.set_ylabel('percentage juist (%)')\n",
    "ax2.set_xlabel('diepte')\n",
    "plt.show()"
   ]
  },
  {
   "cell_type": "markdown",
   "metadata": {},
   "source": [
    "### Finaal Decision tree model\n",
    "\n",
    "We zien hieronder terug een duidelijke overfitting optreden (een beter prestatie van het model op de trainingsset als op de testset). De decision tree is "
   ]
  },
  {
   "cell_type": "code",
   "execution_count": 165,
   "metadata": {},
   "outputs": [
    {
     "name": "stdout",
     "output_type": "stream",
     "text": [
      "Cross validation score: [0.02016807 0.01851852 0.02188552 0.02693603 0.02188552]\n",
      "Training set score: 0.08\n",
      "Test set score: 0.02\n"
     ]
    }
   ],
   "source": [
    "treeModel = DecisionTreeClassifier(max_depth=10, random_state=42).fit(X_train, y_train)\n",
    "trainingScore = round(treeModel.score(X_train, y_train), 2)\n",
    "testScore = round(treeModel.score(X_test, y_test), 2)\n",
    "print(\"Cross validation score: \" + str(cross_val_score(treeModel, X_train, y_train, cv=5)))\n",
    "print(\"Training set score: \" + str(trainingScore))\n",
    "print(\"Test set score: \" + str(testScore))"
   ]
  },
  {
   "cell_type": "markdown",
   "metadata": {},
   "source": [
    "Uitleg print tree als foto"
   ]
  },
  {
   "cell_type": "code",
   "execution_count": null,
   "metadata": {},
   "outputs": [],
   "source": [
    "#target = ['Status', 'Dossier jaar','Dossier nr.','Totaalprijs','Betalingen dossier','Openstaand dossier','Land','Bestemming','Reistype','Aantal reizigers','Aantal dagen tot vertrek']\n",
    "#fig.savefig('tree.png')\n",
    "#fig.savefig('DecisionTree.png')"
   ]
  },
  {
   "cell_type": "markdown",
   "metadata": {},
   "source": [
    "### Logistic regression\n",
    "\n",
    "Logistic regression is een lineair model voor classificatie. Het gebruikte algoritme heet *Solver*. De solver is ingesteld op *liblinear* aangezien dit een multiclass dataset kan verwerken en dit gebaseerd is op kansverhoudingen. De verhouding tussen de fracties bij twee mogelijke uitkomsten wordt hierin bepaald en zo geclassificeerd. Dit principe wordt uitgevoerd en vervolgens herhaald indien het in de rest thuishoort (een soort van binaire classificatie).\n",
    "\n",
    "```\n",
    "De beste parameters voor het model worden gekozen via *GridSearch* in combinatie met *Cross validation*. In deze combinatie kan het model algemener getest worden en is de bias door algoritme zo klein mogelijk. We zien in dit model geen over- of underfitting. De accuracy op de test is hetzelfde als op de training, al ligt deze wel aan de lage kant. Ook hier ga ik in een verder evaluatie nog met de features experimenteren om dit omhoog te krijgen. Dit doe ik ook via feature selection methoden, zoals Principal component en singular value decomposition.```"
   ]
  },
  {
   "cell_type": "code",
   "execution_count": 172,
   "metadata": {},
   "outputs": [
    {
     "name": "stdout",
     "output_type": "stream",
     "text": [
      "Test set score: 0.01\n"
     ]
    }
   ],
   "source": [
    "logRegr = LogisticRegression(solver='liblinear', max_iter=500, multi_class = 'auto')\n",
    "logRegr.fit(X_train, y_train)\n",
    "\n",
    "print(\"Test set score: {:.2f}\".format(logRegr.score(X_test, y_test)))"
   ]
  },
  {
   "cell_type": "markdown",
   "metadata": {},
   "source": [
    "### Random forest tree\n",
    "\n",
    "## Oplossen van overfitting bij decision tree = random forest \n",
    "\n",
    "Random Forest\n",
    "\n",
    "Random Forest is an example of ensemble learning, in which we combine multiple machine learning algorithms to obtain better predictive performance.\n",
    "\n",
    "Why the name “Random”?\n",
    "\n",
    "Two key concepts that give it the name random:\n",
    "\n",
    "A random sampling of training data set when building trees.\n",
    "Random subsets of features considered when splitting nodes.\n",
    "A technique known as bagging is used to create an ensemble of trees where multiple training sets are generated with replacement.\n",
    "\n",
    "In the bagging technique, a data set is divided into N samples using randomized sampling. Then, using a single learning algorithm a model is built on all samples. Later, the resultant predictions are combined using voting or averaging in parallel."
   ]
  },
  {
   "cell_type": "code",
   "execution_count": null,
   "metadata": {},
   "outputs": [],
   "source": [
    "#param_grid = {'max_depth': [11, 12, 13], 'random_state': [35, 40, 50], 'n_estimators': [75, 100, 125]}\n",
    "#print(\"qoidj\")\n",
    "#gridSearchTrees = GridSearchCV(RandomForestClassifier(), cv=5, return_train_score=True)\n",
    "\n",
    "#gridSearchTrees.fit(X_train, y_train)\n",
    "#pred = gridSearchTrees.predict(X_test)\n",
    "#print(pred)\n",
    "#trainingScoreTrees = round(gridSearchTrees.score(X_train, y_train), 2)\n",
    "#testScoreTrees = round(gridSearchTrees.score(X_test, y_test), 2)\n",
    "\n",
    "#print(\"Training set score: \" + str(trainingScoreTrees))\n",
    "#print(\"Test set score: \" + str(testScoreTrees))\n",
    "#print(\"Best parameters: {}\".format(gridSearchTrees.best_params_))\n",
    "#print(\"Best cross-validation score: {:.2f}\".format(gridSearchTrees.best_score_))\n",
    "\n",
    "#print(\"\\nConfusion matrix:\")\n",
    "#print(confusion_matrix(y_test,pred))\n",
    "#print(\"\\nClassification report:\")\n",
    "#print(classification_report(y_test,pred))"
   ]
  },
  {
   "cell_type": "code",
   "execution_count": 173,
   "metadata": {},
   "outputs": [
    {
     "ename": "NameError",
     "evalue": "name 'gridSearchTrees' is not defined",
     "output_type": "error",
     "traceback": [
      "\u001b[0;31m---------------------------------------------------------------------------\u001b[0m",
      "\u001b[0;31mNameError\u001b[0m                                 Traceback (most recent call last)",
      "\u001b[0;32m<ipython-input-173-ccfed107edfd>\u001b[0m in \u001b[0;36m<module>\u001b[0;34m\u001b[0m\n\u001b[0;32m----> 1\u001b[0;31m \u001b[0mimportance\u001b[0m \u001b[0;34m=\u001b[0m \u001b[0mgridSearchTrees\u001b[0m\u001b[0;34m.\u001b[0m\u001b[0mbest_estimator_\u001b[0m\u001b[0;34m.\u001b[0m\u001b[0mfeature_importances_\u001b[0m\u001b[0;34m\u001b[0m\u001b[0;34m\u001b[0m\u001b[0m\n\u001b[0m\u001b[1;32m      2\u001b[0m \u001b[0;34m\u001b[0m\u001b[0m\n\u001b[1;32m      3\u001b[0m \u001b[0mdfFeatureImportance\u001b[0m \u001b[0;34m=\u001b[0m \u001b[0mpd\u001b[0m\u001b[0;34m.\u001b[0m\u001b[0mDataFrame\u001b[0m\u001b[0;34m(\u001b[0m\u001b[0mimportance\u001b[0m\u001b[0;34m,\u001b[0m \u001b[0mindex\u001b[0m\u001b[0;34m=\u001b[0m\u001b[0mfeatureNames\u001b[0m\u001b[0;34m,\u001b[0m \u001b[0mcolumns\u001b[0m\u001b[0;34m=\u001b[0m\u001b[0;34m[\u001b[0m\u001b[0;34m'feature importance'\u001b[0m\u001b[0;34m]\u001b[0m\u001b[0;34m)\u001b[0m\u001b[0;34m.\u001b[0m\u001b[0msort_values\u001b[0m\u001b[0;34m(\u001b[0m\u001b[0;34m'feature importance'\u001b[0m\u001b[0;34m,\u001b[0m \u001b[0mascending\u001b[0m\u001b[0;34m=\u001b[0m\u001b[0;32mFalse\u001b[0m\u001b[0;34m)\u001b[0m\u001b[0;34m\u001b[0m\u001b[0;34m\u001b[0m\u001b[0m\n\u001b[1;32m      4\u001b[0m \u001b[0mbar\u001b[0m \u001b[0;34m=\u001b[0m \u001b[0mdfFeatureImportance\u001b[0m\u001b[0;34m.\u001b[0m\u001b[0mplot\u001b[0m\u001b[0;34m(\u001b[0m\u001b[0mkind\u001b[0m\u001b[0;34m=\u001b[0m\u001b[0;34m'barh'\u001b[0m\u001b[0;34m,\u001b[0m \u001b[0mcolor\u001b[0m \u001b[0;34m=\u001b[0m \u001b[0;34m\"#ED4E3E\"\u001b[0m\u001b[0;34m,\u001b[0m \u001b[0mlegend\u001b[0m \u001b[0;34m=\u001b[0m \u001b[0;32mNone\u001b[0m\u001b[0;34m)\u001b[0m\u001b[0;34m\u001b[0m\u001b[0;34m\u001b[0m\u001b[0m\n\u001b[1;32m      5\u001b[0m \u001b[0mplt\u001b[0m\u001b[0;34m.\u001b[0m\u001b[0mxlabel\u001b[0m\u001b[0;34m(\u001b[0m\u001b[0;34m\"Feature importance\"\u001b[0m\u001b[0;34m)\u001b[0m\u001b[0;34m\u001b[0m\u001b[0;34m\u001b[0m\u001b[0m\n",
      "\u001b[0;31mNameError\u001b[0m: name 'gridSearchTrees' is not defined"
     ]
    }
   ],
   "source": [
    "importance = gridSearchTrees.best_estimator_.feature_importances_\n",
    "\n",
    "dfFeatureImportance = pd.DataFrame(importance, index=featureNames, columns=['feature importance']).sort_values('feature importance', ascending=False)\n",
    "bar = dfFeatureImportance.plot(kind='barh', color = \"#ED4E3E\", legend = None)\n",
    "plt.xlabel(\"Feature importance\")\n",
    "plt.ylabel(\"Feature\")\n",
    "plt.title(\"Feature importance\")\n",
    "bar.spines['top'].set_visible(False)\n",
    "bar.spines['right'].set_visible(False)\n",
    "bar.spines['left'].set_visible(False)\n",
    "plt.show()"
   ]
  },
  {
   "cell_type": "code",
   "execution_count": null,
   "metadata": {},
   "outputs": [],
   "source": []
  },
  {
   "cell_type": "markdown",
   "metadata": {},
   "source": [
    "## cross-validation\n",
    "\n",
    "Cross validatie is een techniek om te beschermen tegen overfitting in een model. Bij cross validatie wordt er een vast aantal folds (of partities) van de gegevens genomen, daarop wordt de analyse uitgevoerd op elke fold en een gemiddelde van de totale foutschatting berekend.\n",
    "\n",
    "Deze techniek wordt hieronder uitgevoerd met KNN (k-nearest neighbors), Linaire regressie en Decision tree."
   ]
  },
  {
   "cell_type": "code",
   "execution_count": 180,
   "metadata": {},
   "outputs": [
    {
     "name": "stdout",
     "output_type": "stream",
     "text": [
      "Cross-validation scores: [0.76 0.78 0.76]\n",
      "Average cross-validation score: 0.77\n"
     ]
    },
    {
     "data": {
      "text/html": [
       "<div>\n",
       "<style scoped>\n",
       "    .dataframe tbody tr th:only-of-type {\n",
       "        vertical-align: middle;\n",
       "    }\n",
       "\n",
       "    .dataframe tbody tr th {\n",
       "        vertical-align: top;\n",
       "    }\n",
       "\n",
       "    .dataframe thead th {\n",
       "        text-align: right;\n",
       "    }\n",
       "</style>\n",
       "<table border=\"1\" class=\"dataframe\">\n",
       "  <thead>\n",
       "    <tr style=\"text-align: right;\">\n",
       "      <th></th>\n",
       "      <th>fit_time</th>\n",
       "      <th>score_time</th>\n",
       "      <th>test_score</th>\n",
       "      <th>train_score</th>\n",
       "    </tr>\n",
       "  </thead>\n",
       "  <tbody>\n",
       "    <tr>\n",
       "      <th>0</th>\n",
       "      <td>0.000602</td>\n",
       "      <td>0.001248</td>\n",
       "      <td>0.933333</td>\n",
       "      <td>0.837037</td>\n",
       "    </tr>\n",
       "    <tr>\n",
       "      <th>1</th>\n",
       "      <td>0.000594</td>\n",
       "      <td>0.001260</td>\n",
       "      <td>0.666667</td>\n",
       "      <td>0.837037</td>\n",
       "    </tr>\n",
       "    <tr>\n",
       "      <th>2</th>\n",
       "      <td>0.000591</td>\n",
       "      <td>0.001398</td>\n",
       "      <td>0.666667</td>\n",
       "      <td>0.837037</td>\n",
       "    </tr>\n",
       "    <tr>\n",
       "      <th>3</th>\n",
       "      <td>0.000564</td>\n",
       "      <td>0.001271</td>\n",
       "      <td>0.866667</td>\n",
       "      <td>0.829630</td>\n",
       "    </tr>\n",
       "    <tr>\n",
       "      <th>4</th>\n",
       "      <td>0.000578</td>\n",
       "      <td>0.001253</td>\n",
       "      <td>0.733333</td>\n",
       "      <td>0.844444</td>\n",
       "    </tr>\n",
       "    <tr>\n",
       "      <th>5</th>\n",
       "      <td>0.000562</td>\n",
       "      <td>0.001299</td>\n",
       "      <td>0.800000</td>\n",
       "      <td>0.829630</td>\n",
       "    </tr>\n",
       "    <tr>\n",
       "      <th>6</th>\n",
       "      <td>0.000566</td>\n",
       "      <td>0.001204</td>\n",
       "      <td>0.866667</td>\n",
       "      <td>0.837037</td>\n",
       "    </tr>\n",
       "    <tr>\n",
       "      <th>7</th>\n",
       "      <td>0.000735</td>\n",
       "      <td>0.001268</td>\n",
       "      <td>0.533333</td>\n",
       "      <td>0.844444</td>\n",
       "    </tr>\n",
       "    <tr>\n",
       "      <th>8</th>\n",
       "      <td>0.000555</td>\n",
       "      <td>0.001546</td>\n",
       "      <td>0.800000</td>\n",
       "      <td>0.837037</td>\n",
       "    </tr>\n",
       "    <tr>\n",
       "      <th>9</th>\n",
       "      <td>0.000884</td>\n",
       "      <td>0.002351</td>\n",
       "      <td>0.666667</td>\n",
       "      <td>0.888889</td>\n",
       "    </tr>\n",
       "  </tbody>\n",
       "</table>\n",
       "</div>"
      ],
      "text/plain": [
       "   fit_time  score_time  test_score  train_score\n",
       "0  0.000602    0.001248    0.933333     0.837037\n",
       "1  0.000594    0.001260    0.666667     0.837037\n",
       "2  0.000591    0.001398    0.666667     0.837037\n",
       "3  0.000564    0.001271    0.866667     0.829630\n",
       "4  0.000578    0.001253    0.733333     0.844444\n",
       "5  0.000562    0.001299    0.800000     0.829630\n",
       "6  0.000566    0.001204    0.866667     0.837037\n",
       "7  0.000735    0.001268    0.533333     0.844444\n",
       "8  0.000555    0.001546    0.800000     0.837037\n",
       "9  0.000884    0.002351    0.666667     0.888889"
      ]
     },
     "execution_count": 180,
     "metadata": {},
     "output_type": "execute_result"
    }
   ],
   "source": [
    "kFold = KFold(n_splits=10, shuffle=True, random_state=42)\n",
    "\n",
    "KNN = KNeighborsClassifier(n_neighbors = 5).fit(X_train, y_train)\n",
    "\n",
    "df_knn = pd.DataFrame(cross_validate(KNN, X, y, cv=kFold, return_train_score=True))\n",
    "scores = cross_val_score(KNN, X, y, cv = 3)\n",
    "\n",
    "print(\"Cross-validation scores: {}\".format(scores))\n",
    "print(\"Average cross-validation score: {:.2f}\".format(scores.mean()))\n",
    "df_knn"
   ]
  },
  {
   "cell_type": "code",
   "execution_count": 182,
   "metadata": {},
   "outputs": [
    {
     "name": "stdout",
     "output_type": "stream",
     "text": [
      "Average cross-validation score: 0.02\n"
     ]
    },
    {
     "data": {
      "text/html": [
       "<div>\n",
       "<style scoped>\n",
       "    .dataframe tbody tr th:only-of-type {\n",
       "        vertical-align: middle;\n",
       "    }\n",
       "\n",
       "    .dataframe tbody tr th {\n",
       "        vertical-align: top;\n",
       "    }\n",
       "\n",
       "    .dataframe thead th {\n",
       "        text-align: right;\n",
       "    }\n",
       "</style>\n",
       "<table border=\"1\" class=\"dataframe\">\n",
       "  <thead>\n",
       "    <tr style=\"text-align: right;\">\n",
       "      <th></th>\n",
       "      <th>fit_time</th>\n",
       "      <th>score_time</th>\n",
       "      <th>test_score</th>\n",
       "      <th>train_score</th>\n",
       "    </tr>\n",
       "  </thead>\n",
       "  <tbody>\n",
       "    <tr>\n",
       "      <th>0</th>\n",
       "      <td>0.001028</td>\n",
       "      <td>0.000466</td>\n",
       "      <td>0.575602</td>\n",
       "      <td>0.735943</td>\n",
       "    </tr>\n",
       "    <tr>\n",
       "      <th>1</th>\n",
       "      <td>0.000659</td>\n",
       "      <td>0.000403</td>\n",
       "      <td>0.831133</td>\n",
       "      <td>0.708133</td>\n",
       "    </tr>\n",
       "    <tr>\n",
       "      <th>2</th>\n",
       "      <td>0.000837</td>\n",
       "      <td>0.000328</td>\n",
       "      <td>0.749778</td>\n",
       "      <td>0.712094</td>\n",
       "    </tr>\n",
       "    <tr>\n",
       "      <th>3</th>\n",
       "      <td>0.000586</td>\n",
       "      <td>0.000359</td>\n",
       "      <td>0.805397</td>\n",
       "      <td>0.717812</td>\n",
       "    </tr>\n",
       "    <tr>\n",
       "      <th>4</th>\n",
       "      <td>0.000571</td>\n",
       "      <td>0.000355</td>\n",
       "      <td>0.719546</td>\n",
       "      <td>0.726292</td>\n",
       "    </tr>\n",
       "    <tr>\n",
       "      <th>5</th>\n",
       "      <td>0.000622</td>\n",
       "      <td>0.000382</td>\n",
       "      <td>0.677019</td>\n",
       "      <td>0.728382</td>\n",
       "    </tr>\n",
       "    <tr>\n",
       "      <th>6</th>\n",
       "      <td>0.000482</td>\n",
       "      <td>0.000289</td>\n",
       "      <td>0.805195</td>\n",
       "      <td>0.715941</td>\n",
       "    </tr>\n",
       "    <tr>\n",
       "      <th>7</th>\n",
       "      <td>0.000759</td>\n",
       "      <td>0.000456</td>\n",
       "      <td>0.634757</td>\n",
       "      <td>0.732151</td>\n",
       "    </tr>\n",
       "    <tr>\n",
       "      <th>8</th>\n",
       "      <td>0.000567</td>\n",
       "      <td>0.000303</td>\n",
       "      <td>0.821034</td>\n",
       "      <td>0.715001</td>\n",
       "    </tr>\n",
       "    <tr>\n",
       "      <th>9</th>\n",
       "      <td>0.000491</td>\n",
       "      <td>0.000297</td>\n",
       "      <td>0.105927</td>\n",
       "      <td>0.769224</td>\n",
       "    </tr>\n",
       "  </tbody>\n",
       "</table>\n",
       "</div>"
      ],
      "text/plain": [
       "   fit_time  score_time  test_score  train_score\n",
       "0  0.001028    0.000466    0.575602     0.735943\n",
       "1  0.000659    0.000403    0.831133     0.708133\n",
       "2  0.000837    0.000328    0.749778     0.712094\n",
       "3  0.000586    0.000359    0.805397     0.717812\n",
       "4  0.000571    0.000355    0.719546     0.726292\n",
       "5  0.000622    0.000382    0.677019     0.728382\n",
       "6  0.000482    0.000289    0.805195     0.715941\n",
       "7  0.000759    0.000456    0.634757     0.732151\n",
       "8  0.000567    0.000303    0.821034     0.715001\n",
       "9  0.000491    0.000297    0.105927     0.769224"
      ]
     },
     "execution_count": 182,
     "metadata": {},
     "output_type": "execute_result"
    }
   ],
   "source": [
    "linair = LinearRegression().fit(X_train, y_train)\n",
    "\n",
    "df_lin = pd.DataFrame(cross_validate(linair, X, y, cv=kFold, return_train_score=True))\n",
    "scores = cross_val_score(linair, X, y)\n",
    "\n",
    "print(\"Average cross-validation score: {:.2f}\".format(scores.mean()))\n",
    "df_lin"
   ]
  },
  {
   "cell_type": "markdown",
   "metadata": {},
   "source": [
    "#### Cross validation met decision tree"
   ]
  },
  {
   "cell_type": "code",
   "execution_count": 181,
   "metadata": {},
   "outputs": [
    {
     "name": "stdout",
     "output_type": "stream",
     "text": [
      "Average cross-validation score: 0.79\n"
     ]
    },
    {
     "data": {
      "text/html": [
       "<div>\n",
       "<style scoped>\n",
       "    .dataframe tbody tr th:only-of-type {\n",
       "        vertical-align: middle;\n",
       "    }\n",
       "\n",
       "    .dataframe tbody tr th {\n",
       "        vertical-align: top;\n",
       "    }\n",
       "\n",
       "    .dataframe thead th {\n",
       "        text-align: right;\n",
       "    }\n",
       "</style>\n",
       "<table border=\"1\" class=\"dataframe\">\n",
       "  <thead>\n",
       "    <tr style=\"text-align: right;\">\n",
       "      <th></th>\n",
       "      <th>fit_time</th>\n",
       "      <th>score_time</th>\n",
       "      <th>test_score</th>\n",
       "      <th>train_score</th>\n",
       "    </tr>\n",
       "  </thead>\n",
       "  <tbody>\n",
       "    <tr>\n",
       "      <th>0</th>\n",
       "      <td>0.000838</td>\n",
       "      <td>0.000285</td>\n",
       "      <td>0.866667</td>\n",
       "      <td>0.837037</td>\n",
       "    </tr>\n",
       "    <tr>\n",
       "      <th>1</th>\n",
       "      <td>0.000736</td>\n",
       "      <td>0.000261</td>\n",
       "      <td>0.866667</td>\n",
       "      <td>0.837037</td>\n",
       "    </tr>\n",
       "    <tr>\n",
       "      <th>2</th>\n",
       "      <td>0.000750</td>\n",
       "      <td>0.000264</td>\n",
       "      <td>0.666667</td>\n",
       "      <td>0.851852</td>\n",
       "    </tr>\n",
       "    <tr>\n",
       "      <th>3</th>\n",
       "      <td>0.000817</td>\n",
       "      <td>0.000278</td>\n",
       "      <td>0.866667</td>\n",
       "      <td>0.837037</td>\n",
       "    </tr>\n",
       "    <tr>\n",
       "      <th>4</th>\n",
       "      <td>0.000764</td>\n",
       "      <td>0.000265</td>\n",
       "      <td>0.666667</td>\n",
       "      <td>0.866667</td>\n",
       "    </tr>\n",
       "    <tr>\n",
       "      <th>5</th>\n",
       "      <td>0.000742</td>\n",
       "      <td>0.000268</td>\n",
       "      <td>0.733333</td>\n",
       "      <td>0.844444</td>\n",
       "    </tr>\n",
       "    <tr>\n",
       "      <th>6</th>\n",
       "      <td>0.000750</td>\n",
       "      <td>0.000259</td>\n",
       "      <td>0.800000</td>\n",
       "      <td>0.844444</td>\n",
       "    </tr>\n",
       "    <tr>\n",
       "      <th>7</th>\n",
       "      <td>0.000810</td>\n",
       "      <td>0.000269</td>\n",
       "      <td>0.733333</td>\n",
       "      <td>0.844444</td>\n",
       "    </tr>\n",
       "    <tr>\n",
       "      <th>8</th>\n",
       "      <td>0.000736</td>\n",
       "      <td>0.000343</td>\n",
       "      <td>0.666667</td>\n",
       "      <td>0.829630</td>\n",
       "    </tr>\n",
       "    <tr>\n",
       "      <th>9</th>\n",
       "      <td>0.000773</td>\n",
       "      <td>0.000261</td>\n",
       "      <td>0.466667</td>\n",
       "      <td>0.859259</td>\n",
       "    </tr>\n",
       "  </tbody>\n",
       "</table>\n",
       "</div>"
      ],
      "text/plain": [
       "   fit_time  score_time  test_score  train_score\n",
       "0  0.000838    0.000285    0.866667     0.837037\n",
       "1  0.000736    0.000261    0.866667     0.837037\n",
       "2  0.000750    0.000264    0.666667     0.851852\n",
       "3  0.000817    0.000278    0.866667     0.837037\n",
       "4  0.000764    0.000265    0.666667     0.866667\n",
       "5  0.000742    0.000268    0.733333     0.844444\n",
       "6  0.000750    0.000259    0.800000     0.844444\n",
       "7  0.000810    0.000269    0.733333     0.844444\n",
       "8  0.000736    0.000343    0.666667     0.829630\n",
       "9  0.000773    0.000261    0.466667     0.859259"
      ]
     },
     "execution_count": 181,
     "metadata": {},
     "output_type": "execute_result"
    }
   ],
   "source": [
    "decTree = DecisionTreeClassifier(max_depth=5, random_state=42).fit(X_train, y_train)\n",
    "\n",
    "df_dec = pd.DataFrame(cross_validate(decTree, X, y, cv=kFold, return_train_score=True))\n",
    "scores = cross_val_score(decTree, X, y)\n",
    "\n",
    "print(\"Average cross-validation score: {:.2f}\".format(scores.mean()))\n",
    "df_dec"
   ]
  },
  {
   "cell_type": "markdown",
   "metadata": {},
   "source": [
    "### Grid Search\n"
   ]
  },
  {
   "cell_type": "code",
   "execution_count": null,
   "metadata": {},
   "outputs": [],
   "source": [
    "# split data into train+validation set and test set\n",
    "X_trainval, X_test, y_trainval, y_test = train_test_split(iris.data, iris.target, random_state=0)\n",
    "\n",
    "# split train+validation set into training and validation sets\n",
    "X_train, X_valid, y_train, y_valid = train_test_split(X_trainval, y_trainval, random_state=1)\n",
    "\n",
    "print(\"Size of training set: {}   size of validation set: {}   size of test set:\"\n",
    "      \" {}\\n\".format(X_train.shape[0], X_valid.shape[0], X_test.shape[0]))"
   ]
  },
  {
   "cell_type": "code",
   "execution_count": null,
   "metadata": {},
   "outputs": [],
   "source": [
    "from sklearn.tree import DecisionTreeClassifier\n",
    "## beste parameters zoeken voor het decision tree model\n",
    "best_score = 0\n",
    "\n",
    "# make a grid for parameter tuning\n",
    "for depth in [1,2,3,4,5]:\n",
    "    for rs in [0,5,10,20,40]:\n",
    "    # for each combination of parameters train a decisiontree\n",
    "        tree = DecisionTreeClassifier(max_depth=depth, random_state=rs)\n",
    "        tree.fit(X_train, y_train)\n",
    "        # evaluate for the validation set\n",
    "        score = tree.score(X_valid, y_valid)\n",
    "        # store the best scores\n",
    "        if score > best_score:\n",
    "            best_score = score\n",
    "            best_parameters = {'max_depth': depth, 'random_state': rs}\n",
    "\n",
    "print(\"Best parameters: \", best_parameters)"
   ]
  },
  {
   "cell_type": "code",
   "execution_count": null,
   "metadata": {},
   "outputs": [],
   "source": [
    "# rebuild a model on the combined training and validation set,\n",
    "# and evaluate it on the test set\n",
    "tree = DecisionTreeClassifier(**best_parameters)\n",
    "tree.fit(X_trainval, y_trainval)\n",
    "training_score = tree.score(X_train, y_train)\n",
    "test_score = tree.score(X_test, y_test)\n",
    "\n",
    "print(\"Training set score with best parameters : {:.2f}\".format(training_score))\n",
    "print(\"Best score on validation set: {:.2f}\".format(best_score))\n",
    "print(\"Test set score with best parameters: {:.2f}\".format(test_score))"
   ]
  },
  {
   "cell_type": "markdown",
   "metadata": {},
   "source": [
    "# Grid search in combinatie met Cross-validatie"
   ]
  },
  {
   "cell_type": "code",
   "execution_count": null,
   "metadata": {},
   "outputs": [],
   "source": [
    "#fill parameter grid for this model\n",
    "param_grid = {'random_state': [0, 1, 2, 3, 4, 5]}\n",
    "\n",
    "#do a gridsearchCV, this will decide the best parameters for the model \n",
    "#and usses a validation set to minimalize overfitting of the training set\n",
    "gridSearchLogReg = GridSearchCV(LogisticRegression(solver=\"liblinear\", multi_class=\"auto\"), param_grid, cv=5, return_train_score=True)\n",
    "\n",
    "gridSearchLogReg.fit(X_train, y_train)\n",
    "pred = gridSearchLogReg.predict(X_test)\n",
    "trainingScoreLogReg = round(gridSearchLogReg.score(X_train, y_train), 2)\n",
    "testScoreLogReg = round(gridSearchLogReg.score(X_test, y_test), 2)\n",
    "\n",
    "print(\"Training set score: \" + str(trainingScoreLogReg))\n",
    "print(\"Test set score: \" + str(testScoreLogReg))\n",
    "\n",
    "print(\"Best parameters: {}\".format(gridSearchLogReg.best_params_))\n",
    "print(\"Best cross-validation score: {:.2f}\".format(gridSearchLogReg.best_score_))\n",
    "\n",
    "#print(\"\\nConfusion matrix:\")\n",
    "#print(confusion_matrix(y_test,pred))\n",
    "#print(\"\\nClassification report:\")\n",
    "#print(classification_report(y_test,pred))"
   ]
  },
  {
   "cell_type": "code",
   "execution_count": null,
   "metadata": {},
   "outputs": [],
   "source": []
  },
  {
   "cell_type": "code",
   "execution_count": null,
   "metadata": {},
   "outputs": [],
   "source": [
    "from sklearn.model_selection import GridSearchCV\n",
    "\n",
    "param_grid = {'max_depth': [1,2,3,4,5], 'random_state': [0,5,10,20,40]}\n",
    "print(\"Parameter grid:\\n{}\".format(param_grid))\n",
    "\n",
    "grid_search = GridSearchCV(DecisionTreeClassifier(), param_grid, cv=5,\n",
    "                          return_train_score=True)\n",
    "# do not overfit the parameters !\n",
    "X_train, X_test, y_train, y_test = train_test_split(iris.data, iris.target, random_state=0)\n",
    "grid_search.fit(X_train, y_train)\n",
    "print(\"Test set score: {:.2f}\".format(grid_search.score(X_test, y_test)))\n",
    "print(\"Best parameters: {}\".format(grid_search.best_params_))\n",
    "print(\"Best cross-validation score: {:.2f}\".format(grid_search.best_score_))\n",
    "print(\"Best estimator:\\n{}\".format(grid_search.best_estimator_))"
   ]
  },
  {
   "cell_type": "markdown",
   "metadata": {},
   "source": [
    "# TODO: Visualisatie van de GridSearchCV aan de hand van een heat map\n",
    "\n",
    "Samenvatting deel 1\n",
    "\n",
    "Doel : generalisatie vermogen van het model verbeteren op reële data.\n",
    "\n",
    "1 test set gebruiken om accuracy te berekenen is erg beperkt\n",
    "\n",
    "cross-validatie en varianten geven je betere accuracy voorspelling maar is uiteraard rekenintensief\n",
    "parametertuning en gridsearch technieken helpen om generalisatievermogen te verhogen, let wel dat je hierbij de testset niet gaat overfitten :\n",
    "\n",
    "  - maak gebruik van een validatieset\n",
    "  - doe de combinatie van gridsearch / cross-validatie (opnieuw : rekenintensief!)\n",
    "  \n",
    "  \n",
    "## Deel 2\n",
    "\n",
    "Metrieken om beter te evalueren\n",
    "\n",
    "metrieken gebruikt tot dusver :\n",
    "\n",
    "voor classificatie : accuracy : tel het aantal juist geclassificeerde data-elementen in de testset tov de grootte van de testset\n",
    "\n",
    "voor regressie : MSE : mean-squared-error : bereken het verschil tussen voorspelde en werkelijke waarde, kwadrateer deze fouten en neem hier een gemiddelde van"
   ]
  },
  {
   "cell_type": "code",
   "execution_count": 188,
   "metadata": {},
   "outputs": [
    {
     "name": "stdout",
     "output_type": "stream",
     "text": [
      "Feature importances:\n",
      "[0.00391445 0.18727004 0.05286178 0.17371135 0.02509994 0.12729032\n",
      " 0.26173291 0.1681192 ]\n"
     ]
    },
    {
     "ename": "ValueError",
     "evalue": "shape mismatch: objects cannot be broadcast to a single shape",
     "output_type": "error",
     "traceback": [
      "\u001b[0;31m---------------------------------------------------------------------------\u001b[0m",
      "\u001b[0;31mValueError\u001b[0m                                Traceback (most recent call last)",
      "\u001b[0;32m<ipython-input-188-edb4027324c7>\u001b[0m in \u001b[0;36m<module>\u001b[0;34m\u001b[0m\n\u001b[1;32m     13\u001b[0m     \u001b[0mplt\u001b[0m\u001b[0;34m.\u001b[0m\u001b[0mylim\u001b[0m\u001b[0;34m(\u001b[0m\u001b[0;34m-\u001b[0m\u001b[0;36m1\u001b[0m\u001b[0;34m,\u001b[0m \u001b[0mn_features\u001b[0m\u001b[0;34m)\u001b[0m\u001b[0;34m\u001b[0m\u001b[0;34m\u001b[0m\u001b[0m\n\u001b[1;32m     14\u001b[0m \u001b[0;34m\u001b[0m\u001b[0m\n\u001b[0;32m---> 15\u001b[0;31m \u001b[0mplot_feature_importances_cancer\u001b[0m\u001b[0;34m(\u001b[0m\u001b[0mtreeModel\u001b[0m\u001b[0;34m)\u001b[0m\u001b[0;34m\u001b[0m\u001b[0;34m\u001b[0m\u001b[0m\n\u001b[0m",
      "\u001b[0;32m<ipython-input-188-edb4027324c7>\u001b[0m in \u001b[0;36mplot_feature_importances_cancer\u001b[0;34m(model)\u001b[0m\n\u001b[1;32m      7\u001b[0m \u001b[0;32mdef\u001b[0m \u001b[0mplot_feature_importances_cancer\u001b[0m\u001b[0;34m(\u001b[0m\u001b[0mmodel\u001b[0m\u001b[0;34m)\u001b[0m\u001b[0;34m:\u001b[0m\u001b[0;34m\u001b[0m\u001b[0;34m\u001b[0m\u001b[0m\n\u001b[1;32m      8\u001b[0m     \u001b[0mn_features\u001b[0m \u001b[0;34m=\u001b[0m \u001b[0mX\u001b[0m\u001b[0;34m.\u001b[0m\u001b[0mshape\u001b[0m\u001b[0;34m[\u001b[0m\u001b[0;36m1\u001b[0m\u001b[0;34m]\u001b[0m\u001b[0;34m\u001b[0m\u001b[0;34m\u001b[0m\u001b[0m\n\u001b[0;32m----> 9\u001b[0;31m     \u001b[0mplt\u001b[0m\u001b[0;34m.\u001b[0m\u001b[0mbarh\u001b[0m\u001b[0;34m(\u001b[0m\u001b[0mnp\u001b[0m\u001b[0;34m.\u001b[0m\u001b[0marange\u001b[0m\u001b[0;34m(\u001b[0m\u001b[0mn_features\u001b[0m\u001b[0;34m)\u001b[0m\u001b[0;34m,\u001b[0m \u001b[0mmodel\u001b[0m\u001b[0;34m.\u001b[0m\u001b[0mfeature_importances_\u001b[0m\u001b[0;34m,\u001b[0m \u001b[0malign\u001b[0m\u001b[0;34m=\u001b[0m\u001b[0;34m'center'\u001b[0m\u001b[0;34m)\u001b[0m\u001b[0;34m\u001b[0m\u001b[0;34m\u001b[0m\u001b[0m\n\u001b[0m\u001b[1;32m     10\u001b[0m     \u001b[0mplt\u001b[0m\u001b[0;34m.\u001b[0m\u001b[0myticks\u001b[0m\u001b[0;34m(\u001b[0m\u001b[0mnp\u001b[0m\u001b[0;34m.\u001b[0m\u001b[0marange\u001b[0m\u001b[0;34m(\u001b[0m\u001b[0mn_features\u001b[0m\u001b[0;34m)\u001b[0m\u001b[0;34m,\u001b[0m \u001b[0;34m[\u001b[0m\u001b[0;34m'qsdd'\u001b[0m\u001b[0;34m,\u001b[0m\u001b[0;34m\"qs\"\u001b[0m\u001b[0;34m]\u001b[0m\u001b[0;34m)\u001b[0m\u001b[0;34m\u001b[0m\u001b[0;34m\u001b[0m\u001b[0m\n\u001b[1;32m     11\u001b[0m     \u001b[0mplt\u001b[0m\u001b[0;34m.\u001b[0m\u001b[0mxlabel\u001b[0m\u001b[0;34m(\u001b[0m\u001b[0;34m\"Feature importance\"\u001b[0m\u001b[0;34m)\u001b[0m\u001b[0;34m\u001b[0m\u001b[0;34m\u001b[0m\u001b[0m\n",
      "\u001b[0;32m~/anaconda3/lib/python3.8/site-packages/matplotlib/pyplot.py\u001b[0m in \u001b[0;36mbarh\u001b[0;34m(y, width, height, left, align, **kwargs)\u001b[0m\n\u001b[1;32m   2500\u001b[0m \u001b[0;34m@\u001b[0m\u001b[0m_copy_docstring_and_deprecators\u001b[0m\u001b[0;34m(\u001b[0m\u001b[0mAxes\u001b[0m\u001b[0;34m.\u001b[0m\u001b[0mbarh\u001b[0m\u001b[0;34m)\u001b[0m\u001b[0;34m\u001b[0m\u001b[0;34m\u001b[0m\u001b[0m\n\u001b[1;32m   2501\u001b[0m \u001b[0;32mdef\u001b[0m \u001b[0mbarh\u001b[0m\u001b[0;34m(\u001b[0m\u001b[0my\u001b[0m\u001b[0;34m,\u001b[0m \u001b[0mwidth\u001b[0m\u001b[0;34m,\u001b[0m \u001b[0mheight\u001b[0m\u001b[0;34m=\u001b[0m\u001b[0;36m0.8\u001b[0m\u001b[0;34m,\u001b[0m \u001b[0mleft\u001b[0m\u001b[0;34m=\u001b[0m\u001b[0;32mNone\u001b[0m\u001b[0;34m,\u001b[0m \u001b[0;34m*\u001b[0m\u001b[0;34m,\u001b[0m \u001b[0malign\u001b[0m\u001b[0;34m=\u001b[0m\u001b[0;34m'center'\u001b[0m\u001b[0;34m,\u001b[0m \u001b[0;34m**\u001b[0m\u001b[0mkwargs\u001b[0m\u001b[0;34m)\u001b[0m\u001b[0;34m:\u001b[0m\u001b[0;34m\u001b[0m\u001b[0;34m\u001b[0m\u001b[0m\n\u001b[0;32m-> 2502\u001b[0;31m     return gca().barh(\n\u001b[0m\u001b[1;32m   2503\u001b[0m         y, width, height=height, left=left, align=align, **kwargs)\n\u001b[1;32m   2504\u001b[0m \u001b[0;34m\u001b[0m\u001b[0m\n",
      "\u001b[0;32m~/anaconda3/lib/python3.8/site-packages/matplotlib/axes/_axes.py\u001b[0m in \u001b[0;36mbarh\u001b[0;34m(self, y, width, height, left, align, **kwargs)\u001b[0m\n\u001b[1;32m   2628\u001b[0m         \"\"\"\n\u001b[1;32m   2629\u001b[0m         \u001b[0mkwargs\u001b[0m\u001b[0;34m.\u001b[0m\u001b[0msetdefault\u001b[0m\u001b[0;34m(\u001b[0m\u001b[0;34m'orientation'\u001b[0m\u001b[0;34m,\u001b[0m \u001b[0;34m'horizontal'\u001b[0m\u001b[0;34m)\u001b[0m\u001b[0;34m\u001b[0m\u001b[0;34m\u001b[0m\u001b[0m\n\u001b[0;32m-> 2630\u001b[0;31m         patches = self.bar(x=left, height=height, width=width, bottom=y,\n\u001b[0m\u001b[1;32m   2631\u001b[0m                            align=align, **kwargs)\n\u001b[1;32m   2632\u001b[0m         \u001b[0;32mreturn\u001b[0m \u001b[0mpatches\u001b[0m\u001b[0;34m\u001b[0m\u001b[0;34m\u001b[0m\u001b[0m\n",
      "\u001b[0;32m~/anaconda3/lib/python3.8/site-packages/matplotlib/__init__.py\u001b[0m in \u001b[0;36minner\u001b[0;34m(ax, data, *args, **kwargs)\u001b[0m\n\u001b[1;32m   1436\u001b[0m     \u001b[0;32mdef\u001b[0m \u001b[0minner\u001b[0m\u001b[0;34m(\u001b[0m\u001b[0max\u001b[0m\u001b[0;34m,\u001b[0m \u001b[0;34m*\u001b[0m\u001b[0margs\u001b[0m\u001b[0;34m,\u001b[0m \u001b[0mdata\u001b[0m\u001b[0;34m=\u001b[0m\u001b[0;32mNone\u001b[0m\u001b[0;34m,\u001b[0m \u001b[0;34m**\u001b[0m\u001b[0mkwargs\u001b[0m\u001b[0;34m)\u001b[0m\u001b[0;34m:\u001b[0m\u001b[0;34m\u001b[0m\u001b[0;34m\u001b[0m\u001b[0m\n\u001b[1;32m   1437\u001b[0m         \u001b[0;32mif\u001b[0m \u001b[0mdata\u001b[0m \u001b[0;32mis\u001b[0m \u001b[0;32mNone\u001b[0m\u001b[0;34m:\u001b[0m\u001b[0;34m\u001b[0m\u001b[0;34m\u001b[0m\u001b[0m\n\u001b[0;32m-> 1438\u001b[0;31m             \u001b[0;32mreturn\u001b[0m \u001b[0mfunc\u001b[0m\u001b[0;34m(\u001b[0m\u001b[0max\u001b[0m\u001b[0;34m,\u001b[0m \u001b[0;34m*\u001b[0m\u001b[0mmap\u001b[0m\u001b[0;34m(\u001b[0m\u001b[0msanitize_sequence\u001b[0m\u001b[0;34m,\u001b[0m \u001b[0margs\u001b[0m\u001b[0;34m)\u001b[0m\u001b[0;34m,\u001b[0m \u001b[0;34m**\u001b[0m\u001b[0mkwargs\u001b[0m\u001b[0;34m)\u001b[0m\u001b[0;34m\u001b[0m\u001b[0;34m\u001b[0m\u001b[0m\n\u001b[0m\u001b[1;32m   1439\u001b[0m \u001b[0;34m\u001b[0m\u001b[0m\n\u001b[1;32m   1440\u001b[0m         \u001b[0mbound\u001b[0m \u001b[0;34m=\u001b[0m \u001b[0mnew_sig\u001b[0m\u001b[0;34m.\u001b[0m\u001b[0mbind\u001b[0m\u001b[0;34m(\u001b[0m\u001b[0max\u001b[0m\u001b[0;34m,\u001b[0m \u001b[0;34m*\u001b[0m\u001b[0margs\u001b[0m\u001b[0;34m,\u001b[0m \u001b[0;34m**\u001b[0m\u001b[0mkwargs\u001b[0m\u001b[0;34m)\u001b[0m\u001b[0;34m\u001b[0m\u001b[0;34m\u001b[0m\u001b[0m\n",
      "\u001b[0;32m~/anaconda3/lib/python3.8/site-packages/matplotlib/axes/_axes.py\u001b[0m in \u001b[0;36mbar\u001b[0;34m(self, x, height, width, bottom, align, **kwargs)\u001b[0m\n\u001b[1;32m   2428\u001b[0m                 \u001b[0myerr\u001b[0m \u001b[0;34m=\u001b[0m \u001b[0mself\u001b[0m\u001b[0;34m.\u001b[0m\u001b[0m_convert_dx\u001b[0m\u001b[0;34m(\u001b[0m\u001b[0myerr\u001b[0m\u001b[0;34m,\u001b[0m \u001b[0my0\u001b[0m\u001b[0;34m,\u001b[0m \u001b[0my\u001b[0m\u001b[0;34m,\u001b[0m \u001b[0mself\u001b[0m\u001b[0;34m.\u001b[0m\u001b[0mconvert_yunits\u001b[0m\u001b[0;34m)\u001b[0m\u001b[0;34m\u001b[0m\u001b[0;34m\u001b[0m\u001b[0m\n\u001b[1;32m   2429\u001b[0m \u001b[0;34m\u001b[0m\u001b[0m\n\u001b[0;32m-> 2430\u001b[0;31m         x, height, width, y, linewidth = np.broadcast_arrays(\n\u001b[0m\u001b[1;32m   2431\u001b[0m             \u001b[0;31m# Make args iterable too.\u001b[0m\u001b[0;34m\u001b[0m\u001b[0;34m\u001b[0m\u001b[0;34m\u001b[0m\u001b[0m\n\u001b[1;32m   2432\u001b[0m             np.atleast_1d(x), height, width, y, linewidth)\n",
      "\u001b[0;32m<__array_function__ internals>\u001b[0m in \u001b[0;36mbroadcast_arrays\u001b[0;34m(*args, **kwargs)\u001b[0m\n",
      "\u001b[0;32m~/anaconda3/lib/python3.8/site-packages/numpy/lib/stride_tricks.py\u001b[0m in \u001b[0;36mbroadcast_arrays\u001b[0;34m(subok, *args)\u001b[0m\n\u001b[1;32m    256\u001b[0m     \u001b[0margs\u001b[0m \u001b[0;34m=\u001b[0m \u001b[0;34m[\u001b[0m\u001b[0mnp\u001b[0m\u001b[0;34m.\u001b[0m\u001b[0marray\u001b[0m\u001b[0;34m(\u001b[0m\u001b[0m_m\u001b[0m\u001b[0;34m,\u001b[0m \u001b[0mcopy\u001b[0m\u001b[0;34m=\u001b[0m\u001b[0;32mFalse\u001b[0m\u001b[0;34m,\u001b[0m \u001b[0msubok\u001b[0m\u001b[0;34m=\u001b[0m\u001b[0msubok\u001b[0m\u001b[0;34m)\u001b[0m \u001b[0;32mfor\u001b[0m \u001b[0m_m\u001b[0m \u001b[0;32min\u001b[0m \u001b[0margs\u001b[0m\u001b[0;34m]\u001b[0m\u001b[0;34m\u001b[0m\u001b[0;34m\u001b[0m\u001b[0m\n\u001b[1;32m    257\u001b[0m \u001b[0;34m\u001b[0m\u001b[0m\n\u001b[0;32m--> 258\u001b[0;31m     \u001b[0mshape\u001b[0m \u001b[0;34m=\u001b[0m \u001b[0m_broadcast_shape\u001b[0m\u001b[0;34m(\u001b[0m\u001b[0;34m*\u001b[0m\u001b[0margs\u001b[0m\u001b[0;34m)\u001b[0m\u001b[0;34m\u001b[0m\u001b[0;34m\u001b[0m\u001b[0m\n\u001b[0m\u001b[1;32m    259\u001b[0m \u001b[0;34m\u001b[0m\u001b[0m\n\u001b[1;32m    260\u001b[0m     \u001b[0;32mif\u001b[0m \u001b[0mall\u001b[0m\u001b[0;34m(\u001b[0m\u001b[0marray\u001b[0m\u001b[0;34m.\u001b[0m\u001b[0mshape\u001b[0m \u001b[0;34m==\u001b[0m \u001b[0mshape\u001b[0m \u001b[0;32mfor\u001b[0m \u001b[0marray\u001b[0m \u001b[0;32min\u001b[0m \u001b[0margs\u001b[0m\u001b[0;34m)\u001b[0m\u001b[0;34m:\u001b[0m\u001b[0;34m\u001b[0m\u001b[0;34m\u001b[0m\u001b[0m\n",
      "\u001b[0;32m~/anaconda3/lib/python3.8/site-packages/numpy/lib/stride_tricks.py\u001b[0m in \u001b[0;36m_broadcast_shape\u001b[0;34m(*args)\u001b[0m\n\u001b[1;32m    187\u001b[0m     \u001b[0;31m# use the old-iterator because np.nditer does not handle size 0 arrays\u001b[0m\u001b[0;34m\u001b[0m\u001b[0;34m\u001b[0m\u001b[0;34m\u001b[0m\u001b[0m\n\u001b[1;32m    188\u001b[0m     \u001b[0;31m# consistently\u001b[0m\u001b[0;34m\u001b[0m\u001b[0;34m\u001b[0m\u001b[0;34m\u001b[0m\u001b[0m\n\u001b[0;32m--> 189\u001b[0;31m     \u001b[0mb\u001b[0m \u001b[0;34m=\u001b[0m \u001b[0mnp\u001b[0m\u001b[0;34m.\u001b[0m\u001b[0mbroadcast\u001b[0m\u001b[0;34m(\u001b[0m\u001b[0;34m*\u001b[0m\u001b[0margs\u001b[0m\u001b[0;34m[\u001b[0m\u001b[0;34m:\u001b[0m\u001b[0;36m32\u001b[0m\u001b[0;34m]\u001b[0m\u001b[0;34m)\u001b[0m\u001b[0;34m\u001b[0m\u001b[0;34m\u001b[0m\u001b[0m\n\u001b[0m\u001b[1;32m    190\u001b[0m     \u001b[0;31m# unfortunately, it cannot handle 32 or more arguments directly\u001b[0m\u001b[0;34m\u001b[0m\u001b[0;34m\u001b[0m\u001b[0;34m\u001b[0m\u001b[0m\n\u001b[1;32m    191\u001b[0m     \u001b[0;32mfor\u001b[0m \u001b[0mpos\u001b[0m \u001b[0;32min\u001b[0m \u001b[0mrange\u001b[0m\u001b[0;34m(\u001b[0m\u001b[0;36m32\u001b[0m\u001b[0;34m,\u001b[0m \u001b[0mlen\u001b[0m\u001b[0;34m(\u001b[0m\u001b[0margs\u001b[0m\u001b[0;34m)\u001b[0m\u001b[0;34m,\u001b[0m \u001b[0;36m31\u001b[0m\u001b[0;34m)\u001b[0m\u001b[0;34m:\u001b[0m\u001b[0;34m\u001b[0m\u001b[0;34m\u001b[0m\u001b[0m\n",
      "\u001b[0;31mValueError\u001b[0m: shape mismatch: objects cannot be broadcast to a single shape"
     ]
    },
    {
     "data": {
      "image/png": "[encoded data removed]",
      "text/plain": [
       "<Figure size 432x288 with 1 Axes>"
      ]
     },
     "metadata": {
      "needs_background": "light"
     },
     "output_type": "display_data"
    }
   ],
   "source": [
    "print(\"Feature importances:\")\n",
    "print(treeModel.feature_importances_)\n",
    "\n",
    "import matplotlib.pyplot as plt\n",
    "import numpy as np\n",
    "\n",
    "def plot_feature_importances_cancer(model):\n",
    "    n_features = X.shape[1]\n",
    "    plt.barh(np.arange(n_features), model.feature_importances_, align='center')\n",
    "    plt.yticks(np.arange(n_features), ['qsdd',\"qs\"])\n",
    "    plt.xlabel(\"Feature importance\")\n",
    "    plt.ylabel(\"Feature\")\n",
    "    plt.ylim(-1, n_features)\n",
    "\n",
    "plot_feature_importances_cancer(treeModel)"
   ]
  },
  {
   "cell_type": "code",
   "execution_count": null,
   "metadata": {},
   "outputs": [],
   "source": [
    "#scatter_matrix(df, figsize=(10, 10))\n",
    "#plt.show()"
   ]
  },
  {
   "cell_type": "code",
   "execution_count": null,
   "metadata": {},
   "outputs": [],
   "source": [
    "#print(\"Average cross-validation score: {:.2f}\".format(scores.mean()))"
   ]
  },
  {
   "cell_type": "code",
   "execution_count": null,
   "metadata": {},
   "outputs": [],
   "source": []
  }
 ],
 "metadata": {
  "kernelspec": {
   "display_name": "Python 3",
   "language": "python",
   "name": "python3"
  },
  "language_info": {
   "codemirror_mode": {
    "name": "ipython",
    "version": 3
   },
   "file_extension": ".py",
   "mimetype": "text/x-python",
   "name": "python",
   "nbconvert_exporter": "python",
   "pygments_lexer": "ipython3",
   "version": "3.8.5"
  }
 },
 "nbformat": 4,
 "nbformat_minor": 4
}
