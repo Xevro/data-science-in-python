{
 "cells": [
  {
   "cell_type": "markdown",
   "metadata": {},
   "source": [
    "# Data science project in Python - Voorspellingen maken met features\n",
    "\n",
    "Doormiddel van numpy, pandas, matplotlib & SciKit-learn\n",
    "\n",
    "Door Louis D'Hont - Elektronica-ICT - 2021\n",
    "\n",
    "Dit project is het tweede deel van het data science project. Bekijk project-deel-1 om het data cleaning proces te zien."
   ]
  },
  {
   "cell_type": "code",
   "execution_count": 1,
   "metadata": {},
   "outputs": [],
   "source": [
    "# Importeren van gebruikte bibliotheken\n",
    "import datetime\n",
    "import seaborn\n",
    "import numpy as np\n",
    "import pandas as pd\n",
    "import matplotlib.pyplot as plt\n",
    "\n",
    "from sklearn.tree import plot_tree\n",
    "from sklearn.tree import DecisionTreeClassifier\n",
    "from sklearn.linear_model import LinearRegression\n",
    "from sklearn.linear_model import LogisticRegression\n",
    "\n",
    "from sklearn.model_selection import KFold\n",
    "from sklearn.model_selection import cross_val_score\n",
    "from sklearn.model_selection import cross_validate\n",
    "from sklearn.model_selection import train_test_split\n",
    "from sklearn.model_selection import GridSearchCV\n",
    "\n",
    "from sklearn.neighbors import KNeighborsClassifier\n",
    "from sklearn.ensemble import RandomForestClassifier\n",
    "from sklearn.preprocessing import StandardScaler\n",
    "from sklearn.ensemble import GradientBoostingClassifier\n",
    "\n",
    "from sklearn.metrics import classification_report\n",
    "from sklearn.metrics import mean_squared_error\n",
    "from sklearn.datasets import make_classification\n",
    "from sklearn.pipeline import make_pipeline\n",
    "\n",
    "from sklearn.pipeline import Pipeline"
   ]
  },
  {
   "cell_type": "markdown",
   "metadata": {},
   "source": [
    "## 1 - Features behandelen\n",
    "\n",
    "### 1.1 - Inlezen features\n",
    "\n",
    "Onderstaande code leest het *featuresDataFrame* bestand in en zet deze om naar een dataframe. In deel 1 van het project is er nog een aanpassing gebeurd, de kolom *Geboortedatum* werd alsnog meegenomen als feature om hierna verdere berekeningen te kunnen doen."
   ]
  },
  {
   "cell_type": "code",
   "execution_count": 2,
   "metadata": {},
   "outputs": [],
   "source": [
    "features = pd.read_csv(\"featuresDataFrame.csv\", sep=',') \n",
    "features = features.drop(['Unnamed: 0'], axis=1)"
   ]
  },
  {
   "cell_type": "markdown",
   "metadata": {},
   "source": [
    "### 1.2 - Omzetten van datatypes\n",
    "\n",
    "De opgeslagen data is bij het inlezen opnieuw van het type int64, float64 en object. De data dat hiervoor een timedelta was ('Aantal dagen tot vertrek' en de 'Aantal dagen op reis' kolom) moet worden omgezet zodat er terug met kan worden gewerkt.\n",
    "\n",
    "Elk land werd omgezet in een cijfer. De onderstaande lijst toont de eerste 5 landen met hun corresponderende cijfer.\n",
    "\n",
    "- 1 België\n",
    "- 2 Nederland\n",
    "- 3 Frankrijk\n",
    "- 4 Duitsland\n",
    "- 5 Groot Brittannië\n",
    "\n",
    "Elk reistype werd ook eveneens omgezet in een cijfer. De onderstaande lijst toont de reis types met hun corresponderende cijfer.\n",
    "\n",
    "- 1 Ruitervakantie\n",
    "- 2 Ponykamp\n",
    "- 3 Ruitervakantie& Vliegreis\n",
    "- 4 Trektocht\n",
    "- 5 Ruitervakantie Eigen Vervoer\n",
    "- 6 Huifkar tocht\n",
    "- 7 Safari\n",
    "- 8 Jeugdkamp\n",
    "- 9 Weekendje weg"
   ]
  },
  {
   "cell_type": "code",
   "execution_count": 3,
   "metadata": {},
   "outputs": [
    {
     "name": "stderr",
     "output_type": "stream",
     "text": [
      "/Users/louisdhont/anaconda3/lib/python3.8/site-packages/pandas/core/indexing.py:670: SettingWithCopyWarning: \n",
      "A value is trying to be set on a copy of a slice from a DataFrame\n",
      "\n",
      "See the caveats in the documentation: https://pandas.pydata.org/pandas-docs/stable/user_guide/indexing.html#returning-a-view-versus-a-copy\n",
      "  iloc._setitem_with_indexer(indexer, value)\n"
     ]
    }
   ],
   "source": [
    "def convert_timedelta(df_col):\n",
    "    for index, row in enumerate(df_col): \n",
    "        days, timestamp = row.split(\" days \")\n",
    "        df_col.iloc[index] = days\n",
    "    return df_col\n",
    "\n",
    "def convert_land(df_land):\n",
    "    for index, row in enumerate(df_land):\n",
    "        if row == 'be':\n",
    "            df_land.iloc[index] = 1\n",
    "        elif row == 'nl':\n",
    "            df_land.iloc[index] = 2\n",
    "        elif row == 'fr':\n",
    "            df_land.iloc[index] = 3\n",
    "        elif row == 'de':\n",
    "            df_land.iloc[index] = 4\n",
    "        elif row == 'gb':\n",
    "            df_land.iloc[index] = 5  \n",
    "        elif row == 'lux':\n",
    "            df_land.iloc[index] = 6\n",
    "        elif row == 'sco':\n",
    "            df_land.iloc[index] = 7\n",
    "        elif row == 'pt':\n",
    "            df_land.iloc[index] = 8\n",
    "        elif row == 'sco':\n",
    "            df_land.iloc[index] = 9\n",
    "        elif row == 'sr':\n",
    "            df_land.iloc[index] = 10\n",
    "        elif row == 'cn':\n",
    "            df_land.iloc[index] = 11\n",
    "        elif row == 'aut':\n",
    "            df_land.iloc[index] = 12\n",
    "        elif row == 'ca':\n",
    "            df_land.iloc[index] = 13   \n",
    "        elif row == 'it':\n",
    "            df_land.iloc[index] = 14\n",
    "        elif row == 'es':\n",
    "            df_land.iloc[index] = 15\n",
    "        elif row == 'cl':\n",
    "            df_land.iloc[index] = 16\n",
    "\n",
    "def convert_reis_type(df_reistype):\n",
    "    for index, row in enumerate(df_reistype):\n",
    "        if row == 'Ruitervakantie':\n",
    "            df_reistype.iloc[index] = 1\n",
    "        elif row == 'Ponykamp':\n",
    "            df_reistype.iloc[index] = 2\n",
    "        elif row == 'Ruitervakantie& Vliegreis':\n",
    "            df_reistype.iloc[index] = 3\n",
    "        elif row == 'Trektocht':\n",
    "            df_reistype.iloc[index] = 4\n",
    "        elif row == 'Ruitervakantie Eigen Vervoer':\n",
    "            df_reistype.iloc[index] = 5  \n",
    "        elif row == 'Huifkar tocht':\n",
    "            df_reistype.iloc[index] = 6\n",
    "        elif row == 'Safari':\n",
    "            df_reistype.iloc[index] = 7\n",
    "        elif row == 'Jeugdkamp':\n",
    "            df_reistype.iloc[index] = 8\n",
    "        elif row == 'Weekendje weg':\n",
    "            df_reistype.iloc[index] = 9\n",
    "\n",
    "features['Datum creatie'] = pd.to_datetime(features['Datum creatie'], format='%Y.%m.%d', infer_datetime_format=True, errors='coerce')\n",
    "features['Datum vertrek'] = pd.to_datetime(features['Datum vertrek'], format='%Y.%m.%d', infer_datetime_format=True, errors='coerce')\n",
    "features['Datum terug'] = pd.to_datetime(features['Datum terug'], format='%Y.%m.%d', infer_datetime_format=True, errors='coerce')\n",
    "    \n",
    "features['Aantal dagen tot vertrek'] == convert_timedelta(features['Aantal dagen tot vertrek'])\n",
    "features['Aantal dagen tot vertrek'] = features['Aantal dagen tot vertrek'].astype(int)\n",
    "\n",
    "features['Aantal dagen op reis'] == convert_timedelta(features['Aantal dagen op reis'])\n",
    "features['Aantal dagen op reis'] = features['Aantal dagen op reis'].astype(int)\n",
    "            \n",
    "features['Land'] == convert_land(features['Land'])\n",
    "features['Land'] = features['Land'].astype(int)\n",
    "\n",
    "features['Reistype'] == convert_reis_type(features['Reistype'])\n",
    "features['Reistype'] = features['Reistype'].astype(int)                                     "
   ]
  },
  {
   "cell_type": "markdown",
   "metadata": {},
   "source": [
    "### 1.3 - Berekenen leeftijd\n",
    "\n",
    "De onderstaande code zet de geboortedatum om naar de huidige leeftijd, de lege waarden worden opgevuld met een gemiddelde leeftijd van 40 jaar omdat er kan vanuit worden gegaan dat de gemiddelde persoon 42 jaar is."
   ]
  },
  {
   "cell_type": "code",
   "execution_count": 4,
   "metadata": {},
   "outputs": [],
   "source": [
    "features['Geboortedatum'] = pd.to_datetime(features['Geboortedatum'], errors = 'coerce')\n",
    "features['Leeftijd'] = datetime.datetime.now().year - pd.DatetimeIndex(features['Geboortedatum']).year\n",
    "features['Leeftijd'] = features['Leeftijd'].fillna(42)\n",
    "features['Leeftijd'] = features['Leeftijd'].astype(int);"
   ]
  },
  {
   "cell_type": "markdown",
   "metadata": {},
   "source": [
    "### 1.4 -  Omzetten bestemmingen\n",
    "    \n",
    "De bestemmingen data is door het bedrijf manueel ingevoerd. Om de bestemmingen te kunnen koppelen aan een land heb  ik gekozen om elk land om te zetten naar een cijfer. Deze onderstaande lijst toont de eerste 10 landen met hun cijfer. Heel wat reizen bevatten geen directe aanwijzing naar het land maar hebben vaak een bekende stad of streek in de omschrijving, door deze te gaan groeperen konden alle bestemmingen worden omgezet naar hun corresponderende cijfer. Een 20 tal bestemmingen bevatte geen duidelijke aanwijzing naar een land of streek, hiervoor heb ik besloten om deze toe te wijzen aan het land waar de meeste reizen naartoe gaan, met name Frankrijk).\n",
    "\n",
    "- 1 België\n",
    "- 2 Nederland\n",
    "- 3 Frankrijk\n",
    "- 4 Duitsland\n",
    "- 5 Portugal\n",
    "- 6 Ijsland\n",
    "- 7 Italië\n",
    "- 8 Ierland\n",
    "- 9 De Verenigde Staten\n",
    "- 10 Jordanië"
   ]
  },
  {
   "cell_type": "code",
   "execution_count": 5,
   "metadata": {},
   "outputs": [],
   "source": [
    "nederland = ['friese', 'nederland', 'vlieland', 'brabant', 'twente', 'drenthe', 'limburg', 'brabantse', 'nederlands', 'duinen', 'salland', 'zeeland', 'ijslanders']\n",
    "belgie = ['ardennen', 'belgium', 'ardenne', 'belgië', 'belgie', 'arrdennen', 'eifel', 'ardennen', 'ardenen']\n",
    "frankrijk = ['frankrijk', 'mont saint michel', 'morvan', 'dartmoor', 'couleurs corse', 'vogezen', 'margeride', 'haute valee', 'jura', 'normandië', 'médoc', 'montmorillonnais', 'france', 'loire', 'wijnroute', 'wijngaarden', 'elzas', 'pyreneeën', 'dordogne', 'pyreneeen', 'corsica', 'aude', 'frans', 'armagnac', 'frankrijjk', 'frankijk']\n",
    "duitsland = ['germany', 'duitsland', 'thuringen', 'beieren', 'duitsand', 'duitse', 'thüringen']\n",
    "spanje = ['spain', 'spanje', 'sulayr', 'alpujarra', 'middellandse', 'demanda', 'monfrague', 'andalusisch', 'costa brava', 'sierra nevada', 'catalonië','catalonie', 'gredos', 'andalusië', 'ronda', 'andalusie', 'conquistadores']\n",
    "italie = ['italy', 'italie', 'sicilië', 'madonie', 'italië', 'sardinië', 'sardinie', 'toscane', 'molise', 'alta maremma', 'molise abruzzen']\n",
    "portugal = ['portugal', 'lusitano', 'faro', 'algarve', 'lissabon', 'portugese', 'azoren']\n",
    "usa = ['verenigde staten', 'montana', 'usa', 'united states', 'wyoming', 'ranch', 'colorado']\n",
    "kroatie = ['kroatie', 'croatia', 'kroatië', 'istrië', 'plitvice', 'rode-meer', 'dalmatie', 'istrie']\n",
    "allerlei = ['Klassieke dressuur van topkwaliteit en stedenschoon', 'Avontuurlijke trektocht door een sprookjesachtig gebied', 'Trektocht in het spoor van de tuimelaar-dolfijn ',\n",
    "       'Driedaagse trektocht in het land van d\\x19Oc en d\\x19Oil', 'Trektocht over de bergen naar de zee', 'Trektocht in het spoor van de tuimelaar-dolfijn','Paardrijden langs de route van de bandieten', 'De \\x18Great Trek\\x19: werkelijk avontuurlijke trektocht',\n",
    "       'Beach and Bush Rides', 'Dressuurweek','Een week paardrijden met jongvolwassenen','National Park: paardrijden voor pure ontspanning',\n",
    "       'Driedaagse tocht door de Vienne-vallei','Trektocht naar de gouden stranden', 'Oman','Trektocht tussen zee en woestijnbergen', 'Programma Full','Smokkelaarstocht', 'Trektocht over de bergen naar zee','Beach and Meadows trektocht','De \"legendes van de Wolf\"-trektocht','Standplaatsvakantie Stertochten', 'nan']\n",
    "\n",
    "def convert_bestemmingen():\n",
    "    for index, row in enumerate(features['Bestemming']):\n",
    "        if any(ext in (str(row).lower()) for ext in belgie):\n",
    "            features['Bestemming'].iloc[index] = 1\n",
    "        elif any(ext in (str(row).lower()) for ext in nederland):\n",
    "            features['Bestemming'].iloc[index] = 2\n",
    "        elif any(ext in (str(row).lower()) for ext in frankrijk):\n",
    "            features['Bestemming'].iloc[index] = 3\n",
    "        elif any(ext in (str(row).lower()) for ext in duitsland):\n",
    "            features['Bestemming'].iloc[index] = 4\n",
    "        elif any(ext in (str(row).lower()) for ext in portugal):\n",
    "            features['Bestemming'].iloc[index] = 5\n",
    "        elif any(ext in (str(row).lower()) for ext in ['ijsland', 'iceland', 'geysir', 'golden circle']):\n",
    "            features['Bestemming'].iloc[index] = 6\n",
    "        elif any(ext in (str(row).lower()) for ext in italie):\n",
    "            features['Bestemming'].iloc[index] = 7\n",
    "        elif any(ext in (str(row).lower()) for ext in ['ierland', 'ireland', 'galway', 'ierse', 'donegal']):\n",
    "            features['Bestemming'].iloc[index] = 8\n",
    "        elif any(ext in (str(row).lower()) for ext in usa):\n",
    "            features['Bestemming'].iloc[index] = 9\n",
    "        elif any(ext in (str(row).lower()) for ext in ['jordanie', 'jordan', 'wadi rum']):\n",
    "            features['Bestemming'].iloc[index] = 10\n",
    "        elif any(ext in (str(row).lower()) for ext in spanje):\n",
    "            features['Bestemming'].iloc[index] = 11\n",
    "        elif any(ext in (str(row).lower()) for ext in ['botswana']):\n",
    "            features['Bestemming'].iloc[index] = 12\n",
    "        elif any(ext in (str(row).lower()) for ext in ['canada', 'yukon', 'alberta', 'saskatchewan']):\n",
    "            features['Bestemming'].iloc[index] = 13\n",
    "        elif any(ext in (str(row).lower()) for ext in ['roemenie', 'roemenië', 'transsylvanie', 'transsylvanië']):\n",
    "            features['Bestemming'].iloc[index] = 14\n",
    "        elif any(ext in (str(row).lower()) for ext in ['chili', 'chile']):\n",
    "            features['Bestemming'].iloc[index] = 15\n",
    "        elif any(ext in (str(row).lower()) for ext in ['marokko', 'marokkaanse', 'berbers']):\n",
    "            features['Bestemming'].iloc[index] = 16\n",
    "        elif any(ext in (str(row).lower()) for ext in ['griekenland', 'petra', 'kreta', 'kefalonia']):\n",
    "            features['Bestemming'].iloc[index] = 17\n",
    "        elif any(ext in (str(row).lower()) for ext in ['zuid afrika', 'afrika']):\n",
    "            features['Bestemming'].iloc[index] = 18\n",
    "        elif any(ext in (str(row).lower()) for ext in ['bulgarije', 'bulgaria', 'balkan']):\n",
    "            features['Bestemming'].iloc[index] = 19\n",
    "        elif any(ext in (str(row).lower()) for ext in ['hongarije', 'poesta', 'homgarije']):\n",
    "            features['Bestemming'].iloc[index] = 20\n",
    "        elif any(ext in (str(row).lower()) for ext in ['tsjechie', 'tsjechië', 'zuid-bohemen', 'karpaten']):\n",
    "            features['Bestemming'].iloc[index] = 21   \n",
    "        elif any(ext in (str(row).lower()) for ext in ['cappadocië', 'turkije', 'turklije', 'thracians']):\n",
    "            features['Bestemming'].iloc[index] = 22\n",
    "        elif any(ext in (str(row).lower()) for ext in ['polen', 'poolse', 'poland']):\n",
    "            features['Bestemming'].iloc[index] = 23\n",
    "        elif any(ext in (str(row).lower()) for ext in ['namibie', 'namibië']):\n",
    "            features['Bestemming'].iloc[index] = 24\n",
    "        elif any(ext in (str(row).lower()) for ext in ['kirgizie', 'kirgizië']):\n",
    "            features['Bestemming'].iloc[index] = 25\n",
    "        elif any(ext in (str(row).lower()) for ext in ['montenegro']):\n",
    "            features['Bestemming'].iloc[index] = 26\n",
    "        elif any(ext in (str(row).lower()) for ext in ['zweden']):\n",
    "            features['Bestemming'].iloc[index] = 27\n",
    "        elif any(ext in (str(row).lower()) for ext in ['albanie', 'albanië', 'katharen']):\n",
    "            features['Bestemming'].iloc[index] = 28\n",
    "        elif any(ext in (str(row).lower()) for ext in ['mongolië', 'mongolie', 'mongoolse']):\n",
    "            features['Bestemming'].iloc[index] = 29\n",
    "        elif any(ext in (str(row).lower()) for ext in kroatie):\n",
    "            features['Bestemming'].iloc[index] = 30\n",
    "        elif any(ext in (str(row).lower()) for ext in ['costa rica']):\n",
    "            features['Bestemming'].iloc[index] = 31\n",
    "        elif any(ext in (str(row).lower()) for ext in ['slowakije']):\n",
    "            features['Bestemming'].iloc[index] = 32\n",
    "        elif any(ext in (str(row).lower()) for ext in ['brazilie', 'santa catarina gaucho']):\n",
    "            features['Bestemming'].iloc[index] = 33\n",
    "        elif any(ext in (str(row).lower()) for ext in ['denemarken', 'denmark', 'deense']):\n",
    "            features['Bestemming'].iloc[index] = 34\n",
    "        elif any(ext in (str(row).lower()) for ext in ['noorwegen', 'norway', 'ramsjo-special', 'northern', 'scandinavische']):\n",
    "            features['Bestemming'].iloc[index] = 35\n",
    "        elif any(ext in (str(row).lower()) for ext in ['azerbidjan']):\n",
    "            features['Bestemming'].iloc[index] = 36\n",
    "        elif any(ext in (str(row).lower()) for ext in ['georgie', 'georgië', 'georgia']):\n",
    "            features['Bestemming'].iloc[index] = 37\n",
    "        elif any(ext in (str(row).lower()) for ext in ['zwitserland']):\n",
    "            features['Bestemming'].iloc[index] = 38\n",
    "        elif any(ext in (str(row).lower()) for ext in ['groot-brittanie', 'wales', 'britain', 'engeland']):\n",
    "            features['Bestemming'].iloc[index] = 39\n",
    "        elif any(ext in (str(row).lower()) for ext in ['argentinie', 'argentinië', 'noord-argentinië']):\n",
    "            features['Bestemming'].iloc[index] = 40\n",
    "        elif any(ext in (str(row).lower()) for ext in ['cuba']):\n",
    "            features['Bestemming'].iloc[index] = 41\n",
    "        elif any(ext in (str(row).lower()) for ext in ['lapland', 'finland']):\n",
    "            features['Bestemming'].iloc[index] = 42\n",
    "        elif any(ext in (str(row).lower()) for ext in ['mexico']):\n",
    "            features['Bestemming'].iloc[index] = 43\n",
    "        elif any(ext in (str(row).lower()) for ext in ['china']):\n",
    "            features['Bestemming'].iloc[index] = 44\n",
    "        elif any(ext in (str(row).lower()) for ext in ['kenia']):\n",
    "            features['Bestemming'].iloc[index] = 45\n",
    "        elif any(ext in (str(row).lower()) for ext in ['iran']):\n",
    "            features['Bestemming'].iloc[index] = 46\n",
    "        elif any(ext in (str(row).lower()) for ext in ['servië', 'servie', 'sumadija']):\n",
    "            features['Bestemming'].iloc[index] = 47\n",
    "        elif any(ext in (str(row).lower()) for ext in ['schotland']):\n",
    "            features['Bestemming'].iloc[index] = 48\n",
    "        elif any(ext in (str(row).lower()) for ext in ['egypte', 'sahara']):\n",
    "            features['Bestemming'].iloc[index] = 49\n",
    "        elif any(ext in (str(row).lower()) for ext in ['andorra']):\n",
    "            features['Bestemming'].iloc[index] = 50\n",
    "        elif any(ext in (str(row).lower()) for ext in ['uruguay']):\n",
    "            features['Bestemming'].iloc[index] = 51\n",
    "        elif any(ext in (str(row).lower()) for ext in ['rusland']):\n",
    "            features['Bestemming'].iloc[index] = 52\n",
    "        elif any(ext in (str(row).lower()) for ext in ['columbia', 'colombiaans']):\n",
    "            features['Bestemming'].iloc[index] = 53\n",
    "        elif any(ext in (str(row).lower()) for ext in ['australie']):\n",
    "            features['Bestemming'].iloc[index] = 54\n",
    "        elif any(ext in str(row) for ext in allerlei):\n",
    "            features['Bestemming'].iloc[index] = 3\n",
    "    \n",
    "\n",
    "features['Bestemming'] == convert_bestemmingen()\n",
    "features['Bestemming'] = features['Bestemming'].astype(int)\n"
   ]
  },
  {
   "cell_type": "markdown",
   "metadata": {},
   "source": [
    "### 1.5 -  Toevoegen categorie data\n",
    "\n",
    "De kolommen *Vertrek binnen X-X dagen* bevat steeds een booleanse waarde (True of False) dat aangeeft in welke categorie de reis valt tussen het aantal dagen na het bestellen van een reis en het effectief vertrekken op reis."
   ]
  },
  {
   "cell_type": "code",
   "execution_count": 6,
   "metadata": {},
   "outputs": [],
   "source": [
    "\n",
    "features['Vertrek binnen 0-14 dagen'] = (features['Aantal dagen tot vertrek'] <= 14)\n",
    "features['Vertrek binnen 15-30 dagen'] = ((features['Aantal dagen tot vertrek'] >= 15) & (features['Aantal dagen tot vertrek'] <= 30))\n",
    "features['Vertrek binnen 31-50 dagen'] = ((features['Aantal dagen tot vertrek'] >= 31) & (features['Aantal dagen tot vertrek'] <= 50))\n",
    "features['Vertrek binnen 51-100 dagen'] = ((features['Aantal dagen tot vertrek'] >= 50) & (features['Aantal dagen tot vertrek'] <= 100))\n",
    "features['Vertrek binnen 101-200+ dagen'] = ((features['Aantal dagen tot vertrek'] >= 101))\n"
   ]
  },
  {
   "cell_type": "markdown",
   "metadata": {},
   "source": [
    "De onderstaande lijst toont voor elke kolom het datatype. Alle kolommen zijn omgezet naar int, float of datetime. De integer en float waarden kunnen worden gebruikt als feature."
   ]
  },
  {
   "cell_type": "code",
   "execution_count": 7,
   "metadata": {},
   "outputs": [
    {
     "data": {
      "text/plain": [
       "Status                                    int64\n",
       "Dossier jaar                              int64\n",
       "Dossier nr.                               int64\n",
       "Klantnummer                              object\n",
       "Datum creatie                    datetime64[ns]\n",
       "Datum vertrek                    datetime64[ns]\n",
       "Datum terug                      datetime64[ns]\n",
       "Totaalprijs                             float64\n",
       "Betalingen dossier                      float64\n",
       "Openstaand dossier                      float64\n",
       "Land                                      int64\n",
       "Bestemming                                int64\n",
       "Reistype                                  int64\n",
       "Aantal reizigers                          int64\n",
       "Aantal dagen tot vertrek                  int64\n",
       "Aantal dagen op reis                      int64\n",
       "Geboortedatum                    datetime64[ns]\n",
       "Leeftijd                                  int64\n",
       "Vertrek binnen 0-14 dagen                  bool\n",
       "Vertrek binnen 15-30 dagen                 bool\n",
       "Vertrek binnen 31-50 dagen                 bool\n",
       "Vertrek binnen 51-100 dagen                bool\n",
       "Vertrek binnen 101-200+ dagen              bool\n",
       "dtype: object"
      ]
     },
     "execution_count": 7,
     "metadata": {},
     "output_type": "execute_result"
    }
   ],
   "source": [
    "features.dtypes"
   ]
  },
  {
   "cell_type": "markdown",
   "metadata": {},
   "source": [
    "### 1.6 - Bekijken van features\n",
    "\n",
    "In het onderstaande dataframe staan alle gegevens die kunnen worden gebruikt als feature. Het spreekt voor zich dat er uiteraard ook enkele minder relevante zaken zoals klantnummer en datums zullen worden weggelaten uit het finale dataframe waarmee de modellen zullen worden opgebouwd."
   ]
  },
  {
   "cell_type": "code",
   "execution_count": 8,
   "metadata": {},
   "outputs": [
    {
     "data": {
      "text/html": [
       "<div>\n",
       "<style scoped>\n",
       "    .dataframe tbody tr th:only-of-type {\n",
       "        vertical-align: middle;\n",
       "    }\n",
       "\n",
       "    .dataframe tbody tr th {\n",
       "        vertical-align: top;\n",
       "    }\n",
       "\n",
       "    .dataframe thead th {\n",
       "        text-align: right;\n",
       "    }\n",
       "</style>\n",
       "<table border=\"1\" class=\"dataframe\">\n",
       "  <thead>\n",
       "    <tr style=\"text-align: right;\">\n",
       "      <th></th>\n",
       "      <th>Status</th>\n",
       "      <th>Dossier jaar</th>\n",
       "      <th>Dossier nr.</th>\n",
       "      <th>Klantnummer</th>\n",
       "      <th>Datum creatie</th>\n",
       "      <th>Datum vertrek</th>\n",
       "      <th>Datum terug</th>\n",
       "      <th>Totaalprijs</th>\n",
       "      <th>Betalingen dossier</th>\n",
       "      <th>Openstaand dossier</th>\n",
       "      <th>...</th>\n",
       "      <th>Aantal reizigers</th>\n",
       "      <th>Aantal dagen tot vertrek</th>\n",
       "      <th>Aantal dagen op reis</th>\n",
       "      <th>Geboortedatum</th>\n",
       "      <th>Leeftijd</th>\n",
       "      <th>Vertrek binnen 0-14 dagen</th>\n",
       "      <th>Vertrek binnen 15-30 dagen</th>\n",
       "      <th>Vertrek binnen 31-50 dagen</th>\n",
       "      <th>Vertrek binnen 51-100 dagen</th>\n",
       "      <th>Vertrek binnen 101-200+ dagen</th>\n",
       "    </tr>\n",
       "  </thead>\n",
       "  <tbody>\n",
       "    <tr>\n",
       "      <th>1293</th>\n",
       "      <td>1</td>\n",
       "      <td>2015</td>\n",
       "      <td>1934</td>\n",
       "      <td>46b78b6fa304e4d6</td>\n",
       "      <td>2015-07-06 00:00:00</td>\n",
       "      <td>2015-07-31</td>\n",
       "      <td>2015-02-08</td>\n",
       "      <td>1282.50</td>\n",
       "      <td>1282.50</td>\n",
       "      <td>0.0</td>\n",
       "      <td>...</td>\n",
       "      <td>3</td>\n",
       "      <td>25</td>\n",
       "      <td>173</td>\n",
       "      <td>NaT</td>\n",
       "      <td>42</td>\n",
       "      <td>False</td>\n",
       "      <td>True</td>\n",
       "      <td>False</td>\n",
       "      <td>False</td>\n",
       "      <td>False</td>\n",
       "    </tr>\n",
       "    <tr>\n",
       "      <th>1339</th>\n",
       "      <td>1</td>\n",
       "      <td>2015</td>\n",
       "      <td>1989</td>\n",
       "      <td>aa393e258363d27d</td>\n",
       "      <td>2015-09-07 00:00:00</td>\n",
       "      <td>2015-08-21</td>\n",
       "      <td>2015-08-23</td>\n",
       "      <td>364.00</td>\n",
       "      <td>364.00</td>\n",
       "      <td>0.0</td>\n",
       "      <td>...</td>\n",
       "      <td>2</td>\n",
       "      <td>17</td>\n",
       "      <td>2</td>\n",
       "      <td>NaT</td>\n",
       "      <td>42</td>\n",
       "      <td>False</td>\n",
       "      <td>True</td>\n",
       "      <td>False</td>\n",
       "      <td>False</td>\n",
       "      <td>False</td>\n",
       "    </tr>\n",
       "    <tr>\n",
       "      <th>3271</th>\n",
       "      <td>1</td>\n",
       "      <td>2019</td>\n",
       "      <td>20190076</td>\n",
       "      <td>a98b3fd24b3aa046</td>\n",
       "      <td>2019-11-02 12:37:35</td>\n",
       "      <td>2019-04-21</td>\n",
       "      <td>2019-04-27</td>\n",
       "      <td>2720.00</td>\n",
       "      <td>2720.00</td>\n",
       "      <td>0.0</td>\n",
       "      <td>...</td>\n",
       "      <td>2</td>\n",
       "      <td>195</td>\n",
       "      <td>6</td>\n",
       "      <td>1962-08-31</td>\n",
       "      <td>59</td>\n",
       "      <td>False</td>\n",
       "      <td>False</td>\n",
       "      <td>False</td>\n",
       "      <td>False</td>\n",
       "      <td>True</td>\n",
       "    </tr>\n",
       "    <tr>\n",
       "      <th>299</th>\n",
       "      <td>1</td>\n",
       "      <td>2012</td>\n",
       "      <td>661</td>\n",
       "      <td>c2cc87a5ec84f9ff</td>\n",
       "      <td>2012-09-19 16:06:27</td>\n",
       "      <td>2012-10-20</td>\n",
       "      <td>2012-10-27</td>\n",
       "      <td>970.00</td>\n",
       "      <td>970.00</td>\n",
       "      <td>0.0</td>\n",
       "      <td>...</td>\n",
       "      <td>1</td>\n",
       "      <td>30</td>\n",
       "      <td>7</td>\n",
       "      <td>1979-01-24</td>\n",
       "      <td>42</td>\n",
       "      <td>False</td>\n",
       "      <td>True</td>\n",
       "      <td>False</td>\n",
       "      <td>False</td>\n",
       "      <td>False</td>\n",
       "    </tr>\n",
       "    <tr>\n",
       "      <th>3166</th>\n",
       "      <td>1</td>\n",
       "      <td>2018</td>\n",
       "      <td>4101</td>\n",
       "      <td>0be58378f0d29024</td>\n",
       "      <td>2018-11-27 20:49:23</td>\n",
       "      <td>2019-05-05</td>\n",
       "      <td>2019-12-05</td>\n",
       "      <td>1264.77</td>\n",
       "      <td>1264.77</td>\n",
       "      <td>0.0</td>\n",
       "      <td>...</td>\n",
       "      <td>1</td>\n",
       "      <td>158</td>\n",
       "      <td>214</td>\n",
       "      <td>1937-12-22</td>\n",
       "      <td>84</td>\n",
       "      <td>False</td>\n",
       "      <td>False</td>\n",
       "      <td>False</td>\n",
       "      <td>False</td>\n",
       "      <td>True</td>\n",
       "    </tr>\n",
       "    <tr>\n",
       "      <th>3110</th>\n",
       "      <td>1</td>\n",
       "      <td>2018</td>\n",
       "      <td>3950</td>\n",
       "      <td>15370e04aaede138</td>\n",
       "      <td>2018-09-14 00:00:00</td>\n",
       "      <td>2018-09-30</td>\n",
       "      <td>2018-05-10</td>\n",
       "      <td>668.00</td>\n",
       "      <td>668.00</td>\n",
       "      <td>0.0</td>\n",
       "      <td>...</td>\n",
       "      <td>1</td>\n",
       "      <td>16</td>\n",
       "      <td>143</td>\n",
       "      <td>NaT</td>\n",
       "      <td>42</td>\n",
       "      <td>False</td>\n",
       "      <td>True</td>\n",
       "      <td>False</td>\n",
       "      <td>False</td>\n",
       "      <td>False</td>\n",
       "    </tr>\n",
       "    <tr>\n",
       "      <th>1030</th>\n",
       "      <td>1</td>\n",
       "      <td>2014</td>\n",
       "      <td>1634</td>\n",
       "      <td>0be58378f0d29024</td>\n",
       "      <td>2014-11-19 11:08:32</td>\n",
       "      <td>2015-12-09</td>\n",
       "      <td>2015-09-19</td>\n",
       "      <td>1499.93</td>\n",
       "      <td>1499.93</td>\n",
       "      <td>0.0</td>\n",
       "      <td>...</td>\n",
       "      <td>1</td>\n",
       "      <td>384</td>\n",
       "      <td>81</td>\n",
       "      <td>1937-12-22</td>\n",
       "      <td>84</td>\n",
       "      <td>False</td>\n",
       "      <td>False</td>\n",
       "      <td>False</td>\n",
       "      <td>False</td>\n",
       "      <td>True</td>\n",
       "    </tr>\n",
       "    <tr>\n",
       "      <th>1680</th>\n",
       "      <td>1</td>\n",
       "      <td>2016</td>\n",
       "      <td>2356</td>\n",
       "      <td>ce09872ceebf4559</td>\n",
       "      <td>2016-01-04 00:00:00</td>\n",
       "      <td>2016-07-06</td>\n",
       "      <td>2016-06-14</td>\n",
       "      <td>1916.60</td>\n",
       "      <td>1916.60</td>\n",
       "      <td>0.0</td>\n",
       "      <td>...</td>\n",
       "      <td>2</td>\n",
       "      <td>184</td>\n",
       "      <td>22</td>\n",
       "      <td>NaT</td>\n",
       "      <td>42</td>\n",
       "      <td>False</td>\n",
       "      <td>False</td>\n",
       "      <td>False</td>\n",
       "      <td>False</td>\n",
       "      <td>True</td>\n",
       "    </tr>\n",
       "    <tr>\n",
       "      <th>3706</th>\n",
       "      <td>1</td>\n",
       "      <td>2020</td>\n",
       "      <td>20200040</td>\n",
       "      <td>5d8878068de85a35</td>\n",
       "      <td>2020-01-17 14:32:26</td>\n",
       "      <td>2021-04-16</td>\n",
       "      <td>2021-04-24</td>\n",
       "      <td>1445.19</td>\n",
       "      <td>1445.19</td>\n",
       "      <td>0.0</td>\n",
       "      <td>...</td>\n",
       "      <td>1</td>\n",
       "      <td>454</td>\n",
       "      <td>8</td>\n",
       "      <td>NaT</td>\n",
       "      <td>42</td>\n",
       "      <td>False</td>\n",
       "      <td>False</td>\n",
       "      <td>False</td>\n",
       "      <td>False</td>\n",
       "      <td>True</td>\n",
       "    </tr>\n",
       "    <tr>\n",
       "      <th>1784</th>\n",
       "      <td>1</td>\n",
       "      <td>2016</td>\n",
       "      <td>2463</td>\n",
       "      <td>d843a2620fa9986f</td>\n",
       "      <td>2016-05-26 10:01:54</td>\n",
       "      <td>2016-09-24</td>\n",
       "      <td>2016-07-10</td>\n",
       "      <td>3615.00</td>\n",
       "      <td>3615.00</td>\n",
       "      <td>0.0</td>\n",
       "      <td>...</td>\n",
       "      <td>1</td>\n",
       "      <td>120</td>\n",
       "      <td>76</td>\n",
       "      <td>NaT</td>\n",
       "      <td>42</td>\n",
       "      <td>False</td>\n",
       "      <td>False</td>\n",
       "      <td>False</td>\n",
       "      <td>False</td>\n",
       "      <td>True</td>\n",
       "    </tr>\n",
       "  </tbody>\n",
       "</table>\n",
       "<p>10 rows × 23 columns</p>\n",
       "</div>"
      ],
      "text/plain": [
       "      Status  Dossier jaar  Dossier nr.       Klantnummer       Datum creatie  \\\n",
       "1293       1          2015         1934  46b78b6fa304e4d6 2015-07-06 00:00:00   \n",
       "1339       1          2015         1989  aa393e258363d27d 2015-09-07 00:00:00   \n",
       "3271       1          2019     20190076  a98b3fd24b3aa046 2019-11-02 12:37:35   \n",
       "299        1          2012          661  c2cc87a5ec84f9ff 2012-09-19 16:06:27   \n",
       "3166       1          2018         4101  0be58378f0d29024 2018-11-27 20:49:23   \n",
       "3110       1          2018         3950  15370e04aaede138 2018-09-14 00:00:00   \n",
       "1030       1          2014         1634  0be58378f0d29024 2014-11-19 11:08:32   \n",
       "1680       1          2016         2356  ce09872ceebf4559 2016-01-04 00:00:00   \n",
       "3706       1          2020     20200040  5d8878068de85a35 2020-01-17 14:32:26   \n",
       "1784       1          2016         2463  d843a2620fa9986f 2016-05-26 10:01:54   \n",
       "\n",
       "     Datum vertrek Datum terug  Totaalprijs  Betalingen dossier  \\\n",
       "1293    2015-07-31  2015-02-08      1282.50             1282.50   \n",
       "1339    2015-08-21  2015-08-23       364.00              364.00   \n",
       "3271    2019-04-21  2019-04-27      2720.00             2720.00   \n",
       "299     2012-10-20  2012-10-27       970.00              970.00   \n",
       "3166    2019-05-05  2019-12-05      1264.77             1264.77   \n",
       "3110    2018-09-30  2018-05-10       668.00              668.00   \n",
       "1030    2015-12-09  2015-09-19      1499.93             1499.93   \n",
       "1680    2016-07-06  2016-06-14      1916.60             1916.60   \n",
       "3706    2021-04-16  2021-04-24      1445.19             1445.19   \n",
       "1784    2016-09-24  2016-07-10      3615.00             3615.00   \n",
       "\n",
       "      Openstaand dossier  ...  Aantal reizigers  Aantal dagen tot vertrek  \\\n",
       "1293                 0.0  ...                 3                        25   \n",
       "1339                 0.0  ...                 2                        17   \n",
       "3271                 0.0  ...                 2                       195   \n",
       "299                  0.0  ...                 1                        30   \n",
       "3166                 0.0  ...                 1                       158   \n",
       "3110                 0.0  ...                 1                        16   \n",
       "1030                 0.0  ...                 1                       384   \n",
       "1680                 0.0  ...                 2                       184   \n",
       "3706                 0.0  ...                 1                       454   \n",
       "1784                 0.0  ...                 1                       120   \n",
       "\n",
       "      Aantal dagen op reis  Geboortedatum  Leeftijd  \\\n",
       "1293                   173            NaT        42   \n",
       "1339                     2            NaT        42   \n",
       "3271                     6     1962-08-31        59   \n",
       "299                      7     1979-01-24        42   \n",
       "3166                   214     1937-12-22        84   \n",
       "3110                   143            NaT        42   \n",
       "1030                    81     1937-12-22        84   \n",
       "1680                    22            NaT        42   \n",
       "3706                     8            NaT        42   \n",
       "1784                    76            NaT        42   \n",
       "\n",
       "      Vertrek binnen 0-14 dagen Vertrek binnen 15-30 dagen  \\\n",
       "1293                      False                       True   \n",
       "1339                      False                       True   \n",
       "3271                      False                      False   \n",
       "299                       False                       True   \n",
       "3166                      False                      False   \n",
       "3110                      False                       True   \n",
       "1030                      False                      False   \n",
       "1680                      False                      False   \n",
       "3706                      False                      False   \n",
       "1784                      False                      False   \n",
       "\n",
       "      Vertrek binnen 31-50 dagen  Vertrek binnen 51-100 dagen  \\\n",
       "1293                       False                        False   \n",
       "1339                       False                        False   \n",
       "3271                       False                        False   \n",
       "299                        False                        False   \n",
       "3166                       False                        False   \n",
       "3110                       False                        False   \n",
       "1030                       False                        False   \n",
       "1680                       False                        False   \n",
       "3706                       False                        False   \n",
       "1784                       False                        False   \n",
       "\n",
       "      Vertrek binnen 101-200+ dagen  \n",
       "1293                          False  \n",
       "1339                          False  \n",
       "3271                           True  \n",
       "299                           False  \n",
       "3166                           True  \n",
       "3110                          False  \n",
       "1030                           True  \n",
       "1680                           True  \n",
       "3706                           True  \n",
       "1784                           True  \n",
       "\n",
       "[10 rows x 23 columns]"
      ]
     },
     "execution_count": 8,
     "metadata": {},
     "output_type": "execute_result"
    }
   ],
   "source": [
    "features.sample(10)"
   ]
  },
  {
   "cell_type": "markdown",
   "metadata": {},
   "source": [
    "# 2 - Evalueren en selecteren van features\n",
    "\n",
    "Enkele interessante features die in de dataset te vinden zijn:\n",
    "\n",
    " - **Status**: De status (1 of 0) heeft aan of de boeking bevestigd of geannuleerd is.\n",
    " - **Dossier jaar**: Het jaar waarin het dossier werdt aangemaakt.\n",
    " - **Dossier nr.**: Een nummer (id) dat iedere reis identificeert.\n",
    " - **Klantnummer**: Het nummer dat een klant identificeert.\n",
    " - **Datum creatie**: Deze feature heeft een datum met uur, minuten en seconden. Deze waardes kunnen interessant zijn om te kijken hoeveel tijd er tussen een boeking en de reis vertrek datum zit.\n",
    " - **Datum vertrek**: De datum waarop een reis start.\n",
    " - **Datum terug**: De datum waarop de reizigers terugkeren naar hun thuisland.\n",
    " - **Totaalprijs**: De prijs die ze in totaal betalen voor de reis.\n",
    " - **Betalingen dossier**: Het bedrag dat al betaald is.\n",
    " - **Openstaand dossier**: Het bedrag dat nog moet betaald worden om te kunnen voldoen en te mogen vertrekken op reis.\n",
    " - **Land**: Het thuisland van de reiziger.\n",
    " - **Bestemming**: Het land waar de reiziger naartoe geweest is.\n",
    " - **Reistype**: Het type reis dat de reiziger neemt.\n",
    " - **Aantal reizigers**: Het aantal personen die mee opreis gaan.\n",
    " - **Aantal dagen tot vertrek**: Het berekende aantal dagen tussen het aanmaken van een account en de vertrek datum.\n",
    " - **Aantal dagen op reis**: Het berekende aantal dagen dat de reis duurde.\n",
    " - **Leeftijd**: Leeftijd van de klant.\n",
    " - **vertrek binnen x dagen**: Deze 5 features bevatten een booleanse true of false (1 of 0) waarde dat weergeeft in welke categorie van het aantal dagen tot vertrek de klant hoort.\n",
    " "
   ]
  },
  {
   "cell_type": "markdown",
   "metadata": {},
   "source": [
    "### 2.1 - Correlatie tussen features\n",
    "\n",
    "Onderstaande matrix toont aan hoe de features met elkaar verbonden zijn op een schaal van 0 tot 1. Hoe hoger de score bij 1 ligt hoe dichter de features gecorreleerd zijn met elkaar. De correlatie tussen de eigen data is steeds 1 wat ook wordt weergegeven in de diagonale donkerrode lijn.\n",
    "\n",
    "In de matrix zien we dat er enkele features een goede correlatie hebben met elkaar (hoger dan 0.4).\n",
    "Zo zijn het aantal reizigers, de totaal prijs en het dossier nummer en jaar best interessante features. Omdat er enkele features (dossier nummer en jaar & Totaalprijs en Betalingen Dossier) een hoge correlatie hebben kan dit zorgen voor overfitting, hierdoor is het best om één van de twee waarden niet op te nemen als feature in het model. Bij het splitten van de train en test data zullen de kolommen 'Dossier nr.' en 'Betalingen Dossier' weggelaten worden."
   ]
  },
  {
   "cell_type": "code",
   "execution_count": 11,
   "metadata": {},
   "outputs": [
    {
     "data": {
      "image/png": "[encoded data removed]",
      "text/plain": [
       "<Figure size 864x864 with 2 Axes>"
      ]
     },
     "metadata": {
      "needs_background": "light"
     },
     "output_type": "display_data"
    }
   ],
   "source": [
    "plt.figure(figsize=(12, 12))\n",
    "plt.title('Correlatie tussen alle features in het dataframe')\n",
    "seaborn.heatmap((features).corr(), annot=True, cmap=\"RdBu_r\")\n",
    "plt.show();"
   ]
  },
  {
   "cell_type": "markdown",
   "metadata": {},
   "source": [
    "### 2.2 - Opsplitsen van train en test data\n",
    "\n",
    "Onderstaande code splitst de data op in train en test data. In dit geval wordt de data opgesplitst volgens de standaard 75% train data en 25% test data. De niet numerieke kolommen worden uit de dataset weggelaten en de target wordt ingesteld in de 'y' array. Om de data te schalen maak ik gebruik van de StandardScaler. Het idee hierachter is dat het de gegevens zodanig zal transformeren dat de distributie een gemiddelde waarde van 0 en een standaardafwijking van 1 heeft.\n",
    "\n",
    "Bij Multivariate data gebeurt dit feature-wise (dus onafhankelijk voor elke kolom van de data).\n",
    "Gezien de verdeling van de gegevens, wordt bij elke waarde in de gegevensset de gemiddelde waarde afgetrokken en vervolgens gedeeld door de standaarddeviatie van de hele gegevensset (of kenmerk in het multivariate geval).\n",
    "\n",
    "De volgende kolommen worden verwijderd uit het features dataframe:\n",
    " - **Klantnummer** Een klantnummer is geen numerieke waarde dus dit kan niet meegeven worden aan modellen.\n",
    " - **Geboortedatum** De kolom met geboortedatums is geen numerieke waarde en de leeftijd is hieruit berekend dat wel als feature kan dienen.\n",
    " - **Dossier nr.** De kolom met de dossier nummers had een hoge correlatie met het dossier jaar waardoor het interessant is om deze niet mee op te nemen in de features lijst, dit kan het model ten goede komen omdat er overfitting kan ontstaan met hoog gecorreleerde features onderling.\n",
    " - **Betalingen dossier** Het bedrag dat al reeds betaald was is ook hoog gecorreleerd met het totaal bedrag waardoor deze kolom ook kan worden weggelaten uit de features.\n",
    " - **Datums** De kolommen *Datum creatie*, *Datum vertrek* en *Datum terug* zijn datums die al gebruikt zijn om zaken te berekenen (Aantal dagen op reis en Aantal dagen tot vertrek)."
   ]
  },
  {
   "cell_type": "code",
   "execution_count": 66,
   "metadata": {},
   "outputs": [],
   "source": [
    "def scale_data(df):\n",
    "    X = df.drop(['Aantal dagen tot vertrek', 'Aantal dagen op reis', 'Klantnummer', 'Openstaand dossier', 'Totaalprijs', 'Geboortedatum', 'Dossier nr.', 'Betalingen dossier',  'Datum creatie', 'Datum vertrek', 'Datum terug'], axis=1)\n",
    "    y = df['Aantal dagen tot vertrek']\n",
    "    featureNames = X.columns\n",
    "    scaler = StandardScaler()\n",
    "    scaler.fit(X)\n",
    "    return scaler.transform(X), y, featureNames\n",
    "\n",
    "X, y, featureNames = scale_data(features)\n",
    "# split voor KNN en al de rest + maak functie van bovenstaande code\n",
    "X_train, X_test, y_train, y_test = train_test_split(X, y, random_state=0)"
   ]
  },
  {
   "cell_type": "markdown",
   "metadata": {},
   "source": [
    "De geschaalde data in het dataframe *X*."
   ]
  },
  {
   "cell_type": "code",
   "execution_count": 67,
   "metadata": {},
   "outputs": [
    {
     "data": {
      "text/plain": [
       "array([[  0.06367683,  -2.09338933,   0.33372771, ...,  -0.3511898 ,\n",
       "         -0.56744044,   1.03598266],\n",
       "       [  0.06367683,  -2.09338933,   0.33372771, ...,  -0.3511898 ,\n",
       "         -0.56744044,   1.03598266],\n",
       "       [  0.06367683,  -2.09338933,   0.33372771, ...,  -0.3511898 ,\n",
       "         -0.56744044,   1.03598266],\n",
       "       ...,\n",
       "       [  0.06367683,   1.98790608,   0.33372771, ...,  -0.3511898 ,\n",
       "          1.76229949,  -0.96526712],\n",
       "       [-15.70429877,   1.98790608,   0.33372771, ...,  -0.3511898 ,\n",
       "         -0.56744044,   1.03598266],\n",
       "       [  0.06367683,   1.98790608,   0.33372771, ...,  -0.3511898 ,\n",
       "          1.76229949,  -0.96526712]])"
      ]
     },
     "execution_count": 67,
     "metadata": {},
     "output_type": "execute_result"
    }
   ],
   "source": [
    "X"
   ]
  },
  {
   "cell_type": "markdown",
   "metadata": {},
   "source": [
    "De vorm van de *X* en *y* array wordt hieronder afgeprint. De *X* dataset bevat 10 features (kolommen) en 3962 rijen, de *y* array bevat de target data met 1 kolom en 3962 rijen aan data. Het aantal rijen en features van de trainings- en testset worden ook weergegeven. De trainingsset bedraagt 2971 rijen aan data en de testset 991 rijen."
   ]
  },
  {
   "cell_type": "code",
   "execution_count": 68,
   "metadata": {},
   "outputs": [
    {
     "name": "stdout",
     "output_type": "stream",
     "text": [
      "Shape van de X data: (3962, 12)\n",
      "Shape van de y target data: (3962,)\n"
     ]
    }
   ],
   "source": [
    "print(\"Shape van de X data:\", X.shape)\n",
    "print(\"Shape van de y target data:\", y.shape)"
   ]
  },
  {
   "cell_type": "code",
   "execution_count": 69,
   "metadata": {},
   "outputs": [
    {
     "name": "stdout",
     "output_type": "stream",
     "text": [
      "X_train shape: (2971, 12)\n",
      "y_train shape: (2971,)\n",
      "X_test shape: (991, 12)\n",
      "y_test shape: (991,)\n",
      "Aantal features: 12\n"
     ]
    }
   ],
   "source": [
    "print(\"X_train shape:\", X_train.shape)\n",
    "print(\"y_train shape:\", y_train.shape)\n",
    "print(\"X_test shape:\", X_test.shape)\n",
    "print(\"y_test shape:\", y_test.shape)\n",
    "print(\"Aantal features:\", X.shape[1])"
   ]
  },
  {
   "cell_type": "markdown",
   "metadata": {},
   "source": [
    "# 3 - Modellen evalueren, vergelijken en testen\n",
    "\n",
    "In de volgende stappen worden enkele modellen getest om te zien hoe de modellen het doen op de train en test data.\n",
    "\n",
    "### KNN\n",
    "\n",
    "KNN is het eenvoudigste model dat we gaan uittesten. Het onthoudt de trainingsgegevens en plaatst de te voorspellen gegevens in dezelfde grafiek. Om elk doel te voorspellen, zoekt het KNN-model het dichtstbijzijnde punt in de trainingsdata en stelt de waarde van het te voorspellen gegeven in op dat van de dichtstbijzijnde buur. Er kan ingesteld worden hoeveel buren het model moet gebruiken om een waarde aan het doel te geven. Meer of minder buren kiezen kan een goede of slechte invloed hebben op het classificerings model.\n",
    "\n",
    "### Decision tree\n",
    "\n",
    "Een decision tree is een algoritme dat gebruikmaakt van een boomachtig model om beslissingen te maken en hun mogelijke gevolgen te gaan afwegen. Het is een algoritme dat alleen voorwaardelijke controle-instructies bevat en op basis daarvan tot een voorspelling komt.\n",
    "\n",
    "Decision trees hebben 2 hoofdzakelijke types:\n",
    "\n",
    "* Classification tree is wanneer de voorspelde uitkomst de klasse is waartoe de gegevens behoren.\n",
    "* Regression is wanneer de voorspelde uitkomst als een reëel getal kan worden beschouwd (bijvoorbeeld de prijs van een huis of de leeftijd van een persoon).\n",
    "\n",
    "### Logistic regression\n",
    "\n",
    "Logistic regression is een statistische methode voor het voorspellen van binaire klassen. De uitkomst- of doelvariabele is dichotoom van aard. Dichotoom betekent dat er maar twee mogelijke klassen zijn (binair). Het is een speciaal geval van lineaire regressie waarbij de doelvariabele categorisch van aard is. Logistische regressie voorspelt de waarschijnlijkheid van optreden van een binaire gebeurtenis met behulp van een logitfunctie.\n",
    "\n",
    "### Random Forest tree\n",
    "\n",
    "Random forest is een verzameling van decision trees. Het Random Forest algoritme werkt volgens de *bootstrap aggregating* (bagging) techniek, hierbij worden door middel van trekkingen een aantal sub-datasets uit de data genomen, op basis waarvan worden decision trees opgesteld. De predictie voor een nieuwe observatie wordt vervolgens bepaald door het gemiddelde van de predicties van de verschillende decision trees te nemen. Omdat de decision trees veel op elkaar kunnen lijken en één of een beperkt aantal verklarende variabelen dominant kunnen zijn, wordt er bij iedere splitsing een subset van de verklarende variabelen gebruikt op basis van enkele trekking.\n",
    "\n",
    "Het Random Forest algoritme heeft als voordeel dat het met grote hoeveelheden data te omgaan"
   ]
  },
  {
   "cell_type": "markdown",
   "metadata": {},
   "source": [
    "## Testen van verschillende modellen\n",
    "\n",
    "## 3.1 - KNN-model\n",
    "\n",
    "Onderstaande code print voor elke iteratie de train en test score uit met 4 grafieken. De twee linkse grafieken tonen het percentage per aantal neighbors op de hele trainingsset. De twee rechtse grafieken tonen het percentage per aantal neighbors op de testdata. Hieruit blijkt dat op de trainingsdata het slaagpercentage afzwakt naarmate er meer neighbors bijkomen. Wat opvalt is dat bij 1 en 2 neightbors bij de trainingsset tegenover de testset er duidelijk overfitting optreedt.\n",
    "\n",
    "Ik gebruik de Elbow methode om de beste waarde voor k (aantal neightbors) te vinden, deze waarde is dan af te lezen van de grafiek en wordt uitgeprint voor iedere iteratie met de bijhorende train en test scores. In mijn opstelling zal deze later ingesteld worden op 3, nadien doen we voor de evaluatie van het model nogmaals dezelfde stappen maar deze keer met een niet variabele k.\n",
    "\n",
    "Tijdens het uittesten van het KNN-model viel me op dat het schalen van de data met de StandardScaler een positief maar kleine verbetering gaf in de train- en testdata."
   ]
  },
  {
   "cell_type": "code",
   "execution_count": 70,
   "metadata": {},
   "outputs": [
    {
     "name": "stdout",
     "output_type": "stream",
     "text": [
      "Iteratie: 1\n",
      "Accuracy on training set: 0.732\n",
      "Accuracy on test set: 0.070\n",
      "*-------------------------------*\n",
      "Iteratie: 2\n",
      "Accuracy on training set: 0.452\n",
      "Accuracy on test set: 0.060\n",
      "*-------------------------------*\n",
      "Iteratie: 3\n",
      "Accuracy on training set: 0.345\n",
      "Accuracy on test set: 0.061\n",
      "*-------------------------------*\n",
      "Iteratie: 4\n",
      "Accuracy on training set: 0.296\n",
      "Accuracy on test set: 0.060\n",
      "*-------------------------------*\n",
      "Iteratie: 5\n",
      "Accuracy on training set: 0.262\n",
      "Accuracy on test set: 0.053\n",
      "*-------------------------------*\n",
      "Iteratie: 6\n",
      "Accuracy on training set: 0.242\n",
      "Accuracy on test set: 0.063\n",
      "*-------------------------------*\n",
      "Iteratie: 7\n",
      "Accuracy on training set: 0.227\n",
      "Accuracy on test set: 0.059\n",
      "*-------------------------------*\n",
      "Iteratie: 8\n",
      "Accuracy on training set: 0.214\n",
      "Accuracy on test set: 0.051\n",
      "*-------------------------------*\n",
      "Iteratie: 9\n",
      "Accuracy on training set: 0.202\n",
      "Accuracy on test set: 0.059\n",
      "*-------------------------------*\n",
      "Iteratie: 10\n",
      "Accuracy on training set: 0.193\n",
      "Accuracy on test set: 0.055\n",
      "*-------------------------------*\n"
     ]
    },
    {
     "data": {
      "image/png": "[encoded data removed]",
      "text/plain": [
       "<Figure size 1080x360 with 2 Axes>"
      ]
     },
     "metadata": {
      "needs_background": "light"
     },
     "output_type": "display_data"
    }
   ],
   "source": [
    "trainingScoreKNN = []\n",
    "testScoreKNN = []\n",
    "neighbors = 10\n",
    "\n",
    "for k in range(1, neighbors + 1):\n",
    "    knn = KNeighborsClassifier(n_neighbors=k).fit(X_train, y_train)\n",
    "    \n",
    "    trainingScoreKNN.append(round(knn.score(X_train, y_train) * 100, 2))\n",
    "    testScoreKNN.append(round(knn.score(X_test, y_test) * 100, 2))\n",
    "    \n",
    "    print(\"Iteratie: \" + str(k))\n",
    "    print(\"Accuracy on training set: {:.3f}\".format(knn.score(X_train, y_train)))\n",
    "    print(\"Accuracy on test set: {:.3f}\".format(knn.score(X_test, y_test)))\n",
    "    print(\"*-------------------------------*\")\n",
    "\n",
    "fig, (ax1, ax2) = plt.subplots(1, 2, figsize=(15, 5))\n",
    "objects = range(1, neighbors + 1)\n",
    "\n",
    "ax1.bar(objects, trainingScoreKNN, align='center', color = \"#34eb89\")\n",
    "ax1.set_title('training score op ' + str(len(X)) + ' rijen data')\n",
    "ax1.set_ylabel('percentage juist (%)')\n",
    "ax1.set_xlabel('Aantal neighbors')\n",
    "\n",
    "ax2.bar(objects, testScoreKNN, align='center', color = \"#eb8034\")\n",
    "ax2.set_ylim(0, 100)\n",
    "ax2.set_title('test score op ' + str(len(X)) + ' rijen data')\n",
    "ax2.set_ylabel('percentage juist (%)')\n",
    "ax2.set_xlabel('Aantal neighbors')\n",
    "plt.show();"
   ]
  },
  {
   "cell_type": "code",
   "execution_count": 71,
   "metadata": {},
   "outputs": [
    {
     "data": {
      "image/png": "[encoded data removed]",
      "text/plain": [
       "<Figure size 1080x360 with 2 Axes>"
      ]
     },
     "metadata": {
      "needs_background": "light"
     },
     "output_type": "display_data"
    }
   ],
   "source": [
    "fig, (ax1, ax2) = plt.subplots(1, 2, figsize=(15, 5))\n",
    "\n",
    "ax1.plot(objects, trainingScoreKNN, color = \"#34eb89\")\n",
    "ax1.set_title('vergrote schaal per diepte in training')\n",
    "ax1.set_ylabel('percentage juist (%)')\n",
    "ax1.set_xlabel('Aantal neighbors')\n",
    "\n",
    "ax2.plot(objects, testScoreKNN, color = \"#eb8034\")\n",
    "ax2.set_title('vergrote schaal per diepte in test')\n",
    "ax2.set_ylabel('percentage juist (%)')\n",
    "ax2.set_xlabel('Aantal neighbors');"
   ]
  },
  {
   "cell_type": "markdown",
   "metadata": {},
   "source": [
    "### 3.1.1 - Finaal KNN-model met vaste waarde\n",
    "\n",
    "We zien hieronder een duidelijke overfitting optreden (een beter prestatie van het model op de trainingsset als op de testset). De k waarde is zo optimaal mogelijk gekozen maar omdat het een relatief kleine dataset is wordt het moeilijker om een goede voorspelling te doen en is de testscore zeer laag. Hoe hoger het aantal neightbors (k) hoe slechter de trainingsset zal scoren, de testset zakt eveneens mee omlaag. Bij 1 neightbor is de trainingsscore zeer hoog, door overfitting blijft de testscore ook zeer laag (+/- 5%)."
   ]
  },
  {
   "cell_type": "code",
   "execution_count": 72,
   "metadata": {
    "scrolled": false
   },
   "outputs": [
    {
     "name": "stdout",
     "output_type": "stream",
     "text": [
      "Training set score: 0.73\n",
      "Test set score: 0.07\n"
     ]
    }
   ],
   "source": [
    "knn = KNeighborsClassifier(n_neighbors = 1)\n",
    "knn.fit(X_train, y_train)\n",
    "pred = knn.predict(X_test)\n",
    "trainingScore = round(knn.score(X_train, y_train), 2)\n",
    "testScore = round(knn.score(X_test, y_test), 2)\n",
    "\n",
    "print(\"Training set score: \" + str(trainingScore))\n",
    "print(\"Test set score: \" + str(testScore))"
   ]
  },
  {
   "cell_type": "markdown",
   "metadata": {},
   "source": [
    "## 3.2 - Decision tree classifier model\n",
    "\n",
    "Onderstaande code print voor elke iteratie de train en test score uit met 4 grafieken. De twee linkse grafieken tonen het percentage voor elke diepte op de hele trainingsset. De twee rechtse grafieken tonen het percentage van de testdata voor elke diepte. Hieruit blijkt dat op de trainingsdata het slaagpercentage toeneemt bij een hogere diepte, dit blijft doorgaan tot een diepte van 40, hierna vlakt de score af tot 85% en wordt deze niet beter. Het is uiteraard ook niet goed om een te hoge diepte in te stellen omdat er dan te veel opsplitsingen gebeuren en zo het model te specifiek wordt getrained op de aangeleverde dataset. Het Decision tree algoritme is ook heel wat sneller dan het KNN classifier model.\n",
    "\n",
    "De 2 onderste grafieken geven een ingezoomde lijn grafiek weer om het verloop tussen beter zichtbaar te maken."
   ]
  },
  {
   "cell_type": "code",
   "execution_count": 73,
   "metadata": {
    "scrolled": false
   },
   "outputs": [
    {
     "name": "stdout",
     "output_type": "stream",
     "text": [
      "Iteratie: 1\n",
      "Accuracy on training set: 0.018\n",
      "Accuracy on test set: 0.015\n",
      "*-------------------------------*\n",
      "Iteratie: 2\n",
      "Accuracy on training set: 0.029\n",
      "Accuracy on test set: 0.023\n",
      "*-------------------------------*\n",
      "Iteratie: 3\n",
      "Accuracy on training set: 0.039\n",
      "Accuracy on test set: 0.026\n",
      "*-------------------------------*\n",
      "Iteratie: 4\n",
      "Accuracy on training set: 0.055\n",
      "Accuracy on test set: 0.040\n",
      "*-------------------------------*\n",
      "Iteratie: 5\n",
      "Accuracy on training set: 0.066\n",
      "Accuracy on test set: 0.042\n",
      "*-------------------------------*\n",
      "Iteratie: 6\n",
      "Accuracy on training set: 0.083\n",
      "Accuracy on test set: 0.044\n",
      "*-------------------------------*\n",
      "Iteratie: 7\n",
      "Accuracy on training set: 0.103\n",
      "Accuracy on test set: 0.043\n",
      "*-------------------------------*\n",
      "Iteratie: 8\n",
      "Accuracy on training set: 0.124\n",
      "Accuracy on test set: 0.046\n",
      "*-------------------------------*\n",
      "Iteratie: 9\n",
      "Accuracy on training set: 0.154\n",
      "Accuracy on test set: 0.063\n",
      "*-------------------------------*\n",
      "Iteratie: 10\n",
      "Accuracy on training set: 0.186\n",
      "Accuracy on test set: 0.058\n",
      "*-------------------------------*\n",
      "Iteratie: 11\n",
      "Accuracy on training set: 0.223\n",
      "Accuracy on test set: 0.059\n",
      "*-------------------------------*\n",
      "Iteratie: 12\n",
      "Accuracy on training set: 0.271\n",
      "Accuracy on test set: 0.061\n",
      "*-------------------------------*\n",
      "Iteratie: 13\n",
      "Accuracy on training set: 0.320\n",
      "Accuracy on test set: 0.063\n",
      "*-------------------------------*\n",
      "Iteratie: 14\n",
      "Accuracy on training set: 0.375\n",
      "Accuracy on test set: 0.058\n",
      "*-------------------------------*\n",
      "Iteratie: 15\n",
      "Accuracy on training set: 0.433\n",
      "Accuracy on test set: 0.058\n",
      "*-------------------------------*\n"
     ]
    },
    {
     "data": {
      "image/png": "[encoded data removed]",
      "text/plain": [
       "<Figure size 1080x360 with 2 Axes>"
      ]
     },
     "metadata": {
      "needs_background": "light"
     },
     "output_type": "display_data"
    }
   ],
   "source": [
    "trainingScoreDec = []\n",
    "testScoreDec = []\n",
    "depth = 15\n",
    "\n",
    "for n in range(1, depth + 1):\n",
    "    treeModel = DecisionTreeClassifier(max_depth=n, random_state=42).fit(X_train, y_train)\n",
    "    \n",
    "    trainingScoreDec.append(round(treeModel.score(X_train, y_train) * 100, 2))\n",
    "    testScoreDec.append(round(treeModel.score(X_test, y_test) * 100, 2))\n",
    "    print(\"Iteratie: \" + str(n))\n",
    "    print(\"Accuracy on training set: {:.3f}\".format(treeModel.score(X_train, y_train)))\n",
    "    print(\"Accuracy on test set: {:.3f}\".format(treeModel.score(X_test, y_test)))\n",
    "    print(\"*-------------------------------*\")\n",
    "    \n",
    "fig, (ax1, ax2) = plt.subplots(1, 2, figsize=(15, 5))\n",
    "objects = range(1, depth + 1)\n",
    "\n",
    "ax1.bar(objects, trainingScoreDec, align='center', color = \"#34eb89\")\n",
    "ax1.set_title('training score op ' + str(len(X)) + ' rijen data')\n",
    "ax1.set_ylabel('percentage juist (%)')\n",
    "ax1.set_xlabel('diepte')\n",
    "\n",
    "ax2.bar(objects, testScoreDec, align='center', color = \"#eb8034\")\n",
    "ax2.set_ylim(0, 100)\n",
    "ax2.set_title('testScore op ' + str(len(X)) + ' rijen data')\n",
    "ax2.set_ylabel('percentage juist (%)')\n",
    "ax2.set_xlabel('diepte');"
   ]
  },
  {
   "cell_type": "code",
   "execution_count": 74,
   "metadata": {},
   "outputs": [
    {
     "data": {
      "image/png": "[encoded data removed]",
      "text/plain": [
       "<Figure size 1080x360 with 2 Axes>"
      ]
     },
     "metadata": {
      "needs_background": "light"
     },
     "output_type": "display_data"
    }
   ],
   "source": [
    "fig, (ax1, ax2) = plt.subplots(1, 2, figsize=(15, 5))\n",
    "ax1.plot(objects, trainingScoreDec, color = \"#34eb89\")\n",
    "ax1.set_title('vergrote schaal per diepte in training')\n",
    "ax1.set_ylabel('percentage juist (%)')\n",
    "ax1.set_xlabel('diepte')\n",
    "\n",
    "ax2.plot(objects, testScoreDec, color = \"#eb8034\")\n",
    "ax2.set_title('vergrote schaal per diepte in test')\n",
    "ax2.set_ylabel('percentage juist (%)')\n",
    "ax2.set_xlabel('diepte');"
   ]
  },
  {
   "cell_type": "markdown",
   "metadata": {},
   "source": [
    "### 3.2.1 - Finaal Decision tree model\n",
    "\n",
    "We zien hieronder terug een duidelijke overfitting optreden (een beter prestatie van het model op de trainingsset als op de testset). De decision tree is bij een hoge diepte acurater maar het bljft slecht scoren op de testset. Overfitting blijft steeds optreden, in de grafieken hierboven zagen we ook dat de test scores zeer weinig stegen tegenover de trainings scores."
   ]
  },
  {
   "cell_type": "code",
   "execution_count": 75,
   "metadata": {},
   "outputs": [
    {
     "name": "stdout",
     "output_type": "stream",
     "text": [
      "Cross validation score: [0.0605042  0.04208754 0.05723906 0.06565657 0.04377104]\n",
      "Training set score: 0.43\n",
      "Test set score: 0.06\n"
     ]
    },
    {
     "name": "stderr",
     "output_type": "stream",
     "text": [
      "/Users/louisdhont/anaconda3/lib/python3.8/site-packages/sklearn/model_selection/_split.py:666: UserWarning: The least populated class in y has only 1 members, which is less than n_splits=5.\n",
      "  warnings.warn((\"The least populated class in y has only %d\"\n"
     ]
    }
   ],
   "source": [
    "trainingScore = []\n",
    "testScore = []\n",
    "\n",
    "treeModel = DecisionTreeClassifier(max_depth=15, random_state=42).fit(X_train, y_train)\n",
    "trainingScore = round(treeModel.score(X_train, y_train), 2)\n",
    "testScore = round(treeModel.score(X_test, y_test), 2)\n",
    "\n",
    "print(\"Cross validation score: \" + str(cross_val_score(treeModel, X_train, y_train, cv=5)))\n",
    "print(\"Training set score: \" + str(trainingScore))\n",
    "print(\"Test set score: \" + str(testScore))"
   ]
  },
  {
   "cell_type": "markdown",
   "metadata": {},
   "source": [
    "## 3.3 - Logistic regression\n",
    "\n",
    "Logistic regression is een lineair model voor classificatie. Het gebruikte algoritme heet *Solver*. De solver is ingesteld op *liblinear* aangezien dit een multiclass dataset kan verwerken en dit gebaseerd is op kansverhoudingen. De verhouding tussen de fracties bij twee mogelijke uitkomsten wordt hierin bepaald en zo geclassificeerd. Dit principe wordt uitgevoerd en vervolgens herhaald indien het in de rest thuishoort (een soort van binaire classificatie).\n",
    "\n",
    "De score is in beide gevallen zeer laag op de tranings- en testset omdat dit een binair clasificatie methode is. Hierdoor is het dus een algoritme dat niet kan worden gebruikt in dit project."
   ]
  },
  {
   "cell_type": "code",
   "execution_count": 76,
   "metadata": {},
   "outputs": [
    {
     "name": "stdout",
     "output_type": "stream",
     "text": [
      "Accuracy on training set: 0.099\n",
      "Accuracy on test set: 0.054\n"
     ]
    }
   ],
   "source": [
    "trainingScore = []\n",
    "testScore = []\n",
    "\n",
    "logRegr = LogisticRegression(solver='liblinear', max_iter=500, multi_class = 'auto').fit(X_train, y_train)\n",
    "trainingScore.append(round(logRegr.score(X_train, y_train) * 100, 2))\n",
    "testScore.append(round(logRegr.score(X_test, y_test) * 100, 2))\n",
    "\n",
    "print(\"Accuracy on training set: {:.3f}\".format(logRegr.score(X_train, y_train)))\n",
    "print(\"Accuracy on test set: {:.3f}\".format(logRegr.score(X_test, y_test)))"
   ]
  },
  {
   "cell_type": "markdown",
   "metadata": {},
   "source": [
    "## 3.4 - Random forest tree\n",
    "\n",
    "....."
   ]
  },
  {
   "cell_type": "code",
   "execution_count": 77,
   "metadata": {},
   "outputs": [
    {
     "name": "stdout",
     "output_type": "stream",
     "text": [
      "Accuracy on training set: 0.741\n",
      "Accuracy on test set: 0.080\n"
     ]
    }
   ],
   "source": [
    "forest = RandomForestClassifier(n_estimators=100, random_state=42)\n",
    "forest.fit(X_train, np.ravel(y_train, order='C'))\n",
    "\n",
    "y_predForest = forest.predict(X_test)\n",
    "\n",
    "print(\"Accuracy on training set: {:.3f}\".format(forest.score(X_train, y_train), 2))\n",
    "print(\"Accuracy on test set: {:.3f}\".format(forest.score(X_test, y_test), 2))"
   ]
  },
  {
   "cell_type": "markdown",
   "metadata": {},
   "source": [
    "# 4 - Eerste evaluatie\n",
    "\n",
    "\n",
    "\n",
    "Uitleg?\n"
   ]
  },
  {
   "cell_type": "markdown",
   "metadata": {},
   "source": [
    "# 5 - Bijstellen van features\n",
    "\n",
    "## 5.1 - cross-validation\n",
    "\n",
    "Cross validatie is een techniek om te beschermen tegen overfitting in een model. Bij cross validatie wordt er een vast aantal folds (of partities) van de gegevens genomen, daarna wordt de analyse uitgevoerd op elke fold en een gemiddelde van de totale foutschatting berekend.\n",
    "\n",
    "Deze techniek wordt hieronder uitgevoerd met KNN (k-nearest neighbors), Linaire regressie en Decision tree.\n",
    "\n",
    "### 5.1.1 - Cross validation met KNN"
   ]
  },
  {
   "cell_type": "code",
   "execution_count": 79,
   "metadata": {},
   "outputs": [
    {
     "name": "stdout",
     "output_type": "stream",
     "text": [
      "Cross-validation scores: [0.04189803 0.03886926]\n",
      "Average cross-validation score: 0.04\n"
     ]
    },
    {
     "name": "stderr",
     "output_type": "stream",
     "text": [
      "/Users/louisdhont/anaconda3/lib/python3.8/site-packages/sklearn/model_selection/_split.py:666: UserWarning: The least populated class in y has only 1 members, which is less than n_splits=2.\n",
      "  warnings.warn((\"The least populated class in y has only %d\"\n"
     ]
    },
    {
     "data": {
      "text/html": [
       "<div>\n",
       "<style scoped>\n",
       "    .dataframe tbody tr th:only-of-type {\n",
       "        vertical-align: middle;\n",
       "    }\n",
       "\n",
       "    .dataframe tbody tr th {\n",
       "        vertical-align: top;\n",
       "    }\n",
       "\n",
       "    .dataframe thead th {\n",
       "        text-align: right;\n",
       "    }\n",
       "</style>\n",
       "<table border=\"1\" class=\"dataframe\">\n",
       "  <thead>\n",
       "    <tr style=\"text-align: right;\">\n",
       "      <th></th>\n",
       "      <th>fit_time</th>\n",
       "      <th>score_time</th>\n",
       "      <th>test_score</th>\n",
       "      <th>train_score</th>\n",
       "    </tr>\n",
       "  </thead>\n",
       "  <tbody>\n",
       "    <tr>\n",
       "      <th>0</th>\n",
       "      <td>0.010550</td>\n",
       "      <td>0.028564</td>\n",
       "      <td>0.060453</td>\n",
       "      <td>0.265638</td>\n",
       "    </tr>\n",
       "    <tr>\n",
       "      <th>1</th>\n",
       "      <td>0.008367</td>\n",
       "      <td>0.026855</td>\n",
       "      <td>0.062972</td>\n",
       "      <td>0.260870</td>\n",
       "    </tr>\n",
       "    <tr>\n",
       "      <th>2</th>\n",
       "      <td>0.008499</td>\n",
       "      <td>0.022156</td>\n",
       "      <td>0.050505</td>\n",
       "      <td>0.272013</td>\n",
       "    </tr>\n",
       "    <tr>\n",
       "      <th>3</th>\n",
       "      <td>0.008592</td>\n",
       "      <td>0.022773</td>\n",
       "      <td>0.065657</td>\n",
       "      <td>0.268087</td>\n",
       "    </tr>\n",
       "    <tr>\n",
       "      <th>4</th>\n",
       "      <td>0.008370</td>\n",
       "      <td>0.023569</td>\n",
       "      <td>0.053030</td>\n",
       "      <td>0.264722</td>\n",
       "    </tr>\n",
       "    <tr>\n",
       "      <th>5</th>\n",
       "      <td>0.008044</td>\n",
       "      <td>0.022301</td>\n",
       "      <td>0.055556</td>\n",
       "      <td>0.265003</td>\n",
       "    </tr>\n",
       "    <tr>\n",
       "      <th>6</th>\n",
       "      <td>0.008329</td>\n",
       "      <td>0.022463</td>\n",
       "      <td>0.070707</td>\n",
       "      <td>0.263040</td>\n",
       "    </tr>\n",
       "    <tr>\n",
       "      <th>7</th>\n",
       "      <td>0.008326</td>\n",
       "      <td>0.022859</td>\n",
       "      <td>0.040404</td>\n",
       "      <td>0.265283</td>\n",
       "    </tr>\n",
       "    <tr>\n",
       "      <th>8</th>\n",
       "      <td>0.008535</td>\n",
       "      <td>0.022817</td>\n",
       "      <td>0.060606</td>\n",
       "      <td>0.264162</td>\n",
       "    </tr>\n",
       "    <tr>\n",
       "      <th>9</th>\n",
       "      <td>0.007890</td>\n",
       "      <td>0.021869</td>\n",
       "      <td>0.035354</td>\n",
       "      <td>0.266685</td>\n",
       "    </tr>\n",
       "  </tbody>\n",
       "</table>\n",
       "</div>"
      ],
      "text/plain": [
       "   fit_time  score_time  test_score  train_score\n",
       "0  0.010550    0.028564    0.060453     0.265638\n",
       "1  0.008367    0.026855    0.062972     0.260870\n",
       "2  0.008499    0.022156    0.050505     0.272013\n",
       "3  0.008592    0.022773    0.065657     0.268087\n",
       "4  0.008370    0.023569    0.053030     0.264722\n",
       "5  0.008044    0.022301    0.055556     0.265003\n",
       "6  0.008329    0.022463    0.070707     0.263040\n",
       "7  0.008326    0.022859    0.040404     0.265283\n",
       "8  0.008535    0.022817    0.060606     0.264162\n",
       "9  0.007890    0.021869    0.035354     0.266685"
      ]
     },
     "execution_count": 79,
     "metadata": {},
     "output_type": "execute_result"
    }
   ],
   "source": [
    "kFold = KFold(n_splits=10, shuffle=True, random_state=42)\n",
    "\n",
    "KNN = KNeighborsClassifier(n_neighbors = 5).fit(X_train, y_train)\n",
    "\n",
    "df_knn = pd.DataFrame(cross_validate(KNN, X, y, cv=kFold, return_train_score=True))\n",
    "scores = cross_val_score(KNN, X, y, cv = 2)\n",
    "\n",
    "print(\"Cross-validation scores: {}\".format(scores))\n",
    "print(\"Average cross-validation score: {:.2f}\".format(scores.mean()))\n",
    "df_knn"
   ]
  },
  {
   "cell_type": "markdown",
   "metadata": {},
   "source": [
    "### 5.1.2 - Cross validation met linear regression"
   ]
  },
  {
   "cell_type": "code",
   "execution_count": 80,
   "metadata": {},
   "outputs": [
    {
     "name": "stdout",
     "output_type": "stream",
     "text": [
      "Average cross-validation score: 0.60\n"
     ]
    },
    {
     "data": {
      "text/html": [
       "<div>\n",
       "<style scoped>\n",
       "    .dataframe tbody tr th:only-of-type {\n",
       "        vertical-align: middle;\n",
       "    }\n",
       "\n",
       "    .dataframe tbody tr th {\n",
       "        vertical-align: top;\n",
       "    }\n",
       "\n",
       "    .dataframe thead th {\n",
       "        text-align: right;\n",
       "    }\n",
       "</style>\n",
       "<table border=\"1\" class=\"dataframe\">\n",
       "  <thead>\n",
       "    <tr style=\"text-align: right;\">\n",
       "      <th></th>\n",
       "      <th>fit_time</th>\n",
       "      <th>score_time</th>\n",
       "      <th>test_score</th>\n",
       "      <th>train_score</th>\n",
       "    </tr>\n",
       "  </thead>\n",
       "  <tbody>\n",
       "    <tr>\n",
       "      <th>0</th>\n",
       "      <td>0.002364</td>\n",
       "      <td>0.000469</td>\n",
       "      <td>0.536148</td>\n",
       "      <td>0.588735</td>\n",
       "    </tr>\n",
       "    <tr>\n",
       "      <th>1</th>\n",
       "      <td>0.001791</td>\n",
       "      <td>0.000421</td>\n",
       "      <td>0.571887</td>\n",
       "      <td>0.584814</td>\n",
       "    </tr>\n",
       "    <tr>\n",
       "      <th>2</th>\n",
       "      <td>0.001617</td>\n",
       "      <td>0.000447</td>\n",
       "      <td>0.530042</td>\n",
       "      <td>0.589957</td>\n",
       "    </tr>\n",
       "    <tr>\n",
       "      <th>3</th>\n",
       "      <td>0.001510</td>\n",
       "      <td>0.000462</td>\n",
       "      <td>0.610692</td>\n",
       "      <td>0.580425</td>\n",
       "    </tr>\n",
       "    <tr>\n",
       "      <th>4</th>\n",
       "      <td>0.001503</td>\n",
       "      <td>0.000455</td>\n",
       "      <td>0.580089</td>\n",
       "      <td>0.583865</td>\n",
       "    </tr>\n",
       "    <tr>\n",
       "      <th>5</th>\n",
       "      <td>0.001315</td>\n",
       "      <td>0.000381</td>\n",
       "      <td>0.608724</td>\n",
       "      <td>0.580527</td>\n",
       "    </tr>\n",
       "    <tr>\n",
       "      <th>6</th>\n",
       "      <td>0.001470</td>\n",
       "      <td>0.000586</td>\n",
       "      <td>0.568816</td>\n",
       "      <td>0.585056</td>\n",
       "    </tr>\n",
       "    <tr>\n",
       "      <th>7</th>\n",
       "      <td>0.001727</td>\n",
       "      <td>0.000516</td>\n",
       "      <td>0.639412</td>\n",
       "      <td>0.577593</td>\n",
       "    </tr>\n",
       "    <tr>\n",
       "      <th>8</th>\n",
       "      <td>0.001711</td>\n",
       "      <td>0.000477</td>\n",
       "      <td>0.596596</td>\n",
       "      <td>0.581934</td>\n",
       "    </tr>\n",
       "    <tr>\n",
       "      <th>9</th>\n",
       "      <td>0.001540</td>\n",
       "      <td>0.000517</td>\n",
       "      <td>0.580620</td>\n",
       "      <td>0.583648</td>\n",
       "    </tr>\n",
       "  </tbody>\n",
       "</table>\n",
       "</div>"
      ],
      "text/plain": [
       "   fit_time  score_time  test_score  train_score\n",
       "0  0.002364    0.000469    0.536148     0.588735\n",
       "1  0.001791    0.000421    0.571887     0.584814\n",
       "2  0.001617    0.000447    0.530042     0.589957\n",
       "3  0.001510    0.000462    0.610692     0.580425\n",
       "4  0.001503    0.000455    0.580089     0.583865\n",
       "5  0.001315    0.000381    0.608724     0.580527\n",
       "6  0.001470    0.000586    0.568816     0.585056\n",
       "7  0.001727    0.000516    0.639412     0.577593\n",
       "8  0.001711    0.000477    0.596596     0.581934\n",
       "9  0.001540    0.000517    0.580620     0.583648"
      ]
     },
     "execution_count": 80,
     "metadata": {},
     "output_type": "execute_result"
    }
   ],
   "source": [
    "linair = LinearRegression().fit(X_train, y_train)\n",
    "\n",
    "df_lin = pd.DataFrame(cross_validate(linair, X, y, cv=kFold, return_train_score=True))\n",
    "scores = cross_val_score(linair, X, y)\n",
    "\n",
    "print(\"Average cross-validation score: {:.2f}\".format(scores.mean()))\n",
    "df_lin"
   ]
  },
  {
   "cell_type": "markdown",
   "metadata": {},
   "source": [
    "### 5.1.3 - Cross validation met decision tree"
   ]
  },
  {
   "cell_type": "code",
   "execution_count": 81,
   "metadata": {},
   "outputs": [
    {
     "name": "stdout",
     "output_type": "stream",
     "text": [
      "Average cross-validation score: 0.05\n"
     ]
    },
    {
     "name": "stderr",
     "output_type": "stream",
     "text": [
      "/Users/louisdhont/anaconda3/lib/python3.8/site-packages/sklearn/model_selection/_split.py:666: UserWarning: The least populated class in y has only 1 members, which is less than n_splits=5.\n",
      "  warnings.warn((\"The least populated class in y has only %d\"\n"
     ]
    },
    {
     "data": {
      "text/html": [
       "<div>\n",
       "<style scoped>\n",
       "    .dataframe tbody tr th:only-of-type {\n",
       "        vertical-align: middle;\n",
       "    }\n",
       "\n",
       "    .dataframe tbody tr th {\n",
       "        vertical-align: top;\n",
       "    }\n",
       "\n",
       "    .dataframe thead th {\n",
       "        text-align: right;\n",
       "    }\n",
       "</style>\n",
       "<table border=\"1\" class=\"dataframe\">\n",
       "  <thead>\n",
       "    <tr style=\"text-align: right;\">\n",
       "      <th></th>\n",
       "      <th>fit_time</th>\n",
       "      <th>score_time</th>\n",
       "      <th>test_score</th>\n",
       "      <th>train_score</th>\n",
       "    </tr>\n",
       "  </thead>\n",
       "  <tbody>\n",
       "    <tr>\n",
       "      <th>0</th>\n",
       "      <td>0.005494</td>\n",
       "      <td>0.001389</td>\n",
       "      <td>0.042821</td>\n",
       "      <td>0.064236</td>\n",
       "    </tr>\n",
       "    <tr>\n",
       "      <th>1</th>\n",
       "      <td>0.005357</td>\n",
       "      <td>0.001215</td>\n",
       "      <td>0.040302</td>\n",
       "      <td>0.067321</td>\n",
       "    </tr>\n",
       "    <tr>\n",
       "      <th>2</th>\n",
       "      <td>0.005439</td>\n",
       "      <td>0.000763</td>\n",
       "      <td>0.027778</td>\n",
       "      <td>0.064218</td>\n",
       "    </tr>\n",
       "    <tr>\n",
       "      <th>3</th>\n",
       "      <td>0.005089</td>\n",
       "      <td>0.000712</td>\n",
       "      <td>0.045455</td>\n",
       "      <td>0.060572</td>\n",
       "    </tr>\n",
       "    <tr>\n",
       "      <th>4</th>\n",
       "      <td>0.005284</td>\n",
       "      <td>0.000755</td>\n",
       "      <td>0.045455</td>\n",
       "      <td>0.064218</td>\n",
       "    </tr>\n",
       "    <tr>\n",
       "      <th>5</th>\n",
       "      <td>0.004681</td>\n",
       "      <td>0.000661</td>\n",
       "      <td>0.030303</td>\n",
       "      <td>0.068144</td>\n",
       "    </tr>\n",
       "    <tr>\n",
       "      <th>6</th>\n",
       "      <td>0.005095</td>\n",
       "      <td>0.000642</td>\n",
       "      <td>0.032828</td>\n",
       "      <td>0.063657</td>\n",
       "    </tr>\n",
       "    <tr>\n",
       "      <th>7</th>\n",
       "      <td>0.005154</td>\n",
       "      <td>0.000701</td>\n",
       "      <td>0.040404</td>\n",
       "      <td>0.063096</td>\n",
       "    </tr>\n",
       "    <tr>\n",
       "      <th>8</th>\n",
       "      <td>0.005136</td>\n",
       "      <td>0.000664</td>\n",
       "      <td>0.032828</td>\n",
       "      <td>0.060292</td>\n",
       "    </tr>\n",
       "    <tr>\n",
       "      <th>9</th>\n",
       "      <td>0.005126</td>\n",
       "      <td>0.000663</td>\n",
       "      <td>0.045455</td>\n",
       "      <td>0.062535</td>\n",
       "    </tr>\n",
       "  </tbody>\n",
       "</table>\n",
       "</div>"
      ],
      "text/plain": [
       "   fit_time  score_time  test_score  train_score\n",
       "0  0.005494    0.001389    0.042821     0.064236\n",
       "1  0.005357    0.001215    0.040302     0.067321\n",
       "2  0.005439    0.000763    0.027778     0.064218\n",
       "3  0.005089    0.000712    0.045455     0.060572\n",
       "4  0.005284    0.000755    0.045455     0.064218\n",
       "5  0.004681    0.000661    0.030303     0.068144\n",
       "6  0.005095    0.000642    0.032828     0.063657\n",
       "7  0.005154    0.000701    0.040404     0.063096\n",
       "8  0.005136    0.000664    0.032828     0.060292\n",
       "9  0.005126    0.000663    0.045455     0.062535"
      ]
     },
     "execution_count": 81,
     "metadata": {},
     "output_type": "execute_result"
    }
   ],
   "source": [
    "decTree = DecisionTreeClassifier(max_depth=5, random_state=42).fit(X_train, y_train)\n",
    "\n",
    "df_dec = pd.DataFrame(cross_validate(decTree, X, y, cv=kFold, return_train_score=True))\n",
    "scores = cross_val_score(decTree, X, y)\n",
    "\n",
    "print(\"Average cross-validation score: {:.2f}\".format(scores.mean()))\n",
    "df_dec"
   ]
  },
  {
   "cell_type": "markdown",
   "metadata": {},
   "source": [
    "## 5.2 - Grid Search\n",
    "\n",
    "\n",
    "## test GridSearch in KNN, GridSearch in Decision tree, gridSearch in Random Forest"
   ]
  },
  {
   "cell_type": "markdown",
   "metadata": {},
   "source": [
    "GridSearch in Decision tree\n",
    "\n",
    "Hieronder: belangrijkheid van elke feature..."
   ]
  },
  {
   "cell_type": "markdown",
   "metadata": {},
   "source": [
    "### Regression forest tree"
   ]
  },
  {
   "cell_type": "code",
   "execution_count": 82,
   "metadata": {},
   "outputs": [
    {
     "name": "stderr",
     "output_type": "stream",
     "text": [
      "/Users/louisdhont/anaconda3/lib/python3.8/site-packages/sklearn/model_selection/_split.py:666: UserWarning: The least populated class in y has only 1 members, which is less than n_splits=5.\n",
      "  warnings.warn((\"The least populated class in y has only %d\"\n"
     ]
    },
    {
     "name": "stdout",
     "output_type": "stream",
     "text": [
      "Trainingsset score: 0.65\n",
      "Testset score: 0.08\n",
      "Beste parameters volgens het Regression forest tree model: {'max_depth': 13, 'n_estimators': 50, 'random_state': 50}\n",
      "Beste cross-validation score: 0.08\n"
     ]
    }
   ],
   "source": [
    "param_grid = {'max_depth': [11, 12, 13], 'random_state': [30, 40, 50], 'n_estimators': [50, 75, 100]}\n",
    "\n",
    "gridSearchTrees = GridSearchCV(RandomForestClassifier(), param_grid, cv=5, return_train_score=True)\n",
    "\n",
    "gridSearchTrees.fit(X_train, y_train)\n",
    "pred = gridSearchTrees.predict(X_test)\n",
    "trainingScoreTrees = round(gridSearchTrees.score(X_train, y_train), 2)\n",
    "testScoreTrees = round(gridSearchTrees.score(X_test, y_test), 2)\n",
    "\n",
    "print(\"Trainingsset score: \" + str(trainingScoreTrees))\n",
    "print(\"Testset score: \" + str(testScoreTrees))\n",
    "print(\"Beste parameters volgens het Regression forest tree model: {}\".format(gridSearchTrees.best_params_))\n",
    "print(\"Beste cross-validation score: {:.2f}\".format(gridSearchTrees.best_score_))"
   ]
  },
  {
   "cell_type": "code",
   "execution_count": 83,
   "metadata": {},
   "outputs": [
    {
     "data": {
      "image/png": "[encoded data removed]",
      "text/plain": [
       "<Figure size 432x288 with 1 Axes>"
      ]
     },
     "metadata": {
      "needs_background": "light"
     },
     "output_type": "display_data"
    }
   ],
   "source": [
    "importance = gridSearchTrees.best_estimator_.feature_importances_\n",
    "\n",
    "dfFeatureImp = pd.DataFrame(importance, index=featureNames, columns=['feature importance']).sort_values('feature importance', ascending=False)\n",
    "bar = dfFeatureImp.plot(kind='barh', color = \"#ED4E3E\", legend = None)\n",
    "\n",
    "plt.xlabel(\"Feature importance\")\n",
    "plt.ylabel(\"Feature\")\n",
    "plt.title(\"Belangrijkheid van de features\")\n",
    "bar.spines['top'].set_visible(False)\n",
    "bar.spines['right'].set_visible(False)\n",
    "bar.spines['left'].set_visible(False)\n",
    "plt.show();"
   ]
  },
  {
   "cell_type": "code",
   "execution_count": 64,
   "metadata": {},
   "outputs": [
    {
     "name": "stdout",
     "output_type": "stream",
     "text": [
      "Size of training set: 2228   size of validation set: 743   size of test set: 991\n",
      "\n"
     ]
    }
   ],
   "source": [
    "X_train_validation, X_test, y_train_validation, y_test = train_test_split(X, y, random_state=42)\n",
    "\n",
    "X_train, X_valid, y_train, y_valid = train_test_split(X_train_validation, y_train_validation, random_state=42)\n",
    "\n",
    "print(\"Size of training set: {}   size of validation set: {}   size of test set:\"\n",
    "      \" {}\\n\".format(X_train.shape[0], X_valid.shape[0], X_test.shape[0]))"
   ]
  },
  {
   "cell_type": "code",
   "execution_count": null,
   "metadata": {},
   "outputs": [],
   "source": [
    "best_score = 0\n",
    "\n",
    "for depth in range(1, 15):\n",
    "    for rs in [0, 5, 10, 20, 42]:\n",
    "        tree = DecisionTreeClassifier(max_depth=depth, random_state=rs)\n",
    "        tree.fit(X_train, y_train)\n",
    "        score = tree.score(X_valid, y_valid)\n",
    "        \n",
    "        if score > best_score:\n",
    "            best_score = score\n",
    "            best_parameters = {'max_depth': depth, 'random_state': rs}\n",
    "            if score > topScore:\n",
    "                topScore = score\n",
    "                bm = tree\n",
    "\n",
    "print(\"Best parameters: \", best_parameters)\n",
    "\n",
    "tree = DecisionTreeClassifier(**best_parameters)\n",
    "tree.fit(X_train_validation, y_train_validation)\n",
    "training_score = tree.score(X_train, y_train)\n",
    "test_score = tree.score(X_test, y_test)\n",
    "\n",
    "print(\"\\nTraining set score with best parameters : {:.2f}\".format(training_score))\n",
    "print(\"Best score on validation set: {:.2f}\".format(best_score))\n",
    "print(\"Test set score with best parameters: {:.2f}\".format(test_score))"
   ]
  },
  {
   "cell_type": "code",
   "execution_count": null,
   "metadata": {},
   "outputs": [],
   "source": []
  },
  {
   "cell_type": "code",
   "execution_count": null,
   "metadata": {},
   "outputs": [],
   "source": [
    "# vind de beste parameters\n",
    "from sklearn.tree import DecisionTreeClassifier\n",
    "## beste parameters zoeken voor het decision tree model\n",
    "best_score = 0\n",
    "\n",
    "# make a grid for parameter tuning\n",
    "for depth in [1,2,3,4,5]:\n",
    "    for rs in [0,5,10,20,40]:\n",
    "    # for each combination of parameters train a decisiontree\n",
    "        tree = DecisionTreeClassifier(max_depth=depth, random_state=rs)\n",
    "        tree.fit(X_train, y_train)\n",
    "        # evaluate for the validation set\n",
    "        score = tree.score(X_valid, y_valid)\n",
    "        # store the best scores\n",
    "        if score > best_score:\n",
    "            best_score = score\n",
    "            best_parameters = {'max_depth': depth, 'random_state': rs}\n",
    "\n",
    "print(\"Best parameters: \", best_parameters)"
   ]
  },
  {
   "cell_type": "code",
   "execution_count": null,
   "metadata": {},
   "outputs": [],
   "source": [
    "# rebuild a model on the combined training and validation set,\n",
    "# and evaluate it on the test set\n",
    "tree = DecisionTreeClassifier(**best_parameters)\n",
    "tree.fit(X_trainval, y_trainval)\n",
    "training_score = tree.score(X_train, y_train)\n",
    "test_score = tree.score(X_test, y_test)\n",
    "\n",
    "print(\"Training set score with best parameters : {:.2f}\".format(training_score))\n",
    "print(\"Best score on validation set: {:.2f}\".format(best_score))\n",
    "print(\"Test set score with best parameters: {:.2f}\".format(test_score))"
   ]
  },
  {
   "cell_type": "markdown",
   "metadata": {},
   "source": [
    "## 5.3.55 - Grid search in combinatie met Cross-validatie\n",
    "\n",
    "## PAS AAN!\n",
    "\n",
    "De beste parameters voor het model kunnen bepaald worden met *GridSearch* in combinatie met *Cross validation*, ook wel *GridSearchCV* genoemd. Met deze combinatie kan het model algemener getest worden en een betere accuracy krijgen. We zien in dit model geen over- of underfitting\n",
    "\n",
    "De accuracy op de test is hetzelfde als op de training, al ligt deze wel aan de lage kant. Ook hier ga ik in een verder evaluatie nog met de features experimenteren om dit omhoog te krijgen. Dit doe ik ook via feature selection methoden, zoals Principal component en singular value decomposition."
   ]
  },
  {
   "cell_type": "code",
   "execution_count": null,
   "metadata": {},
   "outputs": [],
   "source": [
    "#fill parameter grid for this model\n",
    "param_grid = {'random_state': [0, 1, 2, 3, 4, 5]}\n",
    "\n",
    "#do a gridsearchCV, this will decide the best parameters for the model \n",
    "#and usses a validation set to minimalize overfitting of the training set\n",
    "gridSearchLogReg = GridSearchCV(LogisticRegression(solver=\"liblinear\", multi_class=\"auto\"), param_grid, cv=5, return_train_score=True)\n",
    "\n",
    "gridSearchLogReg.fit(X_train, y_train)\n",
    "pred = gridSearchLogReg.predict(X_test)\n",
    "trainingScoreLogReg = round(gridSearchLogReg.score(X_train, y_train), 2)\n",
    "testScoreLogReg = round(gridSearchLogReg.score(X_test, y_test), 2)\n",
    "\n",
    "print(\"Training set score: \" + str(trainingScoreLogReg))\n",
    "print(\"Test set score: \" + str(testScoreLogReg))\n",
    "\n",
    "print(\"Best parameters: {}\".format(gridSearchLogReg.best_params_))\n",
    "print(\"Best cross-validation score: {:.2f}\".format(gridSearchLogReg.best_score_))\n",
    "\n",
    "#print(\"\\nConfusion matrix:\")\n",
    "#print(confusion_matrix(y_test,pred))\n",
    "#print(\"\\nClassification report:\")\n",
    "#print(classification_report(y_test,pred))"
   ]
  },
  {
   "cell_type": "code",
   "execution_count": null,
   "metadata": {},
   "outputs": [],
   "source": []
  },
  {
   "cell_type": "markdown",
   "metadata": {},
   "source": [
    "random forest \n",
    "\n",
    "Ook hier zijn de beste parameters voor het model gekozen door middel van *GridSearchCV*. \n",
    "\n",
    "Ik zien hier een zware overfitting, dit ga ik oplossen door *feature importance*. Dit wil eigenlijk zeggen dat mijn model de waardes voor mijn test set te precies gaat volgen, er is een te hoge variantie (ruis wordt mee opgenomen) de bias daar tegen over zal eerder laag zijn voor dit model."
   ]
  },
  {
   "cell_type": "markdown",
   "metadata": {},
   "source": [
    "# 5 - Beste model\n",
    "\n",
    "## TODO: Visualisatie van de GridSearchCV aan de hand van een heat map\n",
    "\n",
    "Samenvatting deel 1\n",
    "\n",
    "Doel : generalisatie vermogen van het model verbeteren op reële data.\n",
    "\n",
    "1 test set gebruiken om accuracy te berekenen is erg beperkt\n",
    "\n",
    "cross-validatie en varianten geven je betere accuracy voorspelling maar is uiteraard rekenintensief\n",
    "parametertuning en gridsearch technieken helpen om generalisatievermogen te verhogen, let wel dat je hierbij de testset niet gaat overfitten :\n",
    "\n",
    "  - maak gebruik van een validatieset\n",
    "  - doe de combinatie van gridsearch / cross-validatie (opnieuw : rekenintensief!)\n",
    "  \n",
    "  \n",
    "## Deel 2\n",
    "\n",
    "Metrieken om beter te evalueren\n",
    "\n",
    "metrieken gebruikt tot dusver :\n",
    "\n",
    "voor classificatie : accuracy : tel het aantal juist geclassificeerde data-elementen in de testset tov de grootte van de testset\n",
    "\n",
    "voor regressie : MSE : mean-squared-error : bereken het verschil tussen voorspelde en werkelijke waarde, kwadrateer deze fouten en neem hier een gemiddelde van"
   ]
  },
  {
   "cell_type": "markdown",
   "metadata": {},
   "source": [
    "# Conclusie\n",
    "\n",
    "Te weinig goede features die een duidelijk verband hebben met het aantal dagen tot vertrek van een reis\n",
    "\n",
    "Tijdens het testen van de modellen met en zonder de *Vertrek binnen X-X dagen* features kon ik een klein verschil zien in toename van de testscores."
   ]
  },
  {
   "cell_type": "code",
   "execution_count": null,
   "metadata": {},
   "outputs": [],
   "source": []
  }
 ],
 "metadata": {
  "kernelspec": {
   "display_name": "Python 3",
   "language": "python",
   "name": "python3"
  },
  "language_info": {
   "codemirror_mode": {
    "name": "ipython",
    "version": 3
   },
   "file_extension": ".py",
   "mimetype": "text/x-python",
   "name": "python",
   "nbconvert_exporter": "python",
   "pygments_lexer": "ipython3",
   "version": "3.8.5"
  }
 },
 "nbformat": 4,
 "nbformat_minor": 4
}
