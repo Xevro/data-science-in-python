{
 "cells": [
  {
   "cell_type": "markdown",
   "metadata": {},
   "source": [
    "# Data science project in Python - Voorspellingen maken met features\n",
    "\n",
    "Doormiddel van numpy, pandas, matplotlib & SciKit-learn\n",
    "\n",
    "Door Louis D'Hont - Elektronica-ICT - 2021\n",
    "\n",
    "Dit project is het tweede deel van het data science project. Bekijk project-deel-1 om het data cleaning proces te zien.\n",
    "\n",
    "De voorspellingen van dit project hebben als doel om het aantal dagen tussen het boeken en het vertrek van een reis te voorspellen aan de hand van enkel features en modellen."
   ]
  },
  {
   "cell_type": "code",
   "execution_count": 678,
   "metadata": {},
   "outputs": [],
   "source": [
    "# Importeren van gebruikte bibliotheken\n",
    "import datetime\n",
    "import seaborn\n",
    "import math\n",
    "import numpy as np\n",
    "import pandas as pd\n",
    "import matplotlib.pyplot as plt\n",
    "\n",
    "from sklearn import tree\n",
    "from sklearn.tree import plot_tree\n",
    "from sklearn.tree import DecisionTreeClassifier\n",
    "from sklearn.tree import DecisionTreeRegressor\n",
    "from sklearn.linear_model import LinearRegression\n",
    "from sklearn.linear_model import LogisticRegression\n",
    "\n",
    "from sklearn.model_selection import KFold\n",
    "from sklearn.model_selection import cross_val_score\n",
    "from sklearn.model_selection import cross_validate\n",
    "from sklearn.model_selection import train_test_split\n",
    "from sklearn.model_selection import GridSearchCV\n",
    "\n",
    "from sklearn.neighbors import KNeighborsRegressor\n",
    "from sklearn.neighbors import KNeighborsClassifier\n",
    "from sklearn.ensemble import RandomForestClassifier\n",
    "\n",
    "from sklearn.preprocessing import StandardScaler\n",
    "from sklearn.preprocessing import MinMaxScaler\n",
    "\n",
    "from sklearn.metrics import classification_report\n",
    "from sklearn.metrics import confusion_matrix\n",
    "from sklearn.metrics import mean_squared_error, mean_absolute_error\n",
    "from sklearn.datasets import make_classification"
   ]
  },
  {
   "cell_type": "markdown",
   "metadata": {},
   "source": [
    "# 1 - Features behandelen\n",
    "\n",
    "## 1.1 - Inlezen features\n",
    "\n",
    "Onderstaande code leest het *featuresDataFrame.csv* bestand in en zet deze om naar een dataframe. In deel 1 van het project is er nog een aanpassing gebeurd, de kolom *Geboortedatum* werd alsnog meegenomen om hierna verdere berekeningen te kunnen doen (berekenen van de leeftijd). De kolom *Aantal dagen tot vertrek* en *Aantal dagen op reis* waren achteraf gezien niet goed berekend waardoor deze opnieuw zijn berekend en omgezet. Dit zorgde voor een afname van negatieve tijden die dan verwijderd zijn, dit zorgde voor een afname van heel wat lijnen waardoor er nu nog 2401 rijen over zijn."
   ]
  },
  {
   "cell_type": "code",
   "execution_count": 679,
   "metadata": {},
   "outputs": [],
   "source": [
    "features = pd.read_csv(\"featuresDataFrame.csv\", sep=',') \n",
    "features = features.drop(['Unnamed: 0'], axis=1)"
   ]
  },
  {
   "cell_type": "markdown",
   "metadata": {},
   "source": [
    "### 1.2 - Omzetten van datatypes\n",
    "\n",
    "De opgeslagen data is bij het inlezen opnieuw van het type int64, float64 en object. De data dat hiervoor een timedelta was (*Aantal dagen tot vertrek* en de %Aantal dagen op reis* kolom) moet worden omgezet zodat er terug met kan worden gewerkt.\n",
    "\n",
    "De kolom *Land* bevat de afkorting van het land waar de klant afkomstig van is. Om deze data in een model te kunnen gebruiken als feature worden deze gegevens omgezet in een cijfer. De onderstaande lijst toont de eerste 5 landen met hun corresponderende cijfer.\n",
    "\n",
    "- 1 België\n",
    "- 2 Nederland\n",
    "- 3 Frankrijk\n",
    "- 4 Duitsland\n",
    "- 5 Groot Brittannië\n",
    "\n",
    "Elk reistype is ook eveneens omgezet in een cijfer. De onderstaande lijst toont de reis types met hun corresponderende cijfer.\n",
    "\n",
    "- 1 Ruitervakantie\n",
    "- 2 Ponykamp\n",
    "- 3 Ruitervakantie& Vliegreis\n",
    "- 4 Trektocht\n",
    "- 5 Ruitervakantie Eigen Vervoer\n",
    "- 6 Huifkar tocht\n",
    "- 7 Safari\n",
    "- 8 Jeugdkamp\n",
    "- 9 Weekendje weg"
   ]
  },
  {
   "cell_type": "code",
   "execution_count": 680,
   "metadata": {},
   "outputs": [
    {
     "name": "stderr",
     "output_type": "stream",
     "text": [
      "/Users/louisdhont/anaconda3/lib/python3.8/site-packages/pandas/core/indexing.py:670: SettingWithCopyWarning: \n",
      "A value is trying to be set on a copy of a slice from a DataFrame\n",
      "\n",
      "See the caveats in the documentation: https://pandas.pydata.org/pandas-docs/stable/user_guide/indexing.html#returning-a-view-versus-a-copy\n",
      "  iloc._setitem_with_indexer(indexer, value)\n"
     ]
    }
   ],
   "source": [
    "def convert_timedelta(df_col):\n",
    "    for index, row in enumerate(df_col):\n",
    "        days, rest = row.split(\" days\")\n",
    "        df_col.iloc[index] = days\n",
    "    return df_col\n",
    "\n",
    "def convert_land(df_land):\n",
    "    for index, row in enumerate(df_land):\n",
    "        if row == 'be':\n",
    "            df_land.iloc[index] = 1\n",
    "        elif row == 'nl':\n",
    "            df_land.iloc[index] = 2\n",
    "        elif row == 'fr':\n",
    "            df_land.iloc[index] = 3\n",
    "        elif row == 'de':\n",
    "            df_land.iloc[index] = 4\n",
    "        elif row == 'gb':\n",
    "            df_land.iloc[index] = 5  \n",
    "        elif row == 'lux':\n",
    "            df_land.iloc[index] = 6\n",
    "        elif row == 'sco':\n",
    "            df_land.iloc[index] = 7\n",
    "        elif row == 'pt':\n",
    "            df_land.iloc[index] = 8\n",
    "        elif row == 'sco':\n",
    "            df_land.iloc[index] = 9\n",
    "        elif row == 'sr':\n",
    "            df_land.iloc[index] = 10\n",
    "        elif row == 'cn':\n",
    "            df_land.iloc[index] = 11\n",
    "        elif row == 'aut':\n",
    "            df_land.iloc[index] = 12\n",
    "        elif row == 'ca':\n",
    "            df_land.iloc[index] = 13   \n",
    "        elif row == 'it':\n",
    "            df_land.iloc[index] = 14\n",
    "        elif row == 'es':\n",
    "            df_land.iloc[index] = 15\n",
    "        elif row == 'cl':\n",
    "            df_land.iloc[index] = 16\n",
    "\n",
    "def convert_reis_type(df_reistype):\n",
    "    for index, row in enumerate(df_reistype):\n",
    "        if row == 'Ruitervakantie':\n",
    "            df_reistype.iloc[index] = 1\n",
    "        elif row == 'Ponykamp':\n",
    "            df_reistype.iloc[index] = 2\n",
    "        elif row == 'Ruitervakantie& Vliegreis':\n",
    "            df_reistype.iloc[index] = 3\n",
    "        elif row == 'Trektocht':\n",
    "            df_reistype.iloc[index] = 4\n",
    "        elif row == 'Ruitervakantie Eigen Vervoer':\n",
    "            df_reistype.iloc[index] = 5  \n",
    "        elif row == 'Huifkar tocht':\n",
    "            df_reistype.iloc[index] = 6\n",
    "        elif row == 'Safari':\n",
    "            df_reistype.iloc[index] = 7\n",
    "        elif row == 'Jeugdkamp':\n",
    "            df_reistype.iloc[index] = 8\n",
    "        elif row == 'Weekendje weg':\n",
    "            df_reistype.iloc[index] = 9\n",
    "\n",
    "features['Datum creatie'] = pd.to_datetime(features['Datum creatie'], format='%Y.%m.%d', infer_datetime_format=True, errors='coerce')\n",
    "features['Datum vertrek'] = pd.to_datetime(features['Datum vertrek'], format='%Y.%m.%d', infer_datetime_format=True, errors='coerce')\n",
    "features['Datum terug'] = pd.to_datetime(features['Datum terug'], format='%Y.%m.%d', infer_datetime_format=True, errors='coerce')\n",
    "    \n",
    "features['Aantal dagen tot vertrek'] == convert_timedelta(features['Aantal dagen tot vertrek'])\n",
    "features['Aantal dagen tot vertrek'] = features['Aantal dagen tot vertrek'].astype(int)\n",
    "\n",
    "features['Aantal dagen op reis'] == convert_timedelta(features['Aantal dagen op reis'])\n",
    "features['Aantal dagen op reis'] = features['Aantal dagen op reis'].astype(int)\n",
    "            \n",
    "features['Land'] == convert_land(features['Land'])\n",
    "features['Land'] = features['Land'].astype(int)\n",
    "\n",
    "features['Reistype'] == convert_reis_type(features['Reistype'])\n",
    "features['Reistype'] = features['Reistype'].astype(int)      \n",
    "\n",
    "features['Totaalprijs'] = features['Totaalprijs'].replace(',', '.', regex=True)\n",
    "features['Totaalprijs'] = features['Totaalprijs'].astype(float)"
   ]
  },
  {
   "cell_type": "markdown",
   "metadata": {},
   "source": [
    "## 1.3 - Berekenen leeftijd\n",
    "\n",
    "De onderstaande code zet de geboortedatum om naar de huidige leeftijd, de lege waarden worden opgevuld met een gemiddelde leeftijd van 42 jaar omdat ik er vanuit ga dat de gemiddelde persoon in de data ongeveer 42 jaar oud is. "
   ]
  },
  {
   "cell_type": "code",
   "execution_count": 681,
   "metadata": {},
   "outputs": [],
   "source": [
    "features['Geboortedatum'] = pd.to_datetime(features['Geboortedatum'], errors = 'coerce')\n",
    "features['Leeftijd'] = datetime.datetime.now().year - pd.DatetimeIndex(features['Geboortedatum']).year\n",
    "features['Leeftijd'] = features['Leeftijd'].fillna(42)\n",
    "features['Leeftijd'] = features['Leeftijd'].astype(int);"
   ]
  },
  {
   "cell_type": "markdown",
   "metadata": {},
   "source": [
    "## 1.4 -  Omzetten bestemmingen\n",
    "    \n",
    "De bestemmingen data is door het bedrijf manueel ingevoerd. Om de bestemmingen te kunnen koppelen aan een land heb  ik gekozen om elk land om te zetten naar een cijfer. Deze onderstaande lijst toont de eerste 10 landen met hun cijfer en de laatste 5 landen. Heel wat reizen bevatten geen directe aanwijzing naar het land maar hebben vaak een bekende stad of streek in de omschrijving, door deze te gaan groeperen konden alle bestemmingen worden omgezet naar hun corresponderende cijfer. Een 20 tal bestemmingen bevatte geen duidelijke aanwijzing naar een land of streek, hiervoor heb ik besloten om deze te verwijderen.\n",
    "\n",
    "- 1 België\n",
    "- 2 Nederland\n",
    "- 3 Frankrijk\n",
    "- 4 Duitsland\n",
    "- 5 Portugal\n",
    "- 6 Ijsland\n",
    "- 7 Italië\n",
    "- 8 Ierland\n",
    "- 9 De Verenigde Staten\n",
    "- 10 Jordanië\n",
    "\n",
    "**De laatste 5**\n",
    "- 52 Rusland\n",
    "- 53 Columbia\n",
    "- 54 Australië\n",
    "- 55 Oostenrijk\n",
    "- 56 Oman"
   ]
  },
  {
   "cell_type": "code",
   "execution_count": 682,
   "metadata": {},
   "outputs": [],
   "source": [
    "nederland = ['friese', 'nederland', 'netherlands', 'vlieland', 'brabant', 'twente', 'drenthe', 'limburg', 'brabantse', 'nederlands', 'duinen', 'salland', 'zeeland', 'ijslanders']\n",
    "belgie = ['ardennen', 'belgium', 'ardenne', 'belgië', 'belgie', 'arrdennen', 'eifel', 'ardennen', 'ardenen']\n",
    "frankrijk = ['frankrijk', 'mont saint michel', 'morvan', 'dartmoor', 'couleurs corse', 'vogezen', 'margeride', 'haute valee', 'jura', 'normandië', 'médoc', 'montmorillonnais', 'france', 'loire', 'wijnroute', 'wijngaarden', 'elzas', 'pyreneeën', 'dordogne', 'pyreneeen', 'corsica', 'aude', 'frans', 'armagnac', 'frankrijjk', 'frankijk']\n",
    "duitsland = ['germany', 'duitsland', 'thuringen', 'beieren', 'duitsand', 'duitse', 'thüringen']\n",
    "spanje = ['spain', 'spanje', 'sulayr', 'alpujarra', 'middellandse', 'demanda', 'monfrague', 'andalusisch', 'costa brava', 'sierra nevada', 'catalonië','catalonie', 'gredos', 'andalusië', 'ronda', 'andalusie', 'conquistadores']\n",
    "italie = ['italy', 'italie', 'sicilië', 'madonie', 'italië', 'sardinië', 'sardinie', 'toscane', 'molise', 'alta maremma', 'molise abruzzen']\n",
    "portugal = ['portugal', 'lusitano', 'faro', 'algarve', 'lissabon', 'portugese', 'azoren']\n",
    "usa = ['verenigde staten', 'montana', 'usa', 'united states', 'wyoming', 'ranch', 'colorado']\n",
    "kroatie = ['kroatie', 'croatia', 'kroatië', 'istrië', 'plitvice', 'rode-meer', 'dalmatie', 'istrie']\n",
    "allerlei = ['Klassieke dressuur van topkwaliteit en stedenschoon', 'Avontuurlijke trektocht door een sprookjesachtig gebied', 'Trektocht in het spoor van de tuimelaar-dolfijn ',\n",
    "       'Driedaagse trektocht in het land van d\\x19Oc en d\\x19Oil', 'Trektocht over de bergen naar de zee', 'Trektocht in het spoor van de tuimelaar-dolfijn','Paardrijden langs de route van de bandieten', 'De \\x18Great Trek\\x19: werkelijk avontuurlijke trektocht',\n",
    "       'Beach and Bush Rides', 'Dressuurweek','Een week paardrijden met jongvolwassenen','National Park: paardrijden voor pure ontspanning',\n",
    "       'Driedaagse tocht door de Vienne-vallei','Trektocht naar de gouden stranden','Trektocht tussen zee en woestijnbergen', 'Programma Full','Smokkelaarstocht', 'Trektocht over de bergen naar zee','Beach and Meadows trektocht','De \"legendes van de Wolf\"-trektocht','Standplaatsvakantie Stertochten']\n",
    "\n",
    "def convert_bestemmingen():\n",
    "    for index, row in enumerate(features['Bestemming']):\n",
    "        if any(ext in (str(row).lower()) for ext in belgie):\n",
    "            features['Bestemming'].iloc[index] = 1\n",
    "        elif any(ext in (str(row).lower()) for ext in nederland):\n",
    "            features['Bestemming'].iloc[index] = 2\n",
    "        elif any(ext in (str(row).lower()) for ext in frankrijk):\n",
    "            features['Bestemming'].iloc[index] = 3\n",
    "        elif any(ext in (str(row).lower()) for ext in duitsland):\n",
    "            features['Bestemming'].iloc[index] = 4\n",
    "        elif any(ext in (str(row).lower()) for ext in portugal):\n",
    "            features['Bestemming'].iloc[index] = 5\n",
    "        elif any(ext in (str(row).lower()) for ext in ['ijsland', 'iceland', 'geysir', 'golden circle']):\n",
    "            features['Bestemming'].iloc[index] = 6\n",
    "        elif any(ext in (str(row).lower()) for ext in italie):\n",
    "            features['Bestemming'].iloc[index] = 7\n",
    "        elif any(ext in (str(row).lower()) for ext in ['ierland', 'ireland', 'galway', 'ierse', 'donegal']):\n",
    "            features['Bestemming'].iloc[index] = 8\n",
    "        elif any(ext in (str(row).lower()) for ext in usa):\n",
    "            features['Bestemming'].iloc[index] = 9\n",
    "        elif any(ext in (str(row).lower()) for ext in ['jordanie', 'jordan', 'wadi rum']):\n",
    "            features['Bestemming'].iloc[index] = 10\n",
    "        elif any(ext in (str(row).lower()) for ext in spanje):\n",
    "            features['Bestemming'].iloc[index] = 11\n",
    "        elif any(ext in (str(row).lower()) for ext in ['botswana']):\n",
    "            features['Bestemming'].iloc[index] = 12\n",
    "        elif any(ext in (str(row).lower()) for ext in ['canada', 'yukon', 'alberta', 'saskatchewan']):\n",
    "            features['Bestemming'].iloc[index] = 13\n",
    "        elif any(ext in (str(row).lower()) for ext in ['roemenie', 'roemenië', 'transsylvanie', 'transsylvanië']):\n",
    "            features['Bestemming'].iloc[index] = 14\n",
    "        elif any(ext in (str(row).lower()) for ext in ['chili', 'chile']):\n",
    "            features['Bestemming'].iloc[index] = 15\n",
    "        elif any(ext in (str(row).lower()) for ext in ['marokko', 'marokkaanse', 'berbers']):\n",
    "            features['Bestemming'].iloc[index] = 16\n",
    "        elif any(ext in (str(row).lower()) for ext in ['griekenland', 'petra', 'kreta', 'kefalonia']):\n",
    "            features['Bestemming'].iloc[index] = 17\n",
    "        elif any(ext in (str(row).lower()) for ext in ['zuid afrika', 'south africa', 'afrika']):\n",
    "            features['Bestemming'].iloc[index] = 18\n",
    "        elif any(ext in (str(row).lower()) for ext in ['bulgarije', 'bulgaria', 'balkan']):\n",
    "            features['Bestemming'].iloc[index] = 19\n",
    "        elif any(ext in (str(row).lower()) for ext in ['hongarije', 'poesta', 'homgarije']):\n",
    "            features['Bestemming'].iloc[index] = 20\n",
    "        elif any(ext in (str(row).lower()) for ext in ['tsjechie', 'tsjechië', 'zuid-bohemen', 'karpaten']):\n",
    "            features['Bestemming'].iloc[index] = 21   \n",
    "        elif any(ext in (str(row).lower()) for ext in ['cappadocië', 'turkije', 'turklije', 'thracians']):\n",
    "            features['Bestemming'].iloc[index] = 22\n",
    "        elif any(ext in (str(row).lower()) for ext in ['polen', 'poolse', 'poland']):\n",
    "            features['Bestemming'].iloc[index] = 23\n",
    "        elif any(ext in (str(row).lower()) for ext in ['namibie', 'namibië']):\n",
    "            features['Bestemming'].iloc[index] = 24\n",
    "        elif any(ext in (str(row).lower()) for ext in ['kirgizie', 'kirgizië']):\n",
    "            features['Bestemming'].iloc[index] = 25\n",
    "        elif any(ext in (str(row).lower()) for ext in ['montenegro']):\n",
    "            features['Bestemming'].iloc[index] = 26\n",
    "        elif any(ext in (str(row).lower()) for ext in ['zweden']):\n",
    "            features['Bestemming'].iloc[index] = 27\n",
    "        elif any(ext in (str(row).lower()) for ext in ['albanie', 'albanië', 'katharen']):\n",
    "            features['Bestemming'].iloc[index] = 28\n",
    "        elif any(ext in (str(row).lower()) for ext in ['mongolië', 'mongolie', 'mongoolse']):\n",
    "            features['Bestemming'].iloc[index] = 29\n",
    "        elif any(ext in (str(row).lower()) for ext in kroatie):\n",
    "            features['Bestemming'].iloc[index] = 30\n",
    "        elif any(ext in (str(row).lower()) for ext in ['costa rica']):\n",
    "            features['Bestemming'].iloc[index] = 31\n",
    "        elif any(ext in (str(row).lower()) for ext in ['slowakije']):\n",
    "            features['Bestemming'].iloc[index] = 32\n",
    "        elif any(ext in (str(row).lower()) for ext in ['brazilie', 'santa catarina gaucho']):\n",
    "            features['Bestemming'].iloc[index] = 33\n",
    "        elif any(ext in (str(row).lower()) for ext in ['denemarken', 'denmark', 'deense']):\n",
    "            features['Bestemming'].iloc[index] = 34\n",
    "        elif any(ext in (str(row).lower()) for ext in ['noorwegen', 'norway', 'ramsjo-special', 'northern', 'scandinavische']):\n",
    "            features['Bestemming'].iloc[index] = 35\n",
    "        elif any(ext in (str(row).lower()) for ext in ['azerbidjan']):\n",
    "            features['Bestemming'].iloc[index] = 36\n",
    "        elif any(ext in (str(row).lower()) for ext in ['georgie', 'georgië', 'georgia']):\n",
    "            features['Bestemming'].iloc[index] = 37\n",
    "        elif any(ext in (str(row).lower()) for ext in ['zwitserland']):\n",
    "            features['Bestemming'].iloc[index] = 38\n",
    "        elif any(ext in (str(row).lower()) for ext in ['groot-brittanie', 'wales', 'britain', 'engeland']):\n",
    "            features['Bestemming'].iloc[index] = 39\n",
    "        elif any(ext in (str(row).lower()) for ext in ['argentinie', 'argentinië', 'noord-argentinië']):\n",
    "            features['Bestemming'].iloc[index] = 40\n",
    "        elif any(ext in (str(row).lower()) for ext in ['cuba']):\n",
    "            features['Bestemming'].iloc[index] = 41\n",
    "        elif any(ext in (str(row).lower()) for ext in ['lapland', 'finland']):\n",
    "            features['Bestemming'].iloc[index] = 42\n",
    "        elif any(ext in (str(row).lower()) for ext in ['mexico']):\n",
    "            features['Bestemming'].iloc[index] = 43\n",
    "        elif any(ext in (str(row).lower()) for ext in ['china']):\n",
    "            features['Bestemming'].iloc[index] = 44\n",
    "        elif any(ext in (str(row).lower()) for ext in ['kenia']):\n",
    "            features['Bestemming'].iloc[index] = 45\n",
    "        elif any(ext in (str(row).lower()) for ext in ['iran']):\n",
    "            features['Bestemming'].iloc[index] = 46\n",
    "        elif any(ext in (str(row).lower()) for ext in ['servië', 'servie', 'sumadija']):\n",
    "            features['Bestemming'].iloc[index] = 47\n",
    "        elif any(ext in (str(row).lower()) for ext in ['schotland']):\n",
    "            features['Bestemming'].iloc[index] = 48\n",
    "        elif any(ext in (str(row).lower()) for ext in ['egypte', 'sahara']):\n",
    "            features['Bestemming'].iloc[index] = 49\n",
    "        elif any(ext in (str(row).lower()) for ext in ['andorra']):\n",
    "            features['Bestemming'].iloc[index] = 50\n",
    "        elif any(ext in (str(row).lower()) for ext in ['uruguay']):\n",
    "            features['Bestemming'].iloc[index] = 51\n",
    "        elif any(ext in (str(row).lower()) for ext in ['rusland']):\n",
    "            features['Bestemming'].iloc[index] = 52\n",
    "        elif any(ext in (str(row).lower()) for ext in ['columbia', 'colombiaans']):\n",
    "            features['Bestemming'].iloc[index] = 53\n",
    "        elif any(ext in (str(row).lower()) for ext in ['australie']):\n",
    "            features['Bestemming'].iloc[index] = 54\n",
    "        elif any(ext in (str(row).lower()) for ext in ['oostenrijk']):\n",
    "            features['Bestemming'].iloc[index] = 55\n",
    "        elif any(ext in (str(row).lower()) for ext in ['oman']):\n",
    "            features['Bestemming'].iloc[index] = 56\n",
    "        elif any(ext in str(row) for ext in allerlei):\n",
    "            rows = features['Bestemming'].index[[index]]\n",
    "            features['Bestemming'] = features['Bestemming'].drop(rows)\n",
    "    \n",
    "    return features['Bestemming']\n",
    "\n",
    "features['Bestemming'] == convert_bestemmingen()\n",
    "features = features[features['Bestemming'].notna()]\n",
    "features['Bestemming'] = features['Bestemming'].astype(int)"
   ]
  },
  {
   "cell_type": "markdown",
   "metadata": {},
   "source": [
    "## 1.5 -  Aanpassen categorieën *Aantal dagen tot vertrek*\n",
    "\n",
    "De kolom *Aantal dagen tot vertrek* bevat steeds een cijfer dat aangeeft in welke categorie de reis valt tussen het aantal dagen na het bestellen van een reis en het effectief vertrekken op reis. De kolom *delta periode vertrek* bevat de originele datums om later met linaire regressie de duur van een reis te voorspellen.\n",
    "\n",
    "De aantal dagen worden omgezet in en cijfer dat een periode weergeeft, onderstaande lijst toont de betekenis van elk cijfer.\n",
    "\n",
    "- 1: 1 tot 14 dagen\n",
    "- 2: 15 tot 30 dagen\n",
    "- 3: 31 tot 60 dagen\n",
    "- 4: 61 tot 100 dagen\n",
    "- 5: 101 dagen en meer\n",
    "\n",
    "Mijn keuze werd mede bepaald door deze onderstaande grafiek dat weergeeft hoeveel klanten er een wachtperiode hebben tussen het boeken van een reis en het vertrekken op reis. Deze grafiek liet mij zin dat het grootste deel van de klanten minder dan 100-120 dagen na het boeken al vertrekt op reis, aan de hand hiervan heb ik dan een target gemaakt dat 5 types bevat, elk type wordt ingedeeld volgens de waarde waartussen het aantal dagen valt. Zo wordt een reis dat tussen 1 en 14 dagen valt het cijfer 1 gegeven, voor 15 tot 30 dagen het cijfer 2 en zo verder."
   ]
  },
  {
   "cell_type": "code",
   "execution_count": 683,
   "metadata": {},
   "outputs": [
    {
     "data": {
      "image/png": "[encoded data removed]",
      "text/plain": [
       "<Figure size 432x288 with 1 Axes>"
      ]
     },
     "metadata": {
      "needs_background": "light"
     },
     "output_type": "display_data"
    }
   ],
   "source": [
    "df = features['Aantal dagen tot vertrek']\n",
    "plt.hist(df, bins = 30)\n",
    "plt.xlabel(\"Aantal dagen tot vertrek\")\n",
    "plt.ylabel(\"Aantal klanten\")\n",
    "plt.title(\"Optelling van het aantal klanten vs hun aantal dagen tot vertrek\");"
   ]
  },
  {
   "cell_type": "code",
   "execution_count": 684,
   "metadata": {},
   "outputs": [],
   "source": [
    "features['delta periode vertrek'] = features.loc[:, 'Aantal dagen tot vertrek'] \n",
    "\n",
    "for index, row in enumerate(features['Aantal dagen tot vertrek']):\n",
    "    if (row >= 1) & (row <= 14):\n",
    "        features['Aantal dagen tot vertrek'].iloc[index] = 1\n",
    "    elif (row >= 15) & (row <= 30):\n",
    "        features['Aantal dagen tot vertrek'].iloc[index] = 2\n",
    "    elif (row >= 31) & (row <= 60):\n",
    "        features['Aantal dagen tot vertrek'].iloc[index] = 3\n",
    "    elif (row >= 61) & (row <= 100):\n",
    "        features['Aantal dagen tot vertrek'].iloc[index] = 4\n",
    "    elif (row >= 101):\n",
    "        features['Aantal dagen tot vertrek'].iloc[index] = 5"
   ]
  },
  {
   "cell_type": "markdown",
   "metadata": {},
   "source": [
    "De onderstaande lijst toont voor elke kolom het datatype. Alle kolommen zijn omgezet naar int, float of datetime. De integer en float waarden kunnen worden gebruikt als feature."
   ]
  },
  {
   "cell_type": "code",
   "execution_count": 685,
   "metadata": {},
   "outputs": [
    {
     "data": {
      "text/plain": [
       "Status                               int64\n",
       "Dossier jaar                         int64\n",
       "Dossier nr.                          int64\n",
       "Klantnummer                         object\n",
       "Datum creatie               datetime64[ns]\n",
       "Datum vertrek               datetime64[ns]\n",
       "Datum terug                 datetime64[ns]\n",
       "Totaalprijs                        float64\n",
       "Betalingen dossier                 float64\n",
       "Openstaand dossier                 float64\n",
       "Land                                 int64\n",
       "Bestemming                           int64\n",
       "Reistype                             int64\n",
       "Aantal reizigers                     int64\n",
       "Aantal dagen tot vertrek             int64\n",
       "Aantal dagen op reis                 int64\n",
       "Geboortedatum               datetime64[ns]\n",
       "Leeftijd                             int64\n",
       "delta periode vertrek                int64\n",
       "dtype: object"
      ]
     },
     "execution_count": 685,
     "metadata": {},
     "output_type": "execute_result"
    }
   ],
   "source": [
    "features.dtypes"
   ]
  },
  {
   "cell_type": "markdown",
   "metadata": {},
   "source": [
    "## 1.6 - Bekijken van features\n",
    "\n",
    "In het onderstaande dataframe staan alle gegevens die kunnen worden gebruikt als feature. Het spreekt voor zich dat er uiteraard ook enkele minder relevante zaken zoals klantnummer en datums zullen worden weggelaten uit het finale dataframe waarmee de modellen zullen worden opgebouwd. De zaken die daarnet werden berekend moeten ook weggelaten worden uit het dataframe om te voorkomen dat het model te sterk trekt naar de gecoreleerde data."
   ]
  },
  {
   "cell_type": "code",
   "execution_count": 686,
   "metadata": {},
   "outputs": [
    {
     "data": {
      "text/html": [
       "<div>\n",
       "<style scoped>\n",
       "    .dataframe tbody tr th:only-of-type {\n",
       "        vertical-align: middle;\n",
       "    }\n",
       "\n",
       "    .dataframe tbody tr th {\n",
       "        vertical-align: top;\n",
       "    }\n",
       "\n",
       "    .dataframe thead th {\n",
       "        text-align: right;\n",
       "    }\n",
       "</style>\n",
       "<table border=\"1\" class=\"dataframe\">\n",
       "  <thead>\n",
       "    <tr style=\"text-align: right;\">\n",
       "      <th></th>\n",
       "      <th>Status</th>\n",
       "      <th>Dossier jaar</th>\n",
       "      <th>Dossier nr.</th>\n",
       "      <th>Klantnummer</th>\n",
       "      <th>Datum creatie</th>\n",
       "      <th>Datum vertrek</th>\n",
       "      <th>Datum terug</th>\n",
       "      <th>Totaalprijs</th>\n",
       "      <th>Betalingen dossier</th>\n",
       "      <th>Openstaand dossier</th>\n",
       "      <th>Land</th>\n",
       "      <th>Bestemming</th>\n",
       "      <th>Reistype</th>\n",
       "      <th>Aantal reizigers</th>\n",
       "      <th>Aantal dagen tot vertrek</th>\n",
       "      <th>Aantal dagen op reis</th>\n",
       "      <th>Geboortedatum</th>\n",
       "      <th>Leeftijd</th>\n",
       "      <th>delta periode vertrek</th>\n",
       "    </tr>\n",
       "  </thead>\n",
       "  <tbody>\n",
       "    <tr>\n",
       "      <th>1373</th>\n",
       "      <td>1</td>\n",
       "      <td>2017</td>\n",
       "      <td>3069</td>\n",
       "      <td>f3e41b0b2d4b53b3</td>\n",
       "      <td>2017-05-23</td>\n",
       "      <td>2017-07-22</td>\n",
       "      <td>2017-07-29</td>\n",
       "      <td>749.00</td>\n",
       "      <td>749.00</td>\n",
       "      <td>0.0</td>\n",
       "      <td>2</td>\n",
       "      <td>23</td>\n",
       "      <td>1</td>\n",
       "      <td>1</td>\n",
       "      <td>3</td>\n",
       "      <td>7</td>\n",
       "      <td>NaT</td>\n",
       "      <td>42</td>\n",
       "      <td>60</td>\n",
       "    </tr>\n",
       "    <tr>\n",
       "      <th>597</th>\n",
       "      <td>1</td>\n",
       "      <td>2013</td>\n",
       "      <td>1506</td>\n",
       "      <td>e3864cf03b5beef0</td>\n",
       "      <td>2014-06-28</td>\n",
       "      <td>2014-08-08</td>\n",
       "      <td>2014-10-08</td>\n",
       "      <td>975.00</td>\n",
       "      <td>975.00</td>\n",
       "      <td>0.0</td>\n",
       "      <td>2</td>\n",
       "      <td>2</td>\n",
       "      <td>1</td>\n",
       "      <td>3</td>\n",
       "      <td>3</td>\n",
       "      <td>61</td>\n",
       "      <td>NaT</td>\n",
       "      <td>42</td>\n",
       "      <td>41</td>\n",
       "    </tr>\n",
       "    <tr>\n",
       "      <th>1487</th>\n",
       "      <td>1</td>\n",
       "      <td>2017</td>\n",
       "      <td>3304</td>\n",
       "      <td>e449d982e9bc0333</td>\n",
       "      <td>2017-11-13</td>\n",
       "      <td>2017-11-18</td>\n",
       "      <td>2017-11-25</td>\n",
       "      <td>1174.61</td>\n",
       "      <td>1174.61</td>\n",
       "      <td>0.0</td>\n",
       "      <td>2</td>\n",
       "      <td>11</td>\n",
       "      <td>1</td>\n",
       "      <td>1</td>\n",
       "      <td>1</td>\n",
       "      <td>7</td>\n",
       "      <td>NaT</td>\n",
       "      <td>42</td>\n",
       "      <td>5</td>\n",
       "    </tr>\n",
       "    <tr>\n",
       "      <th>507</th>\n",
       "      <td>1</td>\n",
       "      <td>2013</td>\n",
       "      <td>1258</td>\n",
       "      <td>ee04ef5c97b382a8</td>\n",
       "      <td>2014-05-02</td>\n",
       "      <td>2014-07-19</td>\n",
       "      <td>2014-07-26</td>\n",
       "      <td>1820.00</td>\n",
       "      <td>1820.00</td>\n",
       "      <td>0.0</td>\n",
       "      <td>2</td>\n",
       "      <td>3</td>\n",
       "      <td>1</td>\n",
       "      <td>2</td>\n",
       "      <td>4</td>\n",
       "      <td>7</td>\n",
       "      <td>NaT</td>\n",
       "      <td>42</td>\n",
       "      <td>78</td>\n",
       "    </tr>\n",
       "    <tr>\n",
       "      <th>685</th>\n",
       "      <td>1</td>\n",
       "      <td>2014</td>\n",
       "      <td>1694</td>\n",
       "      <td>61c31ca435dbeb02</td>\n",
       "      <td>2015-01-22</td>\n",
       "      <td>2015-06-13</td>\n",
       "      <td>2015-06-20</td>\n",
       "      <td>836.91</td>\n",
       "      <td>836.91</td>\n",
       "      <td>0.0</td>\n",
       "      <td>2</td>\n",
       "      <td>7</td>\n",
       "      <td>1</td>\n",
       "      <td>1</td>\n",
       "      <td>5</td>\n",
       "      <td>7</td>\n",
       "      <td>NaT</td>\n",
       "      <td>42</td>\n",
       "      <td>142</td>\n",
       "    </tr>\n",
       "    <tr>\n",
       "      <th>2017</th>\n",
       "      <td>1</td>\n",
       "      <td>2019</td>\n",
       "      <td>20190404</td>\n",
       "      <td>11b5de99aa518265</td>\n",
       "      <td>2019-07-28</td>\n",
       "      <td>2019-08-17</td>\n",
       "      <td>2019-08-24</td>\n",
       "      <td>1185.00</td>\n",
       "      <td>1185.00</td>\n",
       "      <td>0.0</td>\n",
       "      <td>2</td>\n",
       "      <td>11</td>\n",
       "      <td>1</td>\n",
       "      <td>1</td>\n",
       "      <td>2</td>\n",
       "      <td>7</td>\n",
       "      <td>1988-09-03</td>\n",
       "      <td>33</td>\n",
       "      <td>20</td>\n",
       "    </tr>\n",
       "    <tr>\n",
       "      <th>256</th>\n",
       "      <td>1</td>\n",
       "      <td>2012</td>\n",
       "      <td>689</td>\n",
       "      <td>d0c4d8eb6f2f3dac</td>\n",
       "      <td>2012-12-13</td>\n",
       "      <td>2012-12-30</td>\n",
       "      <td>2013-06-01</td>\n",
       "      <td>500.00</td>\n",
       "      <td>500.00</td>\n",
       "      <td>0.0</td>\n",
       "      <td>2</td>\n",
       "      <td>16</td>\n",
       "      <td>1</td>\n",
       "      <td>1</td>\n",
       "      <td>2</td>\n",
       "      <td>153</td>\n",
       "      <td>NaT</td>\n",
       "      <td>42</td>\n",
       "      <td>17</td>\n",
       "    </tr>\n",
       "    <tr>\n",
       "      <th>1125</th>\n",
       "      <td>1</td>\n",
       "      <td>2016</td>\n",
       "      <td>2579</td>\n",
       "      <td>ed34923408b403a9</td>\n",
       "      <td>2016-07-31</td>\n",
       "      <td>2016-08-15</td>\n",
       "      <td>2016-08-17</td>\n",
       "      <td>182.00</td>\n",
       "      <td>182.00</td>\n",
       "      <td>0.0</td>\n",
       "      <td>2</td>\n",
       "      <td>2</td>\n",
       "      <td>1</td>\n",
       "      <td>1</td>\n",
       "      <td>2</td>\n",
       "      <td>2</td>\n",
       "      <td>NaT</td>\n",
       "      <td>42</td>\n",
       "      <td>15</td>\n",
       "    </tr>\n",
       "    <tr>\n",
       "      <th>1014</th>\n",
       "      <td>1</td>\n",
       "      <td>2016</td>\n",
       "      <td>2350</td>\n",
       "      <td>0be58378f0d29024</td>\n",
       "      <td>2016-01-04</td>\n",
       "      <td>2016-04-17</td>\n",
       "      <td>2016-04-24</td>\n",
       "      <td>1732.50</td>\n",
       "      <td>1732.50</td>\n",
       "      <td>0.0</td>\n",
       "      <td>2</td>\n",
       "      <td>11</td>\n",
       "      <td>1</td>\n",
       "      <td>1</td>\n",
       "      <td>5</td>\n",
       "      <td>7</td>\n",
       "      <td>1937-12-22</td>\n",
       "      <td>84</td>\n",
       "      <td>104</td>\n",
       "    </tr>\n",
       "    <tr>\n",
       "      <th>392</th>\n",
       "      <td>1</td>\n",
       "      <td>2013</td>\n",
       "      <td>1055</td>\n",
       "      <td>adbd8175e11182fc</td>\n",
       "      <td>2013-06-30</td>\n",
       "      <td>2013-07-09</td>\n",
       "      <td>2013-09-14</td>\n",
       "      <td>1216.19</td>\n",
       "      <td>1216.19</td>\n",
       "      <td>0.0</td>\n",
       "      <td>2</td>\n",
       "      <td>20</td>\n",
       "      <td>1</td>\n",
       "      <td>1</td>\n",
       "      <td>1</td>\n",
       "      <td>67</td>\n",
       "      <td>1963-03-13</td>\n",
       "      <td>58</td>\n",
       "      <td>9</td>\n",
       "    </tr>\n",
       "  </tbody>\n",
       "</table>\n",
       "</div>"
      ],
      "text/plain": [
       "      Status  Dossier jaar  Dossier nr.       Klantnummer Datum creatie  \\\n",
       "1373       1          2017         3069  f3e41b0b2d4b53b3    2017-05-23   \n",
       "597        1          2013         1506  e3864cf03b5beef0    2014-06-28   \n",
       "1487       1          2017         3304  e449d982e9bc0333    2017-11-13   \n",
       "507        1          2013         1258  ee04ef5c97b382a8    2014-05-02   \n",
       "685        1          2014         1694  61c31ca435dbeb02    2015-01-22   \n",
       "2017       1          2019     20190404  11b5de99aa518265    2019-07-28   \n",
       "256        1          2012          689  d0c4d8eb6f2f3dac    2012-12-13   \n",
       "1125       1          2016         2579  ed34923408b403a9    2016-07-31   \n",
       "1014       1          2016         2350  0be58378f0d29024    2016-01-04   \n",
       "392        1          2013         1055  adbd8175e11182fc    2013-06-30   \n",
       "\n",
       "     Datum vertrek Datum terug  Totaalprijs  Betalingen dossier  \\\n",
       "1373    2017-07-22  2017-07-29       749.00              749.00   \n",
       "597     2014-08-08  2014-10-08       975.00              975.00   \n",
       "1487    2017-11-18  2017-11-25      1174.61             1174.61   \n",
       "507     2014-07-19  2014-07-26      1820.00             1820.00   \n",
       "685     2015-06-13  2015-06-20       836.91              836.91   \n",
       "2017    2019-08-17  2019-08-24      1185.00             1185.00   \n",
       "256     2012-12-30  2013-06-01       500.00              500.00   \n",
       "1125    2016-08-15  2016-08-17       182.00              182.00   \n",
       "1014    2016-04-17  2016-04-24      1732.50             1732.50   \n",
       "392     2013-07-09  2013-09-14      1216.19             1216.19   \n",
       "\n",
       "      Openstaand dossier  Land  Bestemming  Reistype  Aantal reizigers  \\\n",
       "1373                 0.0     2          23         1                 1   \n",
       "597                  0.0     2           2         1                 3   \n",
       "1487                 0.0     2          11         1                 1   \n",
       "507                  0.0     2           3         1                 2   \n",
       "685                  0.0     2           7         1                 1   \n",
       "2017                 0.0     2          11         1                 1   \n",
       "256                  0.0     2          16         1                 1   \n",
       "1125                 0.0     2           2         1                 1   \n",
       "1014                 0.0     2          11         1                 1   \n",
       "392                  0.0     2          20         1                 1   \n",
       "\n",
       "      Aantal dagen tot vertrek  Aantal dagen op reis Geboortedatum  Leeftijd  \\\n",
       "1373                         3                     7           NaT        42   \n",
       "597                          3                    61           NaT        42   \n",
       "1487                         1                     7           NaT        42   \n",
       "507                          4                     7           NaT        42   \n",
       "685                          5                     7           NaT        42   \n",
       "2017                         2                     7    1988-09-03        33   \n",
       "256                          2                   153           NaT        42   \n",
       "1125                         2                     2           NaT        42   \n",
       "1014                         5                     7    1937-12-22        84   \n",
       "392                          1                    67    1963-03-13        58   \n",
       "\n",
       "      delta periode vertrek  \n",
       "1373                     60  \n",
       "597                      41  \n",
       "1487                      5  \n",
       "507                      78  \n",
       "685                     142  \n",
       "2017                     20  \n",
       "256                      17  \n",
       "1125                     15  \n",
       "1014                    104  \n",
       "392                       9  "
      ]
     },
     "execution_count": 686,
     "metadata": {},
     "output_type": "execute_result"
    }
   ],
   "source": [
    "features.sample(10)"
   ]
  },
  {
   "cell_type": "markdown",
   "metadata": {},
   "source": [
    "# 2 - Evalueren en selecteren van features\n",
    "\n",
    "Enkele interessante features die in de dataset te vinden zijn:\n",
    "\n",
    " - **Status**: De status (1 of 0) heeft aan of de boeking bevestigd of geannuleerd is.\n",
    " - **Dossier jaar**: Het jaar waarin het dossier werdt aangemaakt.\n",
    " - **Dossier nr.**: Een nummer (id) dat iedere reis identificeert.\n",
    " - **Totaalprijs**: De prijs die ze in totaal betalen voor de reis.\n",
    " - **Land**: Het thuisland van de reiziger (omgezet is een cijfer).\n",
    " - **Bestemming**: Het land waar de reiziger naartoe geweest is (omgezet in een cijfer).\n",
    " - **Reistype**: Het type reis (omgezet in een cijfer).\n",
    " - **Aantal reizigers**: Het aantal personen die mee opreis gaan.\n",
    " - **Aantal dagen tot vertrek**: Het berekende aantal dagen tussen het aanmaken van een boeking en de vertrek datum (omgezet in een cijfer, opgedeeld in een categorie).\n",
    " - **Aantal dagen op reis**: Het berekende aantal dagen dat de reis duurde.\n",
    " - **Leeftijd**: Leeftijd van de klant.\n",
    " - **Delta periode vertrek**: Het berekende aantal dagen tussen het aanmaken van een boeking en de vertrek datum (de effectieve waarde, feature: *Aantal dagen tot vertrek* is hetzelfde maar als categorie).\n",
    " "
   ]
  },
  {
   "cell_type": "markdown",
   "metadata": {},
   "source": [
    "## 2.1 - Correlatie tussen features\n",
    "\n",
    "Onderstaande matrix toont aan hoe de features met elkaar verbonden zijn op een schaal van 0 tot 1. Hoe hoger de score bij 1 ligt hoe dichter de features gecorreleerd zijn met elkaar. De correlatie tussen de eigen data is steeds 1 wat ook wordt weergegeven in de diagonale donkerrode lijn.\n",
    "\n",
    "In de matrix zien we dat er enkele features een goede correlatie hebben met elkaar (hoger dan 0.4).\n",
    "Zo zijn het *aantal reizigers*, *aantal dagen tot vertrek*, de *totaal prijs*, het *dossier nummer* en *dossier jaar* features die een verband hebben met elkaar. Omdat er enkele features (*Dossies nummer* en *Dossier jaar* & *Totaalprijs* en *Betalingen Dossier*) een hoge correlatie hebben kan dit zorgen voor overfitting, hierdoor is het best om één van de twee waarden niet op te nemen als feature in het model.\n",
    "Bij het splitten van de train en test data zullen de kolommen *Dossier nr.* en *Betalingen Dossier* weggelaten worden."
   ]
  },
  {
   "cell_type": "code",
   "execution_count": 687,
   "metadata": {},
   "outputs": [
    {
     "data": {
      "image/png": "[encoded data removed]",
      "text/plain": [
       "<Figure size 864x864 with 2 Axes>"
      ]
     },
     "metadata": {
      "needs_background": "light"
     },
     "output_type": "display_data"
    }
   ],
   "source": [
    "plt.figure(figsize=(12, 12))\n",
    "plt.title('Correlatie tussen alle features in het dataframe')\n",
    "seaborn.heatmap((features).corr(), annot=True, cmap=\"RdBu_r\")\n",
    "plt.show();"
   ]
  },
  {
   "cell_type": "markdown",
   "metadata": {},
   "source": [
    "## 2.2 - Opsplitsen van train en test data\n",
    "\n",
    "Onderstaande code splitst de data op in train en test data. In dit geval wordt de data opgesplitst volgens de standaard 75% train data en 25% test data. De niet numerieke kolommen worden uit de dataset weggelaten en de target wordt ingesteld in de *y* array. Om de data te schalen maak ik gebruik van de StandardScaler. Het idee hierachter is dat het de gegevens zodanig zal transformeren dat de distributie een gemiddelde waarde en een standaardafwijking krijgt zodat elke feature de juiste inbreng heeft.\n",
    "\n",
    "Bij Multivariate data gebeurt dit transformeren feature-wise (dus onafhankelijk voor elke kolom van de data).\n",
    "Gezien de verdeling van de gegevens, wordt bij elke waarde in de gegevensset de gemiddelde waarde afgetrokken en vervolgens gedeeld door de standaarddeviatie van de hele gegevensset (of kenmerk in het multivariate geval).\n",
    "\n",
    "De volgende kolommen worden verwijderd uit het features dataframe:\n",
    " - **Klantnummer** Een klantnummer is geen numerieke waarde dus dit kan niet meegeven worden aan modellen.\n",
    " - **Geboortedatum** De kolom met geboortedatums is geen numerieke waarde en de leeftijd is hieruit berekend dat wel als feature kan dienen.\n",
    " - **Dossier nr.** De kolom met de dossier nummers had een hoge correlatie met het dossier jaar waardoor het interessant is om deze niet mee op te nemen in de features lijst, dit kan het model ten goede komen omdat er overfitting kan ontstaan met hoog gecorreleerde features onderling.\n",
    " - **Betalingen dossier** Het bedrag dat al reeds betaald was is ook hoog gecorreleerd met het totaal bedrag waardoor deze kolom ook kan worden weggelaten uit de features.\n",
    " - **Datums** De kolommen *Datum creatie*, *Datum vertrek* en *Datum terug* zijn datums die al gebruikt zijn om zaken te berekenen (Aantal dagen op reis en Aantal dagen tot vertrek).\n",
    "\n",
    "De *delta periode vertrek* is enkel nuttig bij linaire regresie waardoor deze feature ook niet mag gebruikt worden bij de classifier modellen. Deze feature is ook gecorreleerd met de target waardoor deze niet mag worden gebruikt."
   ]
  },
  {
   "cell_type": "code",
   "execution_count": 688,
   "metadata": {},
   "outputs": [
    {
     "data": {
      "text/html": [
       "<div>\n",
       "<style scoped>\n",
       "    .dataframe tbody tr th:only-of-type {\n",
       "        vertical-align: middle;\n",
       "    }\n",
       "\n",
       "    .dataframe tbody tr th {\n",
       "        vertical-align: top;\n",
       "    }\n",
       "\n",
       "    .dataframe thead th {\n",
       "        text-align: right;\n",
       "    }\n",
       "</style>\n",
       "<table border=\"1\" class=\"dataframe\">\n",
       "  <thead>\n",
       "    <tr style=\"text-align: right;\">\n",
       "      <th></th>\n",
       "      <th>Status</th>\n",
       "      <th>Dossier jaar</th>\n",
       "      <th>Dossier nr.</th>\n",
       "      <th>Klantnummer</th>\n",
       "      <th>Datum creatie</th>\n",
       "      <th>Datum vertrek</th>\n",
       "      <th>Datum terug</th>\n",
       "      <th>Totaalprijs</th>\n",
       "      <th>Betalingen dossier</th>\n",
       "      <th>Openstaand dossier</th>\n",
       "      <th>Land</th>\n",
       "      <th>Bestemming</th>\n",
       "      <th>Reistype</th>\n",
       "      <th>Aantal reizigers</th>\n",
       "      <th>Aantal dagen tot vertrek</th>\n",
       "      <th>Aantal dagen op reis</th>\n",
       "      <th>Geboortedatum</th>\n",
       "      <th>Leeftijd</th>\n",
       "      <th>delta periode vertrek</th>\n",
       "    </tr>\n",
       "  </thead>\n",
       "  <tbody>\n",
       "    <tr>\n",
       "      <th>0</th>\n",
       "      <td>1</td>\n",
       "      <td>2011</td>\n",
       "      <td>10</td>\n",
       "      <td>88f48bf74d1558fe</td>\n",
       "      <td>2011-02-05</td>\n",
       "      <td>2011-05-15</td>\n",
       "      <td>2011-05-21</td>\n",
       "      <td>2549.00</td>\n",
       "      <td>2549.00</td>\n",
       "      <td>0.00</td>\n",
       "      <td>1</td>\n",
       "      <td>5</td>\n",
       "      <td>1</td>\n",
       "      <td>2</td>\n",
       "      <td>4</td>\n",
       "      <td>6</td>\n",
       "      <td>NaT</td>\n",
       "      <td>42</td>\n",
       "      <td>99</td>\n",
       "    </tr>\n",
       "    <tr>\n",
       "      <th>1</th>\n",
       "      <td>1</td>\n",
       "      <td>2011</td>\n",
       "      <td>11</td>\n",
       "      <td>14fa899cbefcd9ec</td>\n",
       "      <td>2011-02-05</td>\n",
       "      <td>2011-07-16</td>\n",
       "      <td>2011-07-22</td>\n",
       "      <td>540.00</td>\n",
       "      <td>540.00</td>\n",
       "      <td>0.00</td>\n",
       "      <td>2</td>\n",
       "      <td>2</td>\n",
       "      <td>1</td>\n",
       "      <td>2</td>\n",
       "      <td>5</td>\n",
       "      <td>6</td>\n",
       "      <td>NaT</td>\n",
       "      <td>42</td>\n",
       "      <td>161</td>\n",
       "    </tr>\n",
       "    <tr>\n",
       "      <th>2</th>\n",
       "      <td>1</td>\n",
       "      <td>2011</td>\n",
       "      <td>13</td>\n",
       "      <td>5c09ae179c7894ca</td>\n",
       "      <td>2011-03-05</td>\n",
       "      <td>2011-07-30</td>\n",
       "      <td>2011-08-13</td>\n",
       "      <td>2510.96</td>\n",
       "      <td>2510.96</td>\n",
       "      <td>0.00</td>\n",
       "      <td>1</td>\n",
       "      <td>3</td>\n",
       "      <td>1</td>\n",
       "      <td>2</td>\n",
       "      <td>5</td>\n",
       "      <td>14</td>\n",
       "      <td>1972-09-26</td>\n",
       "      <td>49</td>\n",
       "      <td>147</td>\n",
       "    </tr>\n",
       "    <tr>\n",
       "      <th>3</th>\n",
       "      <td>1</td>\n",
       "      <td>2011</td>\n",
       "      <td>14</td>\n",
       "      <td>9074500e4eac155e</td>\n",
       "      <td>2011-05-05</td>\n",
       "      <td>2011-07-25</td>\n",
       "      <td>2011-07-27</td>\n",
       "      <td>326.95</td>\n",
       "      <td>326.95</td>\n",
       "      <td>0.00</td>\n",
       "      <td>1</td>\n",
       "      <td>1</td>\n",
       "      <td>1</td>\n",
       "      <td>1</td>\n",
       "      <td>4</td>\n",
       "      <td>2</td>\n",
       "      <td>NaT</td>\n",
       "      <td>42</td>\n",
       "      <td>81</td>\n",
       "    </tr>\n",
       "    <tr>\n",
       "      <th>4</th>\n",
       "      <td>1</td>\n",
       "      <td>2011</td>\n",
       "      <td>16</td>\n",
       "      <td>d97137d8a5312916</td>\n",
       "      <td>2011-06-05</td>\n",
       "      <td>2011-07-10</td>\n",
       "      <td>2011-10-17</td>\n",
       "      <td>11400.94</td>\n",
       "      <td>11400.94</td>\n",
       "      <td>0.00</td>\n",
       "      <td>2</td>\n",
       "      <td>18</td>\n",
       "      <td>7</td>\n",
       "      <td>3</td>\n",
       "      <td>3</td>\n",
       "      <td>99</td>\n",
       "      <td>1969-10-31</td>\n",
       "      <td>52</td>\n",
       "      <td>35</td>\n",
       "    </tr>\n",
       "    <tr>\n",
       "      <th>...</th>\n",
       "      <td>...</td>\n",
       "      <td>...</td>\n",
       "      <td>...</td>\n",
       "      <td>...</td>\n",
       "      <td>...</td>\n",
       "      <td>...</td>\n",
       "      <td>...</td>\n",
       "      <td>...</td>\n",
       "      <td>...</td>\n",
       "      <td>...</td>\n",
       "      <td>...</td>\n",
       "      <td>...</td>\n",
       "      <td>...</td>\n",
       "      <td>...</td>\n",
       "      <td>...</td>\n",
       "      <td>...</td>\n",
       "      <td>...</td>\n",
       "      <td>...</td>\n",
       "      <td>...</td>\n",
       "    </tr>\n",
       "    <tr>\n",
       "      <th>2262</th>\n",
       "      <td>1</td>\n",
       "      <td>2021</td>\n",
       "      <td>20210060</td>\n",
       "      <td>6e2a67828d3d9bed</td>\n",
       "      <td>2021-05-20</td>\n",
       "      <td>2021-08-08</td>\n",
       "      <td>2021-08-15</td>\n",
       "      <td>1229.08</td>\n",
       "      <td>0.00</td>\n",
       "      <td>1229.08</td>\n",
       "      <td>1</td>\n",
       "      <td>2</td>\n",
       "      <td>1</td>\n",
       "      <td>2</td>\n",
       "      <td>4</td>\n",
       "      <td>7</td>\n",
       "      <td>1973-04-30</td>\n",
       "      <td>48</td>\n",
       "      <td>80</td>\n",
       "    </tr>\n",
       "    <tr>\n",
       "      <th>2263</th>\n",
       "      <td>1</td>\n",
       "      <td>2021</td>\n",
       "      <td>20210061</td>\n",
       "      <td>bb4af1950a5611a4</td>\n",
       "      <td>2021-05-20</td>\n",
       "      <td>2021-07-14</td>\n",
       "      <td>2021-07-18</td>\n",
       "      <td>1250.00</td>\n",
       "      <td>0.00</td>\n",
       "      <td>1250.00</td>\n",
       "      <td>2</td>\n",
       "      <td>3</td>\n",
       "      <td>4</td>\n",
       "      <td>2</td>\n",
       "      <td>3</td>\n",
       "      <td>4</td>\n",
       "      <td>NaT</td>\n",
       "      <td>42</td>\n",
       "      <td>55</td>\n",
       "    </tr>\n",
       "    <tr>\n",
       "      <th>2264</th>\n",
       "      <td>1</td>\n",
       "      <td>2021</td>\n",
       "      <td>20210064</td>\n",
       "      <td>48261055dcd91db8</td>\n",
       "      <td>2021-05-22</td>\n",
       "      <td>2021-08-08</td>\n",
       "      <td>2021-08-15</td>\n",
       "      <td>1020.00</td>\n",
       "      <td>0.00</td>\n",
       "      <td>1020.00</td>\n",
       "      <td>1</td>\n",
       "      <td>3</td>\n",
       "      <td>1</td>\n",
       "      <td>2</td>\n",
       "      <td>4</td>\n",
       "      <td>7</td>\n",
       "      <td>2000-08-18</td>\n",
       "      <td>21</td>\n",
       "      <td>78</td>\n",
       "    </tr>\n",
       "    <tr>\n",
       "      <th>2265</th>\n",
       "      <td>1</td>\n",
       "      <td>2021</td>\n",
       "      <td>20210065</td>\n",
       "      <td>2c3513ff809c5027</td>\n",
       "      <td>2021-05-23</td>\n",
       "      <td>2021-08-08</td>\n",
       "      <td>2021-12-08</td>\n",
       "      <td>760.00</td>\n",
       "      <td>0.00</td>\n",
       "      <td>760.00</td>\n",
       "      <td>2</td>\n",
       "      <td>2</td>\n",
       "      <td>9</td>\n",
       "      <td>2</td>\n",
       "      <td>4</td>\n",
       "      <td>122</td>\n",
       "      <td>1974-01-05</td>\n",
       "      <td>47</td>\n",
       "      <td>77</td>\n",
       "    </tr>\n",
       "    <tr>\n",
       "      <th>2266</th>\n",
       "      <td>1</td>\n",
       "      <td>2021</td>\n",
       "      <td>20210067</td>\n",
       "      <td>63d7895d684d7919</td>\n",
       "      <td>2021-05-23</td>\n",
       "      <td>2021-08-16</td>\n",
       "      <td>2021-08-19</td>\n",
       "      <td>950.00</td>\n",
       "      <td>0.00</td>\n",
       "      <td>950.00</td>\n",
       "      <td>2</td>\n",
       "      <td>1</td>\n",
       "      <td>9</td>\n",
       "      <td>2</td>\n",
       "      <td>4</td>\n",
       "      <td>3</td>\n",
       "      <td>2003-11-17</td>\n",
       "      <td>18</td>\n",
       "      <td>85</td>\n",
       "    </tr>\n",
       "  </tbody>\n",
       "</table>\n",
       "<p>2212 rows × 19 columns</p>\n",
       "</div>"
      ],
      "text/plain": [
       "      Status  Dossier jaar  Dossier nr.       Klantnummer Datum creatie  \\\n",
       "0          1          2011           10  88f48bf74d1558fe    2011-02-05   \n",
       "1          1          2011           11  14fa899cbefcd9ec    2011-02-05   \n",
       "2          1          2011           13  5c09ae179c7894ca    2011-03-05   \n",
       "3          1          2011           14  9074500e4eac155e    2011-05-05   \n",
       "4          1          2011           16  d97137d8a5312916    2011-06-05   \n",
       "...      ...           ...          ...               ...           ...   \n",
       "2262       1          2021     20210060  6e2a67828d3d9bed    2021-05-20   \n",
       "2263       1          2021     20210061  bb4af1950a5611a4    2021-05-20   \n",
       "2264       1          2021     20210064  48261055dcd91db8    2021-05-22   \n",
       "2265       1          2021     20210065  2c3513ff809c5027    2021-05-23   \n",
       "2266       1          2021     20210067  63d7895d684d7919    2021-05-23   \n",
       "\n",
       "     Datum vertrek Datum terug  Totaalprijs  Betalingen dossier  \\\n",
       "0       2011-05-15  2011-05-21      2549.00             2549.00   \n",
       "1       2011-07-16  2011-07-22       540.00              540.00   \n",
       "2       2011-07-30  2011-08-13      2510.96             2510.96   \n",
       "3       2011-07-25  2011-07-27       326.95              326.95   \n",
       "4       2011-07-10  2011-10-17     11400.94            11400.94   \n",
       "...            ...         ...          ...                 ...   \n",
       "2262    2021-08-08  2021-08-15      1229.08                0.00   \n",
       "2263    2021-07-14  2021-07-18      1250.00                0.00   \n",
       "2264    2021-08-08  2021-08-15      1020.00                0.00   \n",
       "2265    2021-08-08  2021-12-08       760.00                0.00   \n",
       "2266    2021-08-16  2021-08-19       950.00                0.00   \n",
       "\n",
       "      Openstaand dossier  Land  Bestemming  Reistype  Aantal reizigers  \\\n",
       "0                   0.00     1           5         1                 2   \n",
       "1                   0.00     2           2         1                 2   \n",
       "2                   0.00     1           3         1                 2   \n",
       "3                   0.00     1           1         1                 1   \n",
       "4                   0.00     2          18         7                 3   \n",
       "...                  ...   ...         ...       ...               ...   \n",
       "2262             1229.08     1           2         1                 2   \n",
       "2263             1250.00     2           3         4                 2   \n",
       "2264             1020.00     1           3         1                 2   \n",
       "2265              760.00     2           2         9                 2   \n",
       "2266              950.00     2           1         9                 2   \n",
       "\n",
       "      Aantal dagen tot vertrek  Aantal dagen op reis Geboortedatum  Leeftijd  \\\n",
       "0                            4                     6           NaT        42   \n",
       "1                            5                     6           NaT        42   \n",
       "2                            5                    14    1972-09-26        49   \n",
       "3                            4                     2           NaT        42   \n",
       "4                            3                    99    1969-10-31        52   \n",
       "...                        ...                   ...           ...       ...   \n",
       "2262                         4                     7    1973-04-30        48   \n",
       "2263                         3                     4           NaT        42   \n",
       "2264                         4                     7    2000-08-18        21   \n",
       "2265                         4                   122    1974-01-05        47   \n",
       "2266                         4                     3    2003-11-17        18   \n",
       "\n",
       "      delta periode vertrek  \n",
       "0                        99  \n",
       "1                       161  \n",
       "2                       147  \n",
       "3                        81  \n",
       "4                        35  \n",
       "...                     ...  \n",
       "2262                     80  \n",
       "2263                     55  \n",
       "2264                     78  \n",
       "2265                     77  \n",
       "2266                     85  \n",
       "\n",
       "[2212 rows x 19 columns]"
      ]
     },
     "execution_count": 688,
     "metadata": {},
     "output_type": "execute_result"
    }
   ],
   "source": [
    "features"
   ]
  },
  {
   "cell_type": "markdown",
   "metadata": {},
   "source": [
    "In het opsplitsen van de data en het toewijzen van de target (*y*) moet de target ook uit de features dataset worden weggelaten samen met de features die werden gebruikt bij het berekenen van de target en of andere features (*delta periode vertrek*). De kolomnamen worden ook opgeslagen in een variabele voor later."
   ]
  },
  {
   "cell_type": "code",
   "execution_count": 689,
   "metadata": {},
   "outputs": [],
   "source": [
    "def data_schalen(df):\n",
    "    y = df['Aantal dagen tot vertrek']\n",
    "    X = df.drop(['Aantal dagen tot vertrek', 'delta periode vertrek', 'Klantnummer', 'Geboortedatum', 'Dossier nr.', 'Openstaand dossier', 'Betalingen dossier',  'Datum creatie', 'Datum vertrek', 'Datum terug'], axis=1)\n",
    "    feature_names = X.columns\n",
    "    StScaler = StandardScaler()\n",
    "    StScaler.fit(X)\n",
    "    return StScaler.transform(X), y, feature_names\n",
    "\n",
    "X, y, feature_names = data_schalen(features)\n",
    "X_train, X_test, y_train, y_test = train_test_split(X, y, random_state=0)"
   ]
  },
  {
   "cell_type": "markdown",
   "metadata": {},
   "source": [
    "De geschaalde data in het dataframe *X*."
   ]
  },
  {
   "cell_type": "code",
   "execution_count": 690,
   "metadata": {},
   "outputs": [
    {
     "data": {
      "text/plain": [
       "array([[ 0.06738936, -1.89038983,  0.66518705, ...,  0.16467002,\n",
       "        -0.27193574, -0.31453962],\n",
       "       [ 0.06738936, -1.89038983, -0.59981769, ...,  0.16467002,\n",
       "        -0.27193574, -0.31453962],\n",
       "       [ 0.06738936, -1.89038983,  0.64123445, ...,  0.16467002,\n",
       "        -0.20823798,  0.35308635],\n",
       "       ...,\n",
       "       [ 0.06738936,  1.93465801, -0.29757663, ...,  0.16467002,\n",
       "        -0.26397352, -2.31741751],\n",
       "       [ 0.06738936,  1.93465801, -0.46129054, ...,  0.16467002,\n",
       "         0.65168182,  0.16233607],\n",
       "       [ 0.06738936,  1.93465801, -0.34165345, ...,  0.16467002,\n",
       "        -0.2958224 , -2.60354293]])"
      ]
     },
     "execution_count": 690,
     "metadata": {},
     "output_type": "execute_result"
    }
   ],
   "source": [
    "X"
   ]
  },
  {
   "cell_type": "markdown",
   "metadata": {},
   "source": [
    "De gebruikte features worden hieronder weergegeven."
   ]
  },
  {
   "cell_type": "code",
   "execution_count": 691,
   "metadata": {},
   "outputs": [
    {
     "data": {
      "text/plain": [
       "Index(['Status', 'Dossier jaar', 'Totaalprijs', 'Land', 'Bestemming',\n",
       "       'Reistype', 'Aantal reizigers', 'Aantal dagen op reis', 'Leeftijd'],\n",
       "      dtype='object')"
      ]
     },
     "execution_count": 691,
     "metadata": {},
     "output_type": "execute_result"
    }
   ],
   "source": [
    "feature_names"
   ]
  },
  {
   "cell_type": "markdown",
   "metadata": {},
   "source": [
    "De vorm van de *X* en *y* array wordt hieronder afgeprint. De *X* dataset bevat 9 features (kolommen) en 2212 rijen, de *y* array bevat de target data met 1 kolom en 2212 rijen aan data. Het aantal rijen en features van de trainings- en testset worden ook weergegeven. De trainingsset bedraagt 1659 rijen aan data en de testset 553 rijen."
   ]
  },
  {
   "cell_type": "code",
   "execution_count": 692,
   "metadata": {},
   "outputs": [
    {
     "name": "stdout",
     "output_type": "stream",
     "text": [
      "Shape van de X data: (2212, 9)\n",
      "Shape van de y target data: (2212,)\n"
     ]
    }
   ],
   "source": [
    "print(\"Shape van de X data:\", X.shape)\n",
    "print(\"Shape van de y target data:\", y.shape)"
   ]
  },
  {
   "cell_type": "code",
   "execution_count": 693,
   "metadata": {},
   "outputs": [
    {
     "name": "stdout",
     "output_type": "stream",
     "text": [
      "Aantal features: 9\n",
      "Grootte van trainingset X: 1659, Grootte van testset X: 553,\n",
      "Grootte van trainingsset y: 1659, Grootte van testset y: 553 \n",
      "\n"
     ]
    }
   ],
   "source": [
    "print(\"Aantal features:\", X.shape[1])\n",
    "print(\"Grootte van trainingset X: {}, Grootte van testset X: {},\\nGrootte van trainingsset y: {}, Grootte van testset y: {} \\n\".format(X_train.shape[0], X_test.shape[0], y_train.shape[0], y_test.shape[0]))"
   ]
  },
  {
   "cell_type": "markdown",
   "metadata": {},
   "source": [
    "# 3 - Modellen evalueren, vergelijken en testen\n",
    "\n",
    "In de volgende stappen worden enkele modellen getest om te zien hoe de modellen het doen op de train en test data.\n",
    "\n",
    "### KNN\n",
    "\n",
    "KNN is het eenvoudigste model, het onthoudt de trainingsgegevens en plaatst de te voorspellen gegevens in dezelfde grafiek. Om elk doel te voorspellen, zoekt het KNN-model het dichtstbijzijnde punt in de trainingsdata en stelt de waarde van het te voorspellen gegeven in op dat van de dichtstbijzijnde buur. Er kan ingesteld worden hoeveel buren het model moet gebruiken om een waarde aan het doel te geven. Meer of minder buren kiezen kan een goede of slechte invloed hebben op het classificerings model.\n",
    "\n",
    "### Decision tree\n",
    "\n",
    "Een decision tree is een algoritme dat gebruikmaakt van een boomachtig model om beslissingen te maken en hun mogelijke gevolgen te gaan afwegen. Het is een algoritme dat alleen voorwaardelijke controle-instructies bevat en op basis daarvan tot een voorspelling komt.\n",
    "\n",
    "Decision trees hebben 2 hoofdzakelijke types:\n",
    "\n",
    "* Classification tree is wanneer de voorspelde uitkomst de klasse is waartoe de gegevens behoren.\n",
    "* Regression is wanneer de voorspelde uitkomst als een reëel getal kan worden beschouwd (bijvoorbeeld de prijs van een huis of de leeftijd van een persoon).\n",
    "\n",
    "### Logistic regression\n",
    "\n",
    "Logistic regression is een statistische methode voor het voorspellen van binaire klassen. De uitkomst- of doelvariabele is dichotoom van aard. Dichotoom betekent dat er maar twee mogelijke klassen zijn (binair). Het is een speciaal geval van lineaire regressie waarbij de doelvariabele categorisch van aard is. Logistische regressie voorspelt de waarschijnlijkheid van optreden van een binaire gebeurtenis met behulp van een logitfunctie.\n",
    "\n",
    "### Random Forest tree\n",
    "\n",
    "Random forest is een verzameling van decision trees. Het Random Forest algoritme werkt volgens de *bootstrap aggregating* (bagging) techniek, hierbij worden door middel van trekkingen een aantal sub-datasets uit de data genomen, op basis waarvan worden decision trees opgesteld. De predictie voor een nieuwe observatie wordt vervolgens bepaald door het gemiddelde van de predicties van de verschillende decision trees te nemen. Omdat de decision trees veel op elkaar kunnen lijken en één of een beperkt aantal verklarende variabelen dominant kunnen zijn, wordt er bij iedere splitsing een subset van de verklarende variabelen gebruikt op basis van enkele trekking.\n",
    "\n",
    "Het Random Forest algoritme heeft als voordeel dat het met grote hoeveelheden data te omgaan."
   ]
  },
  {
   "cell_type": "markdown",
   "metadata": {},
   "source": [
    "## Testen van verschillende modellen\n",
    "\n",
    "## 3.1 - KNN-model\n",
    "\n",
    "Onderstaande code print voor elke iteratie de train en test score uit met 4 grafieken. De twee linkse grafieken tonen het percentage per aantal neighbors op de hele trainingsset. De twee rechtse grafieken tonen het percentage per aantal neighbors op de testdata. Hieruit blijkt dat op de trainingsdata het slaagpercentage steeds zakt naarmate er meer neighbors bijkomen. Wat opvalt is dat bij 1 neightbor bij de trainingsset tegenover de testset er duidelijk overfitting optreedt.\n",
    "\n",
    "Naarmate het aantal neighbors stijgt zakt de score en stijgt de score op de testset een beetje. Er heerst nog steeds overfitting maar dit probleem samen met de lage train en test scores kan liggen aan het feit dat enkele features niet goed opgeschoont zijn en of doordat het een relatief kleine dataset is.\n",
    "\n",
    "Om de beste waarde voor k (aantal neightbors) te vinden komt de Elbow methode van pas, deze methode itereert over het aantal neighbors met de bijhorende train- en testscores. De waardes zijn dan af te lezen van de grafiek. In de opstelling zal deze later ingesteld worden op 7, nadien doen we voor de evaluatie van het model nogmaals dezelfde stappen maar deze keer met een niet variabele k.\n",
    "\n",
    "Tijdens het uittesten van het KNN-model viel me op dat het schalen van de data met de StandardScaler een positief maar kleine verbetering gaf in de train- en testscores."
   ]
  },
  {
   "cell_type": "code",
   "execution_count": 694,
   "metadata": {},
   "outputs": [
    {
     "name": "stdout",
     "output_type": "stream",
     "text": [
      "Iteratie: 1\n",
      "Accuracy op de training set: 0.975\n",
      "Accuracy op de test set: 0.349\n",
      "*-------------------------------*\n",
      "Iteratie: 2\n",
      "Accuracy op de training set: 0.670\n",
      "Accuracy op de test set: 0.268\n",
      "*-------------------------------*\n",
      "Iteratie: 3\n",
      "Accuracy op de training set: 0.596\n",
      "Accuracy op de test set: 0.336\n",
      "*-------------------------------*\n",
      "Iteratie: 4\n",
      "Accuracy op de training set: 0.564\n",
      "Accuracy op de test set: 0.336\n",
      "*-------------------------------*\n",
      "Iteratie: 5\n",
      "Accuracy op de training set: 0.539\n",
      "Accuracy op de test set: 0.358\n",
      "*-------------------------------*\n",
      "Iteratie: 6\n",
      "Accuracy op de training set: 0.521\n",
      "Accuracy op de test set: 0.362\n",
      "*-------------------------------*\n",
      "Iteratie: 7\n",
      "Accuracy op de training set: 0.498\n",
      "Accuracy op de test set: 0.383\n",
      "*-------------------------------*\n",
      "Iteratie: 8\n",
      "Accuracy op de training set: 0.495\n",
      "Accuracy op de test set: 0.383\n",
      "*-------------------------------*\n",
      "Iteratie: 9\n",
      "Accuracy op de training set: 0.494\n",
      "Accuracy op de test set: 0.380\n",
      "*-------------------------------*\n",
      "Iteratie: 10\n",
      "Accuracy op de training set: 0.494\n",
      "Accuracy op de test set: 0.396\n",
      "*-------------------------------*\n"
     ]
    },
    {
     "data": {
      "image/png": "[encoded data removed]",
      "text/plain": [
       "<Figure size 1080x360 with 2 Axes>"
      ]
     },
     "metadata": {
      "needs_background": "light"
     },
     "output_type": "display_data"
    }
   ],
   "source": [
    "trainingScoreKNN = []\n",
    "testScoreKNN = []\n",
    "neighbors = 10\n",
    "\n",
    "for k in range(1, neighbors + 1):\n",
    "    knn = KNeighborsClassifier(n_neighbors=k).fit(X_train, y_train)\n",
    "    \n",
    "    trainingScoreKNN.append(round(knn.score(X_train, y_train) * 100, 2))\n",
    "    testScoreKNN.append(round(knn.score(X_test, y_test) * 100, 2))\n",
    "    \n",
    "    print(\"Iteratie: \" + str(k))\n",
    "    print(\"Accuracy op de training set: {:.3f}\".format(knn.score(X_train, y_train)))\n",
    "    print(\"Accuracy op de test set: {:.3f}\".format(knn.score(X_test, y_test)))\n",
    "    print(\"*-------------------------------*\")\n",
    "\n",
    "fig, (ax1, ax2) = plt.subplots(1, 2, figsize=(15, 5))\n",
    "objects = range(1, neighbors + 1)\n",
    "\n",
    "ax1.bar(objects, trainingScoreKNN, align='center', color = \"#34eb89\")\n",
    "ax1.set_ylim(0, 100)\n",
    "ax1.set_title('training score op ' + str(len(X)) + ' rijen data')\n",
    "ax1.set_ylabel('percentage juist (%)')\n",
    "ax1.set_xlabel('Aantal neighbors')\n",
    "\n",
    "ax2.bar(objects, testScoreKNN, align='center', color = \"#eb8034\")\n",
    "ax2.set_ylim(0, 100)\n",
    "ax2.set_title('test score op ' + str(len(X)) + ' rijen data')\n",
    "ax2.set_ylabel('percentage juist (%)')\n",
    "ax2.set_xlabel('Aantal neighbors')\n",
    "plt.show();"
   ]
  },
  {
   "cell_type": "code",
   "execution_count": 695,
   "metadata": {},
   "outputs": [
    {
     "data": {
      "image/png": "[encoded data removed]",
      "text/plain": [
       "<Figure size 1080x360 with 2 Axes>"
      ]
     },
     "metadata": {
      "needs_background": "light"
     },
     "output_type": "display_data"
    }
   ],
   "source": [
    "fig, (ax1, ax2) = plt.subplots(1, 2, figsize=(15, 5))\n",
    "\n",
    "ax1.plot(objects, trainingScoreKNN, color = \"#34eb89\")\n",
    "ax1.set_title('vergrote schaal per diepte in training')\n",
    "ax1.set_ylabel('percentage juist (%)')\n",
    "ax1.set_xlabel('Aantal neighbors')\n",
    "\n",
    "ax2.plot(objects, testScoreKNN, color = \"#eb8034\")\n",
    "ax2.set_title('vergrote schaal per diepte in test')\n",
    "ax2.set_ylabel('percentage juist (%)')\n",
    "ax2.set_xlabel('Aantal neighbors');"
   ]
  },
  {
   "cell_type": "markdown",
   "metadata": {},
   "source": [
    "### 3.1.1 - Finaal KNN-model met vaste waarde\n",
    "\n",
    "We zien hieronder een duidelijke overfitting optreden (een beter prestatie van het model op de trainingsset als op de testset). De k waarde is zo relatief goed mogelijk gekozen maar omdat het een relatief kleine dataset is wordt het moeilijker om een goede voorspelling te doen en is de testscore vrij laag. Hoe hoger het aantal neightbors (k) hoe slechter de trainingsset zal scoren maar de testset doet het wel steeds een klein beetjebeter. Bij 1 neightbor is de trainingsscore zeer hoog, door overfitting blijft de testscore ook zeer laag."
   ]
  },
  {
   "cell_type": "code",
   "execution_count": 696,
   "metadata": {
    "scrolled": false
   },
   "outputs": [
    {
     "name": "stdout",
     "output_type": "stream",
     "text": [
      "Training set score: 0.5\n",
      "Test set score: 0.38\n"
     ]
    }
   ],
   "source": [
    "knn = KNeighborsClassifier(n_neighbors = 7)\n",
    "knn.fit(X_train, y_train)\n",
    "pred = knn.predict(X_test)\n",
    "trainingScore = round(knn.score(X_train, y_train), 2)\n",
    "testScore = round(knn.score(X_test, y_test), 2)\n",
    "\n",
    "print(\"Training set score: \" + str(trainingScore))\n",
    "print(\"Test set score: \" + str(testScore))"
   ]
  },
  {
   "cell_type": "markdown",
   "metadata": {},
   "source": [
    "## 3.2 - Decision tree classifier model\n",
    "\n",
    "Onderstaande code print voor elke iteratie de train en test score uit met 4 grafieken. De twee linkse grafieken tonen het percentage voor elke diepte op de hele trainingsset. De twee rechtse grafieken tonen het percentage van de testdata voor elke diepte. Hieruit blijkt dat op de trainingsdata het slaagpercentage toeneemt bij een hogere diepte, dit blijft doorgaan tot een diepte van 27, hierna vlakt de score af tot 97% maar is er een zeer grote overfitting aanwezig. Het is uiteraard ook niet goed om een te hoge diepte in te stellen omdat er dan te veel opsplitsingen gebeuren en zo het model te specifiek wordt getrained op de aangeleverde dataset. Het decision tree algoritme is ook heel wat sneller dan het KNN classifier model.\n",
    "\n",
    "De 2 onderste grafieken geven een ingezoomde lijn grafiek weer om het verloop tussen beter zichtbaar te maken."
   ]
  },
  {
   "cell_type": "code",
   "execution_count": 697,
   "metadata": {
    "scrolled": false
   },
   "outputs": [
    {
     "name": "stdout",
     "output_type": "stream",
     "text": [
      "Iteratie: 1\n",
      "Accuracy op de training set: 0.436\n",
      "Accuracy op de test set: 0.436\n",
      "*-------------------------------*\n",
      "Iteratie: 2\n",
      "Accuracy op de training set: 0.436\n",
      "Accuracy op de test set: 0.436\n",
      "*-------------------------------*\n",
      "Iteratie: 3\n",
      "Accuracy op de training set: 0.446\n",
      "Accuracy op de test set: 0.432\n",
      "*-------------------------------*\n",
      "Iteratie: 4\n",
      "Accuracy op de training set: 0.458\n",
      "Accuracy op de test set: 0.432\n",
      "*-------------------------------*\n",
      "Iteratie: 5\n",
      "Accuracy op de training set: 0.471\n",
      "Accuracy op de test set: 0.436\n",
      "*-------------------------------*\n",
      "Iteratie: 6\n",
      "Accuracy op de training set: 0.486\n",
      "Accuracy op de test set: 0.429\n",
      "*-------------------------------*\n",
      "Iteratie: 7\n",
      "Accuracy op de training set: 0.513\n",
      "Accuracy op de test set: 0.400\n",
      "*-------------------------------*\n",
      "Iteratie: 8\n",
      "Accuracy op de training set: 0.550\n",
      "Accuracy op de test set: 0.414\n",
      "*-------------------------------*\n",
      "Iteratie: 9\n",
      "Accuracy op de training set: 0.579\n",
      "Accuracy op de test set: 0.403\n",
      "*-------------------------------*\n",
      "Iteratie: 10\n",
      "Accuracy op de training set: 0.621\n",
      "Accuracy op de test set: 0.383\n",
      "*-------------------------------*\n",
      "Iteratie: 11\n",
      "Accuracy op de training set: 0.654\n",
      "Accuracy op de test set: 0.374\n",
      "*-------------------------------*\n",
      "Iteratie: 12\n",
      "Accuracy op de training set: 0.700\n",
      "Accuracy op de test set: 0.376\n",
      "*-------------------------------*\n",
      "Iteratie: 13\n",
      "Accuracy op de training set: 0.741\n",
      "Accuracy op de test set: 0.376\n",
      "*-------------------------------*\n",
      "Iteratie: 14\n",
      "Accuracy op de training set: 0.778\n",
      "Accuracy op de test set: 0.358\n",
      "*-------------------------------*\n",
      "Iteratie: 15\n",
      "Accuracy op de training set: 0.816\n",
      "Accuracy op de test set: 0.345\n",
      "*-------------------------------*\n"
     ]
    },
    {
     "data": {
      "image/png": "[encoded data removed]",
      "text/plain": [
       "<Figure size 1080x360 with 2 Axes>"
      ]
     },
     "metadata": {
      "needs_background": "light"
     },
     "output_type": "display_data"
    }
   ],
   "source": [
    "trainingScoreDec = []\n",
    "testScoreDec = []\n",
    "depth = 15\n",
    "\n",
    "for n in range(1, depth + 1):\n",
    "    treeModel = DecisionTreeClassifier(max_depth=n, random_state=42).fit(X_train, y_train)\n",
    "    \n",
    "    trainingScoreDec.append(round(treeModel.score(X_train, y_train) * 100, 2))\n",
    "    testScoreDec.append(round(treeModel.score(X_test, y_test) * 100, 2))\n",
    "    print(\"Iteratie: \" + str(n))\n",
    "    print(\"Accuracy op de training set: {:.3f}\".format(treeModel.score(X_train, y_train)))\n",
    "    print(\"Accuracy op de test set: {:.3f}\".format(treeModel.score(X_test, y_test)))\n",
    "    print(\"*-------------------------------*\")\n",
    "    \n",
    "fig, (ax1, ax2) = plt.subplots(1, 2, figsize=(15, 5))\n",
    "objects = range(1, depth + 1)\n",
    "\n",
    "ax1.bar(objects, trainingScoreDec, align='center', color = \"#34eb89\")\n",
    "ax1.set_ylim(0, 100)\n",
    "ax1.set_title('training score op ' + str(len(X)) + ' rijen data')\n",
    "ax1.set_ylabel('percentage juist (%)')\n",
    "ax1.set_xlabel('diepte')\n",
    "\n",
    "ax2.bar(objects, testScoreDec, align='center', color = \"#eb8034\")\n",
    "ax2.set_ylim(0, 100)\n",
    "ax2.set_title('testScore op ' + str(len(X)) + ' rijen data')\n",
    "ax2.set_ylabel('percentage juist (%)')\n",
    "ax2.set_xlabel('diepte');"
   ]
  },
  {
   "cell_type": "code",
   "execution_count": 698,
   "metadata": {},
   "outputs": [
    {
     "data": {
      "image/png": "[encoded data removed]",
      "text/plain": [
       "<Figure size 1080x360 with 2 Axes>"
      ]
     },
     "metadata": {
      "needs_background": "light"
     },
     "output_type": "display_data"
    }
   ],
   "source": [
    "fig, (ax1, ax2) = plt.subplots(1, 2, figsize=(15, 5))\n",
    "ax1.plot(objects, trainingScoreDec, color = \"#34eb89\")\n",
    "ax1.set_title('vergrote schaal per diepte in training')\n",
    "ax1.set_ylabel('percentage juist (%)')\n",
    "ax1.set_xlabel('diepte')\n",
    "\n",
    "ax2.plot(objects, testScoreDec, color = \"#eb8034\")\n",
    "ax2.set_title('vergrote schaal per diepte in test')\n",
    "ax2.set_ylabel('percentage juist (%)')\n",
    "ax2.set_xlabel('diepte');"
   ]
  },
  {
   "cell_type": "markdown",
   "metadata": {},
   "source": [
    "### 3.2.1 - Finaal Decision tree model\n",
    "\n",
    "We zien hieronder terug een duidelijke overfitting optreden. De decision tree is bij een hoge diepte acurater in de trainingsset maar het bljft slecht scoren op de testset. In de grafieken hierboven zagen we ook dat de test scores zeer gelijk bleven en niet veel verbeterden. Met een diepte van 12 krijgen we een trainingsscore van 82% en op de testset een lage 35%. Terug denk ik dat door de gekozen features deze scores omlaag worden getrokken en dat dit mogelijks kan worden verbeterd met een grotere dataset en andere opschoonmethodes."
   ]
  },
  {
   "cell_type": "code",
   "execution_count": 699,
   "metadata": {},
   "outputs": [
    {
     "name": "stdout",
     "output_type": "stream",
     "text": [
      "Cross validation score: [0.43373494 0.40060241 0.37951807 0.3373494  0.29607251]\n",
      "Training set score: 0.82\n",
      "Test set score: 0.35\n"
     ]
    }
   ],
   "source": [
    "treeModelReg = DecisionTreeClassifier(max_depth=15, random_state=42).fit(X_train, y_train)\n",
    "\n",
    "print(\"Cross validation score: \" + str(cross_val_score(treeModelReg, X_train, y_train, cv=5)))\n",
    "print(\"Training set score: \" + str(round(treeModelReg.score(X_train, y_train), 2)))\n",
    "print(\"Test set score: \" + str(round(treeModelReg.score(X_test, y_test), 2)))"
   ]
  },
  {
   "cell_type": "markdown",
   "metadata": {},
   "source": [
    "Plotten van de decision tree en opslaan als png"
   ]
  },
  {
   "cell_type": "code",
   "execution_count": null,
   "metadata": {},
   "outputs": [],
   "source": [
    "fig, axes = plt.subplots(nrows = 1, ncols = 1, figsize = (15, 15), dpi=680);\n",
    "tree.plot_tree(treeModelReg, feature_names = feature_names, filled = True);\n",
    "fig.savefig('DecisionTree.png');"
   ]
  },
  {
   "cell_type": "markdown",
   "metadata": {},
   "source": [
    "## 3.3 - Logistic regression\n",
    "\n",
    "Logistic regression is een lineair model voor classificatie. Het gebruikte algoritme heet *Solver*. De solver is ingesteld op *liblinear* aangezien dit een multiclass dataset kan verwerken en dit gebaseerd is op kansverhoudingen. De verhouding tussen de fracties bij twee mogelijke uitkomsten wordt hierin bepaald en zo geclassificeerd. Dit principe wordt uitgevoerd en vervolgens herhaald indien het in de rest thuishoort (een soort van binaire classificatie).\n",
    "\n",
    "De score is in beide gevallen vrij laag op de tranings- en testset omdat dit een binair clasificatie methode is."
   ]
  },
  {
   "cell_type": "code",
   "execution_count": 700,
   "metadata": {},
   "outputs": [
    {
     "name": "stdout",
     "output_type": "stream",
     "text": [
      "Training set score: 0.435\n",
      "Test set score: 0.427\n"
     ]
    }
   ],
   "source": [
    "logRegr = LogisticRegression(solver='liblinear', max_iter=500, multi_class = 'auto').fit(X_train, y_train)\n",
    "#print(logRegr.predict(X_test[384].reshape(1, -1)))\n",
    "#print(logRegr.predict(X_test[0:10]))\n",
    "\n",
    "print(\"Training set score: {:.3f}\".format(logRegr.score(X_train, y_train)))\n",
    "print(\"Test set score: {:.3f}\".format(logRegr.score(X_test, y_test)))"
   ]
  },
  {
   "cell_type": "markdown",
   "metadata": {},
   "source": [
    "## 3.4 - Random forest tree\n",
    "\n",
    "Het Random forest tree cassifier alogritme is een verzameling van decision trees. Elke tree doet een voorspelling maar loopt ook heel wat kans om de voorspellingen te gaan overfitten. Bij random forest worden meerdere trees parallel geraadplaagd en geven ze elk hun parameters mee. Uit deze resultaten zal dan een eindresultaat komen. In dit model wordt er gebruik gemaakt van 100 parallelle trees en een random state om in de dataset willekeurigheid te hebben.\n",
    "\n",
    "Dit model scoort matig op de testset maar heeft duidelijk een hele hoge overfitting. Met een enorme score van 97% op de trainingsset scoort het model zeer hoog maar in tegenstelling tot de testset is er nog veel ruimte over op verbetering."
   ]
  },
  {
   "cell_type": "code",
   "execution_count": 701,
   "metadata": {},
   "outputs": [
    {
     "name": "stdout",
     "output_type": "stream",
     "text": [
      "Training set score: 0.976\n",
      "Test set score: 0.414\n"
     ]
    }
   ],
   "source": [
    "forest = RandomForestClassifier(n_estimators=100, random_state=42)\n",
    "forest.fit(X_train, np.ravel(y_train, order='C'))\n",
    "y_predForest = forest.predict(X_test)\n",
    "\n",
    "print(\"Training set score: {:.3f}\".format(forest.score(X_train, y_train), 2))\n",
    "print(\"Test set score: {:.3f}\".format(forest.score(X_test, y_test), 2))"
   ]
  },
  {
   "cell_type": "markdown",
   "metadata": {},
   "source": [
    "# 4 - Bijstellen van features\n",
    "\n",
    "\n",
    "## 4.1 - KNN error evaluatie\n",
    "\n",
    "De onderstaande grafiek toont het aantal fouten dat optreden bij het aantal K (neighbors) af tot maximaal 30 neighbors. In de grafiek kunnen we zien dat het aantal errors sterk afneemt naar mate er meer neighbors bijkomen."
   ]
  },
  {
   "cell_type": "code",
   "execution_count": 702,
   "metadata": {},
   "outputs": [
    {
     "name": "stdout",
     "output_type": "stream",
     "text": [
      "Cross validation error voor 1 neighbors: 1.721\n",
      "Cross validation error voor 2 neighbors: 1.563\n",
      "Cross validation error voor 3 neighbors: 1.469\n",
      "Cross validation error voor 4 neighbors: 1.409\n",
      "Cross validation error voor 5 neighbors: 1.377\n",
      "Cross validation error voor 6 neighbors: 1.357\n",
      "Cross validation error voor 7 neighbors: 1.342\n",
      "Cross validation error voor 8 neighbors: 1.316\n",
      "Cross validation error voor 9 neighbors: 1.315\n",
      "Cross validation error voor 10 neighbors: 1.31\n",
      "Cross validation error voor 11 neighbors: 1.31\n",
      "Cross validation error voor 12 neighbors: 1.31\n",
      "Cross validation error voor 13 neighbors: 1.311\n",
      "Cross validation error voor 14 neighbors: 1.303\n",
      "Cross validation error voor 15 neighbors: 1.298\n",
      "Cross validation error voor 16 neighbors: 1.297\n",
      "Cross validation error voor 17 neighbors: 1.304\n",
      "Cross validation error voor 18 neighbors: 1.301\n",
      "Cross validation error voor 19 neighbors: 1.3\n",
      "Cross validation error voor 20 neighbors: 1.3\n",
      "Cross validation error voor 21 neighbors: 1.303\n",
      "Cross validation error voor 22 neighbors: 1.302\n",
      "Cross validation error voor 23 neighbors: 1.303\n",
      "Cross validation error voor 24 neighbors: 1.3\n",
      "Cross validation error voor 25 neighbors: 1.296\n",
      "Cross validation error voor 26 neighbors: 1.296\n",
      "Cross validation error voor 27 neighbors: 1.296\n",
      "Cross validation error voor 28 neighbors: 1.293\n",
      "Cross validation error voor 29 neighbors: 1.293\n",
      "Cross validation error voor 30 neighbors: 1.291\n"
     ]
    },
    {
     "data": {
      "image/png": "[encoded data removed]",
      "text/plain": [
       "<Figure size 720x288 with 1 Axes>"
      ]
     },
     "metadata": {
      "needs_background": "light"
     },
     "output_type": "display_data"
    }
   ],
   "source": [
    "err_knn_val = [] \n",
    "neighbors = 30\n",
    "\n",
    "for k in range(1, neighbors +1):\n",
    "    knn = KNeighborsRegressor(n_neighbors = k)\n",
    "    knn.fit(X_train, y_train)\n",
    "    pred = knn.predict(X_test)\n",
    "    error = math.sqrt(mean_squared_error(y_test, pred))\n",
    "    err_knn_val.append(error)                                                \n",
    "    print(\"Cross validation error voor \" + str(k) + \" neighbors: \" + str(round(error, 3)))\n",
    "\n",
    "plt.figure(figsize=(10, 4))\n",
    "plt.plot(range(1, neighbors+1), err_knn_val, color=\"red\", marker=\"o\", markerfacecolor=\"black\", markersize=4)\n",
    "plt.title(\"Error Rate tegenover het aantal (K) neighbors\")\n",
    "plt.xlabel(\"Aantal neighbors (K)\")\n",
    "plt.ylabel(\"Error Rate\")\n",
    "plt.show();"
   ]
  },
  {
   "cell_type": "markdown",
   "metadata": {},
   "source": [
    "## 4.2 - Cross validation\n",
    "\n",
    "Cross validatie is een techniek om te beschermen tegen overfitting in een model. Bij cross validatie wordt er een vast aantal folds (of partities) van de gegevens genomen samen met een willekeurigheid van de dataset, daarna wordt de analyse uitgevoerd op elke fold en een gemiddelde van de totale foutschatting berekend.\n",
    "\n",
    "Deze techniek wordt hieronder uitgevoerd met KNN (k-nearest neighbors), Linaire regressie en Decision tree.\n",
    "\n",
    "### 4.2.1 - Cross validation met KNN"
   ]
  },
  {
   "cell_type": "code",
   "execution_count": 703,
   "metadata": {},
   "outputs": [
    {
     "name": "stdout",
     "output_type": "stream",
     "text": [
      "Cross-validation scores: [0.25507901 0.27088036 0.32352941 0.31447964 0.31447964]\n",
      "Average cross-validation score: 0.30\n"
     ]
    },
    {
     "data": {
      "text/html": [
       "<div>\n",
       "<style scoped>\n",
       "    .dataframe tbody tr th:only-of-type {\n",
       "        vertical-align: middle;\n",
       "    }\n",
       "\n",
       "    .dataframe tbody tr th {\n",
       "        vertical-align: top;\n",
       "    }\n",
       "\n",
       "    .dataframe thead th {\n",
       "        text-align: right;\n",
       "    }\n",
       "</style>\n",
       "<table border=\"1\" class=\"dataframe\">\n",
       "  <thead>\n",
       "    <tr style=\"text-align: right;\">\n",
       "      <th></th>\n",
       "      <th>fit_time</th>\n",
       "      <th>score_time</th>\n",
       "      <th>test_score</th>\n",
       "      <th>train_score</th>\n",
       "    </tr>\n",
       "  </thead>\n",
       "  <tbody>\n",
       "    <tr>\n",
       "      <th>0</th>\n",
       "      <td>0.003008</td>\n",
       "      <td>0.012781</td>\n",
       "      <td>0.355856</td>\n",
       "      <td>0.552764</td>\n",
       "    </tr>\n",
       "    <tr>\n",
       "      <th>1</th>\n",
       "      <td>0.001879</td>\n",
       "      <td>0.009466</td>\n",
       "      <td>0.346847</td>\n",
       "      <td>0.539196</td>\n",
       "    </tr>\n",
       "    <tr>\n",
       "      <th>2</th>\n",
       "      <td>0.001952</td>\n",
       "      <td>0.011250</td>\n",
       "      <td>0.348416</td>\n",
       "      <td>0.550979</td>\n",
       "    </tr>\n",
       "    <tr>\n",
       "      <th>3</th>\n",
       "      <td>0.001859</td>\n",
       "      <td>0.009677</td>\n",
       "      <td>0.325792</td>\n",
       "      <td>0.545455</td>\n",
       "    </tr>\n",
       "    <tr>\n",
       "      <th>4</th>\n",
       "      <td>0.001831</td>\n",
       "      <td>0.011342</td>\n",
       "      <td>0.298643</td>\n",
       "      <td>0.554495</td>\n",
       "    </tr>\n",
       "    <tr>\n",
       "      <th>5</th>\n",
       "      <td>0.001802</td>\n",
       "      <td>0.009355</td>\n",
       "      <td>0.343891</td>\n",
       "      <td>0.550979</td>\n",
       "    </tr>\n",
       "    <tr>\n",
       "      <th>6</th>\n",
       "      <td>0.001817</td>\n",
       "      <td>0.009529</td>\n",
       "      <td>0.316742</td>\n",
       "      <td>0.540934</td>\n",
       "    </tr>\n",
       "    <tr>\n",
       "      <th>7</th>\n",
       "      <td>0.002369</td>\n",
       "      <td>0.012974</td>\n",
       "      <td>0.339367</td>\n",
       "      <td>0.552988</td>\n",
       "    </tr>\n",
       "    <tr>\n",
       "      <th>8</th>\n",
       "      <td>0.002633</td>\n",
       "      <td>0.012463</td>\n",
       "      <td>0.352941</td>\n",
       "      <td>0.544450</td>\n",
       "    </tr>\n",
       "    <tr>\n",
       "      <th>9</th>\n",
       "      <td>0.002464</td>\n",
       "      <td>0.012858</td>\n",
       "      <td>0.371041</td>\n",
       "      <td>0.552486</td>\n",
       "    </tr>\n",
       "  </tbody>\n",
       "</table>\n",
       "</div>"
      ],
      "text/plain": [
       "   fit_time  score_time  test_score  train_score\n",
       "0  0.003008    0.012781    0.355856     0.552764\n",
       "1  0.001879    0.009466    0.346847     0.539196\n",
       "2  0.001952    0.011250    0.348416     0.550979\n",
       "3  0.001859    0.009677    0.325792     0.545455\n",
       "4  0.001831    0.011342    0.298643     0.554495\n",
       "5  0.001802    0.009355    0.343891     0.550979\n",
       "6  0.001817    0.009529    0.316742     0.540934\n",
       "7  0.002369    0.012974    0.339367     0.552988\n",
       "8  0.002633    0.012463    0.352941     0.544450\n",
       "9  0.002464    0.012858    0.371041     0.552486"
      ]
     },
     "execution_count": 703,
     "metadata": {},
     "output_type": "execute_result"
    }
   ],
   "source": [
    "kFold = KFold(n_splits=10, shuffle=True, random_state=42)\n",
    "\n",
    "KNN = KNeighborsClassifier(n_neighbors = 5).fit(X_train, y_train)\n",
    "\n",
    "df_knn = pd.DataFrame(cross_validate(KNN, X, y, cv=kFold, return_train_score=True))\n",
    "scores = cross_val_score(KNN, X, y, cv = 5)\n",
    "\n",
    "print(\"Cross-validation scores: {}\".format(scores))\n",
    "print(\"Average cross-validation score: {:.2f}\".format(scores.mean()))\n",
    "df_knn"
   ]
  },
  {
   "cell_type": "markdown",
   "metadata": {},
   "source": [
    "### 4.2.2 - Cross validation met linear regression"
   ]
  },
  {
   "cell_type": "code",
   "execution_count": 704,
   "metadata": {},
   "outputs": [
    {
     "name": "stdout",
     "output_type": "stream",
     "text": [
      "lr.coef_: [-0.33481263  0.35863137  1.66551917 -1.1697301  -0.0761308  -0.21608999\n",
      "  0.59868841 -2.34545482 -0.06640226]\n",
      "lr.intercept_: 3.9528543785005152\n",
      "\n",
      "Mean squared error score: 20869.585893604497\n",
      "Absolute mean squared error score: 106.38818778801416\n",
      "Cross-validation scores: [0.01812218 0.02199458 0.03441865 0.06095646 0.04317601]\n",
      "Average cross-validation score: 0.04\n"
     ]
    }
   ],
   "source": [
    "def min_max_scaler(df):\n",
    "    X = df.drop(['delta periode vertrek', 'Aantal dagen tot vertrek', 'Klantnummer', 'Openstaand dossier', 'Geboortedatum', 'Dossier nr.', 'Betalingen dossier',  'Datum creatie', 'Datum vertrek', 'Datum terug'], axis=1)\n",
    "    y = df['delta periode vertrek']\n",
    "    feature_names = X.columns\n",
    "    scaler = MinMaxScaler()\n",
    "    scaler.fit(X)\n",
    "    return scaler.transform(X), y, feature_names\n",
    "\n",
    "X_lin, y_lin, feature_names = min_max_scaler(features)\n",
    "X_train_lin, X_test_lin, y_train_lin, y_test_lin = train_test_split(X_lin, y_lin, random_state=0)\n",
    "\n",
    "linreg = LinearRegression().fit(X_train_lin, y_train)\n",
    "y_pred = linreg.predict(X_test_lin)\n",
    "\n",
    "print(\"lr.coef_:\", linreg.coef_)\n",
    "print(\"lr.intercept_:\", linreg.intercept_)\n",
    "\n",
    "score_mse = mean_squared_error(y_test_lin, y_pred)\n",
    "score_mae = mean_absolute_error(y_test_lin, y_pred)\n",
    "\n",
    "folds = KFold(n_splits = 5, shuffle = True, random_state = 100)\n",
    "scores = cross_val_score(linreg, X_lin, y_lin, cv= folds)\n",
    "\n",
    "print(\"\")\n",
    "print(\"Mean squared error score: {}\".format(score_mse))\n",
    "print(\"Absolute mean squared error score: {}\".format(score_mae))\n",
    "print(\"Cross-validation scores: {}\".format(scores))\n",
    "print(\"Average cross-validation score: {:.2f}\".format(scores.mean()))"
   ]
  },
  {
   "cell_type": "markdown",
   "metadata": {},
   "source": [
    "### 4.2.3 - Cross validation met decision tree"
   ]
  },
  {
   "cell_type": "code",
   "execution_count": 705,
   "metadata": {},
   "outputs": [
    {
     "name": "stdout",
     "output_type": "stream",
     "text": [
      "Average cross-validation score: 0.41\n"
     ]
    },
    {
     "data": {
      "text/html": [
       "<div>\n",
       "<style scoped>\n",
       "    .dataframe tbody tr th:only-of-type {\n",
       "        vertical-align: middle;\n",
       "    }\n",
       "\n",
       "    .dataframe tbody tr th {\n",
       "        vertical-align: top;\n",
       "    }\n",
       "\n",
       "    .dataframe thead th {\n",
       "        text-align: right;\n",
       "    }\n",
       "</style>\n",
       "<table border=\"1\" class=\"dataframe\">\n",
       "  <thead>\n",
       "    <tr style=\"text-align: right;\">\n",
       "      <th></th>\n",
       "      <th>fit_time</th>\n",
       "      <th>score_time</th>\n",
       "      <th>test_score</th>\n",
       "      <th>train_score</th>\n",
       "    </tr>\n",
       "  </thead>\n",
       "  <tbody>\n",
       "    <tr>\n",
       "      <th>0</th>\n",
       "      <td>0.003540</td>\n",
       "      <td>0.000610</td>\n",
       "      <td>0.418919</td>\n",
       "      <td>0.471859</td>\n",
       "    </tr>\n",
       "    <tr>\n",
       "      <th>1</th>\n",
       "      <td>0.003500</td>\n",
       "      <td>0.000468</td>\n",
       "      <td>0.418919</td>\n",
       "      <td>0.464322</td>\n",
       "    </tr>\n",
       "    <tr>\n",
       "      <th>2</th>\n",
       "      <td>0.003407</td>\n",
       "      <td>0.000406</td>\n",
       "      <td>0.425339</td>\n",
       "      <td>0.463586</td>\n",
       "    </tr>\n",
       "    <tr>\n",
       "      <th>3</th>\n",
       "      <td>0.003563</td>\n",
       "      <td>0.000420</td>\n",
       "      <td>0.452489</td>\n",
       "      <td>0.460573</td>\n",
       "    </tr>\n",
       "    <tr>\n",
       "      <th>4</th>\n",
       "      <td>0.003497</td>\n",
       "      <td>0.000487</td>\n",
       "      <td>0.393665</td>\n",
       "      <td>0.465595</td>\n",
       "    </tr>\n",
       "    <tr>\n",
       "      <th>5</th>\n",
       "      <td>0.003606</td>\n",
       "      <td>0.000482</td>\n",
       "      <td>0.416290</td>\n",
       "      <td>0.465595</td>\n",
       "    </tr>\n",
       "    <tr>\n",
       "      <th>6</th>\n",
       "      <td>0.003463</td>\n",
       "      <td>0.000417</td>\n",
       "      <td>0.407240</td>\n",
       "      <td>0.468106</td>\n",
       "    </tr>\n",
       "    <tr>\n",
       "      <th>7</th>\n",
       "      <td>0.003328</td>\n",
       "      <td>0.000457</td>\n",
       "      <td>0.425339</td>\n",
       "      <td>0.460070</td>\n",
       "    </tr>\n",
       "    <tr>\n",
       "      <th>8</th>\n",
       "      <td>0.003303</td>\n",
       "      <td>0.000393</td>\n",
       "      <td>0.452489</td>\n",
       "      <td>0.459568</td>\n",
       "    </tr>\n",
       "    <tr>\n",
       "      <th>9</th>\n",
       "      <td>0.003282</td>\n",
       "      <td>0.000421</td>\n",
       "      <td>0.434389</td>\n",
       "      <td>0.465595</td>\n",
       "    </tr>\n",
       "  </tbody>\n",
       "</table>\n",
       "</div>"
      ],
      "text/plain": [
       "   fit_time  score_time  test_score  train_score\n",
       "0  0.003540    0.000610    0.418919     0.471859\n",
       "1  0.003500    0.000468    0.418919     0.464322\n",
       "2  0.003407    0.000406    0.425339     0.463586\n",
       "3  0.003563    0.000420    0.452489     0.460573\n",
       "4  0.003497    0.000487    0.393665     0.465595\n",
       "5  0.003606    0.000482    0.416290     0.465595\n",
       "6  0.003463    0.000417    0.407240     0.468106\n",
       "7  0.003328    0.000457    0.425339     0.460070\n",
       "8  0.003303    0.000393    0.452489     0.459568\n",
       "9  0.003282    0.000421    0.434389     0.465595"
      ]
     },
     "execution_count": 705,
     "metadata": {},
     "output_type": "execute_result"
    }
   ],
   "source": [
    "decTree = DecisionTreeClassifier(max_depth=5, random_state=42).fit(X_train, y_train)\n",
    "\n",
    "df_dec = pd.DataFrame(cross_validate(decTree, X, y, cv=kFold, return_train_score=True))\n",
    "scores = cross_val_score(decTree, X, y)\n",
    "\n",
    "print(\"Average cross-validation score: {:.2f}\".format(scores.mean()))\n",
    "df_dec"
   ]
  },
  {
   "cell_type": "markdown",
   "metadata": {},
   "source": [
    "## 4.3 - Grid Search\n",
    "\n",
    "Grid search is een methode om de best mogelijke combinatie van parameters te vinden waarbij het model de hoogste nauwkeurigheid behaalt. In dit deel wordt grid search toegepast op KNN, Decision tree en random forest en wordt het beste model daarna gevalideerd.\n",
    "\n",
    "Hieronder splitten we de data terug op maar met deze keer een derde deel, namelijk de validatieset. Met deze validatiesets gaan we berekenen welk model het beste presteert."
   ]
  },
  {
   "cell_type": "code",
   "execution_count": 706,
   "metadata": {},
   "outputs": [
    {
     "name": "stdout",
     "output_type": "stream",
     "text": [
      "Grootte van trainingsset: 1244, Grootte van validationset: 415, Grootte van testset: 553\n",
      "\n"
     ]
    }
   ],
   "source": [
    "X_train_validation, X_test, y_train_validation, y_test = train_test_split(X, y, random_state=42)\n",
    "X_train, X_valid, y_train, y_valid = train_test_split(X_train_validation, y_train_validation, random_state=42)\n",
    "\n",
    "print(\"Grootte van trainingsset: {}, Grootte van validationset: {}, Grootte van testset:\"\" {}\\n\".format(X_train.shape[0], X_valid.shape[0], X_test.shape[0]))"
   ]
  },
  {
   "cell_type": "markdown",
   "metadata": {},
   "source": [
    "### 4.3.1 - Grid Search in KNN"
   ]
  },
  {
   "cell_type": "code",
   "execution_count": 707,
   "metadata": {},
   "outputs": [
    {
     "name": "stdout",
     "output_type": "stream",
     "text": [
      "Beste parameters: {'n_neighbors': 10}\n",
      "\n",
      "Trainingsset score met de beste gekozen parameters: 0.48\n",
      "Beste score op de validatie set: 0.38\n",
      "Test set score met de best gekozen parameters: 0.36\n"
     ]
    }
   ],
   "source": [
    "beste_model = 0\n",
    "beste_score = 0\n",
    "beste_parameters = 0\n",
    "top_score = 0\n",
    "neighbors = 10\n",
    "\n",
    "for k in range(1, neighbors + 1):\n",
    "    KNN = KNeighborsClassifier(n_neighbors = k).fit(X_train, y_train)\n",
    "    score = KNN.score(X_valid, y_valid)\n",
    "    \n",
    "    if score > beste_score:\n",
    "        beste_parameters = {'n_neighbors': k}\n",
    "        beste_score = score\n",
    "        if score > top_score:\n",
    "            beste_model = knn\n",
    "            top_score = score\n",
    "\n",
    "knn = KNeighborsClassifier(**beste_parameters).fit(X_train_validation, y_train_validation)\n",
    "training_score = knn.score(X_train, y_train)\n",
    "test_score = knn.score(X_test, y_test)\n",
    "\n",
    "print(\"Beste parameters:\", beste_parameters)\n",
    "print(\"\")\n",
    "print(\"Trainingsset score met de beste gekozen parameters: {:.2f}\".format(training_score))\n",
    "print(\"Beste score op de validatie set: {:.2f}\".format(beste_score))\n",
    "print(\"Test set score met de best gekozen parameters: {:.2f}\".format(test_score))"
   ]
  },
  {
   "cell_type": "markdown",
   "metadata": {},
   "source": [
    "### 4.3.2 - Grid Search in Decision tree"
   ]
  },
  {
   "cell_type": "code",
   "execution_count": 708,
   "metadata": {},
   "outputs": [
    {
     "name": "stdout",
     "output_type": "stream",
     "text": [
      "Beste parameters: {'max_depth': 3, 'random_state': 0}\n",
      "\n",
      "Training set score with best parameters: 0.43\n",
      "Beste score op de validatie set: 0.47\n",
      "Test set score met de best gekozen parameters: 0.43\n"
     ]
    }
   ],
   "source": [
    "beste_score = 0\n",
    "max_depth = 15\n",
    "\n",
    "for depth in range(1, max_depth + 1):\n",
    "    for random_st in [0, 5, 10, 20, 40]:\n",
    "        tree = DecisionTreeClassifier(max_depth=depth, random_state=random_st)\n",
    "        tree.fit(X_train, y_train)\n",
    "        score = tree.score(X_valid, y_valid)\n",
    "        \n",
    "        if score > beste_score:\n",
    "            beste_parameters = {'max_depth': depth, 'random_state': random_st}\n",
    "            beste_score = score\n",
    "            if score > top_score:\n",
    "                beste_model = tree\n",
    "                top_score = score\n",
    "\n",
    "tree = DecisionTreeClassifier(**beste_parameters)\n",
    "tree.fit(X_train_validation, y_train_validation)\n",
    "training_score = tree.score(X_train, y_train)\n",
    "test_score = tree.score(X_test, y_test)\n",
    "\n",
    "print(\"Beste parameters:\", beste_parameters)\n",
    "print(\"\")\n",
    "print(\"Training set score with best parameters: {:.2f}\".format(training_score))\n",
    "print(\"Beste score op de validatie set: {:.2f}\".format(beste_score))\n",
    "print(\"Test set score met de best gekozen parameters: {:.2f}\".format(test_score))"
   ]
  },
  {
   "cell_type": "markdown",
   "metadata": {},
   "source": [
    "### 4.3.3 - Grid Search met Random forest tree"
   ]
  },
  {
   "cell_type": "code",
   "execution_count": 709,
   "metadata": {},
   "outputs": [
    {
     "name": "stdout",
     "output_type": "stream",
     "text": [
      "Beste parameters: {'n_estimators': 34, 'random_state': 0}\n",
      "\n",
      "Training set score with best parameters: 0.98\n",
      "Beste score op de validatie set: 0.45\n",
      "Test set score met de best gekozen parameters: 0.41\n"
     ]
    }
   ],
   "source": [
    "beste_score = 0\n",
    "max_estimators = 50\n",
    "\n",
    "for n in range(1, max_estimators):\n",
    "    for random_st in [0, 5, 10, 20, 40]:\n",
    "        rfc = RandomForestClassifier(n_estimators=n, random_state=random_st).fit(X_train, y_train)\n",
    "        score = rfc.score(X_valid, y_valid)\n",
    "\n",
    "        if score > beste_score:\n",
    "            beste_parameters = {'n_estimators': n, 'random_state':random_st}\n",
    "            beste_score = score\n",
    "            if score > top_score:\n",
    "                beste_model = rfc\n",
    "                topScore = score\n",
    "\n",
    "rfc = RandomForestClassifier(**beste_parameters).fit(X_train_validation, y_train_validation)\n",
    "training_score = rfc.score(X_train, y_train)\n",
    "test_score = rfc.score(X_test, y_test)\n",
    "\n",
    "print(\"Beste parameters:\", beste_parameters)\n",
    "print(\"\")\n",
    "print(\"Training set score with best parameters: {:.2f}\".format(training_score))\n",
    "print(\"Beste score op de validatie set: {:.2f}\".format(beste_score))\n",
    "print(\"Test set score met de best gekozen parameters: {:.2f}\".format(test_score))"
   ]
  },
  {
   "cell_type": "markdown",
   "metadata": {},
   "source": [
    "## 4.4 - Grid Search in combinatie met Cross-validation\n",
    "\n",
    "Na het bepalen van het beste model wordt er cross validation toegepast op Decision tree en Random forest om overfitting op de trainingsset te minimaliseren. Bij elk model worden de beste parameters en de cross validatie score weergegeven.\n",
    "\n",
    "### 4.4.1 - Grid Search en Cross-validation met Decision tree"
   ]
  },
  {
   "cell_type": "code",
   "execution_count": 710,
   "metadata": {},
   "outputs": [
    {
     "name": "stdout",
     "output_type": "stream",
     "text": [
      "Parameter grid:{'max_depth': [1, 2, 3, 4, 5], 'random_state': [0, 5, 10, 20, 40]}\n",
      "Test set score: 0.44\n",
      "Beste parameters: {'max_depth': 2, 'random_state': 0}\n",
      "Beste cross-validation score: 0.41\n",
      "Best estimator: DecisionTreeClassifier(max_depth=2, random_state=0)\n"
     ]
    }
   ],
   "source": [
    "param_grid = {'max_depth': [1, 2, 3, 4, 5], 'random_state': [0, 5, 10, 20, 40]}\n",
    "print(\"Parameter grid:{}\".format(param_grid))\n",
    "\n",
    "grid_search = GridSearchCV(DecisionTreeClassifier(), param_grid, cv=5, return_train_score=True)\n",
    "grid_search.fit(X_train, y_train)\n",
    "\n",
    "print(\"Test set score: {:.2f}\".format(grid_search.score(X_test, y_test)))\n",
    "print(\"Beste parameters: {}\".format(grid_search.best_params_))\n",
    "print(\"Beste cross-validation score: {:.2f}\".format(grid_search.best_score_))\n",
    "print(\"Best estimator: {}\".format(grid_search.best_estimator_))"
   ]
  },
  {
   "cell_type": "markdown",
   "metadata": {},
   "source": [
    "### 4.4.2 - Grid Search en Cross-validation met Random forest"
   ]
  },
  {
   "cell_type": "code",
   "execution_count": 711,
   "metadata": {},
   "outputs": [
    {
     "name": "stdout",
     "output_type": "stream",
     "text": [
      "Training set score: 0.84\n",
      "Test set score: 0.43\n",
      "Beste parameters: {'max_depth': 13, 'n_estimators': 125, 'random_state': 35}\n",
      "Beste cross-validation score: 0.43\n",
      "Best estimator: RandomForestClassifier(max_depth=13, n_estimators=125, random_state=35)\n"
     ]
    }
   ],
   "source": [
    "param_grid = {'max_depth': [11, 12, 13], 'random_state': [35, 40, 50], 'n_estimators': [75, 100, 125]}\n",
    "\n",
    "gridSearchTrees = GridSearchCV(RandomForestClassifier(), param_grid, cv=5,return_train_score=True)\n",
    "\n",
    "gridSearchTrees.fit(X_train, y_train)\n",
    "pred = gridSearchTrees.predict(X_test)\n",
    "trainingScoreTrees = round(gridSearchTrees.score(X_train, y_train), 2)\n",
    "testScoreTrees = round(gridSearchTrees.score(X_test, y_test), 2)\n",
    "\n",
    "print(\"Training set score: \" + str(trainingScoreTrees))\n",
    "print(\"Test set score: \" + str(testScoreTrees))\n",
    "print(\"Beste parameters: {}\".format(gridSearchTrees.best_params_))\n",
    "print(\"Beste cross-validation score: {:.2f}\".format(gridSearchTrees.best_score_))\n",
    "print(\"Best estimator: {}\".format(gridSearchTrees.best_estimator_))"
   ]
  },
  {
   "cell_type": "markdown",
   "metadata": {},
   "source": [
    "## 4.5 - Feature importance\n",
    "\n",
    "De onderstaande grafieken tonen aan hoe belangrijk de features zijn bij het voorspellen van elk model. \n",
    "We kunnen zien dat de *Totaalprijs* en *leeftijd*, samen met *aantal dagen op reis* sterk bepalen welke richting het model uitgaat. Beide modellen (decision tree en random forest) lijken goed op elkaar, namelijk omdat random forest gebaseerd is op het decision tree model.\n",
    "\n",
    "### 4.5.1 - Decision tree (3.2.1)"
   ]
  },
  {
   "cell_type": "code",
   "execution_count": 712,
   "metadata": {},
   "outputs": [
    {
     "data": {
      "image/png": "[encoded data removed]",
      "text/plain": [
       "<Figure size 432x288 with 1 Axes>"
      ]
     },
     "metadata": {
      "needs_background": "light"
     },
     "output_type": "display_data"
    }
   ],
   "source": [
    "bar = (pd.Series(treeModelReg.feature_importances_, index=feature_names).plot(kind='barh', color= \"#eb4034\"));\n",
    "\n",
    "plt.xlabel(\"Feature importance\")\n",
    "plt.ylabel(\"Feature\")\n",
    "plt.title(\"Belangrijkheid van de features\")\n",
    "bar.spines['top'].set_visible(False)\n",
    "bar.spines['right'].set_visible(False)\n",
    "bar.spines['left'].set_visible(False)\n",
    "plt.show();"
   ]
  },
  {
   "cell_type": "markdown",
   "metadata": {},
   "source": [
    "### 4.5.2 - Random Forest (3.4)"
   ]
  },
  {
   "cell_type": "code",
   "execution_count": 713,
   "metadata": {},
   "outputs": [
    {
     "data": {
      "image/png": "[encoded data removed]",
      "text/plain": [
       "<Figure size 432x288 with 1 Axes>"
      ]
     },
     "metadata": {
      "needs_background": "light"
     },
     "output_type": "display_data"
    }
   ],
   "source": [
    "bar = (pd.Series(forest.feature_importances_, index=feature_names).plot(kind='barh', color= \"#eb4034\"));\n",
    "plt.xlabel(\"Feature importance\")\n",
    "plt.ylabel(\"Feature\")\n",
    "plt.title(\"Belangrijkheid van de features\")\n",
    "bar.spines['top'].set_visible(False)\n",
    "bar.spines['right'].set_visible(False)\n",
    "bar.spines['left'].set_visible(False)\n",
    "plt.show();"
   ]
  },
  {
   "cell_type": "markdown",
   "metadata": {},
   "source": [
    "# 5 - Beste gekozen model"
   ]
  },
  {
   "cell_type": "code",
   "execution_count": 714,
   "metadata": {},
   "outputs": [
    {
     "name": "stdout",
     "output_type": "stream",
     "text": [
      "beste gekozen model met properties: DecisionTreeClassifier(max_depth=3, random_state=0)\n",
      "\n",
      "Training set score with best parameters : 0.44\n",
      "Best score on validation set: 0.45\n",
      "Test set score with best parameters: 0.43\n",
      "Confusion matrix:\n",
      "[[  0   7   1   1  26]\n",
      " [  0   2   2   0  55]\n",
      " [  0   3   0   3 105]\n",
      " [  0   4   2   1  99]\n",
      " [  1   4   3   1 233]]\n"
     ]
    }
   ],
   "source": [
    "training_score = beste_model.score(X_train, y_train)\n",
    "test_score = beste_model.score(X_test, y_test)\n",
    "pred_model = beste_model.predict(X_test)\n",
    "conf_matrix = confusion_matrix(y_test, pred_model)\n",
    "\n",
    "print(\"beste gekozen model met properties:\", beste_model)\n",
    "print(\"\")\n",
    "print(\"Training set score with best parameters : {:.2f}\".format(training_score))\n",
    "print(\"Best score on validation set: {:.2f}\".format(beste_score))\n",
    "print(\"Test set score with best parameters: {:.2f}\".format(test_score))\n",
    "print(\"Confusion matrix:\\n{}\".format(conf_matrix))"
   ]
  },
  {
   "cell_type": "markdown",
   "metadata": {},
   "source": [
    "## 5.1 - Conclusie\n",
    "\n",
    "Bij de scores van de verschillend modellen onderling kan ik vaststellen dat alle modellen maar zwak tot matig scoorden. Er is ook steeds een grote vorm van overfitting aanwezig wat denk ik te maken heeft met de kwaliteit van de features in combinatie met een te kleine dataset. Het voorspellen van de categorieën verliep bij de 4 algoritmes ongeveer gelijk, zowat elk algoritme behalve Logistic regression.\n",
    "\n",
    "KNN, Desicion tree en Random forest tree hadden alle 3 overfitting op de scores. Logistic regiression had dan weer een lage score maar had op de train en test score een gelijke waarde.\n",
    "\n",
    "Het uiteindelijke multiclass decision tree model heeft een train score van 44%, een test score van 43% en een validatie score van 45%. Deze waarden liggen zeer dicht bij elkaar wat een goede maat is tussen train en test data. Tussen de train- en testdata is er een kleine overfitting aanwezig. De scores zijn best aan de lage kant, dit zou eventueel kunnen verbeterd worden door het datapreparartion proces beter uit te voeren.\n",
    "\n",
    "Tijdens het uitwerken van dit project heb ik heel wat diverse testen gedaan met verschillende features, deze combinatie heeft in het algemeen de beste prestaties geleverd."
   ]
  }
 ],
 "metadata": {
  "kernelspec": {
   "display_name": "Python 3",
   "language": "python",
   "name": "python3"
  },
  "language_info": {
   "codemirror_mode": {
    "name": "ipython",
    "version": 3
   },
   "file_extension": ".py",
   "mimetype": "text/x-python",
   "name": "python",
   "nbconvert_exporter": "python",
   "pygments_lexer": "ipython3",
   "version": "3.8.5"
  }
 },
 "nbformat": 4,
 "nbformat_minor": 4
}
